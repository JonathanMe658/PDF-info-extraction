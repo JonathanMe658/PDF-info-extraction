{
 "cells": [
  {
   "cell_type": "code",
   "execution_count": 1,
   "metadata": {},
   "outputs": [],
   "source": [
    "from sdsparser import SDSParser\n"
   ]
  },
  {
   "cell_type": "code",
   "execution_count": null,
   "metadata": {},
   "outputs": [],
   "source": [
    "request_keys = \\\n",
    "['manufacturer', 'flash_point', 'specific_gravity', 'product_name', 'sara_311', 'nfpa_fire']\n",
    "parser = SDSParser(request_keys=request_keys)"
   ]
  },
  {
   "cell_type": "code",
   "execution_count": 2,
   "metadata": {},
   "outputs": [
    {
     "data": {
      "text/plain": [
       "['manufacturer',\n",
       " 'product_name',\n",
       " 'flash_point',\n",
       " 'specific_gravity',\n",
       " 'nfpa_fire',\n",
       " 'nfpa_health',\n",
       " 'nfpa_reactivity',\n",
       " 'sara_311',\n",
       " 'revision_date',\n",
       " 'physical_state',\n",
       " 'cas_number']"
      ]
     },
     "execution_count": 2,
     "metadata": {},
     "output_type": "execute_result"
    }
   ],
   "source": [
    "import sdsparser\n",
    "sdsparser.request_keys"
   ]
  },
  {
   "cell_type": "code",
   "execution_count": 7,
   "metadata": {},
   "outputs": [],
   "source": [
    "# returns a dictionary object mapping request key names to their corresponding matches\n",
    "sds_data = parser.get_sds_data('23114.pdf') "
   ]
  },
  {
   "cell_type": "code",
   "execution_count": 8,
   "metadata": {},
   "outputs": [
    {
     "data": {
      "text/plain": [
       "{'manufacturer': 'IDENTIFICATION  Company  Arkema Inc. 900 First Avenue King of Prussia, Pennsylv',\n",
       " 'flash_point': 'The flashpoint of this produc',\n",
       " 'specific_gravity': '(Relative density): 1.0428 (6',\n",
       " 'product_name': 'code: 051000   Version 2.0 Issued on: 07/11/2011 Page: 1 / 10     1. PRODUCT AND',\n",
       " 'sara_311': 'Data not listed',\n",
       " 'nfpa_fire': '1'}"
      ]
     },
     "execution_count": 8,
     "metadata": {},
     "output_type": "execute_result"
    }
   ],
   "source": [
    "sds_data"
   ]
  },
  {
   "cell_type": "code",
   "execution_count": 6,
   "metadata": {},
   "outputs": [
    {
     "data": {
      "text/plain": [
       "{'acros_organics',\n",
       " 'alfa_aesar',\n",
       " 'basf',\n",
       " 'citrus_and_allied',\n",
       " 'excellentia',\n",
       " 'exxon_mobil',\n",
       " 'firmenich',\n",
       " 'fisher',\n",
       " 'formosa_plastics',\n",
       " 'frutarom',\n",
       " 'givaudan',\n",
       " 'iff',\n",
       " 'indofine',\n",
       " 'innophos',\n",
       " 'kerry',\n",
       " 'pepsico_inc',\n",
       " 'pfizer',\n",
       " 'reckitt_benckiser',\n",
       " 'robertet',\n",
       " 'sc_johnson',\n",
       " 'sigma_aldrich',\n",
       " 'symrise',\n",
       " 'takasago',\n",
       " 'the_clorox_company',\n",
       " 'treatt',\n",
       " 'ungerer'}"
      ]
     },
     "execution_count": 6,
     "metadata": {},
     "output_type": "execute_result"
    }
   ],
   "source": [
    "#To see a set of all of the currently supported chemical manufacturers\n",
    "\n",
    "sdsparser.manufacturers\n",
    "{'the_clorox_company', 'firmenich', 'frutarom', 'symrise', 'exxon_mobil', 'fisher', 'indofine',\n",
    "'ungerer','formosa_plastics', 'innophos', 'basf', 'citrus_and_allied', 'robertet',\n",
    "'acros_organics', 'kerry', 'iff', 'treatt', 'excellentia', 'sigma_aldrich', 'takasago',\n",
    "'givaudan', 'pepsico_inc', 'sc_johnson', 'pfizer', 'reckitt_benckiser', 'alfa_aesar'}"
   ]
  },
  {
   "cell_type": "code",
   "execution_count": 10,
   "metadata": {},
   "outputs": [],
   "source": [
    "#returns a dictionary object mapping request key names to their corresponding matches\n",
    "\n",
    "sds_data = parser.get_sds_data('23114.pdf')"
   ]
  },
  {
   "cell_type": "code",
   "execution_count": 11,
   "metadata": {},
   "outputs": [
    {
     "data": {
      "text/plain": [
       "{'manufacturer': 'IDENTIFICATION  Company  Arkema Inc. 900 First Avenue King of Prussia, Pennsylv',\n",
       " 'flash_point': 'The flashpoint of this produc',\n",
       " 'specific_gravity': '(Relative density): 1.0428 (6',\n",
       " 'product_name': 'code: 051000   Version 2.0 Issued on: 07/11/2011 Page: 1 / 10     1. PRODUCT AND',\n",
       " 'sara_311': 'Data not listed',\n",
       " 'nfpa_fire': '1'}"
      ]
     },
     "execution_count": 11,
     "metadata": {},
     "output_type": "execute_result"
    }
   ],
   "source": [
    "sds_data"
   ]
  },
  {
   "cell_type": "markdown",
   "metadata": {},
   "source": [
    "If the heading for the requested data type is not found in the SDS, .get_sds_data will return the string 'Data not listed'. If the heading is found, but no data is found under it, .get_sds_data will return the string 'No data available'."
   ]
  },
  {
   "cell_type": "code",
   "execution_count": 12,
   "metadata": {},
   "outputs": [
    {
     "data": {
      "text/plain": [
       "{'acros_organics',\n",
       " 'alfa_aesar',\n",
       " 'basf',\n",
       " 'citrus_and_allied',\n",
       " 'excellentia',\n",
       " 'exxon_mobil',\n",
       " 'firmenich',\n",
       " 'fisher',\n",
       " 'formosa_plastics',\n",
       " 'frutarom',\n",
       " 'givaudan',\n",
       " 'iff',\n",
       " 'indofine',\n",
       " 'innophos',\n",
       " 'kerry',\n",
       " 'pepsico_inc',\n",
       " 'pfizer',\n",
       " 'reckitt_benckiser',\n",
       " 'robertet',\n",
       " 'sc_johnson',\n",
       " 'sigma_aldrich',\n",
       " 'symrise',\n",
       " 'takasago',\n",
       " 'the_clorox_company',\n",
       " 'treatt',\n",
       " 'ungerer'}"
      ]
     },
     "execution_count": 12,
     "metadata": {},
     "output_type": "execute_result"
    }
   ],
   "source": [
    "sdsparser.manufacture  #To see a set of all of the currently supported chemical manufacturers:rs\n"
   ]
  },
  {
   "cell_type": "code",
   "execution_count": 14,
   "metadata": {},
   "outputs": [
    {
     "ename": "ModuleNotFoundError",
     "evalue": "No module named 'poppler'",
     "output_type": "error",
     "traceback": [
      "\u001b[1;31m---------------------------------------------------------------------------\u001b[0m",
      "\u001b[1;31mModuleNotFoundError\u001b[0m                       Traceback (most recent call last)",
      "\u001b[1;32m<ipython-input-14-4aa9b9ee752d>\u001b[0m in \u001b[0;36m<module>\u001b[1;34m\u001b[0m\n\u001b[1;32m----> 1\u001b[1;33m \u001b[1;32mfrom\u001b[0m \u001b[0mpoppler\u001b[0m \u001b[1;32mimport\u001b[0m \u001b[0mload_from_file\u001b[0m\u001b[1;33m,\u001b[0m \u001b[0mPageRenderer\u001b[0m\u001b[1;33m\u001b[0m\u001b[1;33m\u001b[0m\u001b[0m\n\u001b[0m\u001b[0;32m      2\u001b[0m \u001b[1;33m\u001b[0m\u001b[0m\n\u001b[0;32m      3\u001b[0m \u001b[0mpdf_document\u001b[0m \u001b[1;33m=\u001b[0m \u001b[0mload_from_file\u001b[0m\u001b[1;33m(\u001b[0m\u001b[1;34m\"sample.pdf\"\u001b[0m\u001b[1;33m)\u001b[0m\u001b[1;33m\u001b[0m\u001b[1;33m\u001b[0m\u001b[0m\n\u001b[0;32m      4\u001b[0m \u001b[0mpage_1\u001b[0m \u001b[1;33m=\u001b[0m \u001b[0mpdf_document\u001b[0m\u001b[1;33m.\u001b[0m\u001b[0mcreate_page\u001b[0m\u001b[1;33m(\u001b[0m\u001b[1;36m0\u001b[0m\u001b[1;33m)\u001b[0m\u001b[1;33m\u001b[0m\u001b[1;33m\u001b[0m\u001b[0m\n\u001b[0;32m      5\u001b[0m \u001b[0mpage_1_text\u001b[0m \u001b[1;33m=\u001b[0m \u001b[0mpage_1\u001b[0m\u001b[1;33m.\u001b[0m\u001b[0mtext\u001b[0m\u001b[1;33m(\u001b[0m\u001b[1;33m)\u001b[0m\u001b[1;33m\u001b[0m\u001b[1;33m\u001b[0m\u001b[0m\n",
      "\u001b[1;31mModuleNotFoundError\u001b[0m: No module named 'poppler'"
     ]
    }
   ],
   "source": [
    "from poppler import load_from_file, PageRenderer\n",
    "\n",
    "pdf_document = load_from_file(\"sample.pdf\")\n",
    "page_1 = pdf_document.create_page(0)\n",
    "page_1_text = page_1.text()\n",
    "\n",
    "renderer = PageRenderer()\n",
    "image = renderer.render_page(page_1)\n",
    "image_data = image.data"
   ]
  },
  {
   "cell_type": "code",
   "execution_count": null,
   "metadata": {},
   "outputs": [],
   "source": []
  }
 ],
 "metadata": {
  "kernelspec": {
   "display_name": "Python 3",
   "language": "python",
   "name": "python3"
  },
  "language_info": {
   "codemirror_mode": {
    "name": "ipython",
    "version": 3
   },
   "file_extension": ".py",
   "mimetype": "text/x-python",
   "name": "python",
   "nbconvert_exporter": "python",
   "pygments_lexer": "ipython3",
   "version": "3.7.9"
  }
 },
 "nbformat": 4,
 "nbformat_minor": 4
}
