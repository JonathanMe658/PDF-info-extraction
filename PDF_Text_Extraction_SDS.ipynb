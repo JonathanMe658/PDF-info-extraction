{
 "cells": [
  {
   "cell_type": "markdown",
   "metadata": {
    "id": "CUu8O6h9b3Xr"
   },
   "source": [
    "# PDF text Extraction\n",
    "\n",
    "ML6 use case. 20 pdf documents with product Safety hazard information.\n",
    "\n",
    "\n",
    "Safety Data Sheet (SDS) information:\n",
    "\n",
    "https://en.wikipedia.org/wiki/Safety_data_sheet\n",
    "\n",
    "https://ekos.gda.pl/en/article/baza-wiedzy/safety-data-sheet-annex-ii.html\n",
    "\n",
    "http://chemicalsafety.com/sds-search/\n",
    "\n",
    "https://www.msdsonline.com/sds-search/\n",
    "\n",
    "https://comply1.com/compliance/ghs/MSDS-SDS-Comparison\n",
    "\n",
    "https://www.everysafeuse.com/chemparser/     - Commercial product that converts SDS into json - json output example\n",
    "\n",
    "\n",
    "https://echa.europa.eu/-/guidance-on-the-compilation-of-safety-data-sheets\n"
   ]
  },
  {
   "cell_type": "markdown",
   "metadata": {},
   "source": [
    "### test file"
   ]
  },
  {
   "cell_type": "code",
   "execution_count": 1,
   "metadata": {},
   "outputs": [],
   "source": [
    "InputFile = 'data/23114.pdf'"
   ]
  },
  {
   "cell_type": "markdown",
   "metadata": {},
   "source": [
    "### Extract PDF file as one single text string"
   ]
  },
  {
   "cell_type": "code",
   "execution_count": 9,
   "metadata": {
    "scrolled": false
   },
   "outputs": [
    {
     "name": "stdout",
     "output_type": "stream",
     "text": [
      "Number of pages in file 'data/23114.pdf' = 10\n",
      "\n",
      "   Material Safety Data Sheet \n",
      "  LUPEROX® P\n",
      "      Product code: 051000\n",
      "   Version 2.0\n",
      " Issued on: 07/11/2011\n",
      " Page: 1 / 10\n",
      "     1. PRODUCT AND COMPANY IDENTIFICATION\n",
      "  Company\n",
      "  \n",
      "Arkema Inc.\n",
      " 900 First Avenue \n",
      "King of Prussia, Pennsylvania 19406 \n",
      "\n",
      " Functional Additives\n",
      "  \n",
      "Customer Service Telephone Number: \n",
      "(800) 331-7654 \n",
      "(Monday through Friday, 8:30 AM to 5:30 PM EST) \n",
      " Emergency Information\n",
      "  \n",
      "Transportation:\n",
      " CHEMTREC: (800) 424-9300 \n",
      "(24 hrs., 7 days a week) \n",
      "Medical: \n",
      "Rocky Mountain Poison Center:\n",
      " (866) 767-5089 \n",
      "(24 hrs., 7 days a week) \n",
      " \n",
      "Product Information\n",
      "  \n",
      "Product name:\n",
      " LUPEROX® P\n",
      " Synonyms: \n",
      "Peroxyester, t-butyl perbenzoate, tert-butyl peroxybenzoate \n",
      "Molecular formula:\n",
      " C11 H14 O3\n",
      " Chemical family:\n",
      " Organic peroxide - peroxyesters\n",
      " Product use: \n",
      "Initiator\n",
      "  2. HAZARDS IDENTIFICATION\n",
      "  Emergency Overview\n",
      "  Color:\n",
      " Colourless to yellow.\n",
      " Physical state: \n",
      "liquid \n",
      " Odor: unpleasant \n",
      " CAUTION! \n",
      "ORGANIC PEROXIDE. \n",
      "HAZARDOUS DECOMPOSITION MAY OCCUR.\n",
      "  MAY CAUSE ALLERGIC SKIN REACTION.\n",
      "  MAY CAUSE SKIN IRRITATION.\n",
      "   \n",
      "Potential Health Effects\n",
      "  Primary routes of exposure: \n",
      "Inhalation and skin contact.\n",
      "  \n",
      "Signs and symptoms of acute exposure: \n",
      "May cause skin irritation. Prolonged or repeated exposure \n",
      "may cause: Allergic skin reaction: redness, rash.\n",
      "  Skin: \n",
      "\n",
      "Slightly toxic. Moderately irrita\n",
      "ting. May cause allergic skin reac\n",
      "tion. (based on animal studies)\n",
      "  Inhalation: \n",
      "Practically nontoxic. (based on animal studies)\n",
      " \n"
     ]
    }
   ],
   "source": [
    "import PyPDF2 \n",
    "  \n",
    "import PyPDF2 \n",
    "   \n",
    "pdfFileObj = open(InputFile, 'rb') \n",
    "  \n",
    "pdfReader = PyPDF2.PdfFileReader(pdfFileObj) \n",
    "  \n",
    "print(f\"Number of pages in file '{InputFile}' = {pdfReader.numPages}\\n\") \n",
    "\n",
    "pageObj = pdfReader.getPage(0) \n",
    "  \n",
    "PdfText = pageObj.extractText() \n",
    "\n",
    "pdfFileObj.close()\n",
    "\n",
    "print(PdfText)"
   ]
  },
  {
   "cell_type": "markdown",
   "metadata": {},
   "source": [
    "### Extract SDS Section"
   ]
  },
  {
   "cell_type": "code",
   "execution_count": 25,
   "metadata": {},
   "outputs": [],
   "source": [
    "Header1 = \"1. PRODUCT AND COMPANY IDENTIFICATION\"\n",
    "Header2 = \"2. HAZARDS IDENTIFICATION\""
   ]
  },
  {
   "cell_type": "code",
   "execution_count": 27,
   "metadata": {},
   "outputs": [
    {
     "name": "stdout",
     "output_type": "stream",
     "text": [
      "1\n"
     ]
    },
    {
     "data": {
      "text/plain": [
       "1"
      ]
     },
     "execution_count": 27,
     "metadata": {},
     "output_type": "execute_result"
    }
   ],
   "source": [
    "print(PdfText.count(Header1))\n",
    "PdfText.count(Header2)"
   ]
  },
  {
   "cell_type": "code",
   "execution_count": 28,
   "metadata": {},
   "outputs": [
    {
     "name": "stdout",
     "output_type": "stream",
     "text": [
      "Occurence 1 : 128, 165\n",
      "\n"
     ]
    }
   ],
   "source": [
    "# Locate begin and end of section header\n",
    "\n",
    "import re\n",
    "\n",
    "count = 1\n",
    "for m in re.finditer(Header1, PdfText):\n",
    "         print(f'Occurence {count} : {m.start()}, {m.end()}\\n')\n",
    "         count+=1"
   ]
  },
  {
   "cell_type": "code",
   "execution_count": 29,
   "metadata": {},
   "outputs": [],
   "source": [
    "def FindOccurences(Text, SubString):\n",
    "    # Find all Occurences of SubString in text. Return dict with begin and end position in Text for each occurence\n",
    "    \n",
    "    count = 1\n",
    "    Dict = {}\n",
    "    for m in re.finditer(SubString, Text):\n",
    "         Dict[count] = (m.start(), m.end())\n",
    "            \n",
    "    return(Dict)"
   ]
  },
  {
   "cell_type": "code",
   "execution_count": 30,
   "metadata": {},
   "outputs": [],
   "source": [
    "def VerifyOccurence(AllHeaders):\n",
    "    # Check if SubString occurs in Text.\n",
    "    \n",
    "    if len(AllHeaders) == 0:\n",
    "        s = \"No Occurences\"\n",
    "    elif len(AllHeaders) > 1:\n",
    "        s = \"Multiple Occurences\"\n",
    "    else:\n",
    "        s = \"OK - Single Occurence\"\n",
    "    \n",
    "    return(s)   "
   ]
  },
  {
   "cell_type": "code",
   "execution_count": 33,
   "metadata": {},
   "outputs": [
    {
     "name": "stdout",
     "output_type": "stream",
     "text": [
      "OK - Single Occurence\n",
      "{1: (128, 165)}\n"
     ]
    }
   ],
   "source": [
    "AllHeaders1 = FindOccurences(PdfText, Header1)\n",
    "\n",
    "print(VerifyOccurence(AllHeaders1))\n",
    "    \n",
    "print(AllHeaders1)"
   ]
  },
  {
   "cell_type": "code",
   "execution_count": 48,
   "metadata": {},
   "outputs": [],
   "source": [
    "def ExtractText(Text, Begin, End):\n",
    "    # Extract text Segment between 2 position indexes in a text string\n",
    "    \n",
    "    return(Text[Begin:End])"
   ]
  },
  {
   "cell_type": "code",
   "execution_count": 16,
   "metadata": {},
   "outputs": [
    {
     "data": {
      "text/plain": [
       "'1. PRODUCT AND COMPANY IDENTIFICATION'"
      ]
     },
     "execution_count": 16,
     "metadata": {},
     "output_type": "execute_result"
    }
   ],
   "source": [
    "ExtractText(PdfText, 128, 165)"
   ]
  },
  {
   "cell_type": "code",
   "execution_count": 40,
   "metadata": {},
   "outputs": [
    {
     "name": "stdout",
     "output_type": "stream",
     "text": [
      "OK - Single Occurence\n",
      "OK - Single Occurence\n",
      "165 785\n"
     ]
    }
   ],
   "source": [
    "# Locate begin and end of section \"1. PRODUCT AND COMPANY IDENTIFICATION\"\n",
    "#\n",
    "# Starts with the first postition after this header, ends with the last position before the next header\n",
    "\n",
    "AllHeaders1 = FindOccurences(PdfText, Header1)\n",
    "AllHeaders2 = FindOccurences(PdfText, Header2)\n",
    "\n",
    "print(VerifyOccurence(AllHeaders1))\n",
    "print(VerifyOccurence(AllHeaders2))\n",
    "\n",
    "print(AllHeaders1[1][1], AllHeaders2[1][0])"
   ]
  },
  {
   "cell_type": "code",
   "execution_count": null,
   "metadata": {},
   "outputs": [],
   "source": []
  },
  {
   "cell_type": "code",
   "execution_count": 41,
   "metadata": {
    "scrolled": false
   },
   "outputs": [
    {
     "name": "stdout",
     "output_type": "stream",
     "text": [
      "  Company\n",
      "  \n",
      "Arkema Inc.\n",
      " 900 First Avenue \n",
      "King of Prussia, Pennsylvania 19406 \n",
      "\n",
      " Functional Additives\n",
      "  \n",
      "Customer Service Telephone Number: \n",
      "(800) 331-7654 \n",
      "(Monday through Friday, 8:30 AM to 5:30 PM EST) \n",
      " Emergency Information\n",
      "  \n",
      "Transportation:\n",
      " CHEMTREC: (800) 424-9300 \n",
      "(24 hrs., 7 days a week) \n",
      "Medical: \n",
      "Rocky Mountain Poison Center:\n",
      " (866) 767-5089 \n",
      "(24 hrs., 7 days a week) \n",
      " \n",
      "Product Information\n",
      "  \n",
      "Product name:\n",
      " LUPEROX® P\n",
      " Synonyms: \n",
      "Peroxyester, t-butyl perbenzoate, tert-butyl peroxybenzoate \n",
      "Molecular formula:\n",
      " C11 H14 O3\n",
      " Chemical family:\n",
      " Organic peroxide - peroxyesters\n",
      " Product use: \n",
      "Initiator\n",
      " \n"
     ]
    }
   ],
   "source": [
    "Section1 = ExtractText(PdfText, AllHeaders1[1][1] + 1, AllHeaders2[1][0] - 1)\n",
    "\n",
    "print(Section1)"
   ]
  },
  {
   "cell_type": "markdown",
   "metadata": {},
   "source": [
    "### Section 0\n",
    "\n",
    "The initial text that comes before section 1"
   ]
  },
  {
   "cell_type": "code",
   "execution_count": 49,
   "metadata": {
    "scrolled": true
   },
   "outputs": [
    {
     "name": "stdout",
     "output_type": "stream",
     "text": [
      "   Material Safety Data Sheet \n",
      "  LUPEROX® P\n",
      "      Product code: 051000\n",
      "   Version 2.0\n",
      " Issued on: 07/11/2011\n",
      " Page: 1 / 10\n",
      "    \n"
     ]
    }
   ],
   "source": [
    "# Extract Section before Header \"1. PRODUCT AND COMPANY IDENTIFICATION\"\n",
    "\n",
    "Section0 = ExtractText(PdfText, 0, AllHeaders1[1][0] - 1)\n",
    "\n",
    "print(Section0)"
   ]
  },
  {
   "cell_type": "markdown",
   "metadata": {},
   "source": [
    "### Extract Entire PDF file\n"
   ]
  },
  {
   "cell_type": "code",
   "execution_count": 50,
   "metadata": {},
   "outputs": [],
   "source": [
    "def extract_raw_text(file):\n",
    "\n",
    "    pdfFileObj = open(file, \"rb\") \n",
    "    pdfReader = PyPDF2.PdfFileReader(pdfFileObj) \n",
    "\n",
    "    raw_text = \"\"\n",
    "    for n in range(pdfReader.numPages):\n",
    "        raw_text += pdfReader.getPage(n).extractText()\n",
    "\n",
    "    ##raw_text = raw_text.split(\"\\n\") \n",
    "\n",
    "    pdfFileObj.close() \n",
    "    return raw_text"
   ]
  },
  {
   "cell_type": "code",
   "execution_count": 52,
   "metadata": {},
   "outputs": [
    {
     "name": "stdout",
     "output_type": "stream",
     "text": [
      "<class 'str'>\n"
     ]
    }
   ],
   "source": [
    "PDFfile = extract_raw_text(InputFile)\n",
    "print(type(PDFfile))"
   ]
  },
  {
   "cell_type": "code",
   "execution_count": 53,
   "metadata": {
    "scrolled": true
   },
   "outputs": [
    {
     "name": "stdout",
     "output_type": "stream",
     "text": [
      "1\n"
     ]
    },
    {
     "data": {
      "text/plain": [
       "1"
      ]
     },
     "execution_count": 53,
     "metadata": {},
     "output_type": "execute_result"
    }
   ],
   "source": [
    "print(PDFfile.count(Header1))\n",
    "PDFfile.count(Header2)"
   ]
  },
  {
   "cell_type": "code",
   "execution_count": 54,
   "metadata": {
    "scrolled": true
   },
   "outputs": [
    {
     "name": "stdout",
     "output_type": "stream",
     "text": [
      "OK - Single Occurence\n",
      "OK - Single Occurence\n",
      "165 785\n"
     ]
    }
   ],
   "source": [
    "# Locate begin and end of section \"1. PRODUCT AND COMPANY IDENTIFICATION\"\n",
    "#\n",
    "# Starts with the first postition after this header, ends with the last position before the next header\n",
    "\n",
    "AllHeaders1 = FindOccurences(PDFfile, Header1)\n",
    "AllHeaders2 = FindOccurences(PDFfile, Header2)\n",
    "\n",
    "print(VerifyOccurence(AllHeaders1))\n",
    "print(VerifyOccurence(AllHeaders2))\n",
    "\n",
    "print(AllHeaders1[1][1], AllHeaders2[1][0])"
   ]
  },
  {
   "cell_type": "code",
   "execution_count": 56,
   "metadata": {
    "scrolled": true
   },
   "outputs": [
    {
     "name": "stdout",
     "output_type": "stream",
     "text": [
      "  Company\n",
      "  \n",
      "Arkema Inc.\n",
      " 900 First Avenue \n",
      "King of Prussia, Pennsylvania 19406 \n",
      "\n",
      " Functional Additives\n",
      "  \n",
      "Customer Service Telephone Number: \n",
      "(800) 331-7654 \n",
      "(Monday through Friday, 8:30 AM to 5:30 PM EST) \n",
      " Emergency Information\n",
      "  \n",
      "Transportation:\n",
      " CHEMTREC: (800) 424-9300 \n",
      "(24 hrs., 7 days a week) \n",
      "Medical: \n",
      "Rocky Mountain Poison Center:\n",
      " (866) 767-5089 \n",
      "(24 hrs., 7 days a week) \n",
      " \n",
      "Product Information\n",
      "  \n",
      "Product name:\n",
      " LUPEROX® P\n",
      " Synonyms: \n",
      "Peroxyester, t-butyl perbenzoate, tert-butyl peroxybenzoate \n",
      "Molecular formula:\n",
      " C11 H14 O3\n",
      " Chemical family:\n",
      " Organic peroxide - peroxyesters\n",
      " Product use: \n",
      "Initiator\n",
      " \n"
     ]
    }
   ],
   "source": [
    "Section1 = ExtractText(PDFfile, AllHeaders1[1][1] + 1, AllHeaders2[1][0] - 1)\n",
    "\n",
    "print(Section1)"
   ]
  },
  {
   "cell_type": "code",
   "execution_count": 57,
   "metadata": {
    "scrolled": true
   },
   "outputs": [
    {
     "name": "stdout",
     "output_type": "stream",
     "text": [
      "   Material Safety Data Sheet \n",
      "  LUPEROX® P\n",
      "      Product code: 051000\n",
      "   Version 2.0\n",
      " Issued on: 07/11/2011\n",
      " Page: 1 / 10\n",
      "    \n"
     ]
    }
   ],
   "source": [
    "# Extract Section before Header \"1. PRODUCT AND COMPANY IDENTIFICATION\"\n",
    "\n",
    "Section0 = ExtractText(PDFfile, 0, AllHeaders1[1][0] - 1)\n",
    "\n",
    "print(Section0)"
   ]
  },
  {
   "cell_type": "code",
   "execution_count": null,
   "metadata": {},
   "outputs": [],
   "source": []
  }
 ],
 "metadata": {
  "accelerator": "GPU",
  "colab": {
   "collapsed_sections": [],
   "name": "final_Text_Classification_With_BERT.ipynb",
   "provenance": [],
   "toc_visible": true
  },
  "kernelspec": {
   "display_name": "NLP",
   "language": "python",
   "name": "nlp"
  },
  "language_info": {
   "codemirror_mode": {
    "name": "ipython",
    "version": 3
   },
   "file_extension": ".py",
   "mimetype": "text/x-python",
   "name": "python",
   "nbconvert_exporter": "python",
   "pygments_lexer": "ipython3",
   "version": "3.8.5"
  }
 },
 "nbformat": 4,
 "nbformat_minor": 1
}
