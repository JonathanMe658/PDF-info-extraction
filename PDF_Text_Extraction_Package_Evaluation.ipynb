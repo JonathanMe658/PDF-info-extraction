{
 "cells": [
  {
   "cell_type": "markdown",
   "metadata": {
    "id": "CUu8O6h9b3Xr"
   },
   "source": [
    "# PDF text Extraction\n",
    "\n",
    "Evaluate available pacakges for processing of PDF format files.\n",
    "To prepare for ML6 use case.\n"
   ]
  },
  {
   "cell_type": "markdown",
   "metadata": {},
   "source": [
    "### PDFminer"
   ]
  },
  {
   "cell_type": "code",
   "execution_count": 47,
   "metadata": {},
   "outputs": [],
   "source": [
    "InputFile = 'data/23114.pdf'"
   ]
  },
  {
   "cell_type": "code",
   "execution_count": 48,
   "metadata": {},
   "outputs": [],
   "source": [
    "# See https://www.blog.pythonlibrary.org/2018/05/03/exporting-data-from-pdfs-with-python/\n",
    "#     http://zevross.com/blog/2014/04/09/extracting-tabular-data-from-a-pdf-an-example-using-python-and-regular-expressions/\n",
    "\n",
    "import io\n",
    "from pdfminer.converter import TextConverter\n",
    "from pdfminer.pdfinterp import PDFPageInterpreter\n",
    "from pdfminer.pdfinterp import PDFResourceManager\n",
    "from pdfminer.pdfpage import PDFPage\n",
    "\n",
    "def extract_text_from_pdf(pdf_path):\n",
    "    resource_manager = PDFResourceManager()\n",
    "    fake_file_handle = io.StringIO()\n",
    "    converter = TextConverter(resource_manager, fake_file_handle)\n",
    "    page_interpreter = PDFPageInterpreter(resource_manager, converter)\n",
    "    \n",
    "    with open(pdf_path, 'rb') as fh:\n",
    "        for page in PDFPage.get_pages(fh, \n",
    "                                      caching=True,\n",
    "                                      check_extractable=True):\n",
    "            page_interpreter.process_page(page)\n",
    "            \n",
    "        text = fake_file_handle.getvalue()\n",
    "    \n",
    "    # close open handles\n",
    "    converter.close()\n",
    "    fake_file_handle.close()\n",
    "    \n",
    "    if text:\n",
    "        return text\n"
   ]
  },
  {
   "cell_type": "code",
   "execution_count": 49,
   "metadata": {
    "scrolled": false
   },
   "outputs": [
    {
     "data": {
      "text/plain": [
       "'   Material Safety Data Sheet   LUPEROX® P      Product code: 051000   Version 2.0 Issued on: 07/11/2011 Page: 1 / 10     1. PRODUCT AND COMPANY IDENTIFICATION  Company  Arkema Inc. 900 First Avenue King of Prussia, Pennsylvania 19406  Functional Additives  Customer Service Telephone Number: (800) 331-7654 (Monday through Friday, 8:30 AM to 5:30 PM EST)  Emergency Information  Transportation: CHEMTREC: (800) 424-9300 (24 hrs., 7 days a week) Medical: Rocky Mountain Poison Center: (866) 767-5089 (24 hrs., 7 days a week)  Product Information  Product name: LUPEROX® P Synonyms: Peroxyester, t-butyl perbenzoate, tert-butyl peroxybenzoate Molecular formula: C11 H14 O3 Chemical family: Organic peroxide - peroxyesters Product use: Initiator  2. HAZARDS IDENTIFICATION  Emergency Overview  Color: Colourless to yellow. Physical state: liquid  Odor: unpleasant  CAUTION! ORGANIC PEROXIDE. HAZARDOUS DECOMPOSITION MAY OCCUR.  MAY CAUSE ALLERGIC SKIN REACTION.  MAY CAUSE SKIN IRRITATION.   Potential Health Effects  Primary routes of exposure: Inhalation and skin contact.  Signs and symptoms of acute exposure: May cause skin irritation. Prolonged or repeated exposure may cause: Allergic skin reaction: redness, rash.  Skin: Slightly toxic. Moderately irritating. May cause allergic skin reaction. (based on animal studies)  Inhalation: Practically nontoxic. (based on animal studies) \\x0c   Material Safety Data Sheet   LUPEROX® P      Product code: 051000   Version 2.0 Issued on: 07/11/2011 Page: 2 / 10      Eyes: Slightly irritating. (based on animal studies)  Ingestion: Slightly toxic. (based on animal studies)  3. COMPOSITION/INFORMATION ON INGREDIENTS  Chemical Name CAS-No. Wt/Wt OSHA Hazardous Benzenecarboperoxoic acid, 1,1-dimethylethyl ester 614-45-9 >= 98  - <= 100 % Y   The substance(s) marked with a \"Y\" in the Hazard column above, are those identified as hazardous chemicals under the criteria of the OSHA Hazard Communication Standard (29 CFR 1910.1200).  This material is classified as hazardous under Federal OSHA regulation.   4. FIRST AID MEASURES  Inhalation: If inhaled, remove victim to fresh air.  Skin: In case of contact, immediately flush skin with soap and plenty of water. Remove contaminated clothing and shoes. Get medical attention if symptoms occur. Wash clothing before reuse. Thoroughly clean shoes before reuse.  Eyes: Immediately flush eye(s) with plenty of water.  Ingestion: If swallowed, DO NOT induce vomiting. Get medical attention. Never give anything by mouth to an unconscious person.  5. FIRE-FIGHTING MEASURES  Flash point The flashpoint of this product is greater than the Self Acceleration Decomposition Temperature (SADT).  Auto-ignition temperature: no data available  Lower flammable limit (LFL): no data available  Upper flammable limit (UFL): no data available  Extinguishing media (suitable): Water spray, Foam, Dry chemical  Protective equipment: \\x0c   Material Safety Data Sheet   LUPEROX® P      Product code: 051000   Version 2.0 Issued on: 07/11/2011 Page: 3 / 10     Fire fighters and others who may be exposed to products of combustion should wear full fire fighting turn out gear (full Bunker Gear) and self-contained breathing apparatus (pressure demand / NIOSH approved or equivalent). Fire fighting equipment should be thoroughly decontaminated after use.  Further firefighting advice:Fight fire with large amounts of water from a safe distance. Keep containers cool by spraying with water if exposed to fire. Do not allow run-off from fire fighting to enter drains or water courses. Closed containers of this material may explode when subjected to heat from surrounding fire. After a fire, wait until the material has cooled to room temperature before initiating clean-up activities.  Fire and explosion hazards: Contact with materials to avoid or exposure to temperatures exceeding the SADT may result in a self-accelerating decomposition reaction with release of flammable vapors which may autoignite. When burned, the following hazardous products of combustion can occur: Carbon oxides    6. ACCIDENTAL RELEASE MEASURES  In case of spill or leak: Prevent further leakage or spillage if you can do so without risk. Evacuate area of all unnecessary personnel. Ventilate the area. Eliminate all ignition sources. Avoid generation of vapors. Contain and collect spillage with non-combustible absorbent material such as sodium bicarbonate, sodium carbonate, calcium carbonate, clean sand or non-acidic clay and then wet down (dampen) the mixture with water. DO NOT USE peat moss. Sweep or scoop up using non-sparking tools and place into suitable properly labeled containers for prompt disposal. The sweepings should be wetted down further with water. Avoid dispersal of spilled material and runoff and contact with soil, waterways, drains and sewers. Consult a regulatory specialist to determine appropriate state or local reporting requirements, for assistance in waste characterization and/or hazardous waste disposal and other requirements listed in pertinent environmental permits.   7. HANDLING AND STORAGE  Handling  General information on handling: Contact with materials to avoid or exposure to temperatures exceeding the SADT may result in a self-accelerating decomposition reaction with release of flammable vapors which may autoignite. Keep away from heat, sparks and flames. Avoid contact with the skin, eyes and clothing. Prevent product contamination. Keep container tightly closed and away from combustible materials. Wash thoroughly after handling. Emptied container retains product residue. Observe all labeled safeguards until container is cleaned, reconditioned or destroyed. Do not reuse container as it may retain hazardous product residue.  Storage  General information on storage conditions: Outside or detached storage is preferred. Store out of direct sunlight in a cool well-ventilated place. Store away from combustibles and materials to avoid. Refer also to National Fire Protection Association (NFPA) Code 432, Code for the Storage of Organic Peroxide Formulations. \\x0c   Material Safety Data Sheet   LUPEROX® P      Product code: 051000   Version 2.0 Issued on: 07/11/2011 Page: 4 / 10      Storage stability – Remarks: Follow the recommended storage temperatures provided in this Section in order to maintain stability and oxygen content.  Storage incompatibility – General: Acids (concentrated solutions)  Strong oxidizing agents  Reducing agents  Amines  Accelerators  Strong bases  Friedel - Crafts reaction catalyst  transition metal salts  metal ions    Temperature tolerance – Do not store below:– 50 °F (10 °C)  Temperature tolerance – Do not store above: 100 °F (38 °C)   8. EXPOSURE CONTROLS/PERSONAL PROTECTION  Airborne Exposure Guidelines:  Engineering controls: Investigate engineering techniques to reduce exposures below airborne exposure limits or to otherwise reduce exposures. Provide ventilation if necessary to minimize exposures or to control exposure levels to below airborne exposure limits (if applicable see above).If practical, use local mechanical exhaust ventilation at sources of air contamination such as open process equipment.    Respiratory protection: Where airborne exposure is likely or airborne exposure limits are exceeded (if applicable, see above), use NIOSH approved respiratory protection equipment appropriate to the material and/or its components (full facepiece recommended). Consult respirator manufacturer to determine appropriate type equipment for a given application. Observe respirator use limitations specified by NIOSH or the manufacturer. For emergency and other conditions where there may be a potential for significant exposure or where exposure limit may be significantly exceeded, use an approved full face positive-pressure, self-contained breathing apparatus or positive-pressure airline with auxiliary self-contained air supply. Respiratory protection programs must comply with 29 CFR § 1910.134.  \\x0c   Material Safety Data Sheet   LUPEROX® P      Product code: 051000   Version 2.0 Issued on: 07/11/2011 Page: 5 / 10     Skin protection: Wear appropriate chemical resistant protective clothing and chemical resistant gloves to prevent skin contact. Consult glove manufacturer to determine appropriate type glove material for given application. Wear face shield and chemical resistant clothing such as a rubber apron when splashing may occur. Rinse immediately if skin is contaminated. Wash contaminated clothing and clean protective equipment before reuse. Wash thoroughly after handling.  Eye protection: Use good industrial practice to avoid eye contact.   9. PHYSICAL AND CHEMICAL PROPERTIES  Color: Colourless to yellow.   Physical state: liquid   Odor: unpleasant  pH: no data available   Density: 1.04 g/cm3 (68 °F (20 °C))  Specific Gravity (Relative density): 1.0428 (68 °F( 20 °C))  Vapor pressure: 7.6 mmHg  (86 °F (30 °C))  Vapor density: no data available  Boiling point/boiling range: Decomposes before boiling. Rate of decomposition increases with rising temperature.  Freezing point:  ~ 47.3 °F (8.5 °C)Material supercools  Solubility in water: insoluble   Refractive index: 1.5011 68 °F (20 °C)  Viscosity, dynamic: 7.81 mPa.s 68 °F (20 °C)   Self-Accelerating Decomposition Temperature (SADT): 140 °F (60 °C)  (Method: Heat Accumulation Storage Test)   Active oxygen content: 8.2 %    \\x0c   Material Safety Data Sheet   LUPEROX® P      Product code: 051000   Version 2.0 Issued on: 07/11/2011 Page: 6 / 10     10. STABILITY AND REACTIVITY  Stability: This material is chemically unstable and should only be handled under specified conditions.   Hazardous reactions: Hazardous polymerization does not occur.  Materials to avoid: Acids Amines Oxidizing agents Reducing agents Accelerators Strong bases Friedel - Crafts reaction catalyst metal ions transition metal salts  Conditions / hazards to avoid: See HANDLING AND STORAGE section of this MSDS for specified conditions. SADT - Self Accelerating Decomposition Temperature.  Lowest temperature at which the tested package size will undergo a  self-accelerating decomposition reaction.  This reaction will generate flammable vapors which may autoignite.  The length of time to generate a decomposition reaction, after the SADT has been reached or exceeded, is dependent upon how much the SADT has been exceeded and the length of time needed for the reaction exotherm (heat spike from increasing decomposition rate) to initiate a rapid decomposition reaction.  Typically, SADT is inversely proportional to package size.  Larger packages will have a lower SADT due to smaller ratio to heat transfer area to volume of product.   Hazardous decomposition products: Temperatures at or above the SADT can result in the release of hazardous decomposition products which are flammable and may autoignite. Thermal decomposition giving flammable and toxic products Carbon oxides   11. TOXICOLOGICAL INFORMATION  Data on this material and/or its components are summarized below.  Data for Benzenecarboperoxoic acid, 1,1-dimethylethyl ester (614-45-9)  Acute toxicity  Oral:  Slightly toxic. (rat) LD50 = 3,639 - 4,838 mg/kg.   Dermal: Slightly toxic. (rabbit) LD50  = 3,817 mg/kg.   Inhalation: Practically nontoxic. (rat) 4 h LC50 > 200 mg/l.   Skin Irritation: Moderately irritating. (rabbit) Irritation Index: 3.7/8.0.   \\x0c   Material Safety Data Sheet   LUPEROX® P      Product code: 051000   Version 2.0 Issued on: 07/11/2011 Page: 7 / 10     Eye Irritation: Slightly irritating. (rabbit) Irritation Index: 7.0/110.   Skin Sensitization: LLNA: Local Lymph Node Assay. (mouse) Skin allergy was observed.   Repeated dose toxicity Repeated oral administration to rat and mouse / No adverse systemic effects reported.   Genotoxicity  Assessment in Vitro: Genetic changes were observed in laboratory tests using: bacteria, animal cells  Genotoxicity  Assessment in Vivo: No genetic changes were observed in a laboratory test using: animals   12. ECOLOGICAL INFORMATION  Chemical Fate and Pathway Data on this material and/or its components are summarized below.  Data for Benzenecarboperoxoic acid, 1,1-dimethylethyl ester (614-45-9)  Biodegradation: Readily biodegradable (28 d) biodegradation 72 %   Behavior in Water Treatment Plant: Respiration inhibition of activated sludge EC50 = 43 mg/l   Octanol Water Partition Coefficient: log Pow = 3.0 (OECD Guideline 117) (Some potential to bioaccumulate.)  Ecotoxicology Data on this material and/or its components are summarized below.  Data for Benzenecarboperoxoic acid, 1,1-dimethylethyl ester (614-45-9)  Aquatic toxicity data: Moderately toxic. Poecilia reticulata (guppy) 96 h LC50 = 8.6 mg/l (semi-static test)  Algae: Moderately toxic. Algae 72 h EC50 = 1.3 mg/l    \\x0c   Material Safety Data Sheet   LUPEROX® P      Product code: 051000   Version 2.0 Issued on: 07/11/2011 Page: 8 / 10     13. DISPOSAL CONSIDERATIONS  Waste disposal:Dilution followed by incineration is the preferred method. Dilution ratio of 10:1 in a clean, compatible, combustible solvent (i.e., Fuel Oil #2, mineral oil) will reduce reactivity hazard during incineration and transportation. Dispose of in accordance with federal, state and local regulations. Consult a regulatory specialist to determine appropriate state or local reporting requirements, for assistance in waste characterization and/or hazardous waste disposal and other requirements listed in pertinent environmental permits. Note: Chemical additions to, processing of, or otherwise altering this material may make this waste management information incomplete, inaccurate, or otherwise inappropriate. Furthermore, state and local waste disposal requirements may be more restrictive or otherwise different from federal laws and regulations.   14. TRANSPORT INFORMATION  US Department of Transportation (DOT)  UN Number :  3103 Proper shipping name :  Organic peroxide type C, liquid  Technical name :  (Tert-Butyl peroxybenzoate, > 77-100%) Class :  5.2 Packaging group :  II Marine pollutant :  no  International Maritime Dangerous Goods Code (IMDG)  UN Number :  3103 Proper shipping name :  ORGANIC PEROXIDE TYPE C, LIQUID  Technical name :  (Tert-BUTYL PEROXYBENZOATE, > 77-100%) Class :  5.2  Marine pollutant :  yes   15. REGULATORY INFORMATION  Chemical Inventory Status  EU. EINECS EINECS Conforms to  US. Toxic Substances Control Act TSCA The components of this product are all on the TSCA Inventory.  Australia. Industrial Chemical (Notification and Assessment) Act AICS Conforms to  Canada. Canadian Environmental Protection Act (CEPA). Domestic Substances List (DSL).  (Can. Gaz. Part II, Vol. 144) DSL All components of this product are on the Canadian DSL list.  Japan. Kashin-Hou Law List ENCS (JP) Conforms to  Korea. Existing Chemicals Inventory (KECI) KECI (KR) Conforms to  \\x0c   Material Safety Data Sheet   LUPEROX® P      Product code: 051000   Version 2.0 Issued on: 07/11/2011 Page: 9 / 10     Philippines. The Toxic Substances and Hazardous and Nuclear Waste Control Act PICCS (PH) Conforms to  China. Inventory of Existing Chemical Substances IECSC (CN) Conforms to  New Zealand. Inventory of Chemicals  (NZIoC), as published by ERMA New Zealand NZIOC Does not conform  United States – Federal Regulations  SARA Title III – Section 302 Extremely Hazardous Chemicals:  The components in this product are either not SARA Section 302 regulated or regulated but present in negligible concentrations.  SARA Title III - Section 311/312 Hazard Categories: Acute Health Hazard  Reactivity Hazard   SARA Title III – Section 313 Toxic Chemicals: SARA 313: This material does not contain any chemical components with known CAS numbers that exceed the threshold (De Minimis) reporting levels established by SARA Title III, Section 313.  Comprehensive Environmental Response, Compensation, and Liability Act (CERCLA) - Reportable Quantity (RQ):  The components in this product are either not CERCLA regulated, regulated but present in negligible concentrations, or regulated with no assigned reportable quantity.  OSHA Regulated Carcinogens (NTP, IARC, OSHA Listed):  NTP: No component of this product present at levels greater than or equal to 0.1% is identified as a known or anticipated carcinogen by NTP.  IARC: No component of this product present at levels greater than or equal to 0.1% is identified as probable, possible or confirmed human carcinogen by IARC.  OSHA: No component of this product present at levels greater than or equal to 0.1% is identified as a carcinogen or potential carcinogen by OSHA.  United States – State Regulations   New Jersey Right to Know  Chemical Name CAS-No. Hydroperoxide, 1,1-dimethylethyl 75-91-2 Benzenecarboperoxoic acid, 1,1-dimethylethyl ester 614-45-9  \\x0c   Material Safety Data Sheet   LUPEROX® P      Product code: 051000   Version 2.0 Issued on: 07/11/2011 Page: 10 / 10     New Jersey Right to Know – Special Health Hazard Substance(s)  Chemical Name CAS-No. Hydroperoxide, 1,1-dimethylethyl 75-91-2  New Jersey Right to Know – Special Health Hazard Substance(s)  Chemical Name CAS-No. Benzenecarboperoxoic acid, 1,1-dimethylethyl ester 614-45-9  Pennsylvania Right to Know  Chemical Name CAS-No. Benzenecarboperoxoic acid, 1,1-dimethylethyl ester 614-45-9  California Prop. 65 This product does not contain any chemicals known to the State of California to cause cancer, birth defects, or any other reproductive defects.   16. OTHER INFORMATION  HMIS ratings: Health: 2 (MODERATE HAZARD) Fire: 1 (SLIGHT HAZARD) Physical Hazard: 3 (SERIOUS HAZARD)  Latest Revision(s): Revised Section(s): Updated Corporate Address Change and Rocky Mountain Poison Center Phone Number Reference number: 000000034023 Date of Revision: 07/11/2011 Date Printed: 07/11/2011  LUPEROX® is a registered trademark of Arkema Inc.  Arkema Inc. believes that the information and recommendations contained herein (including data and statements) are accurate as of the date hereof.  NO WARRANTY OF FITNESS FOR ANY PARTICULAR PURPOSE, WARRANTY OF MERCHANTABILITY, OR ANY OTHER WARRANTY, EXPRESSED OR IMPLIED, IS MADE CONCERNING THE INFORMATION PROVIDED HEREIN. The information provided herein relates only to the specific product designated and may not be valid where such product is used in combination with any other materials or in any process.  Further, since the conditions and methods of use are beyond the control of Arkema Inc., Arkema Inc. expressly disclaims any and all liability as to any results obtained or arising from any use of the product or reliance on such information.    \\x0c'"
      ]
     },
     "execution_count": 49,
     "metadata": {},
     "output_type": "execute_result"
    }
   ],
   "source": [
    "text = extract_text_from_pdf(InputFile)\n",
    "text"
   ]
  },
  {
   "cell_type": "code",
   "execution_count": 5,
   "metadata": {},
   "outputs": [],
   "source": [
    "# from: https://github.com/driscollis/reportlabbookcode/blob/master/chapter16_exporting_data/miner_text_generator.py\n",
    "\n",
    "# miner_text_generator.py\n",
    "\n",
    "import io\n",
    "\n",
    "from pdfminer.converter import TextConverter\n",
    "from pdfminer.pdfinterp import PDFPageInterpreter\n",
    "from pdfminer.pdfinterp import PDFResourceManager\n",
    "from pdfminer.pdfpage import PDFPage\n",
    "\n",
    "def extract_text_by_page(pdf_path):\n",
    "    with open(pdf_path, 'rb') as fh:\n",
    "        for page in PDFPage.get_pages(fh, \n",
    "                                      caching=True,\n",
    "                                      check_extractable=True):\n",
    "            resource_manager = PDFResourceManager()\n",
    "            fake_file_handle = io.StringIO()\n",
    "            converter = TextConverter(resource_manager, fake_file_handle)\n",
    "            page_interpreter = PDFPageInterpreter(resource_manager, converter)\n",
    "            page_interpreter.process_page(page)\n",
    "            \n",
    "            text = fake_file_handle.getvalue()\n",
    "            yield text\n",
    "    \n",
    "            # close open handles\n",
    "            converter.close()\n",
    "            fake_file_handle.close()\n",
    "    \n",
    "def extract_text(pdf_path):\n",
    "    for page in extract_text_by_page(pdf_path):\n",
    "        print(page)\n",
    "        print()"
   ]
  },
  {
   "cell_type": "code",
   "execution_count": 20,
   "metadata": {},
   "outputs": [],
   "source": [
    "# json_exporter.py\n",
    "import json\n",
    "import os\n",
    "# from miner_text_generator import extract_text_by_page # included above\n",
    "\n",
    "def export_as_json(pdf_path, json_path):\n",
    "    filename = os.path.splitext(os.path.basename(pdf_path))[0]\n",
    "    data = {'Filename': filename}\n",
    "    data['Pages'] = []\n",
    "    \n",
    "    counter = 1\n",
    "    for page in extract_text_by_page(pdf_path):\n",
    "        text = page[0:100]\n",
    "        page = {'Page_{}'.format(counter): text}\n",
    "        data['Pages'].append(page)\n",
    "        counter += 1\n",
    "    \n",
    "    with open(json_path, 'w') as fh:\n",
    "        json.dump(data, fh)"
   ]
  },
  {
   "cell_type": "code",
   "execution_count": 10,
   "metadata": {},
   "outputs": [],
   "source": [
    "json_path = InputFile + '.json'\n",
    "\n",
    "export_as_json(InputFile, json_path)"
   ]
  },
  {
   "cell_type": "code",
   "execution_count": 11,
   "metadata": {
    "scrolled": false
   },
   "outputs": [
    {
     "name": "stdout",
     "output_type": "stream",
     "text": [
      "{\n",
      "    \"Filename\": \"23114\",\n",
      "    \"Pages\": [\n",
      "        {\n",
      "            \"Page_1\": \"   Material Safety Data Sheet   LUPEROX\\u00ae P      Product code: 051000   Version 2.0 Issued on: 07/11/\"\n",
      "        },\n",
      "        {\n",
      "            \"Page_2\": \"   Material Safety Data Sheet   LUPEROX\\u00ae P      Product code: 051000   Version 2.0 Issued on: 07/11/\"\n",
      "        },\n",
      "        {\n",
      "            \"Page_3\": \"   Material Safety Data Sheet   LUPEROX\\u00ae P      Product code: 051000   Version 2.0 Issued on: 07/11/\"\n",
      "        },\n",
      "        {\n",
      "            \"Page_4\": \"   Material Safety Data Sheet   LUPEROX\\u00ae P      Product code: 051000   Version 2.0 Issued on: 07/11/\"\n",
      "        },\n",
      "        {\n",
      "            \"Page_5\": \"   Material Safety Data Sheet   LUPEROX\\u00ae P      Product code: 051000   Version 2.0 Issued on: 07/11/\"\n",
      "        },\n",
      "        {\n",
      "            \"Page_6\": \"   Material Safety Data Sheet   LUPEROX\\u00ae P      Product code: 051000   Version 2.0 Issued on: 07/11/\"\n",
      "        },\n",
      "        {\n",
      "            \"Page_7\": \"   Material Safety Data Sheet   LUPEROX\\u00ae P      Product code: 051000   Version 2.0 Issued on: 07/11/\"\n",
      "        },\n",
      "        {\n",
      "            \"Page_8\": \"   Material Safety Data Sheet   LUPEROX\\u00ae P      Product code: 051000   Version 2.0 Issued on: 07/11/\"\n",
      "        },\n",
      "        {\n",
      "            \"Page_9\": \"   Material Safety Data Sheet   LUPEROX\\u00ae P      Product code: 051000   Version 2.0 Issued on: 07/11/\"\n",
      "        },\n",
      "        {\n",
      "            \"Page_10\": \"   Material Safety Data Sheet   LUPEROX\\u00ae P      Product code: 051000   Version 2.0 Issued on: 07/11/\"\n",
      "        }\n",
      "    ]\n",
      "}\n"
     ]
    }
   ],
   "source": [
    "with open(json_path, 'r') as handle:\n",
    "    parsed = json.load(handle)\n",
    "    print(json.dumps(parsed, indent=4, sort_keys=True))"
   ]
  },
  {
   "cell_type": "code",
   "execution_count": 21,
   "metadata": {
    "scrolled": false
   },
   "outputs": [
    {
     "name": "stdout",
     "output_type": "stream",
     "text": [
      "{\n",
      "    \"Filename\": \"gylcol-ether-dpm-sds\",\n",
      "    \"Pages\": [\n",
      "        {\n",
      "            \"Page_1\": \"SAFETY DATA SHEET:GYLCOL ETHER DPM1. IDENTIFICATIONPRODUCT NAME:  GLYCOL ETHER DPMCAS NO:34590-94-8P\"\n",
      "        },\n",
      "        {\n",
      "            \"Page_2\": \"Dipropylene glycol monomethyl ether34590-94-8>99.0%4. FIRST AID MEASURESDescription of first aid mea\"\n",
      "        },\n",
      "        {\n",
      "            \"Page_3\": \"Personal precautions, protective equipment and emergency procedures: Isolate area. Refer to Section \"\n",
      "        },\n",
      "        {\n",
      "            \"Page_4\": \"conditions no respiratory protection should be needed; however, if discomfort is experienced, use an\"\n",
      "        },\n",
      "        {\n",
      "            \"Page_5\": \"Molecular Weight   148.2 g/molHenry's Law Constant (H)   1.6E-07 atm*m3/mole; 25 \\u00b0C Estimated.10. ST\"\n",
      "        },\n",
      "        {\n",
      "            \"Page_6\": \"For similar material(s): In laboratory animal studies, effects on reproduction have been seen only a\"\n",
      "        },\n",
      "        {\n",
      "            \"Page_7\": \"& UNCONTAMINATED PRODUCT, the preferred options include sending to a licensed, permitted: Incinerato\"\n",
      "        },\n",
      "        {\n",
      "            \"Page_8\": \"CEPA - Domestic Substances List (DSL)This product contains one or more substances which are not list\"\n",
      "        }\n",
      "    ]\n",
      "}\n"
     ]
    }
   ],
   "source": [
    "InputFile = 'data/gylcol-ether-dpm-sds.pdf'\n",
    "\n",
    "json_path = InputFile + '.json'\n",
    "\n",
    "export_as_json(InputFile, json_path)\n",
    "\n",
    "with open(json_path, 'r') as handle:\n",
    "    parsed = json.load(handle)\n",
    "    print(json.dumps(parsed, indent=4, sort_keys=True))"
   ]
  },
  {
   "cell_type": "code",
   "execution_count": 54,
   "metadata": {},
   "outputs": [],
   "source": [
    "# See https://programtalk.com/python-examples/pdfminer.converter.XMLConverter/\n",
    "\n",
    "import io\n",
    "from pdfminer.converter import XMLConverter, HTMLConverter, TextConverter\n",
    "from pdfminer.pdfinterp import PDFPageInterpreter\n",
    "from pdfminer.pdfinterp import PDFResourceManager\n",
    "from pdfminer.pdfpage import PDFPage\n",
    "\n",
    "from io import StringIO\n",
    "from pdfminer.layout import LAParams\n",
    "\n",
    "def extract_pdf_page(filename, page_number_List):\n",
    "    \"\"\"Given the name of a PDF file and the pages to extract, use PDFMiner to extract those\n",
    "    pages and return them as XML (in utf-8 bytes).\n",
    " \n",
    "    The param page_number_or_numbers can be a single page number or an iterable thereof.\n",
    "    \"\"\"\n",
    "    # This code adapted from pdf2txt.py which is part of PDFMiner.\n",
    "    # Here's the command line version of the code below --\n",
    "    #    pdf2txt.py -p 1 -o expected.xml sample.pdf\n",
    " \n",
    "    #f_out = StringIO.StringIO()\n",
    "    f_out = StringIO()\n",
    "    laparams = LAParams()\n",
    "    rsrcmgr = PDFResourceManager()\n",
    "    #device = XMLConverter(rsrcmgr, f_out, codec='utf-8', laparams=laparams)\n",
    "    device = XMLConverter(rsrcmgr, f_out, laparams=laparams)\n",
    " \n",
    "    with open(filename, 'rb') as f_in:\n",
    "        interpreter = PDFPageInterpreter(rsrcmgr, device)\n",
    "        for page in PDFPage.get_pages(f_in, page_number_List):\n",
    "            interpreter.process_page(page)\n",
    " \n",
    "    device.close()\n",
    "    \n",
    "\n",
    "def extract_xml_from_pdf(pdf_path):\n",
    "    resource_manager = PDFResourceManager()\n",
    "    fake_file_handle = io.StringIO()\n",
    "    converter = XMLConverter(resource_manager, fake_file_handle, codec='utf-8')\n",
    "    page_interpreter = PDFPageInterpreter(resource_manager, converter)\n",
    "    \n",
    "    with open(pdf_path, 'rb') as fh:\n",
    "        for page in PDFPage.get_pages(fh, \n",
    "                                      caching=True,\n",
    "                                      check_extractable=True):\n",
    "            page_interpreter.process_page(page)\n",
    "            \n",
    "        text = fake_file_handle.getvalue()\n",
    "    \n",
    "    # close open handles\n",
    "    converter.close()\n",
    "    fake_file_handle.close()\n",
    "    \n",
    "    if text:\n",
    "        return text"
   ]
  },
  {
   "cell_type": "code",
   "execution_count": 51,
   "metadata": {},
   "outputs": [],
   "source": [
    "InputFile = 'data/23114.pdf'"
   ]
  },
  {
   "cell_type": "code",
   "execution_count": 58,
   "metadata": {},
   "outputs": [],
   "source": [
    "# See: https://pydoc.net/pdfminer.six/20200124/pdfminer.high_level/\n",
    "\n",
    "\"\"\"Functions that can be used for the most common use-cases for pdfminer.six\"\"\"\n",
    " \n",
    "import logging\n",
    "import sys\n",
    "from io import StringIO\n",
    " \n",
    "from pdfminer.converter import XMLConverter, HTMLConverter, TextConverter, PDFPageAggregator\n",
    "from pdfminer.image import ImageWriter\n",
    "from pdfminer.layout import LAParams\n",
    "from pdfminer.pdfdevice import TagExtractor\n",
    "from pdfminer.pdfinterp import PDFResourceManager, PDFPageInterpreter\n",
    "from pdfminer.pdfpage import PDFPage\n",
    " \n",
    " \n",
    "def extract_text_to_fp(inf, outfp, output_type='text', codec='utf-8',\n",
    "                       laparams=None, maxpages=0, page_numbers=None,\n",
    "                       password=\"\", scale=1.0, rotation=0, layoutmode='normal',\n",
    "                       output_dir=None, strip_control=False, debug=False,\n",
    "                       disable_caching=False, **kwargs):\n",
    "    \"\"\"Parses text from inf-file and writes to outfp file-like object.\n",
    " \n",
    "    Takes loads of optional arguments but the defaults are somewhat sane.\n",
    "    Beware laparams: Including an empty LAParams is not the same as passing\n",
    "        None!\n",
    " \n",
    "    :param inf: a file-like object to read PDF structure from, such as a\n",
    "        file handler (using the builtin `open()` function) or a `BytesIO`.\n",
    "    :param outfp: a file-like object to write the text to.\n",
    "    :param output_type: May be 'text', 'xml', 'html', 'tag'. Only 'text' works\n",
    "        properly.\n",
    "    :param codec: Text decoding codec\n",
    "    :param laparams: An LAParams object from pdfminer.layout. Default is None\n",
    "        but may not layout correctly.\n",
    "    :param maxpages: How many pages to stop parsing after\n",
    "    :param page_numbers: zero-indexed page numbers to operate on.\n",
    "    :param password: For encrypted PDFs, the password to decrypt.\n",
    "    :param scale: Scale factor\n",
    "    :param rotation: Rotation factor\n",
    "    :param layoutmode: Default is 'normal', see\n",
    "        pdfminer.converter.HTMLConverter\n",
    "    :param output_dir: If given, creates an ImageWriter for extracted images.\n",
    "    :param strip_control: Does what it says on the tin\n",
    "    :param debug: Output more logging data\n",
    "    :param disable_caching: Does what it says on the tin\n",
    "    :param other:\n",
    "    :return: nothing, acting as it does on two streams. Use StringIO to get\n",
    "        strings.\n",
    "    \"\"\"\n",
    "    if debug:\n",
    "        logging.getLogger().setLevel(logging.DEBUG)\n",
    " \n",
    "    imagewriter = None\n",
    "    if output_dir:\n",
    "        imagewriter = ImageWriter(output_dir)\n",
    " \n",
    "    rsrcmgr = PDFResourceManager(caching=not disable_caching)\n",
    " \n",
    "    if output_type == 'text':\n",
    "        device = TextConverter(rsrcmgr, outfp, codec=codec, laparams=laparams,\n",
    "                               imagewriter=imagewriter)\n",
    " \n",
    "    if outfp == sys.stdout:\n",
    "        outfp = sys.stdout.buffer\n",
    " \n",
    "    if output_type == 'xml':\n",
    "        device = XMLConverter(rsrcmgr, outfp, codec=codec, laparams=laparams,\n",
    "                              imagewriter=imagewriter,\n",
    "                              stripcontrol=strip_control)\n",
    "    elif output_type == 'html':\n",
    "        device = HTMLConverter(rsrcmgr, outfp, codec=codec, scale=scale,\n",
    "                               layoutmode=layoutmode, laparams=laparams,\n",
    "                               imagewriter=imagewriter)\n",
    "    elif output_type == 'tag':\n",
    "        device = TagExtractor(rsrcmgr, outfp, codec=codec)\n",
    " \n",
    "    interpreter = PDFPageInterpreter(rsrcmgr, device)\n",
    "    for page in PDFPage.get_pages(inf,\n",
    "                                  page_numbers,\n",
    "                                  maxpages=maxpages,\n",
    "                                  password=password,\n",
    "                                  caching=not disable_caching,\n",
    "                                  check_extractable=True):\n",
    "        page.rotate = (page.rotate + rotation) % 360\n",
    "        interpreter.process_page(page)\n",
    " \n",
    "    device.close()\n",
    " \n",
    " \n",
    "def extract_text(pdf_file, password='', page_numbers=None, maxpages=0,\n",
    "                 caching=True, codec='utf-8', laparams=None):\n",
    "    \"\"\"Parse and return the text contained in a PDF file.\n",
    " \n",
    "    :param pdf_file: Path to the PDF file to be worked on\n",
    "    :param password: For encrypted PDFs, the password to decrypt.\n",
    "    :param page_numbers: List of zero-indexed page numbers to extract.\n",
    "    :param maxpages: The maximum number of pages to parse\n",
    "    :param caching: If resources should be cached\n",
    "    :param codec: Text decoding codec\n",
    "    :param laparams: An LAParams object from pdfminer.layout. If None, uses\n",
    "        some default settings that often work well.\n",
    "    :return: a string containing all of the text extracted.\n",
    "    \"\"\"\n",
    "    if laparams is None:\n",
    "        laparams = LAParams()\n",
    " \n",
    "    with open(pdf_file, \"rb\") as fp, StringIO() as output_string:\n",
    "        rsrcmgr = PDFResourceManager()\n",
    "        device = TextConverter(rsrcmgr, output_string, codec=codec,\n",
    "                               laparams=laparams)\n",
    "        interpreter = PDFPageInterpreter(rsrcmgr, device)\n",
    " \n",
    "        for page in PDFPage.get_pages(\n",
    "                fp,\n",
    "                page_numbers,\n",
    "                maxpages=maxpages,\n",
    "                password=password,\n",
    "                caching=caching,\n",
    "                check_extractable=True,\n",
    "        ):\n",
    "            interpreter.process_page(page)\n",
    " \n",
    "        return output_string.getvalue()\n",
    " \n",
    " \n",
    "def extract_pages(pdf_file, password='', page_numbers=None, maxpages=0,\n",
    "                  caching=True, laparams=None):\n",
    "    \"\"\"Extract and yield LTPage objects\n",
    " \n",
    "    :param pdf_file: Path to the PDF file to be worked on\n",
    "    :param password: For encrypted PDFs, the password to decrypt.\n",
    "    :param page_numbers: List of zero-indexed page numbers to extract.\n",
    "    :param maxpages: The maximum number of pages to parse\n",
    "    :param caching: If resources should be cached\n",
    "    :param laparams: An LAParams object from pdfminer.layout. If None, uses\n",
    "        some default settings that often work well.\n",
    "    :return:\n",
    "    \"\"\"\n",
    "    if laparams is None:\n",
    "        laparams = LAParams()\n",
    " \n",
    "    with open(pdf_file, \"rb\") as fp:\n",
    "        resource_manager = PDFResourceManager()\n",
    "        device = PDFPageAggregator(resource_manager, laparams=laparams)\n",
    "        interpreter = PDFPageInterpreter(resource_manager, device)\n",
    "        for page in PDFPage.get_pages(fp, page_numbers, maxpages=maxpages,\n",
    "                                      password=password, caching=caching):\n",
    "            interpreter.process_page(page)\n",
    "            layout = device.get_result()\n",
    "            yield layout\n"
   ]
  },
  {
   "cell_type": "code",
   "execution_count": 67,
   "metadata": {},
   "outputs": [],
   "source": [
    "InputFile = 'data/23114.pdf'\n",
    "\n",
    "InFile = open(InputFile, \"rb\")\n",
    "\n",
    "OutFile = open(InputFile + '.xml', \"wb\") # StringIO() as output_string:"
   ]
  },
  {
   "cell_type": "code",
   "execution_count": 68,
   "metadata": {},
   "outputs": [],
   "source": [
    "extract_text_to_fp(InFile, OutFile, output_type='xml')"
   ]
  },
  {
   "cell_type": "markdown",
   "metadata": {},
   "source": [
    "This does extract the PDF file in XML format, but each letter is a seperate item."
   ]
  },
  {
   "cell_type": "code",
   "execution_count": 27,
   "metadata": {
    "scrolled": true
   },
   "outputs": [
    {
     "name": "stdout",
     "output_type": "stream",
     "text": [
      "<class 'bytes'>\n"
     ]
    },
    {
     "ename": "KeyboardInterrupt",
     "evalue": "",
     "output_type": "error",
     "traceback": [
      "\u001b[0;31m---------------------------------------------------------------------------\u001b[0m",
      "\u001b[0;31mKeyboardInterrupt\u001b[0m                         Traceback (most recent call last)",
      "\u001b[0;32m<ipython-input-27-bf99cb1ff4f6>\u001b[0m in \u001b[0;36m<module>\u001b[0;34m\u001b[0m\n\u001b[1;32m     25\u001b[0m     \u001b[0;31m#   break\u001b[0m\u001b[0;34m\u001b[0m\u001b[0;34m\u001b[0m\u001b[0;34m\u001b[0m\u001b[0m\n\u001b[1;32m     26\u001b[0m     \u001b[0;31m#istart = pdf.find(startmark, istream, istream+20)\u001b[0m\u001b[0;34m\u001b[0m\u001b[0;34m\u001b[0m\u001b[0;34m\u001b[0m\u001b[0m\n\u001b[0;32m---> 27\u001b[0;31m     \u001b[0mistart\u001b[0m \u001b[0;34m=\u001b[0m \u001b[0mpdf\u001b[0m\u001b[0;34m.\u001b[0m\u001b[0mfind\u001b[0m\u001b[0;34m(\u001b[0m\u001b[0mstartmark\u001b[0m\u001b[0;34m)\u001b[0m\u001b[0;34m\u001b[0m\u001b[0;34m\u001b[0m\u001b[0m\n\u001b[0m\u001b[1;32m     28\u001b[0m     \u001b[0;32mif\u001b[0m \u001b[0mistart\u001b[0m \u001b[0;34m<\u001b[0m \u001b[0;36m0\u001b[0m\u001b[0;34m:\u001b[0m\u001b[0;34m\u001b[0m\u001b[0;34m\u001b[0m\u001b[0m\n\u001b[1;32m     29\u001b[0m         \u001b[0mi\u001b[0m \u001b[0;34m=\u001b[0m \u001b[0mistream\u001b[0m\u001b[0;34m+\u001b[0m\u001b[0;36m20\u001b[0m\u001b[0;34m\u001b[0m\u001b[0;34m\u001b[0m\u001b[0m\n",
      "\u001b[0;31mKeyboardInterrupt\u001b[0m: "
     ]
    }
   ],
   "source": [
    "# Extract jpg's from pdf's. Quick and dirty.\n",
    "\n",
    "import sys\n",
    "\n",
    "#pdf = file(sys.argv[1], \"rb\").read()\n",
    "f = open(InputFile, \"rb\")\n",
    "pdf = f.read()\n",
    "\n",
    "print(type(pdf))\n",
    "\n",
    "#startmark = \"\\xff\\xd8\"\n",
    "startmark = bytes(\"\\xff\\xd8\", encoding=\"utf-8\")\n",
    "startfix = 0\n",
    "#endmark = \"\\xff\\xd9\"\n",
    "endmark = bytes(\"\\xff\\xd9\", encoding=\"utf-8\")\n",
    "endfix = 2\n",
    "i = 0\n",
    "njpg = 0\n",
    "\n",
    "while True:\n",
    "    #istream = pdf.find(\"stream\", i)\n",
    "    #enc_word=bytes(\"stream\", encoding=\"utf-8\")\n",
    "    #istream = pdf.find(enc_word)\n",
    "    #if istream < 0:\n",
    "    #   break\n",
    "    #istart = pdf.find(startmark, istream, istream+20)\n",
    "    istart = pdf.find(startmark)\n",
    "    if istart < 0:\n",
    "        i = istream+20\n",
    "        continue\n",
    "    iend = pdf.find(\"endstream\", istart)\n",
    "    if iend < 0:\n",
    "        raise Exception(\"Didn't find end of stream!\")\n",
    "    iend = pdf.find(endmark, iend-20)\n",
    "    if iend < 0:\n",
    "        raise Exception(\"Didn't find end of JPG!\")\n",
    "    \n",
    "    istart += startfix\n",
    "    iend += endfix\n",
    "    print(\"JPG %d from %d to %d\" % (njpg, istart, iend))\n",
    "    jpg = pdf[istart:iend]\n",
    "    jpgfile = file(\"jpg%d.jpg\" % njpg, \"wb\")\n",
    "    jpgfile.write(jpg)\n",
    "    jpgfile.close()\n",
    "    \n",
    "    njpg += 1\n",
    "    i = iend"
   ]
  },
  {
   "cell_type": "markdown",
   "metadata": {},
   "source": [
    "#### PDFQuery\n",
    "\n",
    "From: https://github.com/jcushman/pdfquery#installation\n",
    "\n",
    "      https://medium.com/@vince.shields913/handling-data-stored-across-multiple-pdf-files-with-python-33c6c26425c8"
   ]
  },
  {
   "cell_type": "code",
   "execution_count": 7,
   "metadata": {},
   "outputs": [
    {
     "name": "stdout",
     "output_type": "stream",
     "text": [
      "\n"
     ]
    },
    {
     "data": {
      "text/plain": [
       "[<LTTextLineHorizontal>]"
      ]
     },
     "execution_count": 7,
     "metadata": {},
     "output_type": "execute_result"
    }
   ],
   "source": [
    "pdf = pdfquery.PDFQuery(InputFile)\n",
    "pdf.load()\n",
    "label = pdf.pq('LTTextLineHorizontal:contains(\"Hazards identification\")')\n",
    "print(label)\n",
    "label = pdf.pq('LTTextLineHorizontal:contains(\"HAZARDS IDENTIFICATION\")')\n",
    "label"
   ]
  },
  {
   "cell_type": "code",
   "execution_count": 9,
   "metadata": {
    "scrolled": true
   },
   "outputs": [
    {
     "name": "stdout",
     "output_type": "stream",
     "text": [
      "<LTTextLineHorizontal y0=\"408.364\" y1=\"421.87\" x0=\"75.423\" x1=\"211.569\" width=\"136.146\" height=\"13.506\" bbox=\"[75.423, 408.364, 211.569, 421.87]\" word_margin=\"0.1\"><LTTextBoxHorizontal y0=\"408.364\" y1=\"421.87\" x0=\"75.423\" x1=\"211.569\" width=\"136.146\" height=\"13.506\" bbox=\"[75.423, 408.364, 211.569, 421.87]\" index=\"9\">. HAZARDS IDENTIFICATION </LTTextBoxHorizontal></LTTextLineHorizontal> \n",
      "\n"
     ]
    },
    {
     "data": {
      "text/plain": [
       "'mergency Overview oiling point/boiling Reference number: Date of Revision:'"
      ]
     },
     "execution_count": 9,
     "metadata": {},
     "output_type": "execute_result"
    }
   ],
   "source": [
    "import pdfquery\n",
    "\n",
    "pdf = pdfquery.PDFQuery(InputFile)\n",
    "pdf.load()\n",
    "label = pdf.pq('LTTextLineHorizontal:contains(\"HAZARDS IDENTIFICATION\")')\n",
    "\n",
    "print(label, \"\\n\")\n",
    "\n",
    "left_corner = float(label.attr('x0'))\n",
    "bottom_corner = float(label.attr('y0'))\n",
    "name = pdf.pq('LTTextLineHorizontal:in_bbox(\"%s, %s, %s, %s\")' % (left_corner, bottom_corner-30, left_corner+150, bottom_corner)).text()\n",
    "name"
   ]
  },
  {
   "cell_type": "markdown",
   "metadata": {},
   "source": [
    "#### Slate\n",
    "wrapper around PDFminer. works page based.\n",
    "\n",
    "See: https://github.com/timClicks/slate"
   ]
  },
  {
   "cell_type": "markdown",
   "metadata": {},
   "source": [
    "### PyPDF2"
   ]
  },
  {
   "cell_type": "code",
   "execution_count": 3,
   "metadata": {
    "scrolled": false
   },
   "outputs": [
    {
     "name": "stdout",
     "output_type": "stream",
     "text": [
      "10\n",
      "   Material Safety Data Sheet \n",
      "  LUPEROX® P\n",
      "      Product code: 051000\n",
      "   Version 2.0\n",
      " Issued on: 07/11/2011\n",
      " Page: 1 / 10\n",
      "     1. PRODUCT AND COMPANY IDENTIFICATION\n",
      "  Company\n",
      "  \n",
      "Arkema Inc.\n",
      " 900 First Avenue \n",
      "King of Prussia, Pennsylvania 19406 \n",
      "\n",
      " Functional Additives\n",
      "  \n",
      "Customer Service Telephone Number: \n",
      "(800) 331-7654 \n",
      "(Monday through Friday, 8:30 AM to 5:30 PM EST) \n",
      " Emergency Information\n",
      "  \n",
      "Transportation:\n",
      " CHEMTREC: (800) 424-9300 \n",
      "(24 hrs., 7 days a week) \n",
      "Medical: \n",
      "Rocky Mountain Poison Center:\n",
      " (866) 767-5089 \n",
      "(24 hrs., 7 days a week) \n",
      " \n",
      "Product Information\n",
      "  \n",
      "Product name:\n",
      " LUPEROX® P\n",
      " Synonyms: \n",
      "Peroxyester, t-butyl perbenzoate, tert-butyl peroxybenzoate \n",
      "Molecular formula:\n",
      " C11 H14 O3\n",
      " Chemical family:\n",
      " Organic peroxide - peroxyesters\n",
      " Product use: \n",
      "Initiator\n",
      "  2. HAZARDS IDENTIFICATION\n",
      "  Emergency Overview\n",
      "  Color:\n",
      " Colourless to yellow.\n",
      " Physical state: \n",
      "liquid \n",
      " Odor: unpleasant \n",
      " CAUTION! \n",
      "ORGANIC PEROXIDE. \n",
      "HAZARDOUS DECOMPOSITION MAY OCCUR.\n",
      "  MAY CAUSE ALLERGIC SKIN REACTION.\n",
      "  MAY CAUSE SKIN IRRITATION.\n",
      "   \n",
      "Potential Health Effects\n",
      "  Primary routes of exposure: \n",
      "Inhalation and skin contact.\n",
      "  \n",
      "Signs and symptoms of acute exposure: \n",
      "May cause skin irritation. Prolonged or repeated exposure \n",
      "may cause: Allergic skin reaction: redness, rash.\n",
      "  Skin: \n",
      "\n",
      "Slightly toxic. Moderately irrita\n",
      "ting. May cause allergic skin reac\n",
      "tion. (based on animal studies)\n",
      "  Inhalation: \n",
      "Practically nontoxic. (based on animal studies)\n",
      " \n"
     ]
    }
   ],
   "source": [
    "# From: https://www.geeksforgeeks.org/working-with-pdf-files-in-python/\n",
    "#       https://github.com/Brett-Plemons/PDF-to-JSON-Converter/blob/master/IDTtoJSON.py\n",
    "\n",
    "# importing required modules \n",
    "import PyPDF2 \n",
    "  \n",
    "# creating a pdf file object \n",
    "pdfFileObj = open(InputFile, 'rb') \n",
    "  \n",
    "# creating a pdf reader object \n",
    "pdfReader = PyPDF2.PdfFileReader(pdfFileObj) \n",
    "  \n",
    "# printing number of pages in pdf file \n",
    "print(pdfReader.numPages) \n",
    "  \n",
    "# creating a page object \n",
    "pageObj = pdfReader.getPage(0) \n",
    "  \n",
    "# extracting text from page \n",
    "print(pageObj.extractText()) \n",
    "  \n",
    "# closing the pdf file object \n",
    "pdfFileObj.close() "
   ]
  },
  {
   "cell_type": "markdown",
   "metadata": {},
   "source": [
    "No json conversion in this one"
   ]
  },
  {
   "cell_type": "markdown",
   "metadata": {},
   "source": [
    "### pdfx"
   ]
  },
  {
   "cell_type": "code",
   "execution_count": 7,
   "metadata": {},
   "outputs": [],
   "source": [
    "# From: https://stackoverflow.com/questions/48846091/pdf-to-json-using-pdfx-python-library\n",
    "#       https://pypi.org/project/pdfx/\n",
    "#       https://www.metachris.com/pdfx/\n",
    "\n",
    "import pdfx\n",
    "\n",
    "pdf = pdfx.PDFx(InputFile)\n",
    "metadata = pdf.get_metadata()\n",
    "reference_list = pdf.get_references()\n",
    "reference_dict = pdf.get_references_as_dict()\n",
    "#pdf.download_pdfs(\"target-directory\")"
   ]
  },
  {
   "cell_type": "code",
   "execution_count": 8,
   "metadata": {
    "scrolled": false
   },
   "outputs": [
    {
     "name": "stdout",
     "output_type": "stream",
     "text": [
      "{'Author': 'A3000772', 'CreationDate': \"D:20110711115446-04'00'\", 'Creator': 'PScript5.dll Version 5.2', 'ModDate': \"D:20120210094950-06'00'\", 'Producer': 'Acrobat Distiller 6.0.1 (Windows)', 'Title': 'Microsoft Word - r5356702.rtf', 'pdf': {'Producer': 'Acrobat Distiller 6.0.1 (Windows)'}, 'xap': {'CreatorTool': 'PScript5.dll Version 5.2', 'ModifyDate': '2012-02-10T09:49:50-06:00', 'CreateDate': '2011-07-11T11:54:46-04:00', 'MetadataDate': '2012-02-10T09:49:50-06:00'}, 'xapmm': {'DocumentID': 'uuid:e2a20ffa-64dc-4da9-ad6a-9a9970591106', 'InstanceID': 'uuid:702f0e9e-7004-4733-b718-f96e4488cc71'}, 'dc': {'format': 'application/pdf', 'title': {'x-default': 'Microsoft Word - r5356702.rtf'}, 'creator': ['A3000772']}, 'Pages': 10} \n",
      "\n",
      "set() \n",
      "\n",
      "{}\n"
     ]
    }
   ],
   "source": [
    "print(metadata, \"\\n\")\n",
    "print(reference_list, \"\\n\")\n",
    "print(reference_dict)"
   ]
  },
  {
   "cell_type": "code",
   "execution_count": 9,
   "metadata": {
    "scrolled": true
   },
   "outputs": [
    {
     "name": "stdout",
     "output_type": "stream",
     "text": [
      "<pdfx.PDFx object at 0x7f2ac45e21c0>\n"
     ]
    }
   ],
   "source": [
    "print(pdf)"
   ]
  },
  {
   "cell_type": "markdown",
   "metadata": {},
   "source": [
    "### Tabula-py\n",
    "\n",
    "https://tabula.technology/"
   ]
  },
  {
   "cell_type": "code",
   "execution_count": 71,
   "metadata": {},
   "outputs": [],
   "source": [
    "InputFile = 'data/gylcol-ether-dpm-sds.pdf'"
   ]
  },
  {
   "cell_type": "code",
   "execution_count": 76,
   "metadata": {},
   "outputs": [
    {
     "ename": "ImportError",
     "evalue": "cannot import name 'read_pdf' from 'tabula' (unknown location)",
     "output_type": "error",
     "traceback": [
      "\u001b[0;31m---------------------------------------------------------------------------\u001b[0m",
      "\u001b[0;31mImportError\u001b[0m                               Traceback (most recent call last)",
      "\u001b[0;32m<ipython-input-76-5c1882f30047>\u001b[0m in \u001b[0;36m<module>\u001b[0;34m\u001b[0m\n\u001b[0;32m----> 1\u001b[0;31m \u001b[0;32mfrom\u001b[0m \u001b[0mtabula\u001b[0m \u001b[0;32mimport\u001b[0m \u001b[0mread_pdf\u001b[0m\u001b[0;34m\u001b[0m\u001b[0;34m\u001b[0m\u001b[0m\n\u001b[0m",
      "\u001b[0;31mImportError\u001b[0m: cannot import name 'read_pdf' from 'tabula' (unknown location)"
     ]
    }
   ],
   "source": [
    "from tabula import read_pdf"
   ]
  },
  {
   "cell_type": "code",
   "execution_count": 74,
   "metadata": {},
   "outputs": [
    {
     "ename": "AttributeError",
     "evalue": "module 'tabula' has no attribute 'read_pdf'",
     "output_type": "error",
     "traceback": [
      "\u001b[0;31m---------------------------------------------------------------------------\u001b[0m",
      "\u001b[0;31mAttributeError\u001b[0m                            Traceback (most recent call last)",
      "\u001b[0;32m<ipython-input-74-4b3679d24e32>\u001b[0m in \u001b[0;36m<module>\u001b[0;34m\u001b[0m\n\u001b[1;32m      1\u001b[0m \u001b[0;32mimport\u001b[0m \u001b[0mtabula\u001b[0m\u001b[0;34m\u001b[0m\u001b[0;34m\u001b[0m\u001b[0m\n\u001b[0;32m----> 2\u001b[0;31m \u001b[0mdf\u001b[0m \u001b[0;34m=\u001b[0m \u001b[0mtabula\u001b[0m\u001b[0;34m.\u001b[0m\u001b[0mread_pdf\u001b[0m\u001b[0;34m(\u001b[0m\u001b[0;34m\"test.pdf\"\u001b[0m\u001b[0;34m,\u001b[0m \u001b[0mpages\u001b[0m\u001b[0;34m=\u001b[0m\u001b[0;34m'all'\u001b[0m\u001b[0;34m)\u001b[0m\u001b[0;34m\u001b[0m\u001b[0;34m\u001b[0m\u001b[0m\n\u001b[0m",
      "\u001b[0;31mAttributeError\u001b[0m: module 'tabula' has no attribute 'read_pdf'"
     ]
    }
   ],
   "source": [
    "import tabula\n",
    "df = tabula.read_pdf(\"test.pdf\", pages='all')"
   ]
  },
  {
   "cell_type": "code",
   "execution_count": 70,
   "metadata": {
    "scrolled": true
   },
   "outputs": [
    {
     "ename": "NameError",
     "evalue": "name 'environment_info' is not defined",
     "output_type": "error",
     "traceback": [
      "\u001b[0;31m---------------------------------------------------------------------------\u001b[0m",
      "\u001b[0;31mNameError\u001b[0m                                 Traceback (most recent call last)",
      "\u001b[0;32m<ipython-input-70-ec41202664f7>\u001b[0m in \u001b[0;36m<module>\u001b[0;34m\u001b[0m\n\u001b[1;32m      5\u001b[0m \u001b[0;32mimport\u001b[0m \u001b[0mtabula\u001b[0m\u001b[0;34m\u001b[0m\u001b[0;34m\u001b[0m\u001b[0m\n\u001b[1;32m      6\u001b[0m \u001b[0;31m#tabula.environment_info()\u001b[0m\u001b[0;34m\u001b[0m\u001b[0;34m\u001b[0m\u001b[0;34m\u001b[0m\u001b[0m\n\u001b[0;32m----> 7\u001b[0;31m \u001b[0menvironment_info\u001b[0m\u001b[0;34m(\u001b[0m\u001b[0;34m)\u001b[0m\u001b[0;34m\u001b[0m\u001b[0;34m\u001b[0m\u001b[0m\n\u001b[0m\u001b[1;32m      8\u001b[0m \u001b[0;34m\u001b[0m\u001b[0m\n\u001b[1;32m      9\u001b[0m \u001b[0;34m\u001b[0m\u001b[0m\n",
      "\u001b[0;31mNameError\u001b[0m: name 'environment_info' is not defined"
     ]
    }
   ],
   "source": [
    "#From: https://github.com/chezou/tabula-py\n",
    "#      https://nbviewer.jupyter.org/github/chezou/tabula-py/blob/master/examples/tabula_example.ipynb\n",
    "#      \n",
    "\n",
    "import tabula\n",
    "#tabula.environment_info()\n",
    "environment_info()\n",
    "\n",
    "\n",
    "dfs = tabula.read_pdf(InputFile, stream=True)\n",
    "dfs"
   ]
  },
  {
   "cell_type": "markdown",
   "metadata": {},
   "source": [
    "needed to pip install tabula-py, but installed tabula. After uninstalling tabula, things seem confused"
   ]
  },
  {
   "cell_type": "markdown",
   "metadata": {},
   "source": [
    "### pydf2json"
   ]
  },
  {
   "cell_type": "markdown",
   "metadata": {},
   "source": [
    "###### From\n",
    "              https://pypi.org/project/pydf2json/\n",
    "              https://pypi.org/project/pydf2json/#files\n",
    "\n",
    "ERROR: pydf2json-2.3.4.post6-py2-none-any.whl is not a supported wheel on this platform\n",
    "\n",
    "Source code is available in the .whl file, approx.3400 lines of code"
   ]
  },
  {
   "cell_type": "markdown",
   "metadata": {},
   "source": [
    "### PDF.co"
   ]
  },
  {
   "cell_type": "code",
   "execution_count": 6,
   "metadata": {
    "scrolled": true
   },
   "outputs": [
    {
     "name": "stdout",
     "output_type": "stream",
     "text": [
      "Request error: 401 Unauthorized\n"
     ]
    }
   ],
   "source": [
    "# From https://pdf.co/samples/pdf-co-web-api-pdf-to-json-api-python-convert-pdf-to-json-from-uploaded-file-asynchronously\n",
    "\n",
    "\"\"\" Cloud API asynchronous \"PDF To Text\" job example.\n",
    "    Allows avoiding timeout errors when processing huge or scanned PDF documents.\n",
    "\"\"\"\n",
    "import os\n",
    "import requests # pip install requests\n",
    "import time\n",
    "import datetime\n",
    "\n",
    "\n",
    "def convertPdfToJson(uploadedFileUrl, destinationFile):\n",
    "    \"\"\"Converts PDF To Json using PDF.co Web API\"\"\"\n",
    "\n",
    "    # Prepare requests params as JSON\n",
    "    # See documentation: https://apidocs.pdf.co\n",
    "    parameters = {}\n",
    "    parameters[\"async\"] = Async\n",
    "    parameters[\"name\"] = os.path.basename(destinationFile)\n",
    "    parameters[\"password\"] = Password\n",
    "    parameters[\"pages\"] = Pages\n",
    "    parameters[\"url\"] = uploadedFileUrl\n",
    "\n",
    "    # Prepare URL for 'PDF To Json' API request\n",
    "    url = \"{}/pdf/convert/to/json\".format(BASE_URL)\n",
    "\n",
    "    # Execute request and get response as JSON\n",
    "    response = requests.post(url, data=parameters, headers={ \"x-api-key\": API_KEY })\n",
    "    if (response.status_code == 200):\n",
    "        json = response.json()\n",
    "\n",
    "        if json[\"error\"] == False:\n",
    "            # Asynchronous job ID\n",
    "            jobId = json[\"jobId\"]\n",
    "            #  URL of the result file\n",
    "            resultFileUrl = json[\"url\"]\n",
    "            \n",
    "            # Check the job status in a loop. \n",
    "            # If you don't want to pause the main thread you can rework the code \n",
    "            # to use a separate thread for the status checking and completion.\n",
    "            while True:\n",
    "                status = checkJobStatus(jobId) # Possible statuses: \"working\", \"failed\", \"aborted\", \"success\".\n",
    "                \n",
    "                # Display timestamp and status (for demo purposes)\n",
    "                print(datetime.datetime.now().strftime(\"%H:%M.%S\") + \": \" + status)\n",
    "                \n",
    "                if status == \"success\":\n",
    "                    # Download result file\n",
    "                    r = requests.get(resultFileUrl, stream=True)\n",
    "                    if (r.status_code == 200):\n",
    "                        with open(destinationFile, 'wb') as file:\n",
    "                            for chunk in r:\n",
    "                                file.write(chunk)\n",
    "                        print(f\"Result file saved as \\\"{destinationFile}\\\" file.\")\n",
    "                    else:\n",
    "                        print(f\"Request error: {response.status_code} {response.reason}\")\n",
    "                    break\n",
    "                elif status == \"working\":\n",
    "                    # Pause for a few seconds\n",
    "                    time.sleep(3)\n",
    "                else:\n",
    "                    print(status)\n",
    "                    break\n",
    "        else:\n",
    "            # Show service reported error\n",
    "            print(json[\"message\"])\n",
    "    else:\n",
    "        print(f\"Request error: {response.status_code} {response.reason}\")\n",
    "\n",
    "\n",
    "def checkJobStatus(jobId):\n",
    "    \"\"\"Checks server job status\"\"\"\n",
    "\n",
    "    url = f\"{BASE_URL}/job/check?jobid={jobId}\"\n",
    "    \n",
    "    response = requests.get(url, headers={ \"x-api-key\": API_KEY })\n",
    "    if (response.status_code == 200):\n",
    "        json = response.json()\n",
    "        return json[\"status\"]\n",
    "    else:\n",
    "        print(f\"Request error: {response.status_code} {response.reason}\")\n",
    "\n",
    "    return None\n",
    "\n",
    "\n",
    "def uploadFile(fileName):\n",
    "    \"\"\"Uploads file to the cloud\"\"\"\n",
    "    \n",
    "    # 1. RETRIEVE PRESIGNED URL TO UPLOAD FILE.\n",
    "\n",
    "    # Prepare URL for 'Get Presigned URL' API request\n",
    "    url = \"{}/file/upload/get-presigned-url?contenttype=application/octet-stream&name={}\".format(\n",
    "        BASE_URL, os.path.basename(fileName))\n",
    "    \n",
    "    # Execute request and get response as JSON\n",
    "    response = requests.get(url, headers={ \"x-api-key\": API_KEY })\n",
    "    if (response.status_code == 200):\n",
    "        json = response.json()\n",
    "        \n",
    "        if json[\"error\"] == False:\n",
    "            # URL to use for file upload\n",
    "            uploadUrl = json[\"presignedUrl\"]\n",
    "            # URL for future reference\n",
    "            uploadedFileUrl = json[\"url\"]\n",
    "\n",
    "            # 2. UPLOAD FILE TO CLOUD.\n",
    "            with open(fileName, 'rb') as file:\n",
    "                requests.put(uploadUrl, data=file, headers={ \"x-api-key\": API_KEY, \"content-type\": \"application/octet-stream\" })\n",
    "\n",
    "            return uploadedFileUrl\n",
    "        else:\n",
    "            # Show service reported error\n",
    "            print(json[\"message\"])    \n",
    "    else:\n",
    "        print(f\"Request error: {response.status_code} {response.reason}\")\n",
    "\n",
    "    return None\n",
    "\n",
    "# The authentication key (API Key).\n",
    "# Get your own by registering at https://app.pdf.co/documentation/api\n",
    "API_KEY = \"******************************************\"\n",
    "\n",
    "# Base URL for PDF.co Web API requests\n",
    "BASE_URL = \"https://api.pdf.co/v1\"\n",
    "\n",
    "\n",
    "# Comma-separated list of page indices (or ranges) to process. Leave empty for all pages. Example: '0,2-5,7-'.\n",
    "Pages = \"\"\n",
    "# PDF document password. Leave empty for unprotected documents.\n",
    "Password = \"\"\n",
    "\n",
    "# (!) Make asynchronous job\n",
    "Async = True\n",
    "\n",
    "\n",
    "DestinationFile = InputFile + '.json'\n",
    "\n",
    "uploadedFileUrl = uploadFile(InputFile)\n",
    "if (uploadedFileUrl != None):\n",
    "        convertPdfToJson(uploadedFileUrl, DestinationFile)\n"
   ]
  },
  {
   "cell_type": "markdown",
   "metadata": {},
   "source": [
    "This looks like an API, i.e. using a external service at http://pdf.co"
   ]
  },
  {
   "cell_type": "markdown",
   "metadata": {},
   "source": [
    "### pdfrw\n",
    "\n",
    "Mostly for manipulating pdf format"
   ]
  },
  {
   "cell_type": "code",
   "execution_count": null,
   "metadata": {},
   "outputs": [],
   "source": [
    "# From: https://github.com/pmaupin/pdfrw#pdfrw-04"
   ]
  },
  {
   "cell_type": "markdown",
   "metadata": {},
   "source": [
    "### pdfreader\n",
    "\n",
    "extraction of images"
   ]
  },
  {
   "cell_type": "code",
   "execution_count": null,
   "metadata": {},
   "outputs": [],
   "source": [
    "# From: https://pypi.org/project/pdfreader/"
   ]
  },
  {
   "cell_type": "markdown",
   "metadata": {},
   "source": [
    "### PyMuPDF\n",
    "\n",
    "from: https://pypi.org/project/PyMuPDF/"
   ]
  },
  {
   "cell_type": "code",
   "execution_count": 4,
   "metadata": {
    "scrolled": true
   },
   "outputs": [
    {
     "name": "stdout",
     "output_type": "stream",
     "text": [
      "{'width': 612.0, 'height': 792.0, 'blocks': [{'number': 0, 'type': 0, 'bbox': (39.0, 29.7216796875, 560.669921875, 64.7958984375), 'lines': [{'spans': [{'size': 10.0, 'flags': 4, 'font': 'TimesNewRomanPSMT', 'color': 0, 'ascender': 0.89111328125, 'descender': -0.21630859375, 'text': 'CEPA - Domestic Substances List (DSL)', 'origin': (39.0, 38.6328125), 'bbox': (39.0, 29.7216796875, 204.1200714111328, 40.7958984375)}], 'wmode': 0, 'dir': (1.0, 0.0), 'bbox': (39.0, 29.7216796875, 204.1200714111328, 40.7958984375)}, {'spans': [{'size': 10.0, 'flags': 4, 'font': 'TimesNewRomanPSMT', 'color': 0, 'ascender': 0.89111328125, 'descender': -0.21630859375, 'text': 'This product contains one or more substances which are not listed on the Canadian Domestic Substances List (DSL). Contact your', 'origin': (39.0, 49.6328125), 'bbox': (39.0, 40.7216796875, 560.669921875, 51.7958984375)}], 'wmode': 0, 'dir': (1.0, 0.0), 'bbox': (39.0, 40.7216796875, 560.669921875, 51.7958984375)}, {'spans': [{'size': 10.0, 'flags': 4, 'font': 'TimesNewRomanPSMT', 'color': 0, 'ascender': 0.89111328125, 'descender': -0.21630859375, 'text': 'sales or technical service representative for more information.', 'origin': (39.0, 62.6328125), 'bbox': (39.0, 53.7216796875, 286.4200439453125, 64.7958984375)}], 'wmode': 0, 'dir': (1.0, 0.0), 'bbox': (39.0, 53.7216796875, 286.4200439453125, 64.7958984375)}]}, {'number': 1, 'type': 0, 'bbox': (39.0, 81.1572265625, 368.7999267578125, 119.7958984375), 'lines': [{'spans': [{'size': 14.0, 'flags': 4, 'font': 'TimesNewRomanPSMT', 'color': 0, 'ascender': 0.89111328125, 'descender': -0.21630859375, 'text': '16. OTHER INFORMATION', 'origin': (39.0, 93.6328125), 'bbox': (39.0, 81.1572265625, 208.0803680419922, 96.6611328125)}], 'wmode': 0, 'dir': (1.0, 0.0), 'bbox': (39.0, 81.1572265625, 208.0803680419922, 96.6611328125)}, {'spans': [{'size': 10.0, 'flags': 4, 'font': 'TimesNewRomanPSMT', 'color': 0, 'ascender': 0.89111328125, 'descender': -0.21630859375, 'text': 'Hazard Rating System', 'origin': (39.0, 106.6328125), 'bbox': (39.0, 97.7216796875, 128.8983154296875, 108.7958984375)}], 'wmode': 0, 'dir': (1.0, 0.0), 'bbox': (39.0, 97.7216796875, 128.8983154296875, 108.7958984375)}, {'spans': [{'size': 10.0, 'flags': 4, 'font': 'TimesNewRomanPSMT', 'color': 0, 'ascender': 0.89111328125, 'descender': -0.21630859375, 'text': 'NFPA', 'origin': (39.0, 117.6328125), 'bbox': (39.0, 108.7216796875, 64.56168365478516, 119.7958984375)}], 'wmode': 0, 'dir': (1.0, 0.0), 'bbox': (39.0, 108.7216796875, 64.56168365478516, 119.7958984375)}, {'spans': [{'size': 10.0, 'flags': 4, 'font': 'TimesNewRomanPSMT', 'color': 0, 'ascender': 0.89111328125, 'descender': -0.21630859375, 'text': ' Health ', 'origin': (111.55999755859375, 117.6328125), 'bbox': (111.55999755859375, 108.7216796875, 143.17999267578125, 119.7958984375)}], 'wmode': 0, 'dir': (1.0, 0.0), 'bbox': (111.55999755859375, 108.7216796875, 143.17999267578125, 119.7958984375)}, {'spans': [{'size': 10.0, 'flags': 4, 'font': 'TimesNewRomanPSMT', 'color': 0, 'ascender': 0.89111328125, 'descender': -0.21630859375, 'text': 'Fire ', 'origin': (219.17999267578125, 117.6328125), 'bbox': (219.17999267578125, 108.7216796875, 237.76998901367188, 119.7958984375)}], 'wmode': 0, 'dir': (1.0, 0.0), 'bbox': (219.17999267578125, 108.7216796875, 237.76998901367188, 119.7958984375)}, {'spans': [{'size': 10.0, 'flags': 4, 'font': 'TimesNewRomanPSMT', 'color': 0, 'ascender': 0.89111328125, 'descender': -0.21630859375, 'text': 'Reactivity', 'origin': (327.7699890136719, 117.6328125), 'bbox': (327.7699890136719, 108.7216796875, 368.7999267578125, 119.7958984375)}], 'wmode': 0, 'dir': (1.0, 0.0), 'bbox': (327.7699890136719, 108.7216796875, 368.7999267578125, 119.7958984375)}]}, {'number': 2, 'type': 0, 'bbox': (111.0, 119.7216796875, 344.5, 130.7958984375), 'lines': [{'spans': [{'size': 10.0, 'flags': 4, 'font': 'TimesNewRomanPSMT', 'color': 0, 'ascender': 0.89111328125, 'descender': -0.21630859375, 'text': '   1', 'origin': (111.0, 128.6328125), 'bbox': (111.0, 119.7216796875, 123.5, 130.7958984375)}], 'wmode': 0, 'dir': (1.0, 0.0), 'bbox': (111.0, 119.7216796875, 123.5, 130.7958984375)}, {'spans': [{'size': 10.0, 'flags': 4, 'font': 'TimesNewRomanPSMT', 'color': 0, 'ascender': 0.89111328125, 'descender': -0.21630859375, 'text': '    ', 'origin': (183.5, 128.6328125), 'bbox': (183.5, 119.7216796875, 193.5, 130.7958984375)}], 'wmode': 0, 'dir': (1.0, 0.0), 'bbox': (183.5, 119.7216796875, 193.5, 130.7958984375)}, {'spans': [{'size': 10.0, 'flags': 4, 'font': 'TimesNewRomanPSMT', 'color': 0, 'ascender': 0.89111328125, 'descender': -0.21630859375, 'text': ' 2', 'origin': (219.5, 128.6328125), 'bbox': (219.5, 119.7216796875, 227.0, 130.7958984375)}], 'wmode': 0, 'dir': (1.0, 0.0), 'bbox': (219.5, 119.7216796875, 227.0, 130.7958984375)}, {'spans': [{'size': 10.0, 'flags': 4, 'font': 'TimesNewRomanPSMT', 'color': 0, 'ascender': 0.89111328125, 'descender': -0.21630859375, 'text': '     0', 'origin': (327.0, 128.6328125), 'bbox': (327.0, 119.7216796875, 344.5, 130.7958984375)}], 'wmode': 0, 'dir': (1.0, 0.0), 'bbox': (327.0, 119.7216796875, 344.5, 130.7958984375)}]}, {'number': 3, 'type': 0, 'bbox': (39.0, 141.7216796875, 259.02001953125, 174.7958984375), 'lines': [{'spans': [{'size': 10.0, 'flags': 4, 'font': 'TimesNewRomanPSMT', 'color': 0, 'ascender': 0.89111328125, 'descender': -0.21630859375, 'text': 'Recommended Uses and Restrictions', 'origin': (39.0, 150.6328125), 'bbox': (39.0, 141.7216796875, 187.99160766601562, 152.7958984375)}], 'wmode': 0, 'dir': (1.0, 0.0), 'bbox': (39.0, 141.7216796875, 187.99160766601562, 152.7958984375)}, {'spans': [{'size': 10.0, 'flags': 4, 'font': 'TimesNewRomanPSMT', 'color': 0, 'ascender': 0.89111328125, 'descender': -0.21630859375, 'text': 'Identified uses', 'origin': (39.0, 161.6328125), 'bbox': (39.0, 152.7216796875, 97.5416030883789, 163.7958984375)}], 'wmode': 0, 'dir': (1.0, 0.0), 'bbox': (39.0, 152.7216796875, 97.5416030883789, 163.7958984375)}, {'spans': [{'size': 10.0, 'flags': 4, 'font': 'TimesNewRomanPSMT', 'color': 0, 'ascender': 0.89111328125, 'descender': -0.21630859375, 'text': 'Industrial solvent for cleaner and coating formulations.', 'origin': (39.0, 172.6328125), 'bbox': (39.0, 163.7216796875, 259.02001953125, 174.7958984375)}], 'wmode': 0, 'dir': (1.0, 0.0), 'bbox': (39.0, 163.7216796875, 259.02001953125, 174.7958984375)}]}, {'number': 4, 'type': 0, 'bbox': (39.0, 185.7216796875, 570.6097412109375, 297.7958984375), 'lines': [{'spans': [{'size': 10.0, 'flags': 4, 'font': 'TimesNewRomanPSMT', 'color': 0, 'ascender': 0.89111328125, 'descender': -0.21630859375, 'text': 'CISCO urges each customer or recipient of this (M)SDS to study it carefully and consult appropriate expertise, as necessary or', 'origin': (39.0, 194.6328125), 'bbox': (39.0, 185.7216796875, 545.669921875, 196.7958984375)}], 'wmode': 0, 'dir': (1.0, 0.0), 'bbox': (39.0, 185.7216796875, 545.669921875, 196.7958984375)}, {'spans': [{'size': 10.0, 'flags': 4, 'font': 'TimesNewRomanPSMT', 'color': 0, 'ascender': 0.89111328125, 'descender': -0.21630859375, 'text': 'appropriate, to become aware of and understand the data contained in this (M)SDS and any hazards associated with the product. The', 'origin': (39.0, 205.6328125), 'bbox': (39.0, 196.7216796875, 568.9583129882812, 207.7958984375)}], 'wmode': 0, 'dir': (1.0, 0.0), 'bbox': (39.0, 196.7216796875, 568.9583129882812, 207.7958984375)}, {'spans': [{'size': 10.0, 'flags': 4, 'font': 'TimesNewRomanPSMT', 'color': 0, 'ascender': 0.89111328125, 'descender': -0.21630859375, 'text': 'information herein is provided in good faith and believed to be accurate as of the effective date shown above. However, no warranty,', 'origin': (39.0, 216.6328125), 'bbox': (39.0, 207.7216796875, 570.6097412109375, 218.7958984375)}], 'wmode': 0, 'dir': (1.0, 0.0), 'bbox': (39.0, 207.7216796875, 570.6097412109375, 218.7958984375)}, {'spans': [{'size': 10.0, 'flags': 4, 'font': 'TimesNewRomanPSMT', 'color': 0, 'ascender': 0.89111328125, 'descender': -0.21630859375, 'text': 'express or implied, is given. Regulatory requirements are subject to change and may differ between various locations. It is the', 'origin': (39.0, 227.6328125), 'bbox': (39.0, 218.7216796875, 542.2982788085938, 229.7958984375)}], 'wmode': 0, 'dir': (1.0, 0.0), 'bbox': (39.0, 218.7216796875, 542.2982788085938, 229.7958984375)}, {'spans': [{'size': 10.0, 'flags': 4, 'font': 'TimesNewRomanPSMT', 'color': 0, 'ascender': 0.89111328125, 'descender': -0.21630859375, 'text': \"buyer's/user's responsibility to ensure that his activities comply with all federal, state, provincial or local laws. The information\", 'origin': (39.0, 238.6328125), 'bbox': (39.0, 229.7216796875, 546.4097900390625, 240.7958984375)}], 'wmode': 0, 'dir': (1.0, 0.0), 'bbox': (39.0, 229.7216796875, 546.4097900390625, 240.7958984375)}, {'spans': [{'size': 10.0, 'flags': 4, 'font': 'TimesNewRomanPSMT', 'color': 0, 'ascender': 0.89111328125, 'descender': -0.21630859375, 'text': 'presented here pertains only to the product as shipped. Since conditions for use of the product are not under the control of the', 'origin': (39.0, 249.6328125), 'bbox': (39.0, 240.7216796875, 539.8883056640625, 251.7958984375)}], 'wmode': 0, 'dir': (1.0, 0.0), 'bbox': (39.0, 240.7216796875, 539.8883056640625, 251.7958984375)}, {'spans': [{'size': 10.0, 'flags': 4, 'font': 'TimesNewRomanPSMT', 'color': 0, 'ascender': 0.89111328125, 'descender': -0.21630859375, 'text': \"manufacturer, it is the buyer's/user's duty to determine the conditions necessary for the safe use of this product. Due to the\", 'origin': (39.0, 260.6328125), 'bbox': (39.0, 251.7216796875, 526.5183715820312, 262.7958984375)}], 'wmode': 0, 'dir': (1.0, 0.0), 'bbox': (39.0, 251.7216796875, 526.5183715820312, 262.7958984375)}, {'spans': [{'size': 10.0, 'flags': 4, 'font': 'TimesNewRomanPSMT', 'color': 0, 'ascender': 0.89111328125, 'descender': -0.21630859375, 'text': 'proliferation of sources for information such as manufacturer-specific (M)SDSs, we are not and cannot be responsible for (M)SDSs', 'origin': (39.0, 271.6328125), 'bbox': (39.0, 262.7216796875, 565.1614379882812, 273.7958984375)}], 'wmode': 0, 'dir': (1.0, 0.0), 'bbox': (39.0, 262.7216796875, 565.1614379882812, 273.7958984375)}, {'spans': [{'size': 10.0, 'flags': 4, 'font': 'TimesNewRomanPSMT', 'color': 0, 'ascender': 0.89111328125, 'descender': -0.21630859375, 'text': 'obtained from any source other than ourselves. If you have obtained an (M)SDS from another source or if you are not sure that the', 'origin': (39.0, 282.6328125), 'bbox': (39.0, 273.7216796875, 560.7383422851562, 284.7958984375)}], 'wmode': 0, 'dir': (1.0, 0.0), 'bbox': (39.0, 273.7216796875, 560.7383422851562, 284.7958984375)}, {'spans': [{'size': 10.0, 'flags': 4, 'font': 'TimesNewRomanPSMT', 'color': 0, 'ascender': 0.89111328125, 'descender': -0.21630859375, 'text': '(M)SDS you have is current, please contact us for the most current version.', 'origin': (39.0, 295.6328125), 'bbox': (39.0, 286.7216796875, 340.3699645996094, 297.7958984375)}], 'wmode': 0, 'dir': (1.0, 0.0), 'bbox': (39.0, 286.7216796875, 340.3699645996094, 297.7958984375)}]}, {'number': 5, 'type': 0, 'bbox': (39.0, 314.939453125, 160.21200561523438, 343.228515625), 'lines': [{'spans': [{'size': 12.0, 'flags': 4, 'font': 'TimesNewRomanPSMT', 'color': 0, 'ascender': 0.89111328125, 'descender': -0.21630859375, 'text': 'Date Created: 6/26/2015', 'origin': (39.0, 325.6328125), 'bbox': (39.0, 314.939453125, 156.85198974609375, 328.228515625)}], 'wmode': 0, 'dir': (1.0, 0.0), 'bbox': (39.0, 314.939453125, 156.85198974609375, 328.228515625)}, {'spans': [{'size': 12.0, 'flags': 4, 'font': 'TimesNewRomanPSMT', 'color': 0, 'ascender': 0.89111328125, 'descender': -0.21630859375, 'text': 'Date Updated: 6/26/2015', 'origin': (39.0, 340.6328125), 'bbox': (39.0, 329.939453125, 160.21200561523438, 343.228515625)}], 'wmode': 0, 'dir': (1.0, 0.0), 'bbox': (39.0, 329.939453125, 160.21200561523438, 343.228515625)}]}, {'number': 6, 'type': 0, 'bbox': (285.8219909667969, 719.494140625, 326.1887512207031, 733.978515625), 'lines': [{'spans': [{'size': 12.0, 'flags': 0, 'font': 'Tahoma', 'color': 4221573, 'ascender': 1.00048828125, 'descender': -0.20654296875, 'text': 'Page: 8', 'origin': (285.8219909667969, 731.5), 'bbox': (285.8219909667969, 719.494140625, 326.1887512207031, 733.978515625)}], 'wmode': 0, 'dir': (1.0, 0.0), 'bbox': (285.8219909667969, 719.494140625, 326.1887512207031, 733.978515625)}]}, {'number': 7, 'type': 1, 'bbox': (476.0, 706.9998168945312, 574.0009155273438, 746.0), 'width': 505, 'height': 201, 'ext': 'png', 'colorspace': 3, 'xres': 96, 'yres': 96, 'bpc': 8, 'image': b'\\x89PNG\\r\\n\\x1a\\n\\x00\\x00\\x00\\rIHDR\\x00\\x00\\x01\\xf9\\x00\\x00\\x00\\xc9\\x08\\x02\\x00\\x00\\x00\\xaf\\xd9\\xdc\\xaa\\x00\\x00\\x00\\tpHYs\\x00\\x00\\x0e\\xc4\\x00\\x00\\x0e\\xc4\\x01\\x95+\\x0e\\x1b\\x00\\x00\\x8cMIDATx\\x9c\\xec\\xbdk\\x8c\\\\\\xd7u.\\xb8\\xf6>\\xe7TU\\xb3\\x9fU\\xdd-\\x8a\\xb22\\xd6\\xcd\\xd5\\xf5\\xc5U\\x8bNn\\x9c\\xc1 \\x18dL\\xfd\\x98\\x01\\x1c\\xc0\\xbe6\\x9b\\xd5\\xb2o\\x90\\x81.\\xe6\\x82\\x8a\\xc5\\x87\\xec A\\x06\\xf3\\x87\\xcd_3A\\x12\\xdb\\xean\\xd2!\\'\\x99\\x08\\x93\\xb9\\xb1\\xc5\")\\'\\x06b\\xcc\\xfd1bp\\x81\\x0b\\xe4b\\x9cIL\\xb5\\x9c\\xf1h\\x02f\\xac\\x90\"\\xfbQ\\x8f~U\\x9d\\xc7\\xde\\xb3\\xd7\\xda\\xfbT\\x9d~Wu\\x9f\\xd3]\\xdd<\\xcb\\x96DVw\\x9d\\xe7\\xde\\xdf^{\\xado}\\x8bAjq\\xd8\\x0b\\xafM.TG,KJ\\xc6\\x99\\x90\\xc0\\xa42\\x00f\\xfe\\x07R\\xe0_\\xda3f\\xfe\\x01<\\x0e~\\x17\\xf0\\xbfL\\x1d\\x81\\xf3 \\x90\\xce \\xd4?*\\xfdFr\\xf7\\x92Zj\\xa9\\x1d?k\\x17\\x7fR#C\\xf8\\xee\\xfb\\xd2\\xb7m\\xcb\\x97\\x88\\xe1\\x88\\xc2\\x91g(\\x0f\\xea2h\\x01P\\xcb\\x80\\xa43\\xaa\\x7fs\\xe6\\x04\\xfe\\xfc\\xdd\\xaf\\x1f\\xd4\\x05\\xa4\\x96ZjG\\xccR\\xac\\xdf\\xc5^x\\xed\\x8f\\x17kK\\xcc\\xb6\\xc9S\\x17\\xf8Q\\x13d\\xbb\\xc8\\xf4\\xe6A\\xe2\\x95q\\xb5\\xb9\\x00K\\x066\\xb3\\xe6J\\x17\\xf4\\xfat\\xd8\\x97\\x97Zj\\xa9\\x1d\\xb2\\xa5(\\xb0\\x85\\xe5\\xc7\\xbf%\\xec,\\x04\"\\x8c\\xbe\\x1cE\\xa3H\\x90\\xfe\\x97B\\x7f\\xdf\\xad\\xf0\\xff\\x00\\xa5\\xd2a_Uj\\xa9\\xa5v8\\x96b=Y\\xf1\\xd6\\x80x\\xc2,\\xf4\\xdd\\xe9\\x89\\xb0#\\x0b\\xf1[\\x1a3{\\x11\\x86\\x7f\\x142X\\xca\\xe7\\xe0\\xe6\\xeb\\x87}U\\xa9\\xa5\\x96\\xda\\xc1\\xd9\\xd3\\x8a\\xf5\\x93\\x930ye\\xa0x\\xdd\\xe2\\xb6\\xc2>\\xfcDAa\\xe2\\xf8\\xae\\xd7\\x11J\\xda\\n\\x90\\\\0\\xe0\\xea\\x9c\\x8c\\xa9\\x8f\\x04c\\xcc\\x04\\xe2\\x93\\xbe\\x06\\xed\\xed\\xab\\xffq\\xee\\x0bw\\xb9t\\x99\\x96\\x81\\xa7u$\\xa4\\x96\\xda\\xd3aO\\xdb\\x0c\\x97p\\xfe\\xe6`\\xa5!\\xa5\\xc5\\x10U9@\\x002Q\\x84\\xa5\\x83s\\xb5e@\\x1a\\x8d\\x14^ul\\x01?V\\x8bM\\xd4\\xe8\\xaf\\xc3\\xb3\\x03>\\xcf\\x81^q\\xf4\\n\\x94\\xa0Qn\\x19,\\xbaw\\xc9%\\x0c\\xf6\\xf5>x\\xfb\\xb5\\xf0\\x9aSK-\\xb5ceO\\xc3\\xac&\\x1c\\x7f\\xed\\xed\\xa1\\xda\\xb2\\xe0\\x0c\\xddgF!\\x9a\\x18\\xf3\\xabQ\\xc7<zX\\xfc\\x84\\xe33\\x16\"\\xc3\\xd8\\x1c\\x8cB\\xa9\\xb8\\xe33\\x97P\\x9cx\\x1e~\\xa9&lf\\xd9\\xc4\\xb6\\x14\\xeb\\x96!<\\x11Q\\x7f\\xe2\\xcd\\x0f\\xb3\\xd0\\xd9Wgc\\xc2Z\\x96\\x8b?X\\x04\\xb8\\xf2t\\x0c\\x8f\\xd4R{*\\xecxOf\\xf4\\xe2\\x07\\xcau\\x00\\xdbp\\xd61P\\x13\\xa3\\x0bO\\xec\\x17\\xe5\\xb3\\x0b\\x81>2\\xcf\\xc8\\xc05\\xbb\\x04\\xcd\\x8a\\xb1\\x1cL\\x00\\xf8Aeq\\x1eF_\\xda\\r\\xe8CS>\\xfe\\xecK}\\xfe\\x82\\xfa60\\x0e\\x81G\\x8b\\x93>\\x9d\\x00;\\x0b^]*\\xb0\\xe76\\x04\\x81\\xb9\\xcd\\x18\\xef\\x88\\xabs1u\\x13\\\\\\x88!\\xe3\\xe9\\x1f\\xefA\\x92ZjO\\x85\\x1d\\xc7iL\\xb1\\xf8\\xa1WoHtR\\x85D\\xa0\\x8c1P\\x13\\x89\\xc9`.\\xd7\\xab\\xbesy\\xb08\\xad\\x80\\x1e\\x84\\x17\\x9e\\x05=y\\xb0\\xf0\\x93*<\\x03s\\x1f\\xc0\\xbd\\xc9\\x8e\\xcfsfR}kp|\\x8a\\xd9Y\\x89G\\x0eO\\xae\\x8c; \\xdd\\xea\\xadK\\x85\\x7fu-\\xc8\\x02\\xe8t2\\x06\\xa3\\xe2\\xb8?}\\x1au{\\xccRw\\x81\\x98\\x1f\\x88\\xda\\x9dy\\x98\\xdc\\x14wJ-\\xb5\\xd4\\x8e\\x8e\\x1d#\\xacG\\x88\\x87\\xa1/\\x0eJ;CA\\t\\x85TA\\xdc\\xc9N\\xaa\\x82e\\x96\\x14\\xbe9.\\xd6\\xb3\\xa2/,A\\xd7U\\x99\\x12\\'\\xe5\\xd1\\x0b\\xdf\\xe5\\x96\\xfa\\xcd\\x00)\\x8f\\x18\\xe1\\xe1\\xed\\x9fF\\xff\\xbe\\xfe\\xae\\x10\\x82)p\\x17^\\xc8\\xeb\\xa7[S\\xd7\\x10\\xa8\\xe3\\xdbT\\x8f\\x8b\\x91\\x17\\xc6\\xb94\\xbb\\x96X\\xdd\\xfcpaS\\x17$\\xa4\\xb7<\\xb6\\x88\\x1f\\xa7\\xa0\\x9fZjG\\xcd\\x8e\\x05\\xd6\\x13\\xca\\xe7\\xc7\\x87\\x84\\x9d\\x0b\\xf1=\\xdeXMj:\\xa0\\xcf(\\x1f\\xe1\\xd7R\\xc4O-\\xb5\\xa3fG\\x1d\\xeb\\'\\xe1\\x0c\\x0c\\x8d\\x0eKn\\x83\\x10\\xd0t\\xaeSK\\xc2\\xf4&\\x89\\xdc|\\tAu\\xf9\\x9f\\xc2\\x7f\\xf1\\x9f`2M\\xe1\\xa6\\x96\\xda\\x11\\xb0#:K%L^\\x1d\\xf9\\xeb\\x9e sBp\\x0b?\\x10I3\\x14S[o\\xf4\\xd8\\x99\\x14\\xe0y\\x95\\x9f\\xaf\\xe2\\'\\xa9\\x9b\\x9fZj]lG\\r\\xeb\\tP\\x06\\x7f\\xf2\\x0c\\xb8@\\xf9\\xc3\\xb8\\xd9\\x93\\xa9\\xb5k:m\\xc04\\xff\\xd3\\x17~\\x1a\\xcaO-\\xb5n\\xb6\\xa3\\x83\\xf5\\xc8D\\x9c\\x1dt^a.H\\xceB\\xeey\\x8a\\xf2\\x87k\\x84\\xf8TC\\xa0\\xfe\\xebK\\x7f\\x19\\xfe\\x03\\x8c\\x8d\\xa5\\x88\\x9fZj\\xddfG\\x01\\xeb\\x89o^\\xc8|\\x1c48\\x85\\x0e\\xb6Dy\\x93<\\x94\"\\xe0\\x9c\\xcb-\\x02\\xf7\\xda\\x0f\\xc5b*\\xcb\\xf7\\x17\\xee\\\\\\xca\\x8fOK;#\\x03/\\x8cC\\x87\\x14\\x17n\\xb3\\xc0\\xab\\xcc/\\x10#~\"r\\x04\\xfa\\x85\\xf37\\xe0\\'\\x8f\\x06G\\x86\\x99\\x9d\\x93\\xfe\\x1a`\\x9e `v\\x16\\xfc\\xc6P\\xdf\\xc2\\x83\\x07\\x9f\\x85{g\\xcc\\xe9b\\xb6\\xd6\\xd9\\x87F\\x87\\xc1Rg\\xaf\\xe3\\xd3Pg\\xb72\\xc2o\\x14\\xfa\\xfb\\x1f<\\xf8\\x07\\xb8\\xb7)z^\\xbc\\x05c\\x1f\\x0c\\xbd?,\\x91\\xa9\\x19\\xd0\\xd3\\xd3\\xacP\"Vr[\\xfan\\xed\\xce\\xe5\\xc2\\x97\\xaf\\x05\\xc2\\xc2O\\x84\\xd8D\\xe6aFPG\\x10\\xdf\\x1f\\xb04l\\xfdI\\x9a\\x88OT\\xa1\\x95j\\xf5\\xc4_\\xa7\\x88\\x9fZj]e]\\x8e\\xf5\\x12\\x8a\\xa5\\x17zW\\xca++\\x0c,\\xc9\\x04%`\\xa3\\xa6\\x0b\\xfdq\\r\\xc0\\x1a\\xa0\\xc0CD\\xc3\\xdf\\x89,\\x06\\xfa\\x16\\x99\\x85\\xd4H\\xafQ.\\x97atvH\\xfeWH\\xcd\\xf4\\xdd\\x88\\x16<\\x00\\x95\\xaar\\xd7-\\xdb\\xa7\\xf0+\\x9b\\x81\\xfesS\\xf0\\x03d\\xd33\\r\\xb5\\x08|\\x04\\x7f\\xb4\\xb6\\xd4Jo\\xa8\\xab]\\xff\\xad\\xb8\\x8d\\x80{\\xe4G\\xa7|\\xcbG\\xc5\\x85\\xc0G\\xb8\\x0f\\x02\\x96\\xe9\\x91A\\xbdz\\xeb\\xa2\\xbe\\xc2\\x8d:\\xc6\\xea[s\\x1f\\x0c\\x8c\\x8er\\xaa\\x8f\\x95AHU2p\\x9fA\\xb8\\x1f\\xce\\xa8UD\\xfd\\x0e\\xd37%\\xd7\\xb3\\xf5u\\xac\\x86#\\xd1\\x13,\\x07\\x1f8\\xfe\\x82\\xd8\\xb8\\xa0\\xb2\\x90\\xae#\\x82\\\\O\\xfdq\\xfd\\x93\\xed\\x96\\x8f\\xa5\\x96Zj\\t[\\x17\\xcfC\\xc2\\xb5\\xfc\\xfdQi\\xdb(\\x1c\\xdf$S6\\x8d\\x90\\x85I&-\\x0e\\x9e\\xa7\\x90\\x084\\x185\\xf5\\x03\\x08\\xc1\\x11\\xa1\\x10}\\xfc*{\\xe6\\x85\\xb9\\x0f\\xe0\\x85OV\\x96\\x97%\\x16:\\x11\\xd0\\x9b\\xe3I\\xf2\\xd0\\xbd\\\\O\\xe3\\xf1OW\\xb6\\xf0\\x8e\\x95MJ\\xb8\\x02#\\xe37=\\x85\\xb3\\xbaZ\\n\\xbf\\xae\\x9c\\xfa\\x1cx\\xf5\\xca\\x9d\\xcb[\\xe3l\\x9cFG.NBir\\xa88-\\xad,\\x04\\r\\x12\\xb4\\x11:\\x8a\\xa2\\x96\\xba\\xda\\x9d7u\\x11\\xd6\\x16\\xdf>\\xf3\\x1e\\x8c\\xce\\r\\xca\\x8f\\xb1\\xc8\\xab\\xb9\\x9b\\xd1\\xd2\\x08\\n\\xeeE#\\x97\\xab\\xf7\\x0fe?\\xbc\\xbfX\\x18\\xc9\\x07<C\\x8e|\\xa8\\ng\\x1e\\xa6\\xa9\\x04VO\\x99\\n\\x85u\\xb7\\x96\\xf5*\\x0e\\xfa\\xde\\xd5\\xbbP\\xbf\\xee{5\\xfe\\xacz\\x89\\xa9\\x83\\x9fZj\\x87n]\\x89\\xf5\\n\\xe5\\x01\\xf2\\xe2\\xa1\\xb02$ /\\xc2\\x0eP\\x11\\xd3<\\x90@\\xd8\\xde\\x8a\\x97\\xe9A\\xb4BO3\\x0c\\xc5\\x18\\x14\\xc3\\xa8\\x82\\xf2~\\xcb0\\x0fc\\x00\\xb3/\\x8d\\xc2\\\\\\x03\\x02\\xces\\x12\\x81\\xbe\\xe5\\x92*\\x08S\\xb8Y\\xb9}y\\x1b\\xa0\\x8c8\\xf5\\xe7\\xa6Y\\xe6\\x84tWim\\xf0\\x99\\xa3\\x80~\\xad\\xc2\\x9e\\x85|\\x99T\\x82\\x93n\\x0c\\xa2\\xe1\\xfe\\x96\\xda=\\x0c\\x9d\\x9b\\x01\\'\\'\\xbd0\\x8e\\x84\\x7f^\\xad\\xde\\xbe\\x04\\xe7on{%xwW\\x86\\x8aS\\x92g\\x89\\xb9$\\xc3\\xa7\\xa5@\\\\\\xc1\\xbd\\xcb<\\xbf\\xe2|\\x02\\xd1y\\xf6\\xa5!\\\\\\x15\\x1c)\\x9b\\x113\\xd6:\\xa6e\\xb3\\xc0u\\x98\\xe5\\xaae\\x86\\xe1CF\\xad\\x7fsydF8\\x1f\\xdf\\x91\\x90^\\r\\x9e\\xc5\\x0f\\x13\\xdd\\xf1\\xa4\\x96Zj;Z\\x97a=\\x85\\xe6\\x87\\xbc\\x7f\\x14\\x19\\x87)\\x8f\\xd5D\\x12\\xd6\\xc3<\\xa2<:\\x8d\\xf9\\xde\\xbe\\x85\\xea\\nwxD4&\\xa2$\\xc0-\\xf2,\\xd9\\xf2\\xcf=\\xc6\\xbf\\xd2a\\xa5\\xe30\\xee\\x90\\xef\\xcf\\xcd/\\xa3\\x07\\xca\\x95W\\x8b\\xf5A\\xf7\\x80\\x80~\\x03J\\x86\\x81\\xf2\\x9b\\xaf\\x0f\\x14\\xbf\\x8d\\x11i\\xe1\\x9b6\\xb0:\\xf2\\xc3\\xed\\xea;\\xafo\\xebM\\'a\\xea)]\\xb9\\xd2;q\\xdd\\xc2zYzJz\\x9f\\x81\\xeey\\xbdVzS\\xfb\\xfe\\xdb\\xc2\\xfd\\xe8K\\x05\\xf1$\\xb0\\xe81b\\x010\\xe8\\xaf\\x13\\xdc{\\x81\\xbf\\xb6l\\x7f\\x12\\xe1\\x1e`\\xe8o\\x06e&C\\x8f7X\\x87\\xe3(\\xa0`\\xab5\\xd8\\t\\x1a\\xf3\\xd6\\'\\x06\\xe4\\xc7\\\\\\x9d\\x1a\\x9a\\x11\\xb6\\xe6\\xfb\\xe2\\x14#\\xb2\\x14\\xde\\x0b_,\\xd9\\xcf\\xa4>~j\\xa9\\x1d\\x96u\\x13\\xd6S\\xd0f\\xf0\\xfe\\x08\\xe2\\x08\\x06\\xdc7\\x84\\x8c\\x81\\x14ZP\\xe2F\\x01\\xf6\\\\in\\xe0l\\x819\\x19\\x84\\xecfx\\xc7\\x80/\\xc27j\\xd1\\x8c\\xcd#|\\x9f\\xc1o#l96\\xd3\\xf2d\\xa0\\xe5\\n\\x04F$D\\xc0\\xc1/\\xcf\\x957eb\\x9b\\x16b\\xfds\\x8f\\x06\\xdfWg\\xec\\x91\\x1e&E\\xf1\\x8b\\xe8\\xe0\\xafUoo\\x13%O\\xca\\xe8,\\x97\\xa6`Zm2f\\x98\\x93\\xd5\\xd7\\xa3S\\xc4\\xd2oT\\xd9\\x02\\xcc\\xc1\\xf6\\x0b\\x0f\\x96&\\xa8\\xc7\\xd2\\x97?i\\xd9\\x01>\\x01?\\xfa@B\\xb8/\\xff\"\\x8c^\\x87\\xb91\\xf5X\\xfa\\xe1\\x89\\x85y]!\\xa3a4\\x0c\\xa0a\\xa2[\\x06A\\xf5\\xe5\\xf9\\x17\\x1e@eyXZ\\xb6y\\x1dQ\\xd3\\x1b,\\xce\\x99\\xe7V\\xac\\xd4\\xc1O-\\xb5\\xc3\\xb1\\xee\\xc0z\\n\\xda\\x0c\\x05O\\xc0\\xb2$J\\xcao\\x08\\xcdS\\\\\\x1e\\xe1[\\xf0l\\xb0\\xe8>KK\\xc20\\xb3\\x1d\\xd4\\xa51\\x8e\\x7fx#\\x88z\\xc2R\\xbf\\xf6\\x8f\\x8b\\x1a\\xe5\\x15\\xae\\r\\ri\\xa0\\xcf\\xca\\xa0\\xd1l\\xca\\xa1p_\\x08\\x8f+\\x00\\xaaT\\xe1\\xbd+`\\x9407X+f201\\x83\\xde\\xab\\xdfP\\xb0\\xa5\\xd9/j3\\x91\\xed\\x19|\\\\\\xcf\\x1dN\\x06R9\\xc8\\x0fO\\r-6\\xc0\\xd6\\x9c\\x1c\\x85\\xb3\\x02\\x19A\\xde\\x1a\\x06\\xa3h1\\xd8f\\xf9\\xa1\\x07{\\xe6\\xeas\\xfd\\xa7V\\xb2\\rZ!t\\x92c\\xbdw_^\\xc1\\xf5\\xefV\\x11^\\xb9\\xfa\\xfc\\xe8\\xc0\\x92t0w\\x1d\\x04a0\\x07\"\\x12on\\x15N\\xc2\\xf2\\xc7\\'G\\x1a\\xf5z\\x16\\xc0\\xa6\\x9fF\\xd3\\xe3z+\\x80\\x8dp\\xd5\\xb1\\x97\\xca\\xf3\\xdb\\xaf\\xac\\xa9\\xa5\\x96Z\"\\xd6\\x05X\\xaf\\xdd\\xf9\\xd9at\\xdbu\\xc0}\\x1d\\xca\\x13|Kp\\xb8?\\x1f\\x9c\\x04\\xf8\\xe0\\xb9\\xfa\\xa9\\x95\\x8c\\x0b\\xb6\\xd3J0\\xea\\xdf\\xe4\\x16\\x05\\xe7\\x1b\\xd5\\x97#\\xd1\\x98\\xf37O>\\xa8\\xd5\\x07\\xb2D\\x91\\x0c\\x81^J\\xed\\x02\\xf73\\xef\\xa3\\xbf\\xef\\x85\\x1f\\x9e7G\\xd8\\xce\\x14\\xaa\\xaa\\x05c\\xa4\\x00\\xfa \\xb8\\x9c\\xf8\\xcc\\xeeQ[\\x84j\\xe9\\xc2\\xc1:\\xf5\\xdaZIZ\\x92\\xd8t(\\x14\\x83\\xb9TJ<\\xa8\\x15\\xa8=\\x0eL\\xc8\\x1f\\x05MIj>\\x1c\\x0b\\xa9\\xa8\\xcc\\xf7p\\x15<C\\xb7\\x7f\\x06\\xb5(\\xfa\\x7f4\\xcc\\x1dg\\xd3FJ\\xff\\xbe\\x8f\\xebko\\x16\\xca\\xf9~\\xbbl\\x05\\x82\\x96\\xe0\\r!8ZN\\xd5\\x82\\xe17*\\xc39\\xf5\\x9b)\\xdc\\xa7\\x96\\xda\\x81\\xd9!b=\\xf2)a\\xee\\x83\\xfc\\xe8)\\xc1\\x04E\\x03\\xbcu\\x14\\x1a\\x93\\xdcc\\xc2\\xaf\\xd7>]\\x81\\xd9Y\\x18\\x1b\\x1b\\xf9\\xbba_P\\x84\\xbd\\xf9\\xcbM~\\x88P\\x08\\xe4/C\\x93\\xf8\\x81@\\xffb\\xb61\\xf7\\xb1:Lv\\x13\\xd0\\xd7\\xab\\x85,\\xfeu\\xa7\\x84j+%\\x8b\\x89P\\xfc\\xd6\\x9aI\\xc9\"\\xe8\\xbb\\xd5\\xf9y8\\xf3Y\\x98|\\xe5`\\x81>rm!\\xdc\\xe3\\xc2\\xa3\\xae\\x8d\\xe9tq\\x8ftW\\xabw.\\xc3k\\x93\\xf0\\xf6\\xe4.\\xd7\\xa6cS\\xb3\\x05\\xb0r\\n\\x82C\\xa6<\\xc1\\xb7\\xef\\xe6j\\xf5\\xc7\\xee/R\\xc5\\x00\\xd3\\x0b^~4\\x17\\xc8>F\\x9c\\xa5(]\\x15\\x11\\\\b3\\xc7\\xea\\xe9\\'0\\xfb\\x12\\x12\\xa8~|\\x12\\xe9\\xf8(\\xd9\\x19I\\xad\\x87\\x0e\\xbe:C\\xe0\\xf9\\xa9\\x83\\x9fZj\\x07f\\x87\\x87\\xf5\\xcaU|\\xef\\xca@qJ\\x01q\\xc8\\t\\x89\\xb28\\xa80G\\xf8X\\xd3t\\x06t\\xd8}\\xe8\\xc7\\x05)3\\xf8\\x9b\"\\x1aI \\xa0\\t\\xbc\\xca\\xcb\\x0b\\x882M\\xe00\\x11v]\\xf4T\\xdf\\x08\\xf4\\xf3\\x8b\\xf0\\xa9Sm1g\\xb6p\\xea\\x03\\x0c\\\\\\xc8F\\xf5\\xd6\\xe5\\x9d\\xb2\\xa0\\xc9Z+c<8>\\x8d\\x9cw\\x14=\\xe6\\xe4\\xdagD\\xd0(\\xf4\\xf5?X\\xe9m\\x0bF\\xb7\\x84\\xfb\\xedVD\\xcd\\xe49\\xa7\\xce\\x98\\xc1\\xf0}3\\x19\\x8e\\x0cL\\x0c\\xdf\\x07\\x81Xzy\\xae\\x99&\\xc1\\xe7o\\xd9D\\xe6\\tL\\xbb\\x15S\\xb3Fl}\\xe1aM\\xc0+W\\x0f.\\xad\\x9dZjO\\xab\\x1d\\x06\\xd6\\xab\\x99?Q*d>\\xf6\\xeb\\x1caZ\\xac\\x0f\\xc5\\x002[\\x90ii\\xad,=ZF\\xc8xxJ\\xe7E1\\xd4\\x10\\x84LAm\\xc4\\xc9\\xc1R\\xa0O\\x87q\\x1b\\xed\\xe9\\x1bV\\xe2\\x14l\\x11\\xbai\\x13\\xe8#\\x91\\xfa\\xe25T\\x8a\\xf7]\\x93\\x02%\\xa6#F\\x8a\\x1e\\xb6\\xb7Z$e\\x11\\xd7\\xfe\\xdc\\x14sN\\x18\\xd7\\x9e(\\xff\\xcc_+\\x97.\\xbdxi\\xea\\xc3m\\xa3\\xf6\\x11#\\xb8\\x1f\\x98-\\xb0\\rp\\xef\\xa8\\xbf\\xaeUJ\\xe1\\x92\\xa6\\x9f-1y\\xf2\\xf0X`\\x86\\x80\\x99\\xf0\\x91Q\\xf3\\x07-\\xb5_)]\\x80\\xcf\\xdc\\x84\\xcf?2[\\x01\\xe8e\\xb8\\xe7\\x88t\\xd1\\xd2{2\\x0bS\\xbebmu)\\xf7\\x9f\\xa5\\x14\\x9d\\xd4RK\\xd4\\x0e\\x1c\\xa40\\xf2{e\\xe8\\xfe4\\x02\\xb7\\xf2\\xf7D\\xa4\\x86\\x136Qh\\x14vk\\xb2\\xe3\\xb9\\x19nE2\\xb1\\xc6\\xf1\\xc40\\xb1\\xf2\\xf3\\xe7\\xe6\\xe6(\\xac|\\xc5\\xdc\\x11\\x01\\xd3\\xc0\\xc45\\xc4\\x1d\\x04z]\\x08J@\\xef5FW\\xe5\\x87O\\xb2\\xf0\\xc3]1\\xba\\xe98\\x9f\\x1f,\\xce`\\x90\\x04\\x99\\xec\\x9a\\xee\\x92Q\\xc7\\xc1 \\t\\xad\\x04\\x87\\x8c\\xf5\\x9b]{\\xcc\\xaf\\x12!Go\\x89v\\x07\\xd0(\\xd1hD/\\x87\\x91\\xd51\\xc7\\x02\\xb5lDw0\\xa0\\x99<\\x83\\xcf=\\x03\\x9ed\\xdc\\x0e\\xeb\\xd7\\xc08\\xf8\\x98\\xb5v\\xab\\xa5\\x8b\\xfa\\xda\\xf4\\x1b\\xcf\\xff\\xedu\\x91\\xa1\\x96.[\\x90\\xa6\\x98\\x15\\x04\\x8bz7\\xb0\\x05\\xe75\\xb5\\xd4R\\x8b\\xc1\\x0evR\\xe9\\xbez\\xc5i\\xe2>z\\xf4Qsb\\xeb\\xcaU\\xa2\\xd0\\xb8a\\xcc]\\x03\\xfd\\xf8\\x0cs\\x1c0\\xd4@a\\xbcHJB\\x8e\\x9e\\x92\\x1f\\x0e\\x9f\\x86\\xc93\\xad\\xe0@\\xf3+\\x18A\\x0e\\xcc\\x87HPA\\xb6eo=\\xf3\\xf03\\x9f\\xa2\\xdf\\xdf\\xf9\\xde7\\xc0\\xa8M\\x9cz\\x8a\\x90PD\\xa8\\xcaN\\xc2\\xd8\\xe8!E\\xea7]\\xa7\\xae\\xa4U\\x9b\\x18\\xe5\\xda\\x9b\\x05\\xc9G\\x15\\x87\\xa0^\\xbd\\xddf5ox\\xbf\\xe5G\\x83rX\\'\\xaeC\\xf8\\x06L\\x83\\xab\\x95C\\x1dJcw\\xf3Pg\\xde\\x03\\xf8\\xcb\\xc1\\x91\\x11\\xfa\\x05\\xd7|\\xa8O\\x82oG\\xc1\\xfd%\\xf3\\x15\\x85\\xec\\xaf\\\\\\x1d\\x1d\\x1dm\\x98\\xec\\xb1\\x1f9\\xb5~\\x9b6\\xa6\\x82O/\\x84p\\x9fZj\\xa9\\xc5l\\x07H\\x1d9s\\xf5\\xf9\\xd1\\x97\\x96\\xc4\\xe3\\x8d\\x14\\x1a*\\xbcdL9}~\\xf9\\xa5\\xf9\\xd6l\\'\\x98P\\x10&QYl\\x83\\xe7\\xe8\\xb0\\xc0\\xad((Qps\\xef\\x95\\xd6IB\\xb9\\x18\\xcf\\xf2I\\xbc\\xa5\\x15\\xc2V@/YOm\\xee\\xa3\\xf6]]\\x1d\\x00A\\x0e{\\xa6\\xa7U(\\x8b\\x17S\\xaf\\xb4\\x8b\\xa1I[T5\\x81\\xaaa\\x83f\\xa0\\t\\xb3\\xb5\\x88\\xb6\\xedf\\x14\\x0c\\x11\\xf3\\xe4\\xcf\\xfcl}\\xad\\x82po\\n\\x11t\\xe3Y\\xf5o\\xbf\\xfa\\xddK0\\xb1^\\xf0\\x87\\x16\\xef\\xfe\\xe2\\x94\\x85|V\\xaf\\xf59\\xc9\\xec \\xdc\\xbf\\xbc\\x00\\xdf?E\\xbb(\\xbd\\xa5\\x83\\xa1\\x0fF$\\xb3\\xb7&\\xf3\\x08\\xdf\\xca\\x10Yv[\\nlj\\xa9\\xa5\\xb6G;\\x90\\xe9T,\\xc2\\xdcX\\xe1\\xd9Q\\xe4\\xcd\\x1b\\x08\\xdeH\\xa1\\xc9\\xf9\\xec\\xb1=\\xdc\\n\\xda\\x1a\\xa0\\x7f\\x8b\\x02\\xeen\\xeb:1\"l\\x83\\xf2\\x01\\xef\\\\\\x82\\xcf\\xdc\\x88\\x84b\\x8cg\\xfa\\xe2O\\x1bs}M\\xe2\\r\\x15\\xc7\"\\xebC\\xa8\\xffW\\xc7\\xd6\\'ow\\xb6I\\t\\x93l\\xe4\\xec\\r\\xcf\\xf2\\xcc2c\\xd2\\x9en\\xed\\x94\\x84\\x8f\\x9f\\xed.\\xf6\\xc8\\xe4{0;\\x87\\xaa\\x06\\x98K0a+\\xcc~\\x06\\xc1\\x82zP\\xed\\xd7\\xf4R\\xddr\\xaf]\\xb5\\xfd\\x06c\\xb6l\\x05\\x85p\\xb1\\xcc\\x00\\xc7pYK,H\\x1a~\\xce\\x95+\\x83\\x13\\xd7t\\xaa \\xaa\\xbb\\x80\\xcc\\xa5\\xa0\\x8e\\x05\\xc9&\\xb1\\x11&\\xba\\x87\\x06\\xc1\\xc9J\\n\\xd6m$\\xf3\\x08e^\\x8do\\xd6\\x9eK-\\xb5\\xd4\\xf6e\\xc9\\x8b\\xb7\\x9077p\\x7f\\x84\\x1b\\t3\\xd1\\xf2\\xe8\\x89B#\\x82F\\xed\\xe5\\xf2:\\x14\\xd6\\x01\\xf7\\xf1)\\xeed\\xe5\\xba\\xe0\\x00W\\xc0\\xcd\\xfdFY\\xb9\\xabW\\xefEB(\\x11\\x95\\x98\\x89\\x19\\xd4\\xfb\\xf5\\xd6L\\x98\\x1e\\xb7\\r6\\x0f\\x82\\xc5\\xdb\\x176\\x86 v\\xbe\\xec\\xd7\\xfe\\x18\\xde\\xfe7C\\xc5\\x19\\x0c\\x8c\\xb8+\\xc6\\xa9\\xcf\\x9c\\xc0\\\\\\xe5\\xad\\x8b\\xfa\\xa7\\x87\\xed\\xd4G\\xae\\x96*\\xa7P\\xa59Cy\\x05$&\\xa9\\xab\\xedE\\xf2\\xe5\\xed\\x0e\\xaf\\x16\\x9b\\xf7^\\xc9\\xbf\\xfa\\x07\\xc8\\x90\\xc7<J@\\xaa\\x96\\x82\\n\\x86\\xd7Pog\\xf3FA;\\xec\\xf7\\x0b\\xa8(\\x07!\\xe5f;\\xb8\\x87P\\x96\\x87\\x96\\x87\\x08\\x99\\xc7\\xf0\\xef\\xf1\\xe2\\xbdF\\xf5\\xf4v\\x92\\x15\\xa9\\xa5\\x96\\xda^,\\xe1YD1\\x96\\xc1\\xe25\\xca\\xe05\\xf7\\xf8\\x84\\xce\\x94\\x94\\x93\\xc2m\\t\\xd1hO_{\\xf4\\xc5\\x19i9a\\xe8\\x86>\\'\\xae=cn\\xe5_,\\xaew\\xcf[q\\x8c\\x81\\xe2[\\xc8$1\\x01\"\\x08\\xebHI\\x84\\xb2\\xd3<\\xaa\\xfa\\xfd|y\\xb0\\xec\\x1aY\\x05\\\\90\\xee\\x9f\\x0b\\xac\\xc7\\xef~\\x95\\x00q2\\xe6g\\xb5/C\\xe5\\x83\\xd1\\xd9Q\\x97\\x14r\\xa4\\xc4\\x808R_\\x02/{\\xa2\\xf1\\xf8O~\\x93~\\xa7\\x9d\\x1b\\x8f&\\x00f\\xa4\\x8e\\xb6IM\\xcb\\x11\\x08\\xdc\\xa2^\\xbb\\xb5\\xd5\\xc3\\xd4\\x05q\\x7fS\\x80\\x8c\\x83oL\\xd3\\xa5\\xf4\\xbe\\r\\xe1\\xbe\\xd1\\x8a&E\\xc8<(\\xcbc\\x93,O\\xe0\\xb7\\xd6lF\\xe2\\xd2\\xae[\\xbd\\xab\\xb6n\\xe7\\xe1\\x877\\x93zf\\xa9\\xa5\\xf64Y\\x92X\\x1fEm\\r\\x19M\\n\\r\\xcf \\x1e\\xd4W\\x97\\x96\\x967Sh0\\x1d\\xead!\\x92\\x1e\\xc4\\xa5B\\n\\xb5\\x05X8}\\x11f7i\\xc4O\\xaa_2H\\x87K\\x82\\xf0I\\xc6\\x00]Q\\x12\\x0ch?f\\r\\xeb\\xb6\\x08\\xc5)\\xb0\\xb2-\\xaae\\xcbMn\\xa3F\\xe9@-\\xb2\\x1197\\x03\\x19\\xda\\x88h\\xd7\\xde\\xc9I\\xb7^\\xbdsiG\\xc9\\x84\\xad\\xccT\\x90MSP(\\xaa\\xd4/I\\xeb\\xed\\xfc\\x16J\\xfd$tQ\\x08>\\x0el\\x9b\\n\\x98\\x9b\\tXMuU{\\x827\\xd7\\x91y\\xd4\\xbf^\\xb9Z\\xf8D!hp\\x8c\\xe3\\x05\\x91u]\\x19\\xa7\\x94L4\\xdc\\x9fZj\\xa9\\xed\\xc3\\x12C+C\\xd2(\\x80E\\t\\xc3\\xd6\\x894\\'\\xcf\\xab\\xbe<F\\xee\\xfc+\\xe6\\xc3&\\xef\\xe5\\xdcu\\xe2\\xbd\\xb8fm\\x00\\xa3\\xa3\\x02\\xaeW\\xfd\\xf9K\\x9b\\x80~ka2\\xcd\\x8c\\x04\\xdf;\\xd1p\\x1e.=\\xdaZ\\x8f~k\\xc3\\x03\\xbe\\xf0\\xda\\xe4\\x83\\xb7\\x89\\xb4N\\xf8N\"\\rBa\\x9c\\x154\\x16o\\xef\\xa8\"y\\x88F[\\xa8Bq*\\x00\\xab\\xc5>jeh;\\xda\\xd6\\x84O\\x15\\x00w6\\xd6\\xba\\x0e\\\\\\xc8\\xe6,d\\xf0\\xb76\\x07\\xc4\\xb6\\x84\\xfb0\\x98\\x03\\xeb\\xe0\\xbey\\xd9\\x18\\xff\\x19|\\x7fX35\\r\\xd5\\xaa\\xb9!\\xf0\\x1a\\xd5U\\tmqdSK-\\xb5\\x9d,\\xf6\\xc9\\xa3c\\xf4\\xef\\xbd\\xd8s\\xff\\xc9\\t\\xe5\\x8eg\"\\xe4k:\\x9f\\xe5\\x08\\xbfQ\\xbb\\xd3$\\xf0A\\x14\\xe8\\x87\\xce\\xbe\\x85\\x8e\\xa4\\xf0\"\\xbf\\xbf\\x1b\\xd0k\\x0f\\xf4\\xec\\x14dz\\xd6\\xf5\\x8a\\x02\\xdd\\xbb\\xe32\\x9c\\xe9\\xb0,\\x93\\x02\\xd6\\x83\\xff\\xfa\\xdb\\xe0\\x05\\xb4K\\x10\\xa1gZ\\xaf\\xb2ga\\xee\\x83\\xae$\\x05n\\x92L\\x083\\x16\\x0c\\x7f\\xe0\\x94K\\xaf\\x87p\\xdf\\xb6iR\\xd3\\xdf\\r\\xfb\\x017=\\xb04\\xa9\\t\\x0b\\xacV+\\xa57\\xb7\\xed\\x81\\xb5\\xa5w\\x8f\\x91\\x19\\x87\\x0b\\xbf|kS\\xe2\\x04W\\xa93\\xf9\\xf1i\\xa1\\x96\\xe7u\\xaa\\xfaT(\\x10\\xb8\\xbd\\x8dL\\xb8`C\\n\\xf7\\xa9\\xa5\\xb67\\x8bw\\xe6\\x18\\xde\\x1er+\\xe5c\\xdd\\xfe\\x82\\x1cL:\\x0f\\xd6\\xd0[<\\xf0\\xa9j\\xe6\\xb3\\xe4\\xd17g;:w\\xc3?\\x1e\\xf5e\\xd8\\x00\\xcf\\xe4c1\\x98k\\xa9\\xaf\\x9c\\x9e\\xdf\\x9ay\\xad\\x90\\xe5Vqh\\xfc\\xf7\\xa5\\xd5\\xa3;\\xa2\\x86l\\xfa,\\x13\\x8d\\xf2\\xadK\\x1d2#u0\\x04C4X\\xbd\\xa5\\xc3\\x17\\x9a\\xae\\x9e9\\x81\\xe1\\xa0RWee\\xa3\\x16\\xb9\\xf2\\xe2\\x0c\\xb7s\\xc2\\xab\\xb3\\xf0\\xca\\xd5\\x9fk\\xa5\\x0b\\x1d^y$\\x0b21\\x83Ui\\x98\\x05\\t\\xeb\\x1b\\x18\\x0b\\xa4\\xbf\\\\\\xba\\xbcu\\xdeB7\\x14\\x9b\\xcd\\xabe\\x81d\\x8e\\xfcP[\\x94\\x92.jKw\\xe7\\xe2\\xc6\\x86*4\\x00\\xf2\\xf7\\x9f\\x116\\x8d\\x16]a\\xab\\x87\\x00\\xf6\\x1b\\xf08[.\\xcf\\xd5S.fj\\xa9\\xed\\xd9b\\x9c6\\xba\\xa2\\xf2\\xde\\xf3\\xb3s\\xcb\\xf015\\xbf\\x8e\\x04\\xdc\\x91\\xf8(\\x85\\x945\\x18\\xc5\\xbfG\\x1dL\\xe2\\xf9\\xf5\\xf9\\x0b\\xb6\\x1d\\x80\\xe1\\xf9\\xe9\\xe8\\x8d\\x05\\x96r$\\xfd\\xeaw/\\xacg\\xdd4O\\x17\\xa9\\xf6\\x8c\\xca\\xb8\\x9b0\\xfdE(^\\xed0\\xd8\\xd2\\xda(`\\xad,\\x89\\x88\\x19\\xefX\\xe2?\\x91`HW\\x1a!o\\xff\\x97f\\xa8\\xeb\\xa2i\\xc2N\\x9d\\xb3\\xea\\x98\\xb4hm\\xa4\\xda\\xb4H\\xea\\x02\\x03\\xf7\\xe1\\xb6\\xc9\\xa8D\\xd4\\xb1.w;\\xa9\\t\\xbd\\'\\xf8\\xf1\\x88\\'-:\\x92\\xeeeH\\xbb4!\\xb0a\\xc0Xy#\\xffU\\x13s\\x0b\\x85\\xc0\\xb2\\x95K }o\\x83\\xaa\\xbe\\xb0\\xebF3c\\xb2\\xfd\\x88\\\\j\\xa9\\xa5f,\\xae9\\xb3\\x03\\xd0\\xcb]\\xbe\\x9aZj;X\\xa4\\xd2J\\xd8k!\\xdcO\\x1e\\xf6e\\xa5\\x96\\xda\\x11\\xb3X\\xb0>\\x05\\xfa\\xd4\\x923\\x16\\x06s0$\\xc8!\\r\\xe6\\xa4\\x96\\xda^l\\xff\\xb3%R\\xb0\\x8aj\\x86\\xd9\\x14\\xe8S\\x8b\\xdbBU}\\xacuh\\xe4z\\x86\\x1e\\xff\\xf4\\xef\\xd3Tmj\\xa9ud\\xfb\\x9c*a\\xd0\\xfc\\'\\x8f\\x86\\x86G\\xb0\\xf0]\\x87tu{\\xa9\\xd4R\\x8b\\xcd\"\\xaa\\xfaA\\xa3\\xba,\\xe1g\\xb2\\x87*(\\x9dZjG\\xcc\\xf63O\"\\xaa\\xbf\\xe7\\xae\\xb5\\xb4pS\\x8f>\\xb5\\xd8\\x8c\\xb8Ua\\x8b\\xe0&\\xe9\\x13\\x0b\\xc4\\xf8I\\xc8\\x97S\\xb8O-\\xb56m\\x7f\\x93D\\x17\\xd3\\x8f\\xcf\\x84\\x1e}\\xb4%H\\x83q.E\\x80bgj~2\\xcd\\xa9\\x00\\xfdg\\xf3\\xb9\\x10a\\xcc\\x87S\\xb1\\x12\\x92\\xd9\\x85\\x14\\x1c\\x95/C\\xc1\\x9c\\xf0\\x8b\\xcd\\xef\\x8a@p\\x8b\\x0b)9\\xa7bK]\"KT\\r=\\xed\\x91\\xe7\\x179c;\\x16=2]U\\xd8\\xcaJ\\xdd\\x0be\\x06\\x89\\xcf\\xe9\\xeb\\xf2\\xdd\\x8e\\x8e|\\xf0\\x86\\xa2C\\xc4MgL\\x9a\\x07\\xab\\x1e\\n\\xb9\\xc3\\xf4\\xe4\\xf5\\xbek/\\xcf\\'|k\\xd49@w3\\xa7v\\x8c\\xc2\\xabs\\xcb\\x12 8\\xf0\\xcdG\\xd6\\xd7\\xa3^\\xa8\\x94\\x16\\xc37eK-\\x10\\r\\x02\\xb50u\\xd1\\x1c5\\xaa\\xda8N$P;\\x14\\x8fInxV\\xc6\\x93\\xc0\\x17\\xa4\\xbe\\x88\\xc2D\\x1b*\\xb3RK-\\xb5mloX\\x1f\\xa9\\xdc9G]G\\x8cj\\x8a\\x84h\\xdb\\xee\\xb9\\xda\\xa6\\xa0jT\\x83w\\x06\\xa5\\xb2\\x82FH\\xad\\xc3zZ\\xe95jwv\\x934\\x98|\\x0f\\xee\\xfd\\xe5\\x10v\\xc4\\xce\\x9a\\xa6\\x80T\\xd4\\xca\\x02\\xafC9\\x84\\xcdGF\\xf6\\xe7 <FN7\\xf6E\\x91\\nb\\xc0k\\xe0a\\xdb\\x97\\x8a<d\\x8b\\xd4\\x97\\x15\\xa7\\xc0\\xa1\\xba_T\\x13bjE\\xe4,\\x83EUM\\x1d\\x82N\\x0f\\xab\\x9e\\xfc\\xe4+C\\xe3S\\x80\\xd2\\xa4\\x01-\\x1a\\x81nD\\xde\\xcf\\xdc\\x8f\\xe0\\xf9m\\xba\\x99\\xb7j\\xe5\\xfa\\xcf]\\xb3\\x90v\\xa9\\x0b\\xact%D\\x0e\\x9f\\xf0\\x9d\\x8b[UBD\\xcaw\\x17\\xddV*H\\xff\\x88Zh\\xa1dEw\\x961\\xa7\\x96Z\\x97\\xd9\\x1e\\xa6Gk\\xea\\x0e\\xbcz\\x8d\\x81ej\\x1d\\xf1P\\x82\\xf1\\xac\\x10\\r\\x0b2\\xe5\\xb9G[s\\xe3\\x9a\\xd5\\x98\\x82\\xa3\\xaam\\xe0\\xaf\\'\\xc57\\xab\\x9f\\xb69\\xaf&\\xbf\\x8fO\\xa3\\xa3\\x87@\\xdf\\xec\\xa6\\xbdV\\xddu\\x91\\xd8\\xd9\\xb4B\\xc3\\xab3 \\x91B\\xde\\xd4\\xc0a\\xde\\n\\xcajvi\\t\\xd5f\\xd3\\x1a\\x0f\\x7f\\xfc\\xe0\\xed\\x7f38~\\x8desQ\\xe5})\\xea\\xd8#w\\x8f\\xca\\xfb\\x91\\xe7\\x7fn\\x1aK\\xb4\\xdcU\\xd6|\\xfe~\\x1d\\x1bQ\\xed\\xac\\xba\\xa3W\\xa0\\xf1i\\xc845v\\xf4.\\x03\\xb6\\xd5\\xd81\\xd5y\\xf7^x\\xe1Aye\\x85:\\x9eG\\x8b6\\xb01d\\xf5\\xce\\xa6&*\\xa9\\xa5\\x96\\xda&\\xdb\\xd3\\xdc \\xbc\\x1e\\x9e\\x1d\\xf0!\\x8b\\x81\\x1a\\x94\\xa5\\'\\x1f\\x8d\\xda\\x87z\\x96\\xbb\\xe2?\\xb7U\\xfb\\xd0p\\x91\\xb8q\\xde4\\x00iu\\xf5C\\xe0\\x1e]\\x91\\x1f\\xee\\x9apS\\xa7^\\xfex\\xb0\\x973\\xdb\\xa1i\\x8f\\x15C(\\xd4\\xee\\xc9\\x85w/\\xec\\xd5\\xfb\\xc6\\xd3=_\\xfc\\xc6G\\xa5\\xdf@\\x11\\xe3\\xcc\\t\\xd9\\xd0\"\\xc6\\x9er\\xf0I\\x02\\xfe\\xa89\\x8f\\xba\\x85\\xc8\\xab3\\x9c\\xc2\\'\\xa6\\x00*\\xdb\\'\\xdd\\xe5j\\xe9\\x92\\xbe\\xd3=\\xde\\x0b\\x96V\\x15\\x0b_\\xbe\\x1e\\x98\\xd2f\\x89p\\xad\\\\\\xf5\\xc0\\xcf0>76\\xb7}\\xa1S$\\x8d\\x8f{2\\x8a\\x92\\x99\\xb7O-\\xb4\\xf2\\xdbh\\xec\\x80Q\\xbd\\xc7\\x96\\x87\\xae\\xa0n\\x07M\\xd5{\\x0b\\xfd\\x8b\\xc0\\xad\\x9d\\xdeT\\x99\\x95Zj\\xa9\\xad\\xb7=\\xec\\xe5\\xd1\\xcfz\\xb1\\xe7~\\x84ai\\xba\\x171)m\\x80\\xf9\\xb1\\'[M\\xbc\\xf5^!\\x86_\\x1b\\x11\\xf5D\\\\#P\\xbbf\\x0b\\xcf.\\xf2ur\\x1b\\x07\\x8a\\xd3\\xdc\\xd6\\xea\\x05\\x18\\xf9\\xe5\\x99\\x13\\xd0X\\xad\\xecA\\xcaq\\xc3\\xc1\\xa9@\\xd4\\x88\\xc9\\xf8k\\xa4\\r\\x8c\\x10V]\\x91\\xf0\\x83KG\\x03\\xe2\\xa3\\xa6E\\x86\\xdf/\\xd0;B\\xa5\\n\\xea\\xc2\\xa8\\xbc\\xef\\xcb\\x1b\\x9byu`-%\\x06\\x8c\\xe4d{\\xc1]\\x95\\xfa-\\xa0k\\xbf\\x8a\\x07\\xdfY\\x04\\x94\\x14IG\\xfez\\xd8\\xcf2\\xa9\\x15I\\x9b\\xe9V\\xbf\\x81;\\x83\\xed\\xf6\\x1ct;\\x85\\x1f\\x15Hf\\x87\\x19q\\x1e\\xdcG\\xa2\\xe0\\x92\\x95\\x95\\xd8\\xcd\\xaa\\x03\\x85\\xbb\\xd4R{\\xea\\xac\\xf3]\\xbc\\t\\xd3\\xcfP\\xa1\\xfc\\x9aaXR\\xbb(\\x16\\xb8\\xe5\\xcd]I\\x9bFn~\\xdfl\\xc1\\x92\\\\\\x8b\\xcc\\xb4:\\xb8\\xbau\\x14+\\xdf5\\xb6\\xa0\\xdc\\xd5O\\x9d\\nC\\xb7ur\\xea\\xe9W\\x03Y\\xb9{q_\\xea\\x05\\x14\\xc2\\xce\\x17o\\x08I\\xc9^I\\xea\\x02\\x99^\\xa3\\x81s\\xe9/`\\xfaW\\x8e\\x8cS\\x1f\\t\\xe3\\xa0\\xb6\\x01Ju\\xaeDt\\xd0\\x82r\\xe9\\xcd}=+jD\\xd571\\xad\\xde\"k\\xe6~\\x11\\xf1\\xbd\\\\n\\xf0\\xf1?\\xfd\\xfb]\\\\\\xfbh\\xb6\\xc6\\x8f\\xae\\xf7\\x92\\xe1{\\xbc\\xb0\\xedzO\\x9atC\\xe3\\x7f\\x80\\x0e\\x05\\t\\xd2\\x99\\x88\\xbf\\x16lP\\xafi\\xa2SI\\x8c\\xd4R{\\x8a\\xac\\xfdY\\xb1!\\x1fK\\xfa\\xf2M\\xc5\\x92]Z\\x82D\\x12\\x86\\xe3\\xd3\\x90=\\xd1\\n\"k\\xd1\\xdd\\xb1\\x85\\xb0o\\xd1\\x96\\x135\\xf2u\\xecJ\\xd8cR\\xb2\\x18O?\\x01.I\\xdf\\xec]S~\\xbd\\xea\\x0b\\n\\xa9{\\xad.T\\xeej\\xe5\\xf6%\\x8d\\x9bG\\x07DZ{\\xa0<\\xf6\\x1b\\xc9\\xb4\\x1e\\x17&EV\\xb1Y\\xee>\\x1fW\\xb3G\\xbcsB\\xbb\\xf6\\xfaU\\x9a\\x8c\\xcbN\\x1b\\xac\\x08\\xdck\\x8d\\x1d/TKF\\xc8^\\xc5\\x0e\\xe6[\\x87\\xcb6\\xac\\x13\\xba#\\x02\\x98\\xe0\\xa1\\x8e\\x02\\x95:\\x95\\xbaK-\\xb5\\xa7\\xc8:\\x99\\x12$*90\\xf1M\\x06Y#*I\\xec\\x0e\\x12\\xb9m\\xa0\\xff\\xbb\\xc3,54\\x8c\\xb78\\xcf\\x82\\xe9b*\\xcd\\xbf\\xa5@\\xa7l\\xdb\\xe8Mh\\x93\\xef\\xa1 \\xfe\\xec0\\xe9\\xdc6\\x80T\\xda\\xe3p\\xea[\\xc1zL\\xf9\\xe6\\xfa\\xa0\\xb1,5\\xb7\\x07\\xb8\\x00w\\xa9\\xf4\\xb5\\xa3C\\xc2\\x89\\x18\\xe9\\xa0\\x8d\\x16\\xaf\\xb9\\x9ae\\x89&\\x99\\x8ew\\xdd\\xbe\\xb8\\xaf\\x90\\xbd9\\xf8\\x95\\xfe\\xaf\\xfc>\\xf7s\\xf4\"\\x02\\xe2_e\\xa4\\xe7V\\xf9\\x02\\xc0n\\xa1s\\xbd\\xc3\\xfb\\xdb\\x93\\xa4vg\\xb5(\\x98\\xea\\xcdzk\\xb5;;v\\x08\\xa0\\x17\\x8d*\\xa4v\\xb6%aM\\n\\x9a\\x9c\\xc9\\xf2;]\\xd82,\\xb5\\xd4\\xba\\xc2:\\x11\\x80Tx]\\xce\\x0f\\xca\\xc7\\xacIv\\x0c\\xd3\\xaa\\xf9\\xf9\\x85\\x07\\xf0Y\\xb8wf\\xdbc\\xaec\\xce\\x115\\x9b\\xdc1\\xa1\\xe6\\xf6\\xed\\x9d\\xdd\\xb1\\xd6R\\x91\\x9f\\x98\\x16\\xd8W\\xcf\\x8f8\\xf5+\\xfb\\xf3R!\\xea\\xd7\\x87\\xc1\\xfa:\\x10\\xc7\\x03;\\x98\\xb3\\x93[%\\x99\\x8f\\x88\\x99\\xfe\\xecSa\\x7fv\\xa0\\x90=\\xb5\\x03\\xdc{\\xc8\\x1e\\xc2\\xa8=\\xb5\\xc1\\xc2\\xa8}\\x9fpWXH\\xf5a^\\xbd|gg\\xaa\\x0f~\\xf8\\xe2\\xe7\\xa6>D1\\xd1kD\\xad\\xa1$\\xad\\x0c\\xb4\\xe2Mo=\\xf30\\x97\\xdf\\x85\\xbei\\xc6R\\xae\\xf5]\"\\xec\\xe6N4\\x1e\\xfft%\\r\\xdc\\xa7\\x96\\xdafk{J\\xe8\\xb4\\xea\\xc4\\x0c3\\x9d\\xbb5\\xab\\x9d#\\xfd\\xcd\\x97\\x95O\\xcfoC\\x84\\x88\\x86_\\xa6@#\\xa9\\xd6U\\xb7s;u8\\xda\\xea\\x08:h\\xd0\\xd2\\x19\\x06\\x16\\x08\\xb1tg\\xff\\xe4w<\\x85r\\x81\\x1b \\x98\\xbe/\\x0c\\xd6\\xf7Q\\x00\\xa7k\\x05\\xebw\\xb6\\xc8f\\x05\\xf9\\x91\\xcd\\x90=f&2\\x8c\\xcd\\x95.\\xa0\\x86p\\xa9\\xb4\\xf73\\xd0\\xeaX8;%8\\x974\\n\\xc2\\xd0\\xf9Zu\\x87\\x9cM\\xe4\\xf2\\xb4\\x1e\\xf5\\xc0\\xfb\\xc3\\xcd>\\x01R\\x04\\xdc9\\x01\\xden\\xeb7\\x96A\\xcc\\xf6\\xc1/[`am\\x17\\xc6\\xdc,\\x13\\xc9\\xd1\\xdd\\xcf\\xd3HNj\\xa9m\\xb2]\\'\\xc3\\xa6\"\\x1a\\xadE\\xaeIoV\\x86\\x07\\xf5ri\\xbb\\x18kx\\x84\\xc9\\xab\\xf9\\xd9\\x9c\\x80^\\xc6\\x880\\x87x\\x1a \\x8b&\\x08j\\xd8\\xb6b7r\\xb4v\\xba\\xc7\\xaf3.4\\xaf\\x9a\\xb0\\x988\\xf5\\xb7;\\xed\\xae\\xb7\\x95if\\xfd\\xf84\\xf5>\\xd4\\x9b\\x06<>4V*w.\\x1f\\xb5`\\xbd\\xb6V\\xc8~\\xa88M\\xca\\xa3\\x91%6pwb\\xbctx|\\xcd\\xb5W\\xefB\\x97V\\xa9\\xb3\\xb0\\xc0\\xaf\\xac\\xeb;\\xb6\\x8di\\xb5\\xfd\\xf1i\\xac\\xae\\x92\\xa6\\x111e\\x80\\x02\\xdf\\x0eV\\xbe\\xf3\\xa6\\x1a6[\\xed\\xa8\"!\\xc1\\xb3\\xd3\\xdcqp\\x9f\\xa75/\\xd5\"ma!.n\\\\R\\xc6}j\\xa9\\xad\\xb7\\xf6Z\\x14\\x9d\\xb9\\xfa\\xc2\\x0b\\x9f,//\\xb3H\\xa9*\\xf1gV\\xab;m\\xd8#y<M\\xa8\\xa7\\x94\\xac&J\\xca\\xc6\\xca\\x8e\\xdf\\x8d\\x1c\\x81<\\xeb\\x81s\\xd7x\\xa6\\x87\\xc2\\x05\\x14\\xc0\\xb1\\x1c\\xac\\x92/m\\x97\\rn\\xd3\"\\x95G\\xd8\\x9c\\x84\\xbar\\xd3\\xf1\\x01\\xd5\\x12\\x82ri\\x0f->\\xba\\xc6\\xe8\\xc9\\xe4\\x8boI\\xc9%cf\\x8d\\x8c\\x85e\\xafM\\x07\\xd6\\xc6\\xaf\\x0b\\x8b:I\\xd1\\x12\\x8e\\xe4%\\x0c\\xac]\\xd2={\\xdb\\xdf\\xae\\xe9\\x1c/Sk-\\xae\\x1c\\xab\\xb8\\x8a\\xef\\x1c\\x9a3\\xfc\\xdd\\xb7\\x98\\xd3\\x1b\\x16j\\xf8\\x8c\\x9a\\x1b\\xf3\\xac\\\\t\\x9f\\xdd&\\n\\x94ZjO\\xa9\\xed<\\x19\"\\x13\\xb2\\x19\\xbd1P\\xbbA]v\\x9b\\xe3P\\x12\\xaf\\xb7x\\xdd\\xc6\\xdeu\\x16u\\xb0\\x03M\\xb5\\xb4\\xc1Z(\\xfd\\xfa\\xee)Y\\xda\\x16<\\xf7\\xc3S+Y\\x97\\xa4Tt\\x1a0\\x0b~\\xbd\\xf2\\xf2\\xa29\\xc5\\xde\\xad\\xb5\\x96\\x84\\xb1\\x8ee\\xbcN\\xce!\\x08\\xf2\\xfd\\xbd\\x0f\\xde~\\xedh\\xe3\\x85f\\xd9\\xcf\\x0ek\\x1e:\\xa60\\xed\\x1e\\xf0\\xd7*\\x1dw\\x1b\\xdfl[1j0L\\xa4V\\x94@2\\xafV\\xfa\\xfa6\\x8ey\\xc4\\xe8\\xa7\\x03\\xb3\\x03\\x0c2\\x8c\\xd9R\\xfa`\\\\t\\\\\\x95\\xaaw\\xde\\xd8>\\xe5\\xdeL =\\x1a\\x94\\xc3\\xeb\\\\\\x10\\x87\\\\\\x90\\xdb{.\\x0fN-\\xb5\\xe3i\\xbbM\\x83\\xb0\\x02\\xd3R\\xbe!\\xc9N\\xe9oa\\x9c\\xd4\\xf7P\\x96`\\xdb\\xcdr\\xab\\xee\\x06\\xf9-\\xd9\\x089O9n\\xde*e\\x08u\\x9c}G\\xd7\\xaf\\x15\\x88h\\x8a\"4\\xb9\\x83\\xbb:\\x8f\\xed\\x19\\xf1\\x8bh1#@\\x04\\x02\\xc4u\\x82\\rG\\x11/\\xa2,\\xfb)\\xc8\\xf4\\xd12\\xa6+\\x1b<l\\x92\\xbe_\\xb77\\x9a\\x89\\x99\\x01\\xc3\\xec\\\\G\\xbe\\xdc-\\xfc\\x15\\t\\x04\\xa9M\\x95\\x9d\\x13\\xfe\\x1a\\xe6x\\x03b\\xbbR\\x00m\\xb7\\xca,\\x13\\x05\\xe2\\xd4\\xe12d\\xdcK,\\x82\\xf3}\\x1c\\x9c\\x14{<\\x9a\\xaf/\\xb5\\xd4b\\xb6\\x1d\\xe6@4\\x816\\xc2\\x9d\\xa6S\\xaf[\\x98\\xaa}\\xfa\\x9b\\xbb@!f\\xffn\\x8d\\x9c\\xfd\\x96g9a[j,\\xdf\\x94\\xc2\\xe3l\\xa5<V\\xdf\\xadqht\\x9b\\x1f\\xe9\\xfe\\xca8\\x13\\x9e\\xcc\\xd8\\xd5?\\xfd\\xea\\xee\\x9e\\xe3\\xaeF)\\xca\\xde\\xaf|\\xcb\\xf6-S.\\xa0\\xab\\xa8\\xdc8\\xb8\\x89\\x87i\\xd1\\xf0\\xd4\\x14s\\xfaZ\\xe1)`\\x82\\xf1\\xa5\\xd2\\x1b\\xf1\\xd0\\x13\\'\\'\\x9f\\x9f\\x1dX\\x02\\x87\\xca\\xa9h\\xd7\\x85E\\xb0\\xf5\\x0e\\x82\\xe6j\\xad\\xed]\\x19\\\\Y\\x0e7\\x1f\\xf8\\x16PH\\x8f\\xfb\\xd5w.\\xef\\xe2\\xda\\xd3\\xf0\\x1887\\xcd[\\xedp7\\xa7\\xfdSK-\\xb5m\\'a\\xa4\\xc2h|\\x1a\\x9c\\xe6\\x1e9\\xd0\\x132\\xd7S\\x7f\\\\\\xff\\xe4\\xf6\\xbea\\xb4\\x98~\\x06\\xd0\\xa9_\\x91\\xad\\xe2\\xa96\\x8a\\xe9\\xb5i\\xb2\\xc7\\x97\\xaf\\x05\\xbel\\xe6\\xdf\\xa8\\x9cu\\xa5R\\xda\\xe06\\xca\\x91/\\xcc\\xb8\\xb6\\xc5\\xb9\\x90\\x14\\x02\\xc0P\\x0cR\\xcb\\xc1\\xa4\\x91I\\xa0\\xd8H<jIN*\\x11\\xa0l \\x93\\xcd_\\x03S\\xb2Od\\xd0}&\\x03\\x0e\\xd7Z1\\x96\\x81\\xf1\\x19\\xea\\xed\\xeecH}]E\\xd5>)F\\x11\\xf2e\\xb3@\\x97\\xbc\\x01\\x85\\xb9\\x96\\x10\\x8bw.\\x86\\x9e\\xf5Vvfr\\xa80\\x12\\xf0\\x80\\xf3\\x8c\\xba6\\xb5Fp\\xd48r#\\x02\\xd7A\\xf8\\xbed\\xe8+p\\xfd\\xe2P \\x19HV\\x95\\xab\\xffZR\\rK\\x00J\\x18\\x98\\xd7\\x8a\\xee\\x88\\xbbF\\xa9\\xf58v~]f\\x85_\\x9d\\x12\\xab\\x80\\xda\\xdf\\xb8.\\x06\\xfa\\xe1`\\xb5\\x0b\\xd3\\x0f \\x1c\\xea\\xda\\xb4\\xca)\\x0eu\\xce\\xe8C\\xe2MIR\\x01Q\\xcfP}\\xd1\\xaa\\xc1\\xdc\\xd3#\\r\\xdd\\xff\\x95\\x1b\\xdcu\\xa5\\xc5x \\xa4&\\xa7!\\x1e\\x08\\x82\\x18\\xd3\\x12\\xa7\\xa9\\xda\\x1b>=iF\\x10\\xfe\\x94\\xe3\\x8fqH2\\x16H\\xf5\\xfc\\x9ew\\x16g\\x8f\\xc2\\xd3\\xdb\\xd1\\xad.\\x96N\\xe6\\xfe\\xa1Q\\xcf\\x01\\xd7\\xd5\\xa4$\\x1e\\xa0\\x9c\\xf4\\x86[}wW\\xe5a*\\xb7\\xf9\\xfc\\xef\\xf3l\\x16\\x98M#\\x92*\\xe9\\x03o\\xb7u\"<;\\x18\\xb7\\x14\\xbd\\xb6\\x8c.\\xb5\\xd5YS\\x9b\\x81\\xab\\xde\\x92\\xda\"\\x00\\xbe \\x1a\\xd3R\\x86`\\x1d\\x97!\\x9e\\xa0\\xb2\\x1bJ\\xd8\\xa3>\\xbe:uen.\\xf9\\xa2\\xaa(\\xf1iZ/\\x93\\x06@\\xf7`L\\x0fK=pi\\xda\\xab\\xbfc1\\x9a\\x8br\\xcdn=\\x06\\xb9f\\xa2\\xea\\x0f\\x8fO\\xfb<\\xac\\x8f#}P\\xe1\\xad\\xd6J-\\xc6jo\\xf1\\xba\\x85\\t\\xe2\\xa0\\xb5\\xf4\\xea\\xc9\\x15\\xbf\\x19Y4D7\\x8e\\xc0\\'\\x02\\x7f\\xb8o\\x80\\xdc\\x82#i\\xfd\\xc5oq\\xc81\\xe9\\x19\\x8f\\xa45\\xc6c\\x1c\\xedM\\xe3\\x88z\\xea\\xa9\\xf9^\\xe5{_?\\xf2k\\xe4\\xf9\\x1bC\\x0b\\r\\xb0-\\xa3\\xcf\\x08,\\x01\\xa0\\xd0\\xa6\\xa7\\x18.\\xba\\xc8A\\xf6a\\xf1\\xcf.t\\xdb\\xd3\\xdb\\x85#\\x81\\xba\\x8fT\\xf1\\xd4R\\xaf\\xf5ve:F\\xdd\\xbd\\x19\\x88\\xd2o\\x9a\\xe2\\xc3mz\\x94\\x9f9\\x0f?\\xbc\\x81\\x07\\xd1\\x14\\xecuM\\xaf\\x92xa;X\\xb8\\xe0\\x13Z\\xaa\\xff\\xf6\\xb9\\xce\\xc3\\xef\\'\\xc1\\xea\\x8bP\\x8f\\xc6\\xa7x\\xb6\\xcfP\\xe3\\xe5\\x9e\\xb0~K3rc=\\xeb5\\t\\xf6a\\x86\\xb4:E\\xda\\xa5T\\x89F\\xe1{\\xc1\\x84\\xcds\\xca\\xf3\\x91\\xc6\\xc7\\x14\\x07\\xfa\\xc66\\x98vw\\xd5V\\xc1\\xf2j\\xa5\\x1aL\\xee3\\xab\\x9f\\x90\\xe1\\xdb\\x7f\\xee\\xf37\\x963.\\xa7\\xfd\\xa7n\\xe4\\x12\\x19\\xf6\\x07c\\xb4\\xaap\\xdc4)\\x0f\\x8f\\x07\\xac\\\\:\\x1fC\\xbc4i\\xd3L\\x90/\\xfc\\xa1\\x95\\xf11NyX\\xe3\\r\\x1f\\x1e\\xe99rT\\x81\\xe5\"\\xe8\\xb3\\x02\\n\\x05\\x1f\\xb2m\\xcf\\x9f\\xb9r\\xa5\\xef\\xec\\x1f\\xd8v 5\\x1d\\x1e@\\xefe,\\x97-\\xfe\\xd9\\x1bmH\\x1aH\\x98\\xfd\\xe6\\xa0\\xb4\\xa9c\\x94\\x8fc\\x96\\xc8\\xf5\\x8e{b\\xfe\\x17~\\xba[\\xa4>\\xbc\\x06\\x80\\xa1\\xfb\\xc3\\xa8X`^\\xdb!B\\xc5\\x06\\xe3\\xe4%0\\xf5:\\x83\\x06_~\\xf7q|\\xd8q\\xb4\\xb0>\\x92\\x15\\xd0\\xb4\\xda\\xc6*\\xed\\xff\\xe2\\xbb\\xda\\x98\\rU\\xfah_\\xce\\xb8\\x00d\\x82u\\x03\\x84Q\\xe2\\x04\\xb9\\xa7\\xd8$G\\x98q\\xde=M\\x9b\\xb52\\x9dmC\\x10TJ\\x17\\xbaN\\x85\\x82\"-\\xfd\\xc5\\x19\\xae\\xa7IR\\x9e\\xfb\\xde\\x8c\\x86\\x9a^\\xb2\\x99%DP;\\xbc\\x07\\xb8\\xb3\\xd0\\x18z\\xe5\\xeb\\xf83\\xee\\n\\xa2\\xc3N\\xfc\\x99\\xf5U6\\xa6\\x8a}=ozg\\xfa\\r>\\x08\\x18\\x18\\x1f\\xe16\\x06.p\\xdf\\x8f\\xceX\\xf7\\xbc\\xbc\\xa81\\xed\\x001\\x0c\\x98\\xfa\\x95\\xb1\\x85\\xb6\\xd6\\xb0]\\xecha=\\xd9\\xf9\\xf3p\\xf3f\\xbe8-\\xccd\\x8b\\xe72\\x934zG\\x1a\\xf4\\x85[\\x9e\\xaf\\xc0=\\xf5\\xf7\\xc9\\x83\\xbe\\n\\x9a\\xf0\\xbd\\xb3\\xa3\\x8eNk\\xeb\\x00\\xb1\\xec\\xd6\\xc7\\x87\\xcf\\xccb\\x14\\xf2\\x0f<\\xbe\\xfcs\\x8f\\xf1\\xc3C\\x04}\\xf2\\xe2\\x071\\x17eK\\xb3:v-P\\x90\\xd1\\x03\\xc4\\xcb\\xe3j\\xe0\\xd5+\\xdf\\xfd\\xda\\x01\\xfb\\x19[\\xf2g0>3\\\\\\xfc\\x86\\xdf\\xd48\\x93F\\xb4\\x16\\x9b\\xd8\\x8d=\\xda\\x11\\xd1\\x9ae\\x8d\\xe75\\x91\\x8e\\xe4e\\x88v\\r\"k\\xfbO\\xbe\\xf3\\xb5m\\x965\\xf5\\xc5\\xab\\x85\\xcf\\x15\\x82\\x13\\x0c,\\x14+\\xd6\\x8c\\x91\\xee}s\\x1b\\x0c7\\x1f\\xc0\\x03\\xdf\\xf2\\xd6\\xe6\\x7fam\\x1f\\xa0\\x7f\\xa4\\xb0\\x9e\\x16\\xe6\\xc2\\x97G}i1I\\x0ei7\\xa3\\xd5F\\xa3\\x17\\xc4\\xa9\\xe1\\x89pk\\x85\\x1c<\\xf7\\xe8\\x80\\xe6\\x1e=\\xb7\\xfc\\xb9\\x82`\\xb6\\x0e!w\\x91\\x17\\xbf\\x8b\\x91\\xa3\\xca\\xb0\\xfd\\x80p\\xbd\\xa5\\x9f\\x9b\\x07\\xb8\\x02\\x93\\x07\\x19\\x95F\\xa0\\x18\\xf9\\xc2\\xcfx\\x19\\xcac\\xa9\\xeb\\x11\\xc1\\x01\\x9e=\\x16#\\x1fQ\\r<\\xe9W\\xe4\\x02\\xa0R\\xc9\\xe4\\x81\\x9cu\\x9dEH\\xf1\\xe7\\xa6\\xa8\\xb6(\">\\xec\\xd5\\xb1\\xbd\\xe7\\xae-A\\xb4\\xe4\\xd6\\x97\\xa6\\xa4c\\x87\\xcd\\xfcHr\\xc0[\\xddD\\x9e!#y\\x93\\x01\\xf8%\\xc6r\\x06\\xdc\\xcdF\\xec\\xc8\\x99\\xf2\\xef\\xf1\\x1d\\xaa\\xadnuU@\\xdf\\xde8\\xecG\\x04\\xeb\\xa97o\\x1e\\xca\\x02\\xa9Y\\x9c\\x02\\xe1G\\x05\\xad\\xd6\\x1b\\xd3[3Kr&]\\xb7f=\\x8b\\x1f&G\\xbe2\\xa3\\xfd\\x97\\x19\\xcb`zZ\\xbf\\xd6\\xa37\\xda\\x89\\x9dB$\\x16\\xe5T/\\x8c\\x1d\\x88\\x8fO\\xc7\\xef\\xff\\xbf\\xfb,qB\\xca#\\r\\x14\\xa1\\x91\\x83(\\x03\\xd1sb\\xedq\\xfd?A\\xe9V\\xa2\\xb9\\xdc\\xad\\x84\\xa50\\xbf\\xf1\\x96\\x9d\\xb5\\r\\xd1\\r\\x8bSP.\\xbc\\x8fy\\xd4?z\\x870\\xfd\\xe62\\xd4\\x96\\xe4\\x80\\xda\\xfca\\xb0\\xcf(,\\x8615\\xa2\\xfa\\xd4\\xeb=\\xa1\\xbe\\xf1\\x11\\xf2\\n\\xb72\\xca\\x1ec-\\x8f\\xba\\x1f\\x11\\x94a\\x14\\xe6>\\xd8\\xb1^l\\xb3\\x1d\\x05\\xac?3\\tg \\xff\\xfe\\x88T\\xdbgua\\xcd\\x10\\xf3\\x116\\x1a~\\x96\\r\\x81\\x9b\\xef[|\\xf0\\x00\\xe2\\x17\\xcb\\xa4\\x1a\\xe6\\xa1\\xf7\\x87\\xd5C\\xa3h\\ry\\xa3Gz\\xb47\\x11_P\\xfb6tn\\x92i\\x03\\xa9\\x9e\\xd2Di\\xc8\\xfbG\\xc8d\\xa4a\"\\x1dq\\x94\\x8f\\x1a\\x12\\xd8\\xb0\\xf3v\\xb5\\xbf\\x0fVz\\x93\\xd3\\xf6\\x88\\x1e\\x94PF\\xcb\\xd7l\\xa8tEF\\xb6[\\xb9\\xfdF\\x1b}\\xfe\\xf0\\x05\\x9c\\xfc\\xb5\\xdfk\\xac\\xe5\\xe8\\xbb\\x18\\x85$\\x01B\\xda\\x13\\x9c\\xbf\\x89\\xb5-\\x9a\\xb5JC??\\xfb\\x8c\\xb08\\xd2\\xefL\\x83\\xf2\\xe3a:8`\\xb3\\xc0\\xcb\\x9e\\xa8w\\xa8\\xb2\\xdb\\xe5Xo\\xc4\\x91*\\xcbK\\x92g\\xa0\\xd9\\xfa\\xf5\\x18\\x18\\xd35\\xb7\\x8e\\x14\\x81\\x13\\xb8\\xf3\\x8bU\\xb5\\x9e\\xc5\\xe3\\xab\"O\\xa1\\x94\\x87Gj{\\x8b\\xcf\\xca\\xd0g\\x8f\\xcdC\\xa3&\\xefR\\xf2\\xa0Q\\xe6\\xcf\\x85\\xceM|\\xa6\\x80b\\xee\\x83\\xa1\\xd1Q\\xc1HO\\xf5\\xa8\\xfb\\xf2\\x9bM\\xd3\\x0b1\\x96\\xc8P\\x97\\xf0\\xf4bB\\xcd\\x937\\xc5p&\\xaf\\x8e\\xce\\x8e\\xbaH-\\xb7\\xb4>\\t\\x95\\xad7\\x9d\\xfa\\x1d\\xd6\\x9cVVv}\\xf7(,la^\\xa3|\\xfb\\x82\\xa1Z\\xd2\\xf6\\xbf\\xbf\\xe7\\top\\xcc\\xa5\\x08\\xff\\xf8\\xe0E\\xd3\\xf4\\xfb#\\x0f\\x8e\\xb1FY\\x9cj{\\x0et-\\xd6\\xe3\\xd8\\x80{\\xd0\\x7f\\xea\\x14\\xf7}*\\x95p\\xc3B\\xa7\\xe3b\\xcdm\\x99\\xba\\xa9\\x00\\xaa|\\x04?\\xdc\\xe7\\xac\\xd3\\x92D\\xf7\\x0b\\xc8C\\xd5\\x0e\\xcdqzb\\xc6\\x18\\xf1\\x9b\\x90h\\x87\\x12\\xaaq\\xf5\\xf6Q\\x8f\\x0e\\xa0\\xdf\\x7f\\xc2\\x1dN\\xd5N\\x81\\xe1=\\x1fOkf\\x8fd\\xe0\\x89%\\xfb\\x99\\xd8;g4\\x81\\xbb\\x85\\xd4\\xf9\\xf1\\xebR\\xed\\x95\\xa89\\x1c\\x91\\xe2O\\x08w\\x19\\xbb\\x05\\xedB\\x8a\\x8f0p\\xa2B\\xf3(i\\xe0\\x83\\xefW\\xbe\\xf75\\r\\x16\\xca]\\x1a\\xfa\\xd1(8\\xd6q\\xd9\\xfeoo\\x9a\\x98\\x89\\xfb\\x1b\\x8f\\xe2W\\xf7\\xda\\xe8\\x10\\xd2\\xadX\\xaf\\x86\\xdd\\xf1\\x06zmM\\xb8\\x17\\xc2r\\xeb\\x8b\\x99\\x9f\\xc1\\x0f\\xf7\\x02\\xf7\\xb44\\xce\\xbe\\xd4\\x07\\x1f\\xb7t\\xf6\\xd7\\x15\\x88\\x1c3#w\\r\\x83\\xbdn?\\xf3?\\x9a\\xfb\\x97\\xd4\\xb9h\\x1f\\xb1\\x08\\\\0\\xae\\x0c\\x9e\\x9da\\xb6s\\x84\\xb3A\\x1d\\x1bC\\xb8g\\xca\\xc1\\xf7\\xab/\\xcf#Zv\\x16\\x01\\xde\\xf9\\xd0Q\\xa3edpv\\xc4t\\x0bB\\xa4\\xb6\\x08\\xa9\\xfb*\\xef\\xbe\\x06W\\xdb\\x90-\\x9c\\x9c\\xec\\xff\\xfc\\r\\x9eu\\x9b\\xf1w\\x1d\\xb5\\x0f\\xcb\\xaf>P\\xbf4pn\\x1a\\xcbPQeL7\\x90;\\xc6\\xaf\\x90\\x99\\x82:\\xec\\x9aT\\xaf\\xdd\\xb9\\x0c\\x9f\\xb9\\x01?\\xdcY\\xa1\\xa5\\x0b\\xb1\\x9e^\\xd0\\x99{\\xcf\\x8f\\xfe_K\\xd2FQI|w\\xc7\\x15\\xb64\\x8fV\\xedk\\xb3R\\xd43`\\xcda\\xb1t\\xe7\\xb1{\\x9d\\xd2\\xb8?$\\xec\\x1c\\xe2\\xd41\\xf7I\\xa1Yl\\x88U\\xd9\\xc2c\\x9e[\\xa9\\xe8 \\xd8\\x1e\\xd2\\x1e\\x18\\'<\\xf93\\xbdkk9\\x86q\\xc2c\\xeaUlmZ\\x87!\\xec\\xc40\\xb6\\x10\\xc2}<\\x87\\x86\\x08Q\\xf2\\xf5\\x81\\xf1o\\xa1\\x088\\xb5\\xec`j\\x806\\x91\\xba\\x1d\\xa7\\x9e\\x08<\\xd8\\x0b\\xd4t\\x1a\\xe2\\xa1\\xfa\\xb1W\\xbd}\\xf1\\xb9\\xcf\\xdfx\\xb8\\xf4hhdX\\x1a\\xa0?vq\\x9b\\xad-2\\x07\\x02\\x97\\x92\\x16;\\x0b\\xe2w\\x1b\\xd6\\xd3\\xf5\\x98\\xde\\xeb\\xba\\x80y-\\xe6\\xeb\\xe9B\\x0b\\x1f\\x11xu\\xecM\\xd6\\x81\\xdci\\x84s\\x8c\\xad\\xea3pl\\xe36[\\x99\\xc9y\\xa8\\xbb\\xf6\\x03_.\\x95\\xe7;\\xcey\\x14\\x8b\\xea\\x9faX\\xf0AD6CO\\xc7\\xd33\\xd6D\\x0c\\xc4I\\x0c\\x9e\\x9bM\\x12\\xec\\xd3\\xbb\\x8f`}T\\xc4\\xca[\\xd5X\\xacN\\xeb8\\xd6\\xdc\\x9f\\xfe\\xfan1\\xb8\\xad\\x028Z\\xfa\\xb8\\x99\\xa3\\x07\\x18\\x90\\x8f9V\\xcf\\xbb\\xc7z3\\xbb\\x95\\x999\\x90\\x85\\xa0^\\xd9\\x05^\\xbb\\n\\xeb5\\xd0\\x93\\x80\\xda\\xc4\\x0c:Y\\xa4\\xf9\\x9c\\xc0\\xdcc\\xa6\\xbc\\t\\xd9)\\xb6d>\\xd6hzLzY\\xe64\\x84\\xd3\\xcf\\xf8\\xaa\\x08P\\x1d\\x8d\\xfb\\xa8rC\"hIs\\xd2\\x89\\x84f;\\xcc\\r*w/\\xb4\\xa7\\xd9\\xd9\\xf2\\x99P\\\\\\xc4r\\xa4\\xef\\x85\\x9f?%\\x16\\xbeG\\xeao\\xe14N\\xcc\\xd7~\\n\\xef]\\x01\\xa3-\\xb8\\x9b5\\x03\\xf46W\\xd8AM\\xe7\\x8f\\xf7fh;3\\xc2\\x18\\xb4j6xF.\\xfe\\xb3\\xd3p\\xe5L\\xbb\\x8fq\\xdb\\x83j#\\xa5\\x97\\xc2\\xafN\\x8b\\x06\\x93FiK\\x92&\\xe5\\x1a\\x8a\\xd3\\xee,s\\xd6:\\x02+|nJ\\xf4\\x82\\xa4\\xd6\\xe1\\x88n\\xd9^h,W\\xa8\\x01\\xe9\\xd0\\xa2\\x0b\\xba\\xb4\\xeai\\x03zc\\\\\\x07s@w\\xf7\\xde\\xf6\\x91v\\x15\\xd6\\x83\\xe6\\xc5>\\x0f\\x1fa\\xf4\\x86\\xb6&\\xb1\\xbe>\\xadX\\x80O\\xc0\\xf5\\xeb\\xab\\xd6\\x7f\\x84\\xb1\\xb16\\xdc\\xc0\\xc9\\xe7\\xce\\x9fZ-{\\xb2\\xc5\\xd3\\x8d\\xebz\\xa2\\x17Fz\\x99\\xba+\\xce\\xfcb\\x1b\\xfei\\x0b\\xe8\\xb16\\x05\\xc1\\xce\\x0f?\\x7f\\xaa,tKi\\xb2\\xb7\\xd1P:4Jb\\xf7\\xffx\\x84\\x83\\xa6l\\x1c\\xfb\\xa8\\xd7\\xce\\xd6|\\x8cY\\xe5\\x1c\\xf7\\xb3g>\\x1a\\x1b\\x85\\xc93\\xe6G{<b\\xd4%\\x9f\\x98\\xa6\\xe6Su\\xd3|\\xca\\xce\\x81\\xa8Wn]\\xda\\x8dj\\xd9\\x92U\\xc0QN\\x17\\x17\\xb6\\xaf\\xb2Y\\x10\\x94o_D\\x12\\xa7\\x1d\\xaa\\x93?-i\\x96M\\xa6\\x95\\xf6\\xb0\\x80b\\xad\\xfa\\xce\\xd7\\xb7\\xe9\\xa4\\xd1=X\\xdf\\x1a\\x18\\xd8\\x00\\xd2\\xc9\\xc6\\x19\\xbd\\xd1)PnK\\x10V \\x16\\xf93\\xf8aG)P\\xf2\\x01\\x0br.\\xb0\\x88\\xa4\\x11\\xc4\\xee\\x03\\xb6&\\x1b\\xf3\\xdd\\xf2.\\x91\\x1c\\xfa\\x10_\\xe8\\x99\\xa1\\xe2\\xf5PB*\\x89E\\xe8H\\x98^)\\x83\\xb0kM\\x1b\\xda\\xe0\\xf46G\\xac\\xc7^\\xc0)t\\xf3\\xd4z\\xf4Qk:\\x1c9\\xf4\\xb9\\x95\\xc3\\xf1\\xa9S\\xfb\\xe9\\xa2\\xbc\\x1e\\xebM\\x9fh\\n\\xe0p\\xceD\\xe00>Wz#\\xfc\\xcd\\xed\\x0c\\x8f\\xa0\\x0bb\\xf3\\xe7\\xaeI\\x14\\xb6\\\\\\xd1\\xe5\\x88\\xeamUW\\xe4P\\x0f\\x97\\x99\\x0c\\xf8\\x8d\\x83\\x0e\\xbdi\\x0f\\x94I\\xfc\\x1f)e\\xd0\\xbe\\x88\\x9b\\x9f\\n-H\\x14\\x8a0\\x1e\\xc0\\xb5\\x85\\xd1L\\x11x,\\xc3\\xab\\xde\\xc8V\\xb4\\xaa.\\xc3z\\xfa)\\x0e\\x8cf\\x97\\xc1X\\x96j\\xc6t\\x1cF!\\xfd\\xd2w.\\xedI\\r\\x8a\\xae\\xe1\\xfc\\xcd\\x93k\\xb5\\xfaZ\\x8e\\xf6\\x1c\\x8d\\xb8\\xf7\\x1cL\\xb7^\\xa1f\\x06m\\x88xo\\xc1\\xba9\\xb0\\xd1N\\t=\\xba^\\xe5\\x17S\\xa1\\x96dz+)\\x99\\xa0\\x80\\x88\\xd4\\xfa\\x8b\\x00F\\xf8$\\xf1+\\xa2\\xa7de\\xb8\\xa8\\x97o]\\xde\\xf1\\xe9a2\\xf6\\xb9\\xfeS+9\\xd7\\xbc\\xc7C\\xc8\\xfcKSA-\\xf1!\\x8a\\x10\\x179\\xfdD\\xea\\xf69\\x87\\xb0\\xf6DV\\xcd\\xa0Q\\xb9uq?\\x1d5\\xe8\\x0b4\\xd3\\x06\\x8a\\xdf`\\xd2A\\xe1o]+\\xdbj\\x12\\xbds\\'\\xb9\\xd04\\x8f\\xf8\\xfda\\xc3\\xd3\\xc0\\xa6\"\\xfd\\xd0X\\xf2\\xb9\\x1a\\xfb\\x99\\x03tsL-\\x1fg\\xcc\\x17b\\xa9\\xd4N\\xef*\\t\\xc5\\x89\\x01\\xf8e\\xce\\x88X\\r\\xd4\\xff!!\\x11\\xa5&\\xcejm\\xe7-\\xde\\\\\\xf7`\\xbd\\x19\\x18#g\\xbf\\xe9q\\'\\x04\\x888\\x1e\\x8b\\xbe\\x00\\xea\\xee\\xab.`\\x1f\\xedD\\x0c\\xdc\\xbf\\xe0fZ\\x8d\\xefc\\x8e\\x102M\\xa4R\\xdeB\\xb5\\xd5\\xa4w\\xf3e\\x98\\x0en8\\xfe\\xe9\\xc1j\\x01\\xfd\\x98\\xaea\\x9b\\x0b\\x03#\\xd3\\x8f\\xca\\x1c\\xc2\\x1f=\\xc5>\\x9c\\xbe\\xb4\\xcb3\\xa4\\xaa\\xf8|\\xf1\\xa6\\xc2\\x7f\\xe36\\'W\\x9a\\x14\\x8aO\\xa8S8\\x00scs[)\\xe7\\xb4\\xfc\\x89u]\\x8b\\x0fb\\xebO\\xfb6\\xc6\\xd5\\xcb\\x15\\x1c\\n==\\xbbw8\\x98\\x9c\\x1c\\xfaqAJ\\xcbl9\\xf4\\x7f\\x0eb\\x010\\xe1\\xdf6V\\xcd\\x9d\\x8c~[7\\x90zu\\nxO+\\x80ca\\xb7\\xa0\\xca\\xad\\x0bm\\xad$\\x9a\\xa7\\xf1\\xe5o\\xca\\xc01\\x87\\x95\\x82g\\xfb\\x03wI]\\xa4\\xfa\\x83h,\\x11-\\'\\xb1\\xd1O~\"\\xb5\\x9c\\xc2q_--\\xecEd\\x98\\\\\\xb3!\\xf9\\x18\\xf7\\xe0\\x9a\\x0c\\x9a\\xc4\\xe2\\xa4\\xfd\\x1dl\\xff\\xe2n\\xe5-v\\t\\xd6\\xb7\\xe87\\x98l7\\x9dx\\xe3\\n\\xe0\\xd0\\x05\\xa8[k\\xacT\\xf7\\xdf\\xe8qR*\\x0c)\\x8cO\\x07\\x96\\xa5\\x9d\\xa08]0\\xe5\\x10\\xab\\x91\\xac6\\xbb\\x8dz\\xf5\\xce\\x85\\xad\\xfc\\x9eV\\x00s`\\xfc\\x1aw2\\x89g\\xa4\\xf4\\xf8\\xd1\\x1b#\\xd3:\\xf8\\x83\\x8e\\xc5\\xb3hj\\x14~T\\x08\\xec\\x0cc\\x82\\xdej\\x02\\xa0\\xdf\\xa23Q\\xf7\\xe6\\x8dH\\x12\\x01\\xfa\\x89i\\xc9\\xb3`<\\xfaD\\xd1\\x93\\x81E\\x12\\xcd\\xc01E\\xf4\\xe9*~\\xb6\\x87=e\\xb1\\x94\\x97O$\\xf52J\\x9cge\\xde\\xb8\\xc5\\xd4n\\xd1\\xf6W\\xfey\\x05\\xff\\xday\\x99\\x95\\xc6zb\\xe0P\\xb3@D\\x16\\xcd\\x9f\\x91~\\xbe\\xb7\\xef\\xc1\\x0b\\xff\\xd0VJJk\\xe0L\\xbc\\xc5\\xac^\\\\\\x99\\xb1\\x875u\\xfeT?\\xb6H)!Y\\x8f\\x9e\"N\\x80\\x17\\xbd\\x00\\xc3\\xfb\\xad7\\xc3\\rJq\\xe8G\\xd7\\xc1\\xa1\\x86\\x03\\xb1\\xe7\\x88\\xc2Z|\\x08<\\x0c\\x91\\xc1\\xe8\\xfaj\\xe4n\\xc2z=0\\x8a\\xd7\\xd0\\xe1\\x8a\\xed2\\xc2(\\xa4nK\\x0b\\'!_\\xdeG\\x142r\\x9d\\xd4\\xc6+f\\x01\\xfd\\xd6\\x16\\x84\\x98\\xc7[&\\xaeh\\xb0\\r\\xcc\\x0e0\\xc8`;eI)\\xd9$&\\xbfIr\\xe0\\x92\\x86\\xf4\\xb6\\xb1\\xf9\\xfd\\x16\\xd3\\x93ss\"\\xf8\\xc7\\x8c\\xda\\x12\\x01KD\\xa7$\\xf4lP\\xef\\xe5\\xf6\\x85\\x8d\\x9e\\x8d\\x963\\xfb\\xdb\\x11nC\\xb2\\x8fN\\x1b)\\xcf0\\xe1W\\xd8I\\xfc\\xeb>\\x95g(\\xc7\\x90\\x17\\x0f\\xa5zzR&[\\x16j\\xc6!\\x0eo\\x8c\\x07t@\\x02\\x8e\\x1c\\x83\\xfe-\\x9f/~s\\t\\xd4\\xf3v\\xe8\\x8a[\\x83\\xbb\\x8d\\x00N+X\\x8f\\xbb\\xb0l\\xafl,\\xe3\\x03E\\xc2\\x99\\x8b\\xab\\xa7N\\xc9&\\xb4\\\\\\x87\\xd9N\\x16\\xb8\\x15\\xb5\\xc5~\\xe5jLu\\x07a\\x001\\xeb\\xe20\\x8d]\\xf5\\x05\\xe5\\xa2\\x94c\\x1b\\n\\xfa\\xafk\\xbd\\xdbuXO\\xe2H\\xbdq_\\x06\\r\\'\\x1b\\xcb,\\xabs\\x0ba\\xd2i\\xaf\\xa6\\x8b\\xf8\\xber\\x83#\\xc71\\xae\\x10\\x1c\\xd3-\\x1bA\\xeb\\xbd\\xf8^\\xf5\\xf4\\x829W\\xcb\\xe8)\\x11\\x1d\\xd9t\\xcaDG\\'\\xa1h8]\\x0c\\x8eF?\\xd7\\xb3\\xd6\\xa1\\xc8\\xd2\\x8e\\xa6\\xae\\xff\\xbd+C\\x13S\\xe8Y\\xc7\\\\\\r\\x10\\x16\\xa6a-a\\xa3\\xca\\x9f\\x8d(\\x85\\xac\\'tdz\\x13\\x7ft\\xca\\xbb\\x12A\\xa4\\xc8k2\\x9eckI\\xbb\\xd9a\\xdc\\xa9c@,9\\xb9\\x1e\"\\x01+\\\\\\xf5\\xdc\\xda\\xdd\\xcb\\xed\\x91\\x80\\xd7\\x99a\\x89\\x15\\xceN\\t\\x1b\\xe5,\\x8c\\x82\\xb1\\x9dk\\x83{\\x101]\\xd0|n&\\x1a3\\r;\\x8a&\\x14\\xf86>\\x8e\\x9a\\xd4\\x96\\x1f,\\x9e\\xbe\\x00\\xb3\\xbb\\xb5\\xca\\xea\\xd46\\x10\\xa5\\xcd}\\xc4q/:k\\x87\\x83\\xcfC\\xa4[7i\\xbb\\x0e\\xeb\\xe3\\xf6\\xeb\\x9b\\x97A\\xf1\\\\n\\xe9\\xb2Rt\\xb5\\xf6\\xb8!\\xc3K}\\xf1\\xd2\\xd4\\x87\\xd3\\x97\\xb1\\x0fb\\xb6\\xd7\\x88sH\\xdd?\\xbb\\x15N\\xd1\\x11\\xeepE\\x95\\x9cQkU\\xca\\xddc\\xd7mf\\t?\\xb0,&\\x84z\\xdf\\x8d\\xc0j\\x94\\xc7\\xea\\xbb_\\x0fE\\xc0G\\x8b\\xd7]H.\\xd3\\xd3\\xac\\xbevd\\xe0cc\\xa3]\\xca\\xf1:7]\\xe5;;,\\x90-\\r\\x10\\xb3\\x06gS>\\xc1\\xc7Z\\xc2\\xe6x\\xd32\\x8b\\xc5i5\\x83er!S\\xa3`\\xea\\xa0;\\xb8\\xff\\xee\\xca[Z\\xb1\\x08sc\\xc3\\xa3\\x03\\x01\\xeb\\xc1-WBi\\xf9V@l\\x95\\x02bW;\\x8d\\xda3(~\\x03J\\xbf\\xd1\\x92 \\xd6q@\\xe9\\x8b\\x80/\\xbd{\\xb1-\\x82\\x04\\xfdN_q\\nq\\xd7\\xc0A\\xc25\\xb1!L`\\xf3w\\xcf\\xaf\\xfe|\\x12\\xcap\\x91\\x80\\xb5Z\\xc3\\xb0^T#\\x08t~katRGop\\xdf\\x84\\x15\\x0cvN,\\xfe\\xbb\\xcb[\\x9f\\xb7K\\xb0^\\x87\\xa1\\x8b\\xd78\\xaev\\x8dd\\x92f\\x84b\\x80\\x19<\\n\\x95\\xa9U5X\\xf9\\xf37\\xbb\\xa25\\xe0.\\x16\\x8d^*/\\xe7D\\xfco\\n-ltlg\\xc0\\x8f\\x86Ab4\\xd9\\xf4\\xf9\\x06\\x8b\\xd7)\\xd3+\\xf6\\xf1\\xa2\\x99.\\xb5\\xa18\\x1d\\rx\\xc6\\xa8q\\xe9\\x85\\x8dg\\xd4iB,\\xde\\x0c\\xb5\\xb3\\xe2w\\xea)\\xab\\xc9\\x15\\xd0\\xfb\\x95\\xdbm\\x16\\xc4\\xed\\xc1h\\x95z\\xe5\\xea\\xd0\\xd0\\xa0t\\x1c\\xc63R\\xe8\\x92C\\x88y\\xb2\\x18EE\\x0bG\\xc2\\x9dK\\x9d\\xdeNH\\xaaS\\xab\\xabMIp\\xf5\\x91\\xc25d\\x89\\xb4\\x93\\xf0m\\x01\\xe2Pq\\n\\xf0&\\xbd\\xd82x;_6\\xee\\xb0\\xed@\\xfaK\\xa5\\x8b\\x89\\xbdB\\xb23\\xefA\\xcf\\xfd\\x81>\\xb5\\xb2\\xb4\\xc9\\x06#\\xd6\\x86\\xaep\\xa3l=cj\\xe3-\\xe7J\\x17\\xb6\\xffJ\\xd4\\xba\\x04\\xeb\\xc9\\xf4\\x9b=;#-\\x08\\xdd\\xd5\\xe4\\xd9\\x11\\xe1\\xd2\\x88\\x90\\xc3l\\xb5\\x96\\xdb\\xbd\\xb0\\xd5\\xa2\\xd8\\x1d\\xa6\\x16\\xa4\\xbf*\\x0c\\xf52\\xd0\\xe9\\xeb\\xf8Y@:\\xb7\\xd1cx\\x9f{\\n\\xd4\\xb6a\\xad\\xa5}h|\\nt0\\xaa\\xfdQ\\xa7\\x197\\x80\\r\\xbd}\\x10K\\xa7\\x17\\xdat\\x10\\x9f\\xfb\\xca\\x8d\\x15\\xcf\\xd3b*\\xf1;\\x88x\\xfdAX\\x10z9|t\\x89\\x19u\\xa1\\xe9\\xb5\\xffK\\xdbw\\xb0\\xf5\\x8dH\\xc0\\xbb\\xd7\\x8d\\x7f1j\\xbf\\xa2\\xb0\\xbe]\\x86d\\xf3\\xdb\\x80r\\xf3\\xbf\\xdbX\\xeb\\x91\\xdct\\xe6U\\x0e>sW1\\x80\\xb3\\x8b\\x06\\x0e\\xe8\\x1fi\\x1e\\x05z\\x7f\\xd8Z:\\t\\xd7f\\xc3%k\\xa8:a\\xf62I\\x8d~\\x88\\xfa;\\xfdg\\xa7\\xb9\\x83\\xd9T\\x135[\\x7fA\\x80\\xd1*\\x8e]\\xe3y\\xc0\\x84S=\\xfdd\\x1f>i7a=\\x98\\xdd\\xbd\\xa1\\xd2&\\xe5\\xda\\xefl\\xac\\x99\\xc5\\xd0\\xa7\\xc5\\xf6\\xbe\\x02\\x16O\\xcf\\x1f\\xaa\\xe3\\x1f\\xf1rP\\xf7\\x86\\xe2\\x9f\\xb1\\'\\xa5\"i|\\xdb]\\x9d\\xcf\\xfe\\x93\\xe4\\x1aY\\x18;3\\xf9\\xe2\\xe9\\xc2\\xdc#\\xc6Zi6\\x882g\\x90\\xe6&\\xa9\\xe9,\\xedMs\\xbdk\\x8f\\xff\\xe4\\xb7:<G+\\xc3781\\xc5\\xec\\xde\\x04\\x9c\\xfah\\x15R\\xbd:\\xbf\\xb0\\xcf*\\xa46\\xac\\x85\\x15Cg\\xafI\\xc7BI1\\xda\\xc3\\xc7z\\x16\\x9d\\xb3\\xa1J=\\xc7\\xaa\\xfe\\xe9W\\xe9\\xb4\\xed\\xc7p\\x00\\x06_\\x9d\\x01\\xa1\\xbe\\xef\\x1b\\x14\\xa0\\xb1\\xb5\\x15Gj\\xb3E\\xb6\\xb1\\xc5\\x19\\xbd\\xe0$\\x8b\\xf5M]\\x7f\\x11\\x04\\x01,\\xdd\\xbd\\xb0\\xbb\\xfa\\xe6\\xbe,\\x1a\\xc9\\x99&\\r\\xbf\\x06UV\\x08F\\xbb\\xd4\\xf2\\xb2\\x8c\\xdbY\\xe8\\x1e\\xac\\x8fd\\xdd\\x8b\\xd3\\xe0\\xc4\\x9e\\x9e\\xdd\\xb7\\xe9\\x1bQp\\xc8\\x1d\\xee\\xb9e\\xfbTR}\\x91\\xb6\\xb0\\x96\\x973tn\\n\\x88?\\x9a\\x0c`\\x05j\\xc3-\\x82z\\xad\\xb4k\\xf9\\xfa>\\x8d\\x0e\\xab\\xfbOLL\\x03\\xcfj\\xdd*\\x84u\\xce\\x03?`VO\\xad\\xf4oc;QSL\\xc29\\x91L9\\x02\\x85\\xe9\\xa9\\xf7\\xc6\\x1e\\xc2\\x1d{\\xb2\\xf5\\xcb\\x7fB\\x81)3ys2\\xa8WwW4X\\xffU\\xf5\\x0f\\xad\\xae}\\xd1bW\\xd1h,}\\xff7\\xdb\\xadf49\\xcci\\xa0\\xfeS\\xc9\\xba~\\xe1.F\\xd7y\\xb5\\xb1\\xf38r\\xd6=XO\\xa6\\x06\\xc0\\x95+\\x03\\x13\\x7f\\xc4\\xa4)\\xbc\\x88\\x99\\x81\\x1a\\x97\\xe9R/T\\xe1f\\x8c\\x12\\xb1vci\\xfe\\xcf\\x7f;\\xd9\\xb1A\\xac\\xbb!\\xf9\\x18\\xe2W\\xf4k\\x8a\\x1d:2\\xf0\\xf2}\\xed\\xb0\\x9f\\x8f\\x8e\\x11 \\x16\\xbe|M\\x04\\xa4\\xc3\\x15;\\\\\\xb4F\\xf8Zu\\xd7\\x82\\xe7x\\x8dz\\xac\\xe6\\xc7\\xbf%\\xac,z\\xdf\\xb1\\xbb\\xf6\\xeb\\xc38\\x1d\\x01 a}+1\\x0b\\xe8\\xba\\xfa\\r|@\\xa61l[\\xf6\\xdc\\xe7o\\xac\\xe4\\xd4XG\\x0eO\\xb2\\xa5\\xe1\\xcc\\x94\\x0b\\xa2\\x88\\xca\\x9d\\x8b\\xa1\\xa4\\xccq\\xb2\\xae\\xc2\\xfa\\x96\\xafG.XO\\xb8\\x96w\\x8dk\\xbf\\xad\\x99\\x82#e\\x82q\\xee\\xbb\\x95\\xd3\\x8b1c%1:\\xfa\\xbf4\\xa3|G\\xb4\\x84x\\x17a\\xf9\\xfaqqk\\xa2\\t\\xed\\xb7(\\x80\\x13{\\xa1lK\\xb7\\x8e\\x05\\xf5r\\xa9\\r5\\x9e\\xd8,\\xbae\\x99fN\\xec\\xbeoS\\xa3\\t\\x15g+\\xd0\\x19u\\ro\\x1e\\xa9\\xc1Z\\x81R\\xfd\\xbd]\\xc1\\xfa\\xd0t|\\xe3\\x8bS\\x80#\\x9e\\'\\x19\\xc9\\xd5|gaV\\xa3\\x97\\x17\\x12\\xea\\xcax\\xd8\\xd6UX\\x0f\\xad\\xe1\\xfb\\x93G\\x83#\\xc3\\xcc(\\x95\\x1e-\\x01;f\\x88[\\x14o\\x96\\xd2\\xaf\\x8d\\xed\\x13\\xf7\\xa3\\xa1K\\x8aB\\xc4\\x0fXa\\xb0\\x9e\\xdb\\\\\\x88\\xc5\\xcdUHG\\xd5\"\\\\\\xdesT\\xbc\\x19{\\xecK\\xfb\\x9a\\xdcf\\xc2oO\\xce+Fk\\x85=\\xf3\\xe332\\xdb\\x93\\x18\\xbf\\x88\\xa8\\xc2\\x96_\\xf9\\xee\\xd7\\xb7\\xd1\\xed\\xd8\\xea;\\xcf\\x17\\xbf\\xb1,3\\xd2\\x08\\x18`bV\\xb8+\\xb5\\xdb\\x97\\xda\\xa8\\\\\\x8f\\xe4\\xee\\'\\xdeB}\\x85\\xa4sw\\xa6\\xb6\\xde\\xe8$w\\x9a\\x86>\"\\xd6mXOF\\r\\x08\\x07F\\x9fg\\xb2NQ\\x85#\\xdb*H\\x17\\xdf1\\xadr#\\x02\\x0f\\x96\\xde\\x9d\\xef\\\\N#\\x1a\\xac\\x9f\\xa6`\\xfdrb\\x80\\xe59\\xcc\"\\x12\\xd71\\x1a\\xe7\\x86\\xdfI\\xe58\\xb1G}\\x9b%\\xa6\\xfe*F\\xb4\\x13\\xe4nlc\\x14l\\xc8\\x7f\\xe9\\xdb\\xc2\\xa6N\\xe81\\xc7<[\\xbb\\x16\\xec}T\\xea@\\r\\x8d\\xe1&\\xd4\\xd2\\xfc\\x06zF6\\xf6\\x94iO\\x06\\'\\xb2D\\xa3\\xbeBr\\x8bX\\xf3bq\\xdf\\xa0\\x1b\\xa1PQ\\x06V\\x06\\x1c\\xab9\\x80\\xd6\\x95X\\x0f\\x06\\xee\\x87G\\x07|\\xc8b;V\\xff\\xa87\\x0c\\xd2\\x15\\xd7\\n\\xf1\\xb9\\x90A_\\xc3y\\xf8\\xfdG(\\xce\\xd5\\xd6X\\x8a\\xf8\\xf5:\\xfe\\xa9{\\xfb\\xc4XT\\x1cR-M\\xc49\\xf6\\xe2\\xa9\\xc36r1\\x1dlt!\\xa8n+\\xce\\xfd\\x90\\xf1\\x08\\xa5\\xb7\\xa2\\xb0~\\xbfjK{5\\xe5\\x89\\x96\\x97\\x97uij\\xcc3%\\xbcA\\xe6\\xae\\x95K\\x17\\xda\\xbfAF\\xc5\\xae\\x99\\xa8@ \\x13\\xacr\\xf7b\\x1b[\\x83\\xa8w3C\\xde\\xcdR\\x92X\\x1fN\\x00+\\x03\\x9e\\x17\\xb9\\xc2\\x14\\xeb;\\xb4\\xbda=H\\xdd\\x1a~\\xf0\\xb9g\\xa4\\'8w\\x12\\xa0\\x93\\x1f\\xbcQ%\\x17\\xfa\\x10\\x1ck\\x88\\xa4[}g\\xb1]7\\x9f\\xdc7$\\xe1\\xb4\\xd2\\x18q;\\xa7\\xb4chO\\xaa\\xe4\\xe8XS\\'\\xd1\\xb7[D\\xda\\xd8\\xac\\xa5\\xb6$\\xbcz\\x92\\x15\\t;Z\\xa2t\\x95\\xf5c\\xa3\\x13\\xac7-\\x03WB\\xc1\\xb2\\xa0\\xca<\\xf2\\x97w\\xb5\\x88w3>\\xcdr\\t\\xecd\\xb7\\xb9f!\\xe5\\xd2\\x9dd\\xca\\x9d\\x0f\\xdf\\xba\\x16\\xebCSsu\\xee\\x83\\xa1\\xd1\\x11\\x92\\xea<6=\\xf6\\xb4r\\x0b\\xd2x\\x90\\xbe\\xf9s\\xe56\\xb2A\\x93\\xea\\xff\\xd4\\x84\\xc7\\t\\xcb\\xe2!\\xf6\\xf9,\\xea+\\xb5;\\xfb\\x96\\x02\\xed*\\xd3}\\xad_\\xbd\\x86\\xbb\\xaa \\t*\\x87\\x11\\xa1\\xb6$ }\\xe3\\xa0\\xb7Dz\\xfe\\xea\\x92\\xe0)\\xea\\xd7\\xbd\\x16s\\xc3\\x800i/\\x1ajllP\\xd3\\xda\\xf1{\\xa6\\xc1\\xac\\xbb\\x8c1B\\xbbI\\xc2i\\x1bFu\\x19\\xfd\\xb9inx\\xb2I\\x17R\\xe1\\xc8\\xf0r\\xfe\\xea\\xff\\xf6\\xf5=5\\xb8\\xe8~\\xebz\\xac\\x07\\xc35\\xc4\\xbe\\x1c\\xccF\\xc7L\\x08\\x9a]\\xb1]\\xe0\\xe1\\x99\\xd64\\xb7\\xd4\\x9f|)VPr}\\'\\x1f\\x1f\\x8b\\x10\\xeb9\\xc9\\xacP\\xac;\\xee}z\\x98<;V$\\x1c#\\xbc\\xf1\\x16\\xb7N$\\x96\\xe7\\xc7Q\\xe9;\\xc1\\xcaw\\xbe\\x86b5\\xa5R\\xac\\x07\\xdf\\xd9\"\\xd1\\x0e\\xe5\\xd7g\\x92\\xc8\\xe5\\x98bR*\\xa5\\xee\\xa0\\xf1=#\\x15C\\xdd\\x8b\\nZ=4\\xda\\xdf\\xf8\\x984\\xcb4K\\x9c\\\\\\x1f\\xd6\\x8c\\t\\xe1\\x0c\\xac\\xcc\\xff/\\xbf\\x9d\\xc0)\\xba\\xc1\\x8e\\x02\\xd6k\\xd3\\x82\\xb4\\xef\\x8fX\\x96E\\xef<^\\xc1\\xac\\xc33\\x93\\xbf\\xe5Lz\\x95\\xb1m\\xa4\\x96Z\\xca\\x9aMY\\xff\\xb8\\x95P5\\xd6{+XEu\\xec\\xb0\\x9eb_\\x1d*1\\xb4e\\x9a\\x93M\\xea\\x08~P\\xf9\\xde\\xd7\\x0f\\xfc\\xa1\\xb5\\xb0\\x1eQ1)\\xac\\x0fL\\xda\\xf2\\xce\\xe5\\x0ex8\\x83\\xe33,\\x933J8\\xca\\xc1G}\\xe4N\\xd2\\x9e4\\xe1\\x87\\xde\\x1fNF\\x0fd\\xdd\\xa5\\x86X\\x1f\\xe4z\\xea\\x9dWf\\x1f\\x15;:Xol\\x12\\x8a/\\r\\xc0\\xc7\\xa8\\xfa\\xa3%\\xbc\\x8fv\\x04\\x9f\\xcc\\xd0`P\\x88\\x94\\xb3\\x95\\xf2\\\\\\x1d\\xde\\xbb\\xb2\\xae\\x18=i\\xbd\\xbf\\x96_\\xbfZkK\\xad\\xe4HX\\x84\\xcdQ\\x9c!\\xf1\\xd4x#\\x01\\xa1N\\x1c\\xaau\\x06\\xd5e\\x91\\xac\\x00\\xce\\xd6\\xd6\\xcdX\\x7fn\\x9a\\xe8;\\r\\\\\\x0e\\xb3}Dg\\xec,y\\xad~yI\\xda41\\xe2N\\xa9\\xaf\\xbf\\xd4\\x14\\xeb\\xe3\\xb1\\x98\\xb1\\x9e\\x8c\\xa4}\\xfb\\x8a\\xd3\\x16\\xcfPm-\\x0b\\x8b\\x06\\x8f,\\xe8k\\xd1l\\xdb\\x96\\x81\\xb0\\x02\\x7fqq\\x11Fg)\\x1a@/(\\xc5\\xfa\\xbdX\\xd2\\xcc\\xbd\\x14\\xebw\\xfc\\x9e\\xc2zC\\x0cBr}\\x1fk\\xac\\x96\\xdb\\xcf\\x05\\xd1\\x88\\x1f\\xfa\\xe27\\xa5c\\'\\xb2\\x93]\\x7f\\xa9\\x84\\xf5t\\x16\\xd4\\xfdy#\\x8d\\xd7\\xef\\xd1\\x92\\xc0\\xfa\\x96a\\x9b\\x97\\xc1\\x91\\x02j\\x16Q\\x9f\\x8f\\x04\\x9b\\xf7&m\\x1a\\xee-\\xe5^H;h\\xcc[\\x9f\\xc0\\x0f\\xf5\\xbc\\xd2#\\xff\\xb5o\\xca\\x15\\x0b\\xcb\\xc5c_\\xd8\\x9aE\\xb3\\xdeZ\\xa5t\\xe1Xa\\xfd\\x01\\xc4p\\xc8#t\\xdc\\xd5\\xc4E2\\xb6\\xb0\\xe8\\xde%\\x19\\x15\\xa9\\xbd\\xc7\\xeb\\x15\\xd6\\x87\\x97\\xc2\\x9c\\x1cx\\xae\\x1a\\xd9\\x01\\x93\\x96cKO=\\xb5`\\xa7os\\xc9X =\\x9b2Z\\x07@\\xbf3\\xeb\\xb6\\xcd\\xbc\\x05\\xb5\\x14\\xa5X\\xbf7K\\x16\\xeb\\x9b\\x8672P\\x9c\\xe2\\xccQ\\xa7\\x93G@Va\\xb3\\xb5\\xda*\\xa9yq\\xc2\\xcd<\\\\z\\x14m,\\xf3\\xe2\\xa5\\xa9\\xf9\\x8f\\x99dv\\xfc2A\\xc7=7\\x9b\\x1f\\x7fK\\xa2rr\\xec\\x19>\\xa3\\x8d\\x81\\x84\\x01\\'\\xb3\\xf4\\x9d\\xd7\\x0f\\x1c%\\xe8\\x1e\\x89\\xdb\\x12*\\xa0%\\xc5\\xc31eF\\xed\\xf3p\\x06\\x8b3\\xe6\\n\\x8f\\x80\\xe7\\xa5\\x13/\\xcc\\xf6\\xd9\\xc2\\xbb\\x17\\x8e\\xa3\\x18\\x0e\\x1c#\\xaco\\x1a\\xde\\x91\\xda\\xfc\\x81\\xf2\\x1e\\xa4q\\x7f\\x99\\x19\\x97\\xdd?\\xe4Z\\x8f\\x8b4\\xb4#[\\xe6I\\t\\x93\\x0c+Kl\\'n\\xe1\\xb3\\x16\\xe7r\\x0f1\\xd5n7\\x1ao\\x03g\\xa7\\xb0\\x0f{B-\\x9c4P\\xf8\\xb2\\xfa\\xbd\\xcb\\x07\\xce\\xcc\\xa6w\\xa4\\x95cLS\\x90\\xb8U<\\x9bc\\xa3\\xbe\\\\\\xb9s\\xa9\\xfd\\xdc*\\xf9\\xf5G\\xc3\"\\xb5T\\xa2Qi5\\x1f8\\x16\\x13\\xa0e\\xc7\\x0f\\xeb7Yq\\xb2\\x1fF,\\xe3\\t\\' s\\x18\\xbfQ{#\\xcbfnP\\xb9\\x1bJ\\xd3\\xe8^\\xa9\\xe3SX\\x8e\\x9f\\xd8|\\x96\\x8d\\xa5\\xea1\\x93\\x03\\xd1\\xad\\x07_\\x9d\\x82\\x80%\\x12\\xf2%yD\\xea\\x0f\\xe4Wn\\x1dR\\xc5e\\xa2\\x8c\\x1536\\xfa\\x99\\xbb\\xd2i\\xdd\\xecQ\\xc1z\\x085\\x12z\\xa0\\xb1V\\xb9sl\\x12V\\x1b\\xec)\\xc0\\xfa\\xf5\\xa6\\x80lq\\xa5\\xceY \\x04\\xb5\\x87\\x05\\x1d\\x0c\\xe9\\x9e\\x10\\x7fK\\x81\\x04\\xbczeaQ7\\xbe0\\xf97\\xac\"\\xecM@\\xc0+\\xcc\\xbfaO\\xa5K\\x87\\xfe\\x8eb5|\\xb9\\xd4\\x1f)\\'M\\xa60\\xf6T\\x07\\xa9\\xfeR\\x88\\xe3\\x10\\x96I\\x8a\\x1a\\x9d\\xfc\\xd2\\xb7\\xeb\\x9cZn\\x99;\\x8b=\\xbe\\x87\\x1eF\\xb5\\x13>\\xeeQ\\xc3\\xfa=\\x15\\x07\\xef\\xcf\\xf4\\xa6\\x0c\\'\\xdb\\xd0\\xc45ie\\x99WW\\x1f9\\xeeJ2\\x99\\x9f\\xa7\\x0e\\xeb7\\xdbh\\xf1Z#\\x00\\xb0\\x18\\x97(pN\\xea\\x05\\x87\\x8d\\xfe\\xc6[\\xc4V\\xa2\\x04\\xbe\\xb7\\x00>\\xc0!1>\\r\\xf1W\\x8c\\xaf\\x13\\xaf\\x1f]\\x91\\x1f\\xfe\\xe0\\xd2\\x01;4\\xcf\\x9d\\xbf\\xb1\\xbc\\xe8\\xeaV\\x9f\\x00\\x02o9\\xc6\\xa1\\xae]{\\xb5%rr\\xf1\\x0b&6\\xf5p\\x1a\\x07\\x8f\\xf5\\xad\\x00\\x0e\\xf5d\\xcd\\x92S\\x9f\\x88\\x00*\\xb5a\\x89v\\x9dm\\xe3{G\\x0f\\xebI\\x15:\"\\x08u X\\xaf\\xfb\\xf5D\\xdb\\xcd`\\x0b\\x02N\\x13!\\x00a\\xf1\\xb5`1\\x9e\\x80R\\x8a\\xf5[\\xd9\\x99\\xc9\\xfc\\xf0P`e\\xf0\\xca5\\xee\\xb3\\x83M2\\xb5\\x12b+f\\xec\\x95\\xf38\\xa5\\'\\xae\\x01\\xb3\\xa9\\x97t\\xec\\x15\\xe3\\xba\\xeb:\\xb79,\\xbcs\\x01\\xce\\x9f\\x87\\x9b7c=\\xfef\\x8b\\xd6\\xb5^\\xe3\\x96-u\\xa5\\x18%\\xa8\\xcdr\\xcb\\xd5\\n\\x0c\\x95\\xef~u\\xafC=\"\\xacr\\x8e:\\xd9\\xc5<\\xbc#\\n\\xef\\x9e[Yx\\x19F\\xaf\\x1f`\\xddl\\xeb\\xee\\xf2\\xe7fd\\xfcw\\x07a\\xce\\x92F\\xa3\\xefc\\xb1X\\xdb\\xc9g\\x8d\\xf5\\xcdPx\\x96\\x89\\x86\\xda;\\x06\\x96oY\\xd9\\x9dx8j\\xe7\\xc5m\\xa4@z\\xae\\xb4\\xacV\\x99\\tF-\\x03\\xbcc\\xfaC<w\\x17\\xb9\\xda\\xe6}\\x06L.\\x97.\\x1fP\\x92=l\\xa3\\x13\\xd0\\x9d\\x85\\xa9\\xa4(\\xca\\x90<:y~8?\\x03\\xc8.\\xaf=\\xfe\\xf7{\\xab\\x00H\\xb1\\xbe\\r+\\xde\\x1a\\x10O\\x98\\x15\\x86A\\x0f\\x8a\\x00\\x16v\\x89Zx\\xf0\\xf6\\xe4AQ\\xecu\\x07\\xa2\\xcb\\x07\\x12\\xb1\\x8c\\xe4\\x15Q\\xbfs\\xcb.z\\xcd\\xb4\\xba\\x81~\\xcb\\xf7\\x16\\xef\\xb6\\xef\\xe5D)\\x89o\\x81\\xd3\\x97L\\xa3>\\x9a\\xa4\\x16\\x16\\xf7UKo\\x1c\\x94S\\x18\\x1a\\xae\\xca7p%K\\xa4W\\x89\\xe9\\xa3\\x0bA\\xbdR\\xeaL\\x00u=\\xd6;=\\xe0\\xaf\\xe1!\\xdaL{\\xea\\xdd\\xca\\xd9\\x19\\xc9\\xc3-6\\x01\\x9e\\xc4\\xc0+)\\xa9\\xc5\\xcc;\\xde\\xa4\\xf5\\xda6\\xdfh\\xaf\\xa6\\x87&)\\x19M\\xcc\\x00f\\xd5\\xd7\\x08\\xeew\\x1b\\x9a\\x04\\xfe\\xb8\\xd3\\xc2\\x96xA\\xa6\\xd6h\\x1b\\xfaS\\xaco\\xdb\\x10m\\xa1\\xafX\\xb0$y\\x1b\\x9cA\\x90h\\x8bD\\xe3h\\x0b`K\\xd8\\x01CB\\xb1d`\\xd1i\\xd2-\\xe2\\x8eE`\\xbb\\xcd\\xd5\\xf6\\x9a?\\xc7a\\xb4{\\xe8\\xa4\\x85\\x1eNI\\xbd\\xd8r!\\xc0\\xb2\\xb9\\xef\\xef\\x0e\\xfd&={\\x03\\x90\\x87\\x93\\xc0\\xfe\\xac\\xd5\\xd2\\x0b\\x1b]\\x1chb\\x8f\\xda\\xf9\\x15\\xc6g\\x02\\x85~XY\\xc2\\x13\\xe8A\\x18%\\\\v\\xd2\\x83\\xd0\\xf0\\xeb\\xd19\\x12\\xad\\\\P\\x9b\\x18\\xaa\\x1d\\xde\\xb3S\\x01o\\xd1Z\\xd5\\xb8\\xe7~\\x03\\x87\\x89\\xd3\\xd4\\xf5\\x8e{\\x02\\xa8\\xa9\\xb5.g\\x95\\xe4[\\xc4{,\\x16\\xbe|]\\xc1\\x88\\xe1\\xc9\\xeeah\\xae\\x87\\xfe^\\xe6\\x7f\\xb4\\xad\\x92\\xe8\\xd1\\xc6\\xfa\\xe7>\\x7f\\xa3\\x96k\\xd8V\\xc0=\\xc7\\x0f\\x04\\xc6\\xb7\\xb1\\x17\\x14\\xfe\\x9fb^\\x00\\x99\\x1e\\xe6\\xaf\\x96o]\\xfa\\xcc\\xf9\\x1b?\\x8c\\xcb\\xdb\"-\\xb6\\x01x\\xcc\\xb0`\\x92\\x1aD$A\\xe3\\x0b3\\xb4\\\\4\\x16o\\x11\\xf8\\xe6\\xcb(];>\\rY$\\xc2\\xb3\\xf8w\\xeb8\\xe4\\x08\\x0c\\x85I\\x12$\\xd8\\x88\\xad\\x95\\x97\\nW\\xaf=\\x14:m\\x84~\\x9b\\x07\\xf3\\xdf\\xbdD|\\xab\\xf5o\\x99\\n\\xad1(\\x9a\\x84\"\\xb4Y\\x95-\\x85\\xb3N\\xe0\\xcd\\xdf\\xfd\\x1a\\x14\\'\\x92\\x8f\\xe4D\\xb6,\\xe7f\\xd48\\x8f\\x9fY\\x0f-\\x96\\x91\\x14^\\xa7\\x00\\xa8\\xebf--o@\\xb9\\xdd5\\xecu\\xd2\\xe6rA\\xdb\\xd8\\x81\\xe2\\x1f2\\xa9C\\xd8\\xcc\\xe4N\\xdd\\x1aH\\x9b\\xe5\\xfae\\xbd\\x02\\xadv\\x04q\\x19\\x11\\xe0\\xd4\\x06>\\xf0*jo\\x9b\\xa0fi$\\xd3b\\x06e|e~\\xf8\\xb8hh\\x07Amq1B\\x01>l\\xac\\x0fU\\xbdl\\xc1\\x84\\xa83\\xb0\\x84\\xf0\\x19un\\r\\x03X\\x86+\\xc9\\xf4\\x04n\\x7f\\xdb\\xd6tT\\xbd\\x15\\xa4\\xcc\\xc6\\xbb\\'+\\x16\\xd5?y(\\x0b\\x08\\x98\\xc5\\xa5\\xef\\xc7\\xef\\xe0\\xb7\\x82*\\xcb\\xd5;oj\\'\\x00g\\xd0\\xabSL\\xf0\\xd0\\x01\\x88\\xfd\\x8c\\x92ezB\\xc6Er\\xbb\\xd8\\x16\\xd0\\x0f\\x14\\xaf\\xe1\\x92)H\\xadz\\xbf\\x0f\\x90\\x99\\x06\\xd1\\x86u(\\x03;\\xb3\\xf4\\x9d\\xf3\\xcd\\xac@\\x88\\x89I\\x84q\\xcc\\xa3\\x03w\\xad\\xd2Iq\\xe9\\xbe,\\xa4\\xd5\\x87\\x9eA\\xdc\\xd1E\\xdd\\x96\\xd2\\xb2e\\xe0\\xf762\\x0f?\\xf3\\xa8\\xa3\\x086\\xf5*\\xa1/\\xe3r\\x81\\x14\\x97\\x15\\xb55\\xe8\\x88\\xe22Z\\x9cl\\xc8a\\xc6\\xadf\\x17C\\xd6X\\xf6\\xb1\\x9b\\x85E\\x84\\xaa$v1DG\\xf3\\xea\\xd5\\x97\\xe7\\xe1\\xe1\\xa9d\\x82q\\xeb\\xdc\\x1c\\xb0\\xb3`\\xda\\xb9\\xc4\\xb5Aa&\\xfe\\xeb\\xbb\\xfd\\xdc\\xffh\\xac\\x16\\xbe\\xb6C\\xc4\\xfa\\xd6-\\xe7\\'\\xbe\\x8d\\xbex\\xbc\\xa5.\\xa1\\xe4\\x80\\x19\\xa9\\xdf?\\xaf?\\x8d\\xe7\\xe0@3m\\xec\\x83\\x91\\xbf\\x1b\\xf6|\\x8ep/\\xe2\\xd6\\xdd\\\\\\xcfu\\xd3s\\xe4\\xc5\\xcfM}h4\\xbdcu\\x05Z\\'\\xd5\\xc9\\x00\\xbc\\x8dZ\\xe9\\r8s5\\xa9\\xca \\x1a~}\\xb3\\x05\\x0b7\\x9f\\xb6r\\x1b\\xe3{\\xf5\\x9b\\x9a}\\x87\\xfeY\\xe1\\xec\\x94\\xb0tW\\xbc$\\x92.\\x84<V\\x06\\\\\\xaf\\xfa\\xee\\xc5\\x84\\xa3\\xf6tXu\\x8a\\xe7\\x1e\\r\\xbe?\\xc2\\x9c,\\r\\x86XK.`\\x13A\\xa0\\xc3\\xd8\\x94\\xc2\\xfa)\\xa6\\xb7Q\\xd0j,\\xde\\x19\\x9d\\xf1\\xcc{\\x83\\xa3\\xefk\\x0e\\x10\\x1e\\xc4\\xc9\\xb1\\xa0Q\\xbeu\\xd1\\xa8\\xaa\\x19NU\\xac{[\\x93j\\xcf\\x81\\xd7@\\xa2}B\\x8b\\xb6\\xdef\\xbe:-\\xa5C\\x83~O\\xd1\\x9b\\xed\\xac\\x19Rl\\xacR\\xad@\\xd3e\\x83C\\xf6\\xebI\\xef\\xfb\\x99\\xaf|\\xcb\\xf5\\xecH\\xaa%\\xe69\\x0fA\\x03\\xd3B\\xc4n\\x8a\\xe9\\xc5\\xe1A^xm\\xf2\\xc1\\xdb\\x93a\\xbdb\\xbc\\xc8\\x1b\\x01,\\xbfQ\\x0eg\\xda\\x8b\\x9f\\xfb\\x8b\\x0f\\x7f\\xf0+\\xa8\\xc6\\xce{\\xa4hDR\\xf7q\\x9dT\\x0fu5\\x8f\\xdc*\\x9b\\x87|\\x12\\x9e\\r]\\xf0\\xf9\\x9b/f\\x1bO\\x1e)\\x9f^\\xb7\\x8f\\x8f\\xab\\xfcgCZ\\xbb\\xef\\xc1\\x0b\\xafa\\x97\\x97\\x90\\xdb\\x96?7-\\x93\\x10\\x12\\x000Q#\\xca\\xe0\\x07\\xd2]\\x1a\\xab\\xb4\\xd1\\x7ff\\x1f\\xa6i\\xd9\\xe33\\xe04\\xdb\\xfc\\xc5\\x1eH\\xe4:c\\xc4}\\xaf\\xfc\\xee\\x9b\\x9d\\x96\\x04\\x93_\\xaf\\xb7Q:\\x86\\x83\\x9a\\xc6\\x9d\\xec\\x16u\\x9a\\x05a=C\\x0c-h\\x8a\\xf3\\xe5\\x8b\\xd7\\xa4\\xeea\\x81\\xb7\\x9cD\\'u\\xc0\\xcdf\\xe0a\\xe6\\xca\\xe8%\\xc47\\x07\\xc8I\\x1c\\xb8\\x9fWc\\x94\\x81r\\x12\\xe3\\x8d\\t\\xec\\x10\\x8a=\\xec\\x18\\x0e\\x98\\xfc\\x12\\xbd\\xd3\\\\\\xac\\xdd$4\\\\\\x06\\xda\\xb7\\xa8\\xbe\\xbc\\x10\\xff\\x9eL\\x07\\xdc\\xbe\\xf8Mi;t\\xcc\\xb8I\\x90D\\x03\\xe3 \\xcaQ\\n\\x04u\\xe2\\x1d\\x1a)`\\xc3\\xb9\\xd8\\xd9\\xe2Q\\xcf\\xc6\\xafW\\xe2\\x7fh\\xa1C\\n0\\xb8\\xe8F\\x9c\\xb3$\\x92\\xcc+\\x91L\\xa9\\x81\\x8e\\xc2\\xf8\\x8cP\\x9b0)\\x13)\\x9f\\xd6[Id\\x0c\\nK\\xfa\\x8bc\\x8b\\xeaM%\\xb21\\xd2m<P0#\\x03\\x81\\x1b\\x12R\\x12\\x08!\\xb6\\xa6m\\xc7\\xb9z\\xd6b\\xb9\\x92KN\\xfc\\x96N\\x82\\xe0\\xbaR\\xbc\\xe9I\\xa9\\x83`\\x9ej\\xb9VB\\x7f\\r\\xc5\\xf1\\xb3[2\\xb7b1\\x03\\xf7\"\\xf0Q\\xef-\\x1e\\xe1\\x0bzv\\xeaPg`\\xe0\\xfe\\x08\\xb7m\\x14\\xedJ\\xa4\\xeb\\x10\\xc5a\\x89N\\xa7\\xe3\\x00\\xe1k;\\\\\\xac\\x8f\\xd2\\x9f\\xa7\\xf5>/\\xee\\xb33\\xed\\xa8\\xaa)Q)\\xc5]\\xc2NG\\x1b.~\\xc3W[\\xb1\\x98\\x0b\\xd3\\xe9h\\xdcb\\xc2w\\x18\\x9f+]h]\\xb3\\x0e\\xf4\\x15g\\xb4\\xde=~\\x12\\xbbCg\"~Y\\x10\\xae\\xba\\xb1\\xb9\\xb99\\xd2\\xd3\\x87}?4\\xf2\\xc3^\\xb9Z\\xe8)\\x04}\\x9c%\\xd1C\\xb8\\xf9\\xdcd\\xa0\\xb6\\xfdKw/\\xc0\\xd5\\xab\\x14/\\x92\\x91\\xa8}2\\xbd\\xfa\\xa2\\xd7@\\xf4P\\xf5v\\xaa\\xb7.\\xaa\\xfb\\x8d\\x15\\xeeQ\\xd8\\xf5\\x85\\x17\\xa0\\xbcR\\x00\\x9eAfQ\\xbc\\xd4\\xdb\\x96\\x11\\x83F\\xdd\\x85t\\xab\\xa57\\xf7\\x10\\x92\"\\xf1\\xa6\\x10\\xeb\\x91\\x91\\x1a\\xf8U\\xf6\\x8cN:\\xed\\xf6\\xdd\\x10\\x16\\xefM\\x86j\\xd4+\\xf8\\\\Mu2\\xfa\\xda\\xc3\\xb3\\x7f\\xe7+\\xdfj\\xcf\\xf4\\x956\\xae\\x1f\\xff\\xc5q\\x9b\\xe6{l\\xd9\\x1eV\\xce\\xf8~\\x19\\xf7\\n/\\xfe\\xbe<\\xf4\\xb3.\\xf6SU\\xee|\\xfc\\x97m\\x18\\xca\\xb8]\\xf0\\xfcM\\xf2L]\\x80\\xf5\\xe7\\xffO\\xb8\\xf9\\x8b\\xc3\\xe33\\x81\\x8d\\xb1\\xf5\\x98w\\xa3,|eB0\\xf0\\xcbc\\xedtvm\\xc7d+,0>%c/\\xc8l%\\x96W\\xd7\\x93\\x92\\xa1\\x95\\xd7\\x19\\x9f\\xa6<j\\x02Q{h\\xba\\xa8\\xc4.\\xf5\\xfc\\xca\\xa7/\\xc0li\\xbf\\xcfM\\r\\xbcQ\\xec3\\x83Z\\xa4\\x98\\x9eI(\\xa1Mn\\x8d\\xbfZ\\xbd\\xd5ln\\x1a\"\\x94\\x9a\\xaaW\\xae\\xf4N\\\\w\\x08\\xc6\\x90\\xa4\\x08\\tQf\\xf5\\xa8S\\x17\\xa3\\xf6\\xe8\\x8d\\x1a?\\x85\\x7f\\xdd\\xff\\xa8#\\x02\\xd8\\x90|\\x8c\\xc8\\x89\\xa9\\xe7\\x04\\x1e\\xa0\\xb6f\\xaeHC\\xeb\\x9e\\xa2\\xd6\\x84\\xf5\\xe4\\xceC(E\\xd2\\xebd\\x1e\\xb6\\xa5\\x05\\x8ag2\\xaa js\\x80E\\xc9\\xcb\\x88c\\x96\\xe1\\xf9\\x8f\\x16\\xaf)\\xf7gpb\\x8a\\xf1f(\\x00\\x12\\x81{f\\x96n\\xf5\\'\\xaf\\x8d6\\xa1\\xdb\\xdf\\xceU(\\xbe4$?\\x96\\x18\\xb7Qo.\\x19\\xb2\\xf6\\x069\\x8b\\x8d\\xaf\\xad\\x0bb8@Oo\\xf6\\xa5A\\xf98\\x99M\\xbdv\\xed\\x95\\x17\\x19x\\x96X\\xfdxA\\xed\\xa2\\xe2\\xa8\\x89\\x93\\x18t\\xfei\\xe3\\xc9\\t\\xe5\\xa1R\\xfb\\x1d\\x88\\xcfE\\r\\x1f\\x9ap\\xd7\\xb6h\\xe8\\xac\\xe6\\xfc\\xadba|Z\\xa8\\xd5\\x11\\x0bh\\xfd\\xb8\\x03\\xf7\\xeb.\\x05\\xb3\\xa7\\xea4\\xd2_d{\\xc5,z\\xda\\x85\\xfb\\x03Bm\\xc7\\xf1\\xc5\\xfa\\x89\\xf4\\x18h\\x11\\x10|\\xc7[\\x99\\xcf\\xfe\\x93\\xf5Nd\\x8b\\xe7\\x86C\\xdd,\\xcf\\x89J\\xa3k\\xd1\\x07N,2Q\\xd9#Ph\\xc3\\xc16\\xb0\\xe8r\\x0c\\x10I3=\\x13z\\xe3\\xcd\\xc4\\x83\\x0c<\\xdb_\\xf9\\xe7\\x15\\xfck\\xe7\\x97\\xcd\\x86\\x94\\x13Dm\\\\\\x0c\\xa0(\\xc7!\\x08\\xda\\x93Yha=\\x86\\xe6\\xb1\\xa3\\x185(\\xb7l\\xe5\\x0eW\\xf3\\x19\\xfc\\xba\\xc2\\x911\\x18\\xbc?l\\xda\\x1c\\xc6\\x9e\\x98^\\x7f/\\x11\\xd0\\x07\\xde\\x90\\x8b\\x7f\\xf6\\x06L^mc\\xc5\\x82\\xe7\\x8b\\xdf\\\\\\x82\\x8c\\x94Z{\\x8b\\'\\xd8^\\xc3\\x8c~\\xccmX9\\xb9\\xe8>\\xbbi\\x0bu\\xe8X\\xdfr\\x90\\x13k(\\xd1\\xf2R\\x91\\xed#\\xdc\\xda~\\x03\\xa9t\\xcd\\x9f\\xb9\\x01?\\x9b\\x1f\\x10\\x1f\\xc7\\x8f\\x1a\\xfa\\xadq\\x1c\\xd8\\xd8\\x92p\\x0c\\x89\\x0c\\x91q\\xd5\\xe2/\\r\\x8dOK\\'\\x1bFl\\x13\\x1d\\xeaR\\xf3\\xc79g\\xc2\\x17\\xd5\\xd3\\x0b0y\\xa5\\xcd\\xbdx\\xdf\\xab\\xd7l\\xe5\\xde\\xca02\\x99\\x1c\\xb6\\x9a=\\x9c\\xc2z\\xaf\\x86\\x9dM7\\x93\\xc1#l\\xb7DwE\\x1b/\\x0c\\xf4\\xd3S/\\x15|\\xbf\\xb6x\\x1a\\xee\\xbd\\xd2\\xc6\\xd7\\xf0j\\x07\\xff\\xf5u\\xe1z\\x16\\xf6\\xee \\x96\\xf9\\x01\\xb4\\xe2\\t\\x1f#\\xb2\\xccoo\\xf9\\x18\\xdb;L\\xff\\x97f\\xd4\\x8c\\x0b\\x9dz\\xf47Ec\\xb5\\xd6VMv+\\xe2\\x96/^\\x97\\xcaM\\xf3\\xea\\xcd\\xcdAF\\xc74\\'\\xa5\\xdai\\x0e:\\xf3\\xe0\\x06\\xac%\\xef\\x99\\xe4s\\t\\xefK\\x07\\xcdH/\\x9dm(\\xe3P\\xafX\\x10Y\\x9c5\\xf9\\xe2\\xfa+\\x89\\xbe0c\\x86\\x07\\xc6d\\xbdrk\\xcb\\xa0\\xdb\\xa1c}h\\xca\\xe1Z\\xee\\x1b\\xec\\xfd\\x7f\\xf1\\xc5\\x9904\\xc4\\xcf\\x8a\\xc3R\\t\\x9b\\x08\\x92\\x99\\x1a\\xfc\\xef06\\xb6\\x97\\rY\\xb1\\x04s\\x1f\\x0c\\x8c\\x8eb\\x15\\x00\\n\\xa6\\xc5\\xad\\x8a\\xae\\x9e\\x98\\xa0\\x00\\x0eV\\x95o_}\\xd2,\\xc5\\xc0$\\xedZ\\xcce\\xb4;]^\\xb8\\xaa\\x99?P.\\x17\\xa8tM\\xd0\\x9f$)\\x8b\\xe0\\x1f\\x84\\xd1\\xb79\\x809\\xd8\\x1afT\\xe2\\xbe\\x13Ba\\xc8{tt\\xd4S\\x1e\\xa7\\xf2\\x80D\\xac\\x1b\\xb2\\xdd\\xae\\xb2\\xf94\\x94\\xab\\x87iw\\xf2\\xf7Xs\\xb6!\\xb9D=1!\\xd5\\xda\\xc0D\\x92\\xdb\\xb5\\xed./\\xa43\\xf8\\xf5}V\\x8fb\\xe7\\xcc\\xa1\\xd9a\\xe0\\xd47\\x00DH\\xb1o\\x9bvIh\\x95\\x1f\\xbfN\\xe8)\\xc2\\xcd\\x81\\r\\xae\\xac~\\xef\\r\\x9d\\xe4T6\\xf87\\x05\\xc8\\xd8\\xf4\\xa4\\x92\\x0b\\xc9u\\xbd\\x99\\xca\\x80\\x1e\\xf0\\x1b\\x91\\xb4\\xe4\\x06\\xeb\\x06\\xacoy[\\x03\\x133\\x8c\\x13\\xb5\\x00\\x12\\x0b\\xa42\\xadq\\xc4\\x80s\\xcb\\xf7\\x17\\xef\\xcc#\\'\\xafM\\xc4\\'\\x99\\x84\\xa1\\xb3#\\xd2\\xb1\\x99\\x9a\\xacX\\xd6\\x0fq\\xf3\\x1f\\xc2\\xadX\\xd0\\xc8\\xf54\\x1e\\xd7?\\xb9M6+$\\xb4\\xfc\\xe4\\xd1\\xc0p\\x81\\xd3\\xe4\\x8c_\\xe3\\xf0\\xa8X\\x98LV\\xee\\x1dgN\\x19\\xf2\\xbb$\\xd2(\\xf0=b=\\xf6\\x02\\x8e\\xbb\\xbd\\xe4\\x02\\xdfG\\xc9Z\\xea7\\xb8^\\x0eg\\xf1\\xb3}P\\xb0\\xf0;\\xb8{\\xd2l\\x19\\xa4\\xe2\\xe8\\x05\\xa4\\xed\\x9d\\x82.\\xb34\\x9b\\x03\\xad\\xb5 [\\xbd\\x10\\xb5\\x07t\\xe6=8\\xf3\\x97X\\xa6\\xc1\\x9eZ\\xb8\\x8f\\xbc\\xb6\\xa0\\x8e\\x01.\\xd8\\xee\\xb5u\\x03\\xd6\\x87\\x97ad\\xb0\\xa6XB\\x91\\x9c\\xcd\\xe7\\xa4~\\xc2\\xe8WY\\xcc\\x12bxY~\\xb8M{\\xe8\\xc2\\xbf\\xba\\xe6\\xdb\\x923\\xf5\\xdb\\xb4mK4\\xc8\\xab\\xcc\\xb2\\xb9\\x08\\xcaj\\xab\\xba\\x13\\xff!\\x0c%=\\xd3\\x18\\xd09\\x83\\xc4\\x03\\xd0\\xddiz\\xfd\\xb6\\xd4\\x1fl&\\x16\\xbe\\xfbF[\\xd4\\x97&\\xcb\\xd9v\\xd0\\x95\\x8e\\x99\\xe5|\\xe4\\xac\\xd5\\xffR\\xad\\x97\\xb9\\\\\\xfd\\xf1OW\\xa8\\xff%\\xec\\x99|EX_$v\\x1d\\xf6[\\xc0\\xd4\\xaaz\\xca\\xa3\\xa7\\xe4\\x87\\xd3m\\xb7`\\x9f\\xc4\\xac\\xe6\\xd0\\xfb\\x05\\xc0e\\x9c6\\x07\\x99>\\xe2\\xd267\\x07\\xe6E>\\xbdpOp\\xa4f\\xbf\\x10\\xae\\x05+\\xe5\\xb9\\xfa\\xf6\\xd9\\xc8.\\xc1z2\\x9d\\xa1]\\x9d\\x87\\x13\\x01J\\xb7\\x1f\\\\\\x08.j\\xa4\\x1d\\xda\\x0c\\xb0\\x99\\xd0\\\\HfJ\\x1aC\\xf5\\xb3Bn\\xfb\\x1ar\\xc3M\"}\\xa7\\xabM\\xe1\\xde\\xa4@\\xb9\\x83\\xb4\\xda\\x8e\\xb4\\xc7\\xc9\\xbb\\xef\\xf7\\x9fp\\x87S,\\xee\\xa9\\x85\\xfb\\x90\\xaaG\\xba7\\x1c\\x96\\x111\\xf6\\xcd\\xb2%\\xacW\\x8e[\\xb4\\x0c\\x84s\\x1e\\xb8\\xe5;_k3=\\xdb\\xa2\\xd8;\\x91\\xcd\\x81\\x0e\\xd2\\xe9\\xb9\\xa1)=\\xf4\"\\x07\\xbd\\x8f!c\\x93\\x02X\\xa2\\x92\\x84\\xddd&\\xb3\\xe7H\\x08\\x02ou\\xd9\\xfe\\xe4\\x8e\\xfb\\xd9n\\xc2z Z\\xde{W\\n\\x137\\x02F\\xb1\\x88\\x98\\x85K\\xbb\\xd9\\xc2P\\xa9M\\xe2\\xaf//vV\\xc4\\x14V\\'a\\x8d\\xbep\\x9f\\x9a\\x87\\x06\\x9a\\x06\\xce,\\x07\\xe5\\xe3\\xefv\\xded\\xa2X\\x84\\xb9\\xb1B\\xa1\\x10\\xd86\\xe3\\\\\\xfa\\t5\\xa4\\xedfkI\\xf0\\xa3\\x80\\n;\\xf9\\xd1\\xdc\\x07\\xfb\\xf4\\xe8\\xc3\\xe3\\x02\\x8c\\x9c\\xfd\\xa6\\xc7\\xed0iC9\\xa8\\xc6J\\xa5\\xfd\\xf4\\xac\\x91v\\x9b\\x06]z\\xa3\\xa98\\x81W\\x9d\\xdf\\xc0\\xa5\\x93\\xc8\\x8a\\xb9\\x07}\\xf9\\x93\\x96-\\x90\\xd5p8~\\xe2\\xc1Z3\\xda+<\\xb5+]*\\xcf\\xef\\xc6/\\xec*\\xac\\x0fc\\xd07\\xcfcO.\\xe6\\xe0\\xce\\xfa\\xa9\\x08@\\xb7\\xc4\\t\\x84W\\xaf\\xed-TJ\\xcb\\xe4\\xe0\\xc45$_\\xeb\\xa6\\x1fp\\xdc\\x1f\\x9d\\xa9ZB\\xe9\\xb4*\\xc6\\xbbnv\\x1e_\\x0e\\xcb\\xbb>Q\\x08\\x1a\\x8c%\\xd1\\xaf\\xb5\\xdb\\x8d\\xdc\\x02\\x8bX7\\nB!\\xb6B_]\\x0cu\\x05\\t\\xf26Q\\x92%\\x90\\xee3F`\\xda\\xc5z\\xcd\\xcf\\x9b\\x98\\xc6\\x1c\\xba\\x96\\'\\xd5o\\xa5.\\xab\\xdf\\xdf,\\xc4\\x8a9\\xf7\\x17O\\x17\\x9e|\\xcch\\x97\\x97\\\\\\x99\\xd9\\xa1\\x9b\\xe1\\x02\\x91\\x12\\x88\\x9b\\xebiF\\xdcv\\x1e\\xf7]\\x85\\xf5\\xe1\\xf5L\\xbe\\x07W\\xce\\x0c\\x15gP{\\x00\\xc5\\x9d\\xe51_\\xa1u\\xc4\\x99gX\\xe0V\\n\\x19\\xf8\\xc9\\xa7\\xda\\xe3\\xe4m2]\\x80=[\\xc0\\x92W|nI\\x88-w\\x87\\x85\\xf5\\xb1\\xba\\xd4\\xab\\xfa\\xe9\\xf9\\x90D\\xbb\\xc7D\\xa2\\xae\\xf3\\xa2b\\x97\\x0c\\tm%\\xa0:\\xd0\\x85\\xa69\\xdfjC\\x13\\x03\\x11y\\xd3\\xb1u?Fl\\xc4\\xe1\\xa0X+v\\xf9\\xb40RVe\\x0b0\\xd6\\x1e\\x1d\\x82j\\xe1P\\n\\xd5\\xbc\\x8c&\\xdb\\xa4\\xbem\\xdb\\x13\\x9a\\x03C\\xb3#\\xcaq\"\\x14;~s \\xbcY\\\\\\x9f\\x1b\\x18\\x01\\xb8\\xd7\\xe6k\\xeb6\\xac\\x0fM\\xbf\\xb2\\xfb\\x05I%\\x82\\xa8S}<Cpa\\x1a\\x00c/\\x1e\\x92\\x14\\xf6\\xa9\\xbd\\xa1|\\x9d\\xb9\\x0f\\x86\\x86\\x06\\xa5\\x93\\xc5\\xa0D\\xec|\\xd0n\\xb0Hq\\\\\\x06\\x00%\\x1c\\xce@{|\\xff\\x1dM\\x97\\xf5\\x06\\x0fQNQJyl\\x87\\x1c\\x99^,-Ka\\xa1\\x13\\xd4\\xe7\\xadO\\xc4 \\x01\\xb0\\xe1\\x0c\\xa1$\\xc5[T5S\\xd7Z\\xf6(<\\xebG+\\xaa\\xda`\\xe3<<\\x85\\xdaI\\x18\\xbdA\\xbf\\xaf\\xd99e[\\xee&\\xe5\\xfdF\\x82\\x7f\\xf4\\xec,\\xdeg\\xa05\\xee\\x8f\\xc5\\x8bl\\x95\\xb3+\\xb8\\x10\\xb5O\\xbf\\x01\\xf7\\xda\\x97\\xe0\\xe8V\\xac\\x0fCp#\\x85S\\x9e\\xe5\\x131\\xee\\xd8\\xc1\\x96Q]\\xb6\\xd5\\x1f\\xa5\\xefU\\xf9I\\xc0P\\xe9d\\x0cG&\\xc4\\xc7\\n\\x00\\xd3+\\xe28m\\x8c(ch\\xa1\\xccm\\x85=\\x83\\x1f\\xc4\\xa9%\\x89\\xc5\\x13\\xcf\\xc3G5\\x99\\xe1j\\xc8\\x99.4\\xc7\\xe6\\xd1i3\\xaa!X\\x08\\xa4\\x9e\\xe1\\xcb\\xf3\\t\\xe9q2d\\xd1L\\xb2\\xde\\xaf|\\xcb\\xf6,\\xdd@\\x03\\x91\\x1aq\\x7f\\x85\\xda#tPQEJg\\xa1*N\\x93\\xba\\xb0s\\x82\\xb7X\\x84\\xb1\\xb1\\xfclA\\xf0\\x0c\\xbeEq\\x0c\\x10\\xbf%\\xc0\\xd9\\xc7N~\\xa4>hK\\\\\\xa8i]\\x8b\\xf5\\xa1)o\\xebSj]o@ks\\x9dp\\x95\\xe3\\x01\\x99.\\xa0G\\x1eZ\\xb6\\xa7\\xbe=\\x8f~\\xafFu\\x85C\\xc1\\x13\\xe9P1\\x81F\\xfc#m\\x0ctU\\x04`\\xadQc\\t\\x9e\\xc3\\x0f\\x93\\x10\\r\\xd6%\\x99\\xf0\\x981\\x87\\xe0>\\xf6F\\xd6\\x87g:h\\x83s\\xc8\\xcf\\xb0\\xc59x)\\xe6Q\\x17=\\x15\\xfe\\xcb\\x08rN\\x9bf\\xb8\\x88\\xd4\\x19S\\xef\\xb3;1\\x16\\xb1I;\\xef\\xa4\\x80\\x16\\xb6N\\xc7\\x9f\\xb4\\xd9\\x01\\\\-\\xdd\\x13\\xcf\\xc3/\\xd5\\xd4$`\\x9cj\\xcb\\x8f(v\\x18Z1\\xfe\\'\\x90U>\\x82\\x9fu<\\xf4\\xbb\\x1e\\xeb!\\x94|\\xf2?\\x06\\x07\\x19\\xb4G\\x7fsM\\xb1`n!=\\xac\\xe1U\\x9dg\\xf1\\xb3\\x84\\x84\\xce5\\xadP>\\xe2\\xd8\\xd05\\x84\\xad#\\xf7\\xe4\\x9a\\xea\\x95\\xca|\\xb7|z\\x11fg\\x13o\\xf2G\\xbc\\xed\\xfc\\xfdg\\x84\\xad\\xbd\\x8b\\x84\\xe4\\x14\\x0f\\xca\\x183\\xa9l\\x10\\xcc\\xf5*\\xce\\x7f\\xdcS\\xd1x\\'\\'\\x04T\\x83!\\xa46\\x82\\x97\\xabXZ\\xadk\\xa9yP}\\xe7\\xf2n].\\x9bT\\x8d\\xd7\\x07\\x8aS\\x9c\\x916\\xa4\\x0e\\x04\\xd9Y\\xe6\\xb9\\xe5v{\\x89`\\x88`tv\\xd4\\x97B\\xa8\\xaf\\x03\\xc4\\xdd\\xb90Q\\xd3R<\\xd8M\\x96\\xb9n\\xf9\\xe7\\xf6\\xa3\\xddx\\x14\\xb0^\\x1b\\x8dKL<2\\x92\\x8a;\\x925\\x13\\xa4#\\xa6\\x96+\\xce-ou\\xf1t\\xed 0\\x0b\\x0cl\\xf5\\x7f0\\xcc\\x81\\x86z\"\\rr\\x93\\xb1V\\x0e\\x16\\xc3\\\\5\\xbe\\xd8nV/.\\xa3J\\xe9\\x81\\xe2(\\xf5\\x11\\xd0\\r1\\x8f\\x16\\x0f\\xd88\\x16\\xf8\\xef \\xc8pk\\xae4\\x07\\xb0\\xef\\xdcF{\\'\\x06\\xdd\\xe8c\\xf8\\xd5k\\xbe\\x0c\\xa53P\\xfd#l\\xd5\\xd8n\\xa7+\\x89\\nb\\xd2A\\xc6\\x15\\x8e]\\xc1\\xb2\\xbd\\xe0\\xae\\xaa\\xcd\\x81N\\xff\\xb6\\x97\\x91\\xc7\\xdf\\x19\\xf9\\xc2\\x1fy\\xd9U\\xaa\\xea\\n\\xba\\x9b\\xa5\\x13:\\xf2x\\xd5\\x8c7V\\x17\\xff\\xe5\\x12~\\xbc\\xaf\\xa1\\x7ft\\xb0^\\x1b\\xcd\\xbd|qTRCZ\\xbc\\xfe#\\xb1-\\xc3\\xb5\\xd9\\xa2\\x96\\xb9\\xdc\\xb3\\x1a{\\xd6\\x0e\\xdc\\x97Q\\xe3\\xb3\\xc1\\xe2\\x0c1\\xb5\\xf4C\\xebf\\xd8\\xa2\\x18\\x17p\\x94\\x87\\x91\\xb2rk\\xae\\x03)\\x8b\\xf8\\r\\xeb7O\\xfeZ\\xef\\xdaZ\\x8fz\\x8f\\x84\\xfaI\\x8a\\xb8\\xc5`a-1\\t,\\x8a\\xc0\\xad\\xdd\\xa9\\x1c\\xf0\\x03\\x0c\\xc1\\x97X\\x16\\x83\\xf7\\x0b\\x18\\xc6A.\\xb04\\x8d\\xe2\\xc6\\x16\\xda \\x90hxB\\x95\\xd7\\x96\\xdc\\x02#J\\xa5p+p\\x12\\x7f\\xa5}\\'\\xb7\\x15PB0JX\\x1as\\xafFHA\\xeb\"6\\xd4\\xa9\\re\\xe0\\xe6\\xf9\\x98V\\xe6\\xa3\\x86\\xf5\\xc6p\\xee\\x8d|\\xa1\\xc7\\xcd\\xf4rNm\\x86L\\xd3\\x82\\xee\\x9b{\\x14`d\\xdcb~\\x1d\\x0b\\x06w\\xd7\\xeeN\\xdeH\\x80/\\x7fvF\\xd8\\xf4\\xa2e\\xb71\\xf1u\\x19\\'>\\xb7\\x00\\xfc\\xe5\\xd2\\xe2\\xa1\\xa2\\xfcz\\xa3\\xf5r\\xa0\\xf8M\\x906\\xa7x\\x80\\xd61\\xeb\\x9a\\x81\\xa7\\x15I\\xa9\\xbeL\\xa2\\x12]m8F\\xac\\xe8\\xf4R\\xd6\\xd5CMA\\x86\\xc0E\\xb3\\x05\\xa8Uc\\xa5\\xa5\\x01\\xb2\\x9dm\\xa8\\xa8\\xa2\\xee\\x91\\xb8\\xc3\\n\\xd4q\\xd4\\x16\\xb9\\xfc\\xceW\\xc3\\x1e\\x81;[+\\xf4?8>\\x85*l(\\x92\\xcc\\x91\\xdb\\xe3{\\xb8u\\xb43R\\xef\\xd7L.\\xfe\\x80_\\'3\\x8f\\x8b2x\\x81\\x10K/\\xcf%0\\xe2\\x8f(\\xd6o09x\\xf6\\x1as\\xb8\\xd4;E\\xe3p\\x1d\\xd6\\xf4\\xd3\\xf5\\xe6\\x8c6_\\x9c\\xd7W\\x16\\xffl\\xa9\\x8b\\xd0*j\\x84\\\\\\x85\\xb3\\xd3\\xbem\\xe3\\x82i\\xc6\\xf9\\xa1x\\xfa\\xc4\\xaeQS\\r\\xb7kj\\xd2\\xf9\\xb5R\\xadK\\x1fZ\\xcb\\xf0Y\\xe5\\x8b\\xd3\\x02lT\\xf8\\x84fD\\xf1p\\x9e\\x9e\\x16\\xd2U\\x08&\\xe5Z\\xad\\xf4\\xf56\\xf4\\xd5\\x0f\\xe0\\x9a\\xc0\\xc8\\xb1\"G\\xde$\\xd9\\xa2\\xfd4\\xda\\x0b\\xe3hA\\xd7/\\x7f\\x1b\\x02_\\x86\\xb0H\\xaa\\t\\xed\\xb7<\\x8fTf\\x15gP\\x18V\\xfb\\xf5\\x98\\x88\\xc1\\x04`\\xed\\x8e\\x11\\x01&\\xa95\\\\\\xbb9j_\\x89\\x90\\xf9\\xc7\\x93y\\xa9Z\\xf9X+l\\xf9\\xd5\\xb9r\"\\xfd*[\\x16\\xd6.M\\xbe24>\\rY\\xec\\xd2IKo|X\\xaf\\x03\\x9d\\x99,\\xb5Xzs\\xb7|\\xcc>\\rog\\xa0\\xf8\\r\\xce\\xb2\\xfa\\x0e\\xb8\\x99\\x7fIC\\x18\\r?\\xce\\x84\\x14jX\\xd8\\x8d\\xb5\\xf9?\\xff\\xed\\xbd\\xd7\\xf5\\x1c\\xa2\\x15\\'\\x07\\x83\\x11\\xe5\\xb32\\x1c\\xe7\\x10\\xae\\x9aIh\\x01\\x85G\\xc7\\x0c\\xb5\\xc4@\\x8dmU\\xff\\xf4\\x8d#\\xf9\\xd0B;\\xf9k\\xbf\\xbb\\xba\\x96\\xa1\\xa4\\x08#ysH\\xec\\xe9\\x81\\xc9\\xb2\\x82- \\xe0\\x08Lv\\xb9\\x14{\\x17\\xf8}Y\\xf3\\xb6M~\\x95:\\xc7\\x1a6\\x8e\\xee\\xae\\xc9\\xb3r\\xf1\\x9f-\\xc2\\x95+\\xb0Q\\x06~\\x93Q\\t.\\xc1tVz\\x91@\\x90Z->\\xf3:\\xfc\\xf0f[W\\xd4l\\x0f\\xed8\\xe6\\ni\\xd5\\xc1\\x1d\\xf7\\xad\\x0b;\\xac\\x19H\\x1bu-I\\x8d\\xc05\\xee\\x8b\\xe6\\x15\\xebU@/\\tfU\\x08g\\x0e\\xeaz\\xeb\\\\\\xb4\\x19\\xebL\\x0f\\x0b\\n\\xe5V\\xe7\\x16\\x12F\\xf6\\xa7\\xd7\\xf2\\xc5\\xff\\x89\\x89>a\\x052\\xa0<\\x15\\x8b\\x0cE\\xa0\\xb9)H\\x81]F\\xf7\\xe3Z\\xef\\xde\\x90\\xfa\\xf5\\xf6\\xd8\\xec\\x18\\xa4\\xda\\xff\\xf1@H\\x9b\\xf9e8\\x95\\xe4\\xeau\\xf86Z\\xbc\\xb6\\xc6\\xc1\\xf6|iqi\\xf0\\x99\\xd3\\x86S\\xe8\\xe7(\\xcdPo\\xd2a\\xcds\\xc3Ou\\xdc\\x11\\to\\x92\\x02\\x90\\\\\\x80\\xb4 \\xb0\\xb9CMt\\x8f\\xbf\\r}\\xf1\\x8f\\x99\\xb5&\\xb8\\xd07\\x8fO\\x8dP\\xa6\\xf9\\xaf\\x08P\\x90\\x19\\xc2\\x0cn\\xb3\\x18\\xb5\\xc3\\x90L\\xe8\\x85C=u\\x8e\\xcd0\\x98i\\xcd\\xd4\\xdd\\x16\\x99`\\xe4P\\x0f\\x9c\\x9bAq>\\xafA\\xbe\\xa4\\x1f\\x96\\xbf^\\xdc\\xd8tm\\xa3\\xb5\"\\x0f\\xadf\\xe5\\\\\\x87\\xda\\x99-\\xc4\\xc2\\x9dK\\xa8l\\xdcf\\xa1\\xb9VI\\x83\\xc7\\xd4\\xbf\\xc9\\x8bVf\\xb5\\x9d(\\xde\\xd9\\xe8\\xebzQ\\x99\\x98\\x01\\xa6[*[X\\xee\\xcb-\\xe9\\x8b\\xea\\xdd\\x8b\\xc9D6RK-\\xb5\\xd4\\x0e\\xc7\\xa2\\x88\\x89\\xac\\xc7\\x91\\xbf\\xfe\\x19?\\xb3\"\\xb9CL&\\xad\\xfd\\xd4\\xa8\\xf1\\x93m\\x15\\xecR\\xe4\\xa1P\\x9c\\nL\\xde\\x92\\x11\\x9f\\xa7\\xb7\\xd30\\x8e\\xe6\\xed`z\\x16\\xbfkB\\xf6X\\x957\\xbf\\xabpX\\'F\\xb5\\xef\\x83_\\x9c\\xc2\\xe0\\x1e@\\xd8H\\x04\\x93\\rX0\\xbc\\xa1\\trj\\xa9\\xa5\\x96\\xdaQ\\xb6&\\x90E\\x1ds\\r\\xb2+\\xa1^\\x82\\x03^\\xa3r\\xb7\\x19\\xd8\\xdd\\x11\\xfe\\xb4j\\xca\\xfb\\x05\\xd0\"\\xc9\\x98\\xc5D\\t\\xe6*\\xb4Y<\\xadw\\x18\\x7f\\x01\\xd3\\xbf\\x12Rq\\xd6L\\xb4Z\\x1dI\\xc8\\xc5;\\x17\\xdbK\\xf3\\xb6c\\x9a\\xdf\\xf9;^\\xe6\\x84\\xd9\\x82\\xa8\\xb5\\r\\xdbr-w\\xd0\\x96+\\xb5\\xd4RK\\xed(\\xd8z \\x0bU\\xccZYNM\\xd8\\xf0\\xd7\\xdahu\\xd8r\\xc9\\xd7\\xf1y00b\\xf3\\xc0]\\xbc\\xfdf\\xbb\\xbd\\xaehQ)\\x9c\\x9d\\n\\x90\\x07d\\x82e\\xca\\xe3f\\xeeZ\\xf9\\xf6\\x85N\\xd8\\xfa\\xbb\\x19\\xf1\\xedpQY\\xa7\\xf1\\xb9\\xdaIUAj\\xa9\\xa5\\x96\\xda\\x11\\xb0\\xf51\\x9c\\x96\\x14\\xda\\x14\\x89\\xd1\\xaf\\x1a\\xf2%\\xb2\\x1e\\x03\\xec\\x04\\xbf\\xab\\x14Z\\x98Y\\x05\\xc7\\x91\\xfa\\xf8\\xb2\\x15\\xc6\\xe9\\x00\\xa6u\\x9a\\xd7\\xb4in\\xe0\\x81\\x9c\\x1e\\xf0\\xd6Pi\\xb9\\x9d\\xed\\xc5\\xee\\x16\\x91\\xf1\\xc1}\\x8c\\xee\\xb2\"\\xa91E=\\xd2L\\xa7\\xab\\xed\\x85\\xd7&\\x17WNr\\xc6\\x03Q\\xefo\\xe4\\x1e~\\xbf\\xbb\\xf2\\xfe\\xa9=\\xd5v\\xfe\\xc6\\xc0\\xfc\\x1a\\xb7\\x1d\\x00\\xdf\\x92\\x99\\x85\\xd2WM\\\\\\xb7\\xdb\\xcd\\x94s\\x06\\xf6\\xaa\\xb43\\xc2_\\xab\\x8d\\xf4t?\\x14\\xb4c\\x9b\\xb0\\xde\\xa8\\x1d|\\x1b+N\\x02\\x9f\\xf8y\\x9d\\xb9\\xf6\\xfaw\\x88\\xcf\\xd3c\\x9a\\x94\"\\xe2\\x07\\xbd\\x8d\\x0c\\x82\\xd1\\xee\\xa5+\\x11\\xb6~q\\n\\x1c\\xecuN\\xfaJ\\xed\\x0b\\xec\\xb4c\\x11.\\xff\\xb9\\x19\\xac\\xff\\x8a\\xb6`\\\\\\xd9\\xb6\\xcd\\xe9\\xe1\\x9bQ&x\\x9e\\x83\\x07\\xacE\\xc1f\\x8c\\x0b!,f\\x97\\xc7\\x1e5\\x7f-1\\x8bVBL3\\'\\x8b\\xbc\\x19\\xaf\\x8ey\\x0els\\x86T.|[^\\xbdv\\xe7rR\\xd10C\\x1b{\\x0b\\x88Q\\xa7p$\\xdf\\xd7K\\x9eD\\xdb\\xb7PT\\x1e\\xc3\\xd8\\xa0\\x18\\x0e\\x84\\xbd\\xfc\\xeeW\\x13\\xe6\\x9evd\\x989{q\\xa1\\xf0\\xe4\\x11ckV\\xf5?\\x7f\\xa2\\xdef~\\xfc\\xba`\\xca\\xebrd\\xe0\\xd5non\\x0b\\x91\\xe4\\xc54\\x05\\xaf\\x94\\x0b\\x88o\\x16\\xb0%\\xf5\\xed-\\xdf,>\\xd5Q8\\xe3JjF\\xa4\\x8b\\xe9pg\\xce\\xa5\\x9aY\\x81W}\\xb9\\x1d]{\\xfa\\x91\\x891\\xccp\\xee\\xe0\\'\\xbeWI:\\x8bF\\xc2\\x15C\\x7f3\\x08\\x99\\x1c\\xb1n4\\x85\\t\\x85\\x0cY\\x10\\xf4q\\xf7#x>1a\\xb2\\x88\\x9f=\\xae\\x1c\\\\#\\xf1F\\x90\\x1b\\xdb\\x8b\\xdep\\xdd!\\xdc\\xdf8\\x8f\\xd4I\\x94B\\x0b\\xc3\\xe5m\\xb9\\xf6Q\\x82\\xfc[`\\xf5\\xa0K\\x8eMj|$M6\\xd6P\\x1b\\xa7M\\xe1LZ0\\ng\\xa7\\x84C\\x02;\\xa4\\x97\\x80K\\x8e\\xda\\x1f\\xdcys7RP;\\x16)Y\\x9a\\x98\\xe6\\xb6\\xae\\xf5\\xd5\\xe4o\\xcc\\r\\xe0S\\xde\\xa7py\\x12\\xa6E\\xc7\\x82\\'\\xd2\\xb2(\\x97\\x1c4\\x8b\\xe1\\xa8\\xfb\\x95zV\\x81o{+\\xfes\\xb1\\x8b_\\xaf\\xb7#\\x8e\\xf5\\xd4\\xe8npt\\x98z_\\xfb\\xe0\\xfb\\x95\\xef}\\xbd[\\xb6DF\\xfdx\\x80\\xb1\\x13 \\xbd~\\xf0>\\x9a\\xab\\xa9q\\xd8\\xf5Xo\\xeaB^\\xfc\\xab\\xfbO\\xfa8G\\x06]\\xb4\\xd1.\\x91>\\xa9\\x1dc\\xf5\\xd6\\xc5\\xb6\\\\\\xc6\\x83\\xc3\\xfa\\xb0\\xa2\\x05\\xferp\\xf6\\x19\\xed\\xdd\\x86b\\x15\\xfa<\\xba\\xc1\\xb7\\xd7[w\\x1e.=\\x8a\\xa5\\x1d\\xe0\\xd6\\xd7p8X\\x7f\\xf3\\xf5\\xa1\\xb33\\xd2\\xb1\\xa9\\x9b;\\'\\x9c%\\x8d\\xe2[\\x97`\\xe2\\xea\\xee1\\xf7\\xc9\\xc9\\xe7g\\x07\\x96\\xa4C\\xe8\\xe37{\\'b\\xff\\x13h[\\x14L7\\xb6\\x86\\'\\xd4\\xad\\xd0\\'\\xe6\\xe5\\t\\n\\xa6_\\xd2\\xcbI\\x0cX\\xaf\\x13\\x03\\xc5\\x19\\xc1,)\\xf5\\x8a\\xe2S\\xeb]\\xafz\\xfbB{\\x92m\\x07kj\\xac\\xf7\\x14\\x06z\\xd5\\x02\\x9a\\xc3\\x04\\x03Dz\\xb3m]\\r\\x9b\\xd0\\xc5\\x1fe\\xac\\'\\xdet\\xfe\\xbf\\xfe\\x1d1\\xd4\\xa7&\\x15\\xf8n\\xb0\\xb2\\xb4\\xfc\\x83\\xff\\xa1{\\xc4\\x12\\xfa\\xbf\\xf4?r\\xab\\x1f\\xec\\x0c\\xf3\\x1b\\xb6\\xbb6\\xff\\x0bk]\\xef\\xd7C\\xd3\\xc9\\x1b<;\\x8d\\xc2\\xe6zC\\xdf,\\xf6n\\xeab*\\x87\\xd1gKw/\\xc0\\xd5\\x1d\\x8aH\\x0f\\xdc\\xaf\\xa7+\\xe9\\xff\\xdb\\x11\\x854(\\x9b,\\xd67f\\xa0F{\\xc6\\xd1l\\xf5\\x97O`\\xbd9X\\xac\\x87\\x16\\xdc\\xb7\\\\\\xfb\\xb0\\x81\\x89\\x9d\\x11A\\xbdV\\xda9\\xc5\\xaa\\xfde\\xf4\\xbb\\x07\\xceM\\xf1H\\xd0\\x1fe/}\\xb7|\\xbb\\x1d\\xd9\\xcbH\\x9a\\x17kG\\x89\\x14\\xa4\\x85\\x9ee\\x00\\x19*\\xe7\\x8bef*\\xff\\xaeT\"\\xed~\\x9b6k\\xe4\\x1dgO@}E\\r\\xacn\\xa2\\xe2\\xe8\\x072\\xf9\\x00\\x15\\x87\\xa6\\x18>\\x90UfeqPb\\xb72\\xdc;a5\\x8d\\xda)\\x93\\xc8\\xa8\\xf4\\x1a\\xb5\\xbb_\\xeb\\xb8\\xads\\x87\\xd7\\xb3\\x1e\\xebAxk\\xb5;o\\xbe\\xf8\\xb9\\xa9\\xc7}\\x82\\xdb\\xbd\\x8c\\t^o,\\xde\\x8d%\\xe0\\xb6\\x95\\xed\\x19\\xeb\\xe9z\\xfa?\\xff{<\\x9b\\xc36@A \\x1a\\xf5\\xa5\\xef\\xfffW`=]\\x83\\xe9\\xffl\\xd9,\\xa0J\\xc6\\x7f\\x87\\x93e\\xb4x\\xdd\\xc3\\xd7h\\x0b\\xd9\\xa8\\x95\\x0e\\xd2\\x05i;\\x86C\\xa8D\\xddL3\\xd2\\xf4%\\xf6\\x85o\\xf1\\x8c\\x00\\xc1\\xa9\\xdbA\\x03\\x19\\x16\\x8d\\x95\\xf2.\\xbd\\xac\\x0f\\x12\\xeb[xEZ^\\xd8~UZ\\x19\\xa6\\xb6\\xccL\\x80\\x9aY\\xd8\\x96\\'\\x13:T\\xc2\\xb1\\xe4\\xfcw\\x93Xh\\x0f\\x17\\xebo\\xbe>\\xf0\\xeau\\xc4\\xbf\\x80\\\\{\\x10x\\xcf~\\xa3\\xca\\x9f\\x85\\xb9\\xd1]\\xaa\\xa2\\xb4\\xbf\\xfc\\xe5k\"\\x90F/A\\x06\\xe8/\\x07\\xf5\\xea\\xd8\\x02<<\\xb5\\x1b\\x06\\xb5\\x9cn\\x846\\x1b7Pf\\xc1Pk\\x8f\\xbb\\x1aS\\x18\\x87lR\\x1d\\xe1\\xea\\xd0\\xfb\\xc3@\\xdb4]\\xb7\\xd5v\\xbb\\xdd\\x835j\\xc96(\\x1f+h\\xc7\\x96\\x1aA\\xbd2\\xbf\\x08\\x9f:\\x05\\xe5<\\xdc*\\x0eN\\xcc \\xea\\xa9\\xe7LK\\xa3\\x1a%\\xd1\\xa9\\x98\\x1f\\xff\\x96\\xb4z\\xd4\\xdcS;\\xac\\xea;[=|MIzu\\x8aY\\x83\\xb0\\xba\\xb8.\\xa6qfrp4\\xcf\\x9c>\\xec8\\xaf\\xde~\\x98\\x18\\xdf\\x84\\xf5mx\\xf1\\x94\\x9dC\\xa2W\\xcfP\\xb0V]*mQ\\x82\\xaf\\x8eP\\x95\\x96\\x85j\\xa9\\xb8\\x9b[\\xde\\x0e\\xd7\\xda\\xc4zuS\\xb3x\\xf1v\\xbd6\\x7f\\xf7\\xeb\\xc6Ycl{\\xac\\xc7s\\x8d\\x16\\xaf\\xf9\\xf8\\xacr\\x081w/n\\x97TT\\xeeHeu\\x95y~\\xf9\\xdd77\\xfeN\\xf1\\xd6\\xa0x\\xac\\xfc\\x06\\xcf\\xab\\xaf\\x94.\\xac\\xfb)\\xfd\\xb9\\xf7\\x0b\\xdfrl\\x06\\xb6\\xad\\xe6H\\xa1?\\xbc\\xf2MX\\xcf\\xd8J\\xb9\\xf4\\xdf\\xef4\\x08\\xe9h8\\xd7\\xb0\\x95\\xa7\\xda\\x96RBk\\x87,\\xe8\\x99\\xc9\\x81\\xc2(\\xcf\\xe5\\xfc5\\x17\\xb3\\x14\\x9b/\\xacx\\xcda>-*\\xc13\\xcb\\xf0\\xe1\\x0f.\\xb5\\x1d\\xaf\\xc7?(\\xac\\xd7\\xec;\\x10\\xd2\\xd4\\xa9\\x9c\\x015\\xe5\\x87\\x16]\\xd4\\xac\\xb0s\\xcc]-7\\x1d\\xa9Il\\x94\\xd4_\\xfc\\x96\\xc5pp\\xf2\\x80H\\xd5\\xbbc=\\xfe\\xbfP\\x9c\\x12\\xce \\xb6T\\x1a\\xfb\\x17\\x1bI\\xd8\\xd1g\\xa2\\x8e\\x15\\xb0\\xf2\\xe9\\'\\xdb.\\xe4\\xa4A\\x94/\\xde\\x14\\x02\\x9b\\x98\\xe3`\\xf6\\x88\\x9d\\xf1\\x99\\x1b\\xf0\\xb3y\\xc4\\xb1so\\x05\\xd8y\\xc9E\\x8eI\\xb4\\x83\\x93\\xbe\\xf8/\\xcdX\\xb6\\x00\\x96e\\xb2^.m\\x1a\\x06\\xedZ\\'X_\\x9c\\x1c\\x08\\n\\xdc\\xce\\ni\\xd5J\\xffv\\x8b3\\xaa\\xb1\\x17<a\\xb9\\x1e\\xd9X\\xad\\x0e\\xb7\\nzwH\\xb1\\x12\\xa3\\xe6\\\\3j\\xaf\\xe6\\x9e\\x8f\\xe9VWm\\xd5/\\xee\\x18E\\xc1\\x0f\\x95\\x7f\\xf7\\xe1\\x0f.c\\x86\\xd69a\\\\{u\\xf5\\xdc\\xe1A\\xa3\\xdcjV\\xb5\\x1b\\x8c\\xaa\\xd7\\xf0\\xe0\\x93\\x83+\\xcb\\x14\\xc6\\xd1\\xad\\rq{X\\xdd\\xae\\x8dmg\\x16\\xa5\\xe2L\\xd1\\x8b\\\\\\xc5\\'\\xa2\\xfce\\xb5\\xa4\\xdd\\xee\\xb2x=\\xa1@a|&\\xe0L\\xa7O\\xd4;\\xae*\\xac\\xa4\\xd7\\xd4J2\\xab\\x97\\x15x<\\xf0\\xd0u\\xc2\\xed\\xd7\\x95\\xfc\\xb9kB7\\x04\\x97$\\x0b\\xc1\\xb0\\xfb\\x18\\x13~\\x05Fa\\xec\\x83\\xc2\\xffSP\\xce\\x16\\xcf\\r\\x88z\\r\\xf3\\x14\\xb9\\x13j\\xa0\\xab9\\t\\x81\\x9a\\xa8x\\xf0A\\xf9\\x84z`R\\x06\\x18\\xe5\\xf9-,jC\\xd1\\xb7+\\xf0\\xdaU\\xe3\\rm\\x1b\\xc3qkw.\\xe6\\x8b7\\xa4lh\\x0e\\xae\\xef\\x06N6\\x83\\xad\\x93\\x15\\x8aQ|O\\xd8\\xf6\\xd2\\xa3G\\x08\\x07\\xb3/\\xc1\\xdc\\x07\\x83#\\x05\\xda\\xaf\\xf8t\\xcfR\\xe7iDP[\\xb2_\\xdc\\x98\\x81\\xd8\\x80\\xf5B8\\xde\\x89\\xf9?\\xff\\xef\\xfa\\xcf\\xbd\\xc5\\x81\\xeb*<\\xb5#\\xf73Y\\xf0}\\x84\\x1el\\xbfCQ\\xc4\\xd2$N\\xa7L3\\xce\\x10Jr\\xe2~\\xf1\\xabx\\xfd\\xe33\\x18\\xdb\\xd1}\\xa3H{\\xc0r\\xd7\\x16\\xff\\xec7\\x9e\\xfb\\xfc\\xd5\\x87\\xdf\\x9f4e\\x1f~\\x83\\t!\\xa8\\x01\\x19\\xb32\\xc2[\\xb5\\x99\\xa3<A\\x0c\\xeczuK\\xfd\\xcc\\xca\\xe1R\\xa5\\xce\\x8b\\xfe\\xac:/\\xb53\\xa4\\xdb\\xec\\xb7\\xff?\\x1e\\x9c\\xd0\\x0e\\x90\\x8etS\\t\\x8b;\\xb2\\x8a\\x8c\\x00,\\\\W\\xd7fv\\xc3Z\\xebIT_^\\xc8\\xcf\\x0e\\x0b\\x14\\x00\\xb1\\xd4\\xc3\\xc1\\x18\\x0eF8g\\xd5\\xb4\\xee\\x17\\x8f96M\\x94&`\\xc2PV\\xc2\\x97\\xc12\\xc2D\\t\\xbd\\xa5\\x89\\xebT\\xd2x\\x02\\xdce\\x94\\xbaQS8p\\x89\\\\\\xa7\\x9c\\x1b\\xb7\\xf62\\t\\xd9\\xd2\\x85\\xf5\\xda\\x0f\\xed\\xc0\\xd1\\x0fS\\x13\\x9d\\xd1\\xabPCE\\xadU\\xc5\\xebP\\xba\\xb0\\x0b\\xd6kwA=[\\x8b:\\xdc\\x05~U\\xb7\\xd3\\x03\\xd0H\\x82\\xf2U$x^y\\xe7\\xd7\\xf5\\xe0\\x1c(Ns|\\xdd48%EK,\\xb5+\\xc5as\\xf2\\xbf\\xf9\\xbd\\xc7\\xff\\xfe\\xb7\\x90\\x89\\xa7\\x1e\\xa0\\xfa\\x19^\\xc6\\xc5\\xe7>\\x7f\\xe3\\xe1\\xf7\\xcf\\xf7\\x8f\\xcf\\xe0-3\\xea\\xedEcR\\xedm\\xd1\\x89T\\xe7R\\x83D=a\\xfe\\x045pP\\xe7 \\xd0\\xa4m\\xa6\\xf0\\xd8\\xf7kj\\xdc\\xde\\xfbl\\xc4Om!@~B]\\x9e\\xc91d\\x80\\xa1\\\\\\x84\\x06Y\\xd3qo\\x1a\\xa3\\x1a ,!\\xcaj\\xd2\\x9d\\xb9\\n\\xf7\\xae\\xf4\\xa9\\x8b\\xe7\\x0e\\xcat\\xe8\\xce\\r8\\xb3\\xc0\\xf6\\xfd\\x05\\xde\\xa1\\xb2\\xef\\xfa+\\t\\xb1^]\\xbc\\x8f7599T\\x9c\\xc11\\xea\\xf4\\xe0\\x9e\\x03y\\xe19z\\x83\\x92\\x02z\\x8dZ\\x13N\\xd5\\xbf\\x9f{4p\\xbf\\x80\\x8f\\x14\\xf3\\rR\\'\\x96q\\xf8\\x9d\\xc6~\\xd7;VE\\xdd\\x9b\\xec/^\\'\\xb1\\x12\\x19\\xce=\\x14\\x1bs\\xd4\\xb3\\xb8\\xf5\\xc6\\xf6\\x11\\xb7H\\xd0\\x7f|\\n[Q\\xeb\\xa0?E\\x93\\xd5\\xac\\xa0h\\xe3\\xaeA\\xffH\\xee\\xf4\\xdc47@L\\xbf,\\xa5z\\xe2\\x18\\x1c\\xd8\\xef\\xee\\xa6\\xe5\\x9c\\xe2)\\xb2}\\x86\\x8a\\x83?Q\\xd3\\xca\\xab\\xa1\\xdf\\xd1\\x05\\xfb\\xfau\\xc4\\xa4\\x19\\xb0\\xa8\\x14\\x00$j\\xf5\\x9c\\t\\xf96\\xda\\x1f\\xfc\\xf2\\xb4\\xc7\\t\\xb0&\\xaf\\x02|V9;8F\\xd5\\x80\\x90\\xbe\\t\\xeb\\xeb\\x1e\\xd0\\xd8\\x13\\xd8g\\x98\\x90\\xfcZ\\xe1W\\xa7\\x15\\xd6\\xd3n\\xa9\\x8e*A\\xd8\\xea\\x1dg\\x88\\xbe}\\x8d\\xda\\xd2\\'LTc\\x8b\\xeb\\x16\\xd2Y$e\\xdd~S\\x81x\\xb9\\xf4z{X\\xefb \\xae\\xb1Jb\\xa5Y\\xca\\xd87\\x93\\xedX\\xa5<\\xf2\\x85?R0\\x1d\\n\\xde\\x85\\xa1\\xde\\xd6\\x98Y\\xabm\\xe6\\xdan\\x83\\xf5\\x03jk\"\\xb8\\xbak\\x11x\\xb4\\xb49\\xa8\\xd1\\x1dF\\x11\\x15\\xa4V\\xee\\\\\\x1c\\x98\\x98\\xe2\\\\\\xddW\\xdd\\x08S\\x93&\\xab#2\\xf3w\\xa9\\xdf\\x8e\\x953yE\\xd0\\x19o\\xdc\\xf0YYq\\xc2\\xf5\\xc9\\xb7\\x9d\\x86\\\\\\xbf\\xac/!\\x16\\x12\\xef@\\xad\\x94P\\xaf\\xfa\\x88\\xd8\\x19u\\xc1\\x02\\xc9b\\xfa[n\\xeb6\\x95?x\\xfbM\\xb5]\\x98\\x1b\\x9b\\xc3M\\xa4\\x0e\\x8dFo\\x93\\x92\\x99\\xd5;\\x97\\x91{\\x86\\xa4\\x86\\xfavX\\x8f\\xe0{\\xfb\\xd2X\\xf1\\xd6l\\xa9\\x98\\x7fuJH\\x82B\\x045\\x08\\xdfoF=z\\xe6y#\\rK-\\x1eC\\x13\\xd7h\\x95\\xb6\\xf0z\\xf0\\x81D.Ly\\xd9\\xa2^\\xbeu\\xe9\\xe4\\xaf\\xfd\\xee\\xe3\\xfa\\'Q\\x95\\xc4\\x8e^\\x18\\x1d\\x8d.\\x15]\\x1f\\x80\\x01\\xb5\\x8e\\xda\\'\\xf0\\xa1\\xec\\x10\\xaf\\xa7H\\x08\\x06]-G-y\\x92\\xab\\xcdI\\xb0\\x8c%\\x90\\x91\\xa9\\xa4^\\xe5\\xadb\\xe1+\\xd7\\x83@\\xaf\\xa6\\xa1j\\x7f\\xd8\\xaaI\\xc1L%\\x18F5F51m\\xeaN\\xaa<\\x8c\\xdb\\x98\\xd4\\x1d\\t\\x06\\xd5\\xcb\\xc0\\xa1\\x18\\x04!z\\x085\\xa8\\xd4\\x8a^\\xbd\\xfd\\x86\\x1a\\x15\\xf9\\xb2\\xfa\\xbbK\\xdd\\n=\\xbd\\xe13\\xaf\\x92+\\xdfbC\\x08\\x1aZ[\\x16\\xad\\xe2\\xa5\\x96g\\xe1W\\xa3\\x94k\\xba\\xec\\xa1\\xb3\\xbf\\xe7X=\\xb8\\x00\\xe8[P\\xcbI\\xcf\\x13\\x8e\\xe3T\\xcb\\xab\\xe8\\xb3\\xd0\\xf4Q\\x1b\\xa2\\xc0_\\xb8\\xddNG\\xbfMs|[\\xac\\xc7\\x05\\x0fE\\x1e\\xd1\\x07b4\\x7f=3l\\xec\\xacz\\xbej\\xf9\\x19\\xf9\\xc2\\xef\\xcc\\xff\\xf9o\\x0f\\x8eO\\xa9\\xa1\\x05\\xcdL\\x9e\\x0eJSn\\xafZ\\xba\\xb8#\\xd4\\x1a\\x9fw\\x86\\xfa\\x96\\xacJ\\xc3\\xa8\\xe9\\xc1w_\\xba\\xb8#\\xcf=B\\xbe\\x8c\\x96\\xbf\\xe2\\x00\\xb2\\xb9\\xef\\x95\\xef\\xee\\xda\\xb5|\\x13\\x1b\\x07\\xc386\\x0e\\xd0f\\x86v\\xbf1\\x96\\x08k\\xe8\\\\\\x84t$\\x03\\xc6\\x94\\x17\\xe0\\xd5\\xee&\\xa4\\xf7\\xbb\\x97\\xeb\\x0c\\xbb<\\xaaw\\xd9\\x83\\xd8\\x1d\\xd0\\x88\\xdcz\\xb5\\x8b\\xbc;5\\xf12\\xd8\\x90\\x00u\\xb0\\xf4\\xece\\x06\\xf5\\x84\\xaf<\\x82K\\x03\\xc5?db\\rw\\t\\xcdnb!\\xbf\\x16EOI\\x13I\\'\\xe7\\xc3YCy*fq\\xe9-\\xc2\\xb3\\x14\\x9f\\xc5J\\xb4\\x1d\\xb0\\x1e;\\xcf8\\xab\\xccA,\\xd3L!\\x89jQ\\xdc\\xf8\\xd4jF\\ng\\xf5\\xeey\\xb5\\x89\\xc6\\xcc\\x83ED==\\x0f\\xb5\\xa3\\xa7\\x99Q\\xeb\\x924-gb\\x0b\\xac?{\\x8d\\xd9\\xcct\\xb9A\\'W\\xa0\\x88\\x9a\\xee\\x11A\\xb8\\xaf\\x9e\\xdb\\xd0\\xd9\\xb7@\\x8d\"\\xbf.\\xe9\\x06%\\x1eA\\xf4\\xf4\\xd4\\xfdz\\x9f\\xdf\\x14\\x0b\\x03\\x1f\\xc5\\xc1\\x00\\xefL\\xedM\\x85\\xbb\\x82\\x0e\\x14\\x00b=\\x15W\\x87\\xd7\\x86=\\x86\\x9cL\\x03\\x8b@\\xac^\\xaa\\x05\\xc1}\\x85D\\xa7_\\xa2\\xbc\\x92\\x0e<\\xaa\\xcd(\\xc2%\\xcb\\x17\\xafI\\xf4C=\\xe4\\xc8\\xaa\\xc5\\x02\\x7f\\x8f\\xda\\x99)\\xd4\\xa0\\xdd$\\xb2\\xc2x\\x0f\\xf8k2\\xc4z)\\x83Z\\xe9\\x92r<7b\\xfd\\xd8\\xe8\\xd0\\xfb\\xb3(\\xf4Mk\\'\\x9e\\x08\\xf7 \\x8e\\x9a\\xfc\\x90\\xe9\\xa5\\x0b\\xc6\\xd7\\x91\\x9f\\x98\\x96<k\\x10\\\\+\\x8d\\xe3\\x85\\xd9taa\\xcd\\n\\xbe\\xb5\\xb7\\x18\\xeeE\\\\\\xe4G\\xaa)\\x80\\xb7\\x8d\\xd3\\x8a\\xd0\\x9f\\xb2\\xfd\\x88\\xf5\\nys\\xdbb\\xbd\\x99\\xefo\\x81\\x95\\x03\\xe1\\xd1\\x1b\\x94f+\\x89:\\xb1\\x96\\xef\\xc9e\\xfb\\xff\\x80\\xd2-8\\xf36\\xdc\\xa3\\xfa|\\xb5\\xe9Ww\\x8a\\xbf)\\xb8\\xfa\\x0f\\xa2\\x98\\x0eB.\\xeb3\\xea\\xe8?~\\xddo\\xe0V\\x15?\\x99bN/\\xfa\\x1f\\xa0E\\n\\xa9Y\\x90zJjI\\xa1\\xf8\\x15F}3\\'\\xe8E\\xd0\\x98\\xc7\\xeb\\xb3\\xb0\\xfb\\x18\\xc6\\x06\\x14pE;`\\xb7\\xbc(\\xed\\xb9\\xe3\\xd3\\xde\\x96N\\xbaif\\xa1\\x06-\\xbd&\\xedK\\xd1\\xfbb(&\\xb6Ve\\xcf\\x82Zs:\\xc8\\x96\\xed\\x84\\xf5y\\xb5%rB\\xd1_\\x16v*\\xc6\\xee ~+\\xe0|frxt\\xc0\\x87,\\xbd\\nF\\xda\\xef@dW|\\xae\\xd8\\x13\\xd5\\xb1v\\x0b\\xa1\\xa8\\xc1\\xfd\\xe0\\x93ry\\x19\\xc7\\xa2\\xf0tJ\\x1a\\xd0UoTo\\xed@\\xf6h\\xcd\\xc6\\xfc\\xd9i\\xb5O\\xc7\\xa5\\x1b!\\xc3\\'W\\xae^=\\xddN\\xd4\\x9e\\x8c(h\\x83##\\xd4\\xbb\\xc7\\xa3\\xc1G3\\x96\\xeda\\xa3\\xb4\\x95\\xe9\\xed\\xcb\\xab3<\\x00=oi9Q\\xdb\\x88e5,\\xba#=\\x1b\\t\\x8e\\x17\\xa7\\xd4\\x84$\\xee\\xaf\\xbb[\\xe7w\\t\\xaf\\xbd=\\xb8\\xb2B\\x00\\xe7\\x05L,\\xe7\\xb3\\xb8\\xd3:G\\x01\\n5\\x08\\xa8=$\\x86\\xads9\\xd3\\x1fX\\x81\\x8e\\xe7S\\\\\\x02\\xd4Z\\x8e\\xd3\\xcc\\xd2qC\\xa1\\\\\\xc7\\xc1\\xe5\\xe0I\\x9f\\xc5\\xb4\\xdb\\x85\\x91\\x8a\\x95u\\xb3q\\'\\xac\\xff\\x1dO\\xcd\\n\\xe04\\xd9\\x1a\\xf9\\xbe\\xfe\\x07+\\xbd\\x03\\xe2\\x11G\\xdc\\x17\\n}P\\xfa\\xe2\\xf6\\x85\\xfes\\xd7\\xb0\\xe5\\xb6\\xda\"\\xf8\\xf5\\xca\\xd8\\xc2\\x8b\\x7fU\\x80\\x17a\\xee\\x11\\xd3\\x9c][BD>o\\'\\xac\\xa7I\\x8bCEM\\xf8\\x08@c\\xf0\\x01\\x81L\\xca\\x11*\\x9e\\xe8\\xff\\xca\\xefq/C\\x01\\x16\\x0f\\xb78\\x95*\\x8a#\\x19dQ\\xae\\xb9Wc\\xa8\\x015p?\\x8f]M\\xac\\x8cZ\\x1a3.\\x1e\\x1f\\x0f\\x95\\x1d\\x90\\x8d\\x9a\\xbaGu\\x83BX6\\xf7*w.77\\x04\\xad\\xa8\\xae:\\xef\\xb8\\xf2!tI\\xb6\\xcc\\xf5\\xd4\\x1f\\xff\\xc9o\\xa9\\x99,m\\x07\\x97:\\xafQ\\xd1\\x8f\\xabx\\x9dpU\\xf9\\xdd\\x9ev\\x9f{\\xbf\\xf2?\\xdb\\n\\x9aI\\x03*\\xc3\\xb8\\xda\\n4y84\\x0b\\xdc\\xea\\xcb\\x8b\\xea\\x93\\x81\\xe2[\\\\\\xed\\x00\\xbc\\x061vp\\xbf\\xa2\\xb6\\xcb\\x83r\\x04\\xa3U\\xca\\xd9$M\\xc6Z\\xe9\\xc2\\xd0\\xd9k\\x90Qc\\xa0\\xce2}\\xa6&<Dm\\xf4IeP]\\x01\\r^@\\x17\\x86\\xc7/\\xe1\\xef\\xf4\\x9fU\\xbfc\\xd1\\'\\x9e\\xdaX\\xe0\\x19\\xc7\\xa7\\xb8\\xb3#\\xbf^\\xef\\xe6q\\x8c59\\x97&A\\x82\\xbf\\x83\\xafR\\xb9\\x11o\\xbe\\xf0\\xda\\xdb\\x0f\\xb0=\\x83z\\xda6\\xc3%J\\x94\\t\\xd4\\x8c\\x17\\x0f\\x9c\\x8e\\xdf\\x1cKYt\\x0e\\x82\\xa0r\\xfb\\xc2\\xe0\\xabS\\xa0\\xe6)\\xb7\\xb5\\x07\\x80\\xea\\x92?y482L[\\x19_\\x9d\\xa3R\\xba`\\x06\\x80Z\\x1e\\xd4V\\x80\\xc6L_\\xfe\\xef,K74\\x15\\xfd\\xcc\\xdf\\xc8\\x13\\r\\x0b*1A\\xa2\\x86(\\xae\\xca\\xdbO|\\x93D\\xbc\\x8e\\x0b\\xa2r\\x0bt\\x80\\x0eN\\xaa\\x0f\\xf3\\xe3\\n\\xe8h8\\xd1\\xce\\t\\x85\\x1a;\\xa8\\xfa\\xdc\\t\\xebqh\\xa9\\xe5\\xcd]\\xd3>w\\xb86\\xcf\\xe0\\xba\\x12\\x90\\xdbw\\xda\\x84z\\xc2\\xcaS5a\\xb9\\x9a\\xb0\\xfe\\xc9\\xfe\\xf2\\xca\\xb2\\x9a \\xcc\\xb2\\x84\\xd7\\xd8\\xe1\"Z\\xa7\\xc7\\x18\"\\xed\\xdcIM\\x9e\\x9c\\x02=C\\x9cOl\\xcf\\xe3n:\\xe6T\\xfe\\xaa\\x16pC\\xd5\\x0f@m\\xc1\\x02\"5\\xb6C\\xb3\\xddV\\xa2\\xc7\\xc7\\xa4Y\\\\5\\xb4\\x9f\\x9b\\x1e\\xece4\\xbb\\x820=\\xdb=J\\t\\x11\\xac\\xd7N\\xb4\\x1a\\x088\\x98v\\xdb\\xd9\\x90\\x17\\xdc\\xf7\\xa5o;\\xb6\\xda\\xe5]\\n\\x15\\xe5\\xd4j\\x91\\xc1\\xf7\\x18\\xb8jb`f\\xc9\"\\x7f\\x1d\\x03\\xfd\\xabj\\xfd\\xa6\\x90\\xe8\\xeb\\xea[\\x96\\xedS\\xac\\x13e[\\xab\\xef\\\\<\\xf9k\\xff\\xeb\\xe3?\\xf9o\\xf3\\xc5\\xeb\\x92\\x13\\xdbG\\xa0G\\xba\\xf4\\xeeE< \"\\xfb\\xb6X?Z\\xbc\\xe6\\x92j,F<\\xd5\\'\\xb7/b\\xc4\\xe0O0\\x14\\x8b>\\x11v&\\xa0\\x00t\\xf1\\x1bP\\xfa\\r\\xb5\\xe8Z\\xcc\\xab|\\xf7k\\n\\xb6N\\xe6z\\xeb\\xab9\\x1d\\xd6W/|\\xf1;\\x171]\\xf6\\xc3\\xd7w\\xc6z51\\xd4\\x99h#\\xc2\\xad \\xc0X\\x9f\\xba$\\xadpG\\xdb^\\xed\\xfd\\xf5\\x15\\xa7P\\xffZ\\x1dW9\\x10j\\xd3\\xf0\\xa9\\'\\x11\\xb5\\x0c\\xe5t\\xcb\\xca\\xad\\x8bf_\\x8c\\x8e\\xe4\\t\\xe5\\xff*\\xd7p\\x11\\x97@\\x8aka\\x80(\\xc0\\x9ek\\xa5\"\\x9c\\xbf\\x89=\\x15\\x8a3\\\\sv\\x19\\xb8\\x81\\xbfz\\xf7\\xeb\\xea\\xbc\\xba\\xd1\\x82\\t\\x86\\xf8\\x1ee\\xbc\\xb1e\\xe3\\xd0\\xec(\\x03\\xbb\\xfc\\xff\\xb7\\xf7u\\xb1q\\\\Yz\\xf7\\xde\\xaa\\xee&\\xc5\\x9fn6I\\xc9\\xd2z\\xb2\\xde]\\xc7\\xd8X\\xf6\\xe4\\xc1\\x01\\x16\\xd8\\x97\\xd5\\x06\\xc1\\x02\\xf3\\xb0\\xde\\x1dK-\\x8f\\'\\t\\xb0y\\x88&\\x1e\\x89\\xb2\\'\\xc9f\\xf2f\\xe9q\\x13$\\x1e\\x89\\x92\\xc72\\x10\\x04\\x98 \\xf1Z\\x944\\xce\\x0c\\xb2\\x0fy\\xb1&\\x0f\\xfb\\xb0Xc\\x80\\x95\\xe9$\\x861p0\\xb3\\x96(RlvS$\\xbb\\xeb\\xe7\\xde\\xdc\\xef\\x9c[]E\\xb2\\xf9O\\x8a\\x94\\\\g\\xc63r\\xab\\xbb\\xba\\xba\\xaa\\xee\\xb9\\xe7|\\xe7;\\xdf\\x99\\xbe\\x8b\\r\\xc6\\xaem\\x17un\\xce\\xd7GaC\\x1d!\\x8fC\\xe8\\x19\\x1e\\x866\\xb1l\\xaf\\xf3\\xc9\\x94g\\x11\\x93\\xd9\\xe5-uX\\xbf~\\x8e\\x86RH\\x06y\\xec\\x8f\\x9f\\xff\\xf1Y\\xe1\\x06z\\xd0\\xb6mt\\xa9\\xb7l\\xef,\\x1e\\x98\\xda\\xf5\\x8a\\xbe\\xe7\\x87}3\\xcd_\"\\x00\\xb2\\xbb/\\x15$\\x0c\\xf7@m\\xc6\\xd7\\x0b\\xd7\\x91T\\xbe3\"}\\x9bj\\x18\"\\xaa\\x0b!\\xdc@f\\x811\\xd2\\xf1\\xfcM\\x97\\xd6\\x03\\xdf\\xd3\\xb4\\xe7\\x8d\\x8d\\x03\\xffAx\\xe1\\xdb5\\xae\\x83V\\xf3f\\xc6\\xd7\\x83\\xd5\\x83B%\\xfc\\xa9R\\\\\\x14\\xb1\\x0f[\\xf5\\x1f_\\x9e\\xfd\\xaf\\xf6SW\\xa9\\x95\\x90\\x1ei\\x9b\\x18\\x9d\\x1cG\\xc1\\x03\\x00\\x1d\\xb2&{}\\x06U\\xb8F\\xc4\\xb6,N\\xc7Vg\\x0fB\\x85\\xd9\\xeemb\"\\x91e\\xc4\\x95\\xefA\\xec\\xab\\xe3\\x06\\xc5\\x04\\x1c\\xb9\\xf26\\x83\\xef\\xa5\\x14m\\xab\\xb3W\\xd7\\x8c\\xebO^5\\x006 \\xe2\\xd2\\x90\\xa1\\xe0~\\x0b\\x9b\\xae\\t\\x1f\\xe8z\\x1c7\\x16\\r\\x89\\x1d\\x8c\\xe3yF\\xe7WX\\x9f8\\xcbO\\xef 2\\xfb>\\xd1^\\xec\\x0b\\x0b\\xeb\\x9fD\\xb2\\xa8\\x8e\\xdd\\x1d\\xfcdD\\xa5EZ }tQ\\xd6i\\x8b\\xe8\\x16\\xda\\x0b\\xc9\\x18\\x93\\rFP \\xfe\\xec\\xb9\\x8dU\\x8e\\x13J\\x0f\\xa0=!\\xdc\\x11l\\x02\\xde^\\x9a\\xdb\\xa0D\\xbc\\x19\\xcb\\\\\\xe2\\x9au\\x07\\x87\\\\n\\xe8Q7\\xc0\\x0b\\x0fv0\"|\\x17-\\x8b\\xe1\\xd8]\\xb3\\xe4\\x02\\xcf\\xcd\\xf4\\x19\\xf0\\x9c\\xa3?\\xfa\\x8f\\xba\\xa7\\x0fO\\x0f\\xc5\\xd1\\xf0G\\xa5~\\x1d\\xcc7\\'lx{M\\x85\\x01\\x8b\\xf8\\xfb\\xb1~p\\xd39bp\\x0f\\x900\\xc2y\\xe1:\\xe0Po\\xd9o\\xb1\\xab+nK\\xb7gk\\xd9\\xb8u\\x0eq\\x80}\\xc2\\xec\\x06\\x10\\xac\\x1d\\xd7;u9c\\xc2\\xb8\\xf9\\xa1\\xdbN\\xca\\xfch\"G\\x89\\xb2\\x84q\\xeb\\x86\\xecf\\x0b\\x9c\\xca\\x95g\\xe0\\xb5c\\x11\\x83^\\xb2\\x19_o\\xa3EEQ\\xa4]\\x87\\x0f^\\x10\\'~\\xe6*\\x19\\x11\\xa7\\xbd\\xe0\\xd2-\\xf7\\xf5\\x91\\xfd)v\\xd3\\xa2B\\xf4\\x94K\\x1f\\xed\\xf5\\x00\\xa8\\xa0\\xa9r*\\xa9\\xa2hw\\xb7\\xb091\\x86\\xa0\\x15\\x85A\\x85g\\x98}\\xd6\\xb1\\xbb q\\x9e\\xba\\xa4$O\\\\\\xb0KtLLN\\xb8\\xe76\\x8a\\x19{\\x14K^\\xe3\\x7f$0\\x14X:\\xf7l~\\x9d\\xe8\\xcds\\x15\\xa4\\xc5\\xa9\\xd2Fq\\xbd\\xdb\\x12\\xb0Yz\\xb4\\x80\\xe1\\xe3\\xce#C}\\xee(5\\xbd#\\xc3@\\xcd\\x89\\xdeI\\x17\\x84\\x81\\x94\\x08\\xd9\\x06_7\\x04\\xc8\\x84\\x08\\x99\\xd8\\xde<R\\xae\\'J\\xc5\\xd8\\xe5\\xe9\\xbb\\x9e\\xc4O\\'\\x0c\\xc0^\\x01\\x84\\x8a\\xad\\xcd\\xc6\\xf5\\x99\\'\\xcf\\xfe7\\xc9\\xb1\\xa2N\\x19\\x8c\\xd5\\xce\\xedg\\x89\\xbb1&.\\\\\\xec\\x9f\\xac*\\x81\\xd1\\x8bx>YG\\xbd4@\\xfa\\x83\\xe7D\\xc6\\xd7\\xdb\\x834m\\xf2\\x04\\x80\\xab$\\x00\\x03\\xa2(bx\\xd6\\x04\\xf7\\xf6\\'\\xb0\\xa4\\xbd\\x11\\x9e\\xea1D\\xaaq\\xd5u\\x98GG\\x98\\x11\\xb5\\xec\\x8a^\\xc6\\xce\\xb0\\x8f\\x07J\\xb8(\\x0e\\xad\\xd1\\x12\\x9c\\r=)\\x97\\x05\\x17\\x8eA\\xa1\\xcf\\xb0m#\\xb2V\\x05\\x00K|G\\xb6\\x80\\x00o\\x84\\xd7\\xab\"e\\xd8t\\x07)*\\xaa\\xd4\\xae\\xba+fw\\xc1\\xe3\\xd8\\x89\\xa9\\xfaM\\xb1\\xb8\\x8e\\xbbj\\xc9l\\xc2ER\\xbcP~u\\\\h\\x9f.\\xad!4\\x13\\xe1\\xb9\\x8a[\\xf5\\x89\\x8d\\x90\\x1c\\xc7\\xbae\\xf6B\\xcb\\xc9\\xc4\\xa3\\x96\\x82\\xb8r#o\\xb5,\\xc9r\\xaa5</\\xd4\\xdebO\\xce\\xfe\\xf9\\xd9\\x9dUhW\\x97g\\x1d\\x0ek\\x03\\x1e0\\xc0v\\xa1\\x02\\xbcs\\xcb\\xc6\\xf5\\x9c\\xb8Q@\\x91e\\n\\xf1\\x9e\\xfa\\xea\\x0f\\xed&\\x90\\x94Rj\\xa2vz\\xa0\\xf5;\\xaa\\xa7Wd(\\x1f\\xae\\xa4\\x93\\xf8z\\xe7\\xf2\\xc8w[W2?\\xf1\\xe6\\x91?\\xf8\\xf7S\\xff\\xf3O\\x11\\x90\\x161\\xfakY\\xa9\\x8aga\\xb3\\x8f\\xa6\\xee6\\xbbhQB\\xb0\\xcf\\xbd\\xf2\\xd6\\xf6\\xf5\\xff),.2\\x14\\xa3b]\\xff\\xf1\\x1b\\x89\\xaf\\xbf\\x0c\\xca\\x8duI\\xec\\xeb\\xcf\\\\\\xab<h\\x03\\xf1`V\\x86\\x10\\x8eH \\x10}n\\xcd\\xd7K\\x06O\\xd3\\x92F\\xc2\\xb0\\xb4\\xde3\\\\\\x15\\xd7\\x07\\xba\\x10\\xcc\\xbf\\xff\\xaf\\xedY-\\x14\\x03W\\xba\\x90\\xdd\\x9a\\xd4\"\\x94\\xa9\\x00\\xc2 \\xd9GR\\x8c\\xd8\\xd3>\\xfc\\xc7\\x05\\xf9\\xfa\\xab\\x8aCW\\x1d\\xc2e\\x13\\xdc\\x84\\xf4\\xc8\\x8b\\xd8k+Y\\xacO\\x9c\\xb1\\xde\\xadrg\\xc4\\xf8\\xbeC]\\xd3\\x02\\xda\\xa6|=\\'\"\\x0e\\xdf\\x00\\xe3\\x05\\xb4\\x16d\\x18,\\x1cB\\xa1\\t\\xb1\\x8c\\x98\\x05\\x04\\xd7`\\x1fl\\x04\\xd5\\xf4\\xdb;\\x17\\x04\\xc2\\x82J\\x12\\xad3.\\xf5.M\\xfd\\xd6\\x02\\x0ex\\xa7*\\nENm\\x97U\\xf6\\xb6\\xe3\\xeb\\x13\\xbb`\\xc4\\xed\\x8b\\x95\\xd1Q\\n\\xee\\x91\\'`\\x07z`\\xa3\\x87\\xdf{z\\xf4\\xe7\\x0fM\\xc1\\xb8gId\\x1e\\xce5}}\\xe2\\x04\\x96\\x92\\xf9B\\x822\\x86$\\x82\\x04\\xa5\\x1b\\x84\\x93\\xf2\\xf00\\xcd\\xcdn%USz\\xf2\\xed\\xfe\\xc7\\xd0P\\xba\\xa2W\\xb8\\xefL\\xc6\\xdc\\xa1\\xf9q\\xd2\\xf6\\xcaxA\\xa9\\xd9\\x1bgQ]\\x07Lt\\x19o\\xb6\\x0f\\x1d\\x9e\\x01\\xf2\\xf5\\xf5!\\xf2r\\x97\\xacS\\x16\\x94@\\xd1\\x17\\xa1}g\\xf3k|M_\\x8f\\x12H\\t\\xef\\xa0-\\x84/\\xfb\\x80M_\\xec\\xcf\"\\xe6KC\\xfcL\\x1c?^\\xfe\\xa4J\\x81\\xb8]P\"#p\\x90\\xda\\x16\\x92\\x0b\\x94\\x95\\xfc\"\\x15y\\xc8_cUh\\xdf\\xd33\\xbf\\xbdn\\xfcK\\x81\\x0c\\x05k^g^ \\xd7\\xac\\x10O\\xfd\\xfd\\x19\\xf7\\x9eu\\xbe\\xbd\\xd3\\xa3A`%\\x95\\xa7b\\x91)J\\xec\\xa0\\xbd\"\\x83SQ\\xc8\\x90\\xa1\\x88\\xf4\\xc8\\xb0\\xbd\\xb9\\xce\\xaf\\xbd\\xb6l\\r\\xf9\\x92\\xf0{Y,Z\\x1f\\x12\\xf3?:\\x97\\xe5\\\\\\xda@\\x0fN<\\\\\\x04\\x847\\xdcc\\x9f\\xbf\\xb2\\xb9G\\x85\\xf1VR0D,\\'\\x90\\x05\\x17\\x10\\x92\\\\?\\x97\\xb8<\\xb8\\x15\\x19\\xf9s\\x1f\\xbe\\x9e\\xd0\\x12\\xde1\\\\Z\\x8c\"Pl;\\xcb\\xe3\\xcc\\xb5\\xf2\\xaccq\\xd8\\x9b9\\x7f\\x0b\\xae\\x84\\xe2\\xfa\\xed\\xfaz\\xfb\\xa2\\x8e\\xebv\\x19\\xbfzY\\xc6\\x1e\\xd5\\x03YD\\x85&\\xe1\\t\\xa2:\\x98\\xc8\\x9e\\xe0f1\\x9c\\xdd\\xf0\\xf5\\xee\\xcb\\x9d\\xa7H\\xe8@\\xc1\\xa2]\\xd8\\x1d\\xc0\\x9d`\\x84\\xf3\\x9b\\xf3\\xf5\\x05\\xbbJ\\x0b\\x8b\\xde\\xf4_\\x9c-\\xd7\\xae\\xe2K\\x81e{nh\\x14\\xcf\\xd8\\xda\\xba\\xafwN\\x01\\tV\\x8c3\\x81\\xaf\\x176\\xea\\xea\\xc4\\xf5\\xda\\xfa\\xc7\\x1b\\xe7\\x06O_\\x91Z\\xac\\xe1\\xebq4\\x02v\\xce\\r\\x9d\\xba\\xac\\xad\\x1f\\x0f\\xe9\\xc4x(\\x18\\xab\\x04\\xf0\\x89\\xc9\\xffe\\xddVw_\\xcf\\x99\\n\\x07d\\xa0!\\x165 \\x17\\x9dzL\\xe7=.\\xd9\\xa8\\x9ew\\xb8\\xa8\\x10/\\xbc\\xfff\\xca\\xda\\xc0\\xa5\\xc0\\xcb\\x98)g\\xf7\\x83B\\t\\x97\\xfa\\xc62\\x0c\\'\\xf1\\xf5\\xc4*\\x8e\\x02\\xda\\x8d2M\\xb9\\xe8\\xfe)97\\x8d\\x1f\\xf8i\\xe5\\xe40]\\x9c\\x84\\x81F \\x92\\xfdO\\x1c\\x19\\xe4p\\xec4\\xe8\\xcc3<\\x1c\\x07v\\xc3\\xc3\\x8a\\xc4)%\\xbf\\x8b\\n\\xc2-\\xa0\\x827\\xc7pV\\x00B\\xa5\\xd6\\xed\\xe6\\xf5\\xb1\\x8e\\xaf\\xb7\\xcb\\xd3x%b\\x1c\\x84\\x8d\\xad\\xc9v\\xed\\xd0\\xd7\\x1fF\\x87M\\x8d:\\x1b\\xec\\xb3\\xaf\\xa3\\xfa\\x8d\\xf3\\xdb\\x8a\\xeb;K\\xeb\\xb3\\xbb\\xe9\\x86\\x99p\\xb6PI\\xab\\x16\\xf1\\xae\\xee\\x85\\xd6\\xcco\\xa0\\xb1\\xe3\\xf6.\\xcaD!\\x07|\\xbbM:SThG\\xcb\\xa3\\x93\\x8eB\\x07\\xe2\\x82o}\\x89\\xb7\\xf9\\xf9\\x88\\xeb\\x18m\\xbf#\\xff\\xe4Z\\xd8\\n\\\\\\xc6\\x87\\xee\\xd9\\xbe\\x83%d\\x7f\\x01\\x8d\\x1b\\xe8\\xb2\\x01\\x99Z\\x90\\xae\\\\+\\xbdz\\xb5\\xeb\\xc7Z\\xf5\\x85\\x12\\x01\\xb5\\xf6A!\\x92\\x1cr|\\xae\\x89\\xd9\\x1f\\x15\\xc5O{3\\x93\\xa0I0\\xbc.\\x90W\\xdd8\\x97\\x85\\xad\\x0b\\x81\\x98\\xf9\\x89\\xf3\\x05#\\xaf^\\tcM\\x14L\\xed\\x80f\\'\\x8aw5\\x99\\xd6\\x06\\xbc\\xd7\\x86\\x8dI>\\xab\\xd6\\xe3\\xe1\\xac\\xe5\\xeb\\xe1GB{~s7\\xce\\x12\\x9d\\xb4\\x88\\xddH\\xdaS\\x13O\\xb5\\xc2\\xcf9\\x99\\xa3J\\x97\\xf2|L\\xa8\\xdf\\x13_\\x9f`8@E\\xae\\x10g9\\x88=\\xf5\\xf0\\x83\\xb3\\x99\\x06\\x8bly\\xdc\\x9e\\x12\\xb1\\x1d\\xa26e\\xca\\x9b\\xf2\\xf5\\xf8\\xde\\x18\\nk.+\"\\x98u@\\x06|@\\xe4\\xe2\\xb8\\x14\\x01\\x07\\xb3\\x9b\\xa8\\xcd\\x8e\\xd9\\x87\\x81/ \\xce$\\x0c\\xe78\\x8es\\xd1%\\xa2\"\\\\\\xff(\\x00\\xee\\xc1\\x17d-_oWb\\xd87\\xf7\\xe1?+\\x03(\\x00T%M8\\xf2\\x94\\xf8|\\xfc\\xfc@\\xed\\x07\\xca(\\x8a\\xeb\\xdb\\x9b\\xf4\\xf5\\xc0\\xca\\x0b\\x08\\x98\\xac\\xd7\\xb6[8\\x15K\\x0c\\xb1\\xd1/\\xe04<\\xa6\\xac\\xc8\\xbej\\xa1Q\\x8f\\n\\x86\\x10,\\xd4\\xe6\\x83&\\x8d\\x8dtgn?\\xba\\n\\xafO}=\\xc8\\xfb\\x1e\\xc35\\xeb\\xadM\\xcaA\\x87k\\xef\\xc6\\x8a\\x88]D_\\x91\\xc5^\\xdd^\\xc4\\x91]3\\x14\\x9d9?H`\\'\\xfb(\\xf0\\xe2y\\xb3\\xbf\\xee\\x8dN\\\\<\\xf2\\xadqP|\\xec\\xb92\\xc7\\xe6\\xc6\\xf9\\xa4\\xe8\\xa5x\\x11\\xe1 \\x84\\xd7\\xdb\\xfd\\x0c\\x1d\\x8b\\x9d\\xe4`\\x0ba\\xe8\\xf6}\\xbd\\x8c\\xc3\\xb9\\x05\\x87\\xd7\\x13\\xa6g#a\\x90\\xee9\\x05\\x19\\xac\\xfd\\xd0\\xf3\\x0bq\\xd0\\xf2\\xd4\\x06x}\\xc6\\x88\\x12[y\\xed]\\x13\\xebt@+\\xe2\\x1d\"o^?\\xb7\\x1e\\xd6A\\xd7\\xfd\\xd0+?(\\xe0\\x11T\\xc2\\xcdw\\xa4\\xb0\\xd1F\\xa0\\xf6\\xd2\\xbb\\xf1#k\\xd27\\x9d<\\x00\\xed\\xea:lQZ\\x10\\xa9\\x025\\x86\\xd9\\xe7i\\xe7=\\xb4\\xf4\\xeb\\xca\\xa7\\xc7\\xa5\\xd7\\x91Pf\\x9e\\xdc\\xf9\\xd5\\xa9\\xd0~\\xd8j4\\x8cE\\xe5Z\\x8d\\x897\\x92\\xf90#\\xcc\\xda\\xb6\\xbe^\\xebV\\xf3\\xfa\\x1beBW\\x88\\x8e\\x06\\xd2N\\xf5\\x1b\\x97gY\\xad\\x9ak\\xb3pU\\xcb}=\\x11\\xcc\\xf9f=\\xfb\\x8d\\xf1\\xe9C\\x125C\\x94\\xc1[s7\\xdf\\xe0\\x8fc\\xb5\\x83\\x17A\\x91\\x0b\\xd1\\x0f6\\xc5\\xb9\\\\\\xc7\\xd7\\xc7\\xa14\\xf0\\xf5\\x1d\"\\x04\\xfao\\x89SX\\xc7\\xee\\xc5\\xb3!\\xb5g\\x04:*w\\xdf\\xd7\\xfb\\xe4\\xebm`;\\xe3\\xf0ep\\xe4\\r\\x18\\xb7\\xf6\\xb7\\xfc\\xe1\\x05\\xf1\\xd3\\xb7P\\xfa\\x83O\\x0c=\\xc2\\x0c\\xf1\\x90(\\xc2j\\xb7\\xe0\\xeb\\xf1-\\xa8\\x00\\x87#\\x15q\\xdfP\\xa2\\xa0\\xb5\\x99\\xa7\\xcbUy\\xe5\\x92\\xc1f)\\x1c\\x96\\xb5\\xdc\\xd7+\\xb9P\\xbf\\xfe}\\xbb\\xe2\\xba\\xd5f\\x89\\\\\\x18\\x076\\xbc<T-|I\\x90\\xf1\\xf0\\xc9\\xf1\\x18>+Fa\\x86\\xea\\x996a\\x95F\\xe1\\x82\\xac\\xf4\\xf5\\xa0\\x9cK\\x1d\\x95z[\\x03\\x95\\x12(O\\x94\\xaf\\xf3\\x16nO\\xa3Z\\xbb\\xaa\\xedB\\xc3\\xb6\\x14:\\xe6\\xcf:\\xbe\\x9e\\x89\\x00|U\\xa9\\x0e\\xefjrv\\xfb\\x11\\xe2\\xd9\\x87\\xf7f\\xfa\\xed\\xe3D\\xaa\\x1e\\x14\\xf2WN_1\\\\\\xf9\\'\\xa0i\\xb4va\\x1a=n\\x97Q\\x8e\\x92\\xab}\\xbd\\xcd\\x06b\\xebd\\x86N\\x8d\\x13E\\x15\\xec\\x80\\x86\\r1\\x83\\xa2\\xe0i\\x19v\\xd9\\x8aX\\x86\\xf1\\x1c\\nHp\\x82\\xc6\\xee\\t\\xa6=;\\xf1=n\\xdd \\x86\\x95Oh`\\xbb>q~e\\xd5\\x94;\\xd2\\xc5=\\xa9zhg\\xd02h\\xcf}\\xf8\\xa68q\\xfb\\x99g\\xbe\\x98[x\\x88\\xe3\\xa3Ne\\xcf\\x0c\\x9d\\xbd\\xc8\\x9cT\\xd2\\xcc\\x9ft\\xb7\\x0e\\x89_h1 \\\\\\x8a\\xb6\\xd8X\\xfd-\\x1b.\\xf0\\xad\\xfbzIO\\xe6\\xa1\\x16$\\x84\\x99\\xfeD\\xbd\\x08\\xa8Qs\\xfb\\x0b\\xca\\x90\\xaa\\x04\\x8f\\x1d\\xad\\xc7\\xc3\\xe9\\xeekl\\xaeg8\\xd9qE\\x0f\\xd3\\xadIa\\x15)\\x95;\\x9e\\xedm \\xfavGe\\x0c\\xfb3Z\\n7\\x12]\\xa0T\\x88\\x9b<9\\xa9\\xc75\\xb5\\xee#\\x0e\\xfae\\xb43\\xad\\xd1\\xb4\\xbc\\x8e\\x1a\\x08\\x0b\\xf8\\xb8\\xaa\\xe0.J(\\xef\\xd0\\xe8\\x1a\\xd2\\x8eH\\x84\\x01\\xe2\\x0bI7\\xf0\\x98\\xde\\xa0\\x1d\\xdf\\x16\\xcduKs\\x03\\xfd\\x82\\xa5\\x84\\x8aD\\x7f\"~\\x91.\\xf82lKZ\\xde\"\\x19\\xbf\\xb5\\xdc\\xd7G3\\xc4\\x1eIA3\\xb42\\xd0@J\\x1dJ\\x1eUM\\x8d\\xfb\\xc8\\xcf\\xc2\\xa5\\xe6\\x04#\\xaa\\x1br.7\\x88\\xeb\\xd1\\x00|s\\x8c\\xc8Z=\\xd4$\"!O\\x10\\xb7M\\xa9\\x84\\xec\\x8dv5i4uo\\xd2\\x03\\x96\\r\\xc7\\xb6\\xec\\xeb\\x1db3\\xf2\\xf2\\x9f\\x05\\xc5C\\x92r^\\x19k\\xeb\\x0c\\x87\\xfaf\\xea\\xcd\\xaa\\xec\\x01\\xb9\\x8d\"\\xdc@\\x89\\x92\\r9\\xb9\\xaa\\x8c\\xfdF\\xf7\\xcc\\xde\\xfa\\xe7\\xd6\\xf5\\xb3\\xd7\\xd8\\xaa\\xafg\\xa8\\x84X7\\x8e~\\xaac\\xe5\\xdb\\xa0\\x96\\xaby\\xa06F\\ry\\x18K\\xacvM\\x9b\\x90SU\\xf4\\x07\\x18\\xd5\\xe8?T]\\x98\\x8f\\x81\\xbf%\\xe1\\xb906g\\x07S\\x13 \\x13X\\xf3\\xda\\x10\\x9d\\x9c\\xd3>\\x85\\xeb\\xd68j\\x08\\xf7s|\\xa7\\xec\\x05q\\x83\\x80H\\xe6\\xd3\\x0f\\x16g~\\xf2oP\\xd9c\\x9a\\xbfn\\xdb\\x1b\\xe5\\xc9\\xd8\\xd0\\xb6G\\x9d\\xd2\\x01\\x13U\\xa9\\xa9\\x07\\x99Dw~}\\x9a\\xbe\\xbb^*\\xb4p\\xbb\\xbf\\x86\\xc8\\xa5\\x04\\xe5\\xc95\\xc7TkWb\\x96\\xb7B\\xcbU\\x00\\x99\\xc56\\x12 \\xbb\\xb4U\\xb1_\\xb4\\xe7\\xe7\\x98\\xd1\\xcbY\\x14\\x11\\x7f\\xe7\\xae\\x7f\\xb7\\xf2\\'o\\x9b\\x05\\x1f\\xe9&\\xa1la\\xab]\\xe8\\xb5q{\\x81\\xf0\\xfa\"\\x15T\\xc6:u \\x9c\\xbc\\xfdgQ\\xca^\\xbbX\\xbc\\x04\\x93\\x0c\\x08y\\xeb\\xe0\\x1b\\xa2\\xe3\\xd9\\xb0g8\\xf9/\\x9fJ\\xc5\\x86~~\\x82p\\xba3?g\\xe3\\xceh\\x81\\x85\\x1d}\\xfe<Z44Z\\x14i\\x13B\\xc3j\\xa9\\x10\\xdd\\x7f\\xffM\"2\\x08R\\xf7\\x0c\\xe3\\x08Y]\\xf5\\x8f\\xae\\xc6\\x05\\xcdW\\xa6\\xb7C\\x7f\\xea,\\xf0\\xed\\xf9\\xfa8\\xe4\\xbb\\x03\\x8c\\xdd\\xf3h\\x05\\x01\\x99\\x94v\\xc9\\xfb\\x05\\x05\\xd6\\x1c\\xf0v\\x05\\xfcvK\\xee\\x868\\x94\\xe5\\x93WX\\xab\\x80b\\x07\\xc3\\xc8c1\\xf6\\xa6_\\xbc\\xb7\\x1epO\\x1a\\x8d\\xe5>\\x99v\\xee\\xe1\\x0e\\xf5\\xb8\\xd9\\xe5\\xeb!9\\xe9n\\xc1\\xa2\\x0bic\\x17\\\\\\x9b\\x8d:\\xcfq\\xe0\\xbf\\xad\\xd0\\x9e\\xd1\\xf0\\xd5S\\x0f\\xb1\\x15\\xa9xi\\xd6\\xeea\\xfb\\x0f\\xd9\\'\\x96\\xed\\x90\\xea\\xf47:#<RQ/8DE\\x042JC\\x08\\xb8\\xd3\\xb8\\xe7w\\xa9dz\\x8c\\xcdZ\\xcev\\xf1\\xf5\\xae3p\\xb2?\\xfa\\x87\\x9e\\xaf\\xdd\\xe3K\\xbb\\x8a\\x1b\\x10\\xc6\\x1a\\x12\\xd5\\xe2h=B\\x9d\\xcaa\\x1a\\xdb\\xf7\\xf5\\xf6\\xa8\\xf6\\x01\\x80>b\\xb1\\xe4b\\x88\\xd5e7\\xc6\\xb2\\xf9Fl\\xdf\\xd7C\\xfd\\xc6\\xc8\\x1eV\\x11)\\x9f\\xbe\\xc2\\xbf\\xc5\\xe1\\xf2\\x91i\\x14f\\xcbf\\xd8Qq\\xb2`}\\xa78D\\x15Q\\xd6\\xff\\xd9\\x12\\x86\\x03\\xbc^z\\xc8\\xa9O^vM\\xe0\\xd9\\x9f\\x994v\\x14\\xe0v\\xbf\\xef\\x18A$\\r\\xcb\\x7f\\xabd1T\\x91\\xa7\\x85\\xd3\\xb7\\xb81\\xc6\\xd70\\xed\\x01L\\x8f\\xe6:`T\\x1c\\xd7\\'^\\xb7\\xbf\\x02\\xa5\\x17F8W\\xf8\\xfa\\xe5x\\xbd\\x83\\xc2\\x97\\x1d\\x8a\\xdbMq%u\\xa18\\xff~\\x129\\xaeU\\x9b\\xa5\\x8c\\xb0\\xff\\x9b?\\xf0\\xf8\\xfa\\xb0x\\xbd{\\xea\\x98\\x17`\\xb7\\x16m\\x1f\\x84\\xd9xtH\\xd4\\xb5\\xa0\\xb88N\\x9e\\xaee\\x0f\\xe7\\xa2\\xab\\xcd\\xd6\\x08\\x19\\x07\\xe2\\x15\\xce\\xf3+x\\xf83:\\x9aTE\\xa7\\xd6\\xb0\\xa0\\xa0K3\\xb7\\xce\\x94k\\xefRWm\\x98B\\x08\\\\df\\xda{\\x7f\\xbfX\\xe8[\\xee\\xa3:i\\xe2\\x19l\\xe4\\x04\\xd4\\xb8\\x86j\\x07\\xf4\\x1bWQ\\x90Q\\xe3\\x83\\xb1\\xa7ko\\x83\\xcaa\\x93*H\\xffft\\x9b;m\\xc6h\\x05?\\x8f\\xc8l\\xf2\\xe7e\\xbb\\x0f\\x91\\xba\\xcc\\x1e\\xf9z\\x06!\\x1b\\xcc\\x87<.\\x06\\'\\x87\\x95\\xbf\\xaa%\\x9b;\\x9f_x\\xb0u\\xcfx\\xe2b\\xf5\\xd7\\xaaqKRn\\xd5\\xe6\\x0b\\nY4\\x9b\\x9d\\x15\\x94\\xcdR\\xbb1\\xee3\\xfcKJ\\x0cE\\x9c\\xb4e\\x11\\xf4\\xae\\x8c\\x9a\\x9d\\xf8\\x17\\x1b\\x84\\xcf\\xf4$\\xf5\\xbdv\\xc9\\x8f|w\\x17\\xa9\\x13r7B\\xfbd\\x9c\\xd6\\xb7\\xde6Q\\x81i\\xc7`q\\x95\\xfad{\\xb1~\\xe3\\xdcA\\x81\\xec\\xd9\\x08\\xb1)\\x7f2\\xcc\\x02/nms\\x08\\xa8\\nJ\\xb7\\xea\\xc7gY[\\xc6%R~\"\\x06\\x80\\x08Qp\\xaf\\'\\x82\\x94pq\\xce\\x06A\\xdf~G\\xb4ctWu|=\\x87<\\xf4-\\xd5;#\\xb1\\xcfl\\x9c\\xd8\\xcd^\\xa7\\x06\\xa8D\\x1f\\xe6=\\xb8\\xec\\x8d4\\x126\\xe2\\xe1\\xc4v/i\\xde\\x18;\\xf2O\\x7f\\xd4ZjHVP\\x10\\x8e\\xf6\\xca\\xb2\\r\\x84#-\\xa5\\xac\\xe7\\x1d\\xf9\\xfa\\xc8\\xf5\\x85L\\x9c\\x86\\xdb-%i\\x1c\\x90\\xae\\xb0y\\xebMp\\x99\\x041\\xcd\\x98)\\x08\\xf5\\x82\\x12\\xb5\\x80\\xf5\\x07\\x0f\\x82d\\x8b\\xe2\\x82\\xc7\\x96\\xf0z\\xeb.[6\\x9f\\xc0\\x12\\xf5\\xc8q\\x80{\\xee\\x14 $c\\x86Q\\xcb\\xc41\\x04J\\xe1\\xd1.a\\xf41\\xce\\x8d\\xa4\\x80#\\x90\\n\\xa5G\\x05S\\xba\\\\\\x8eu3T\\x1f|\\xd0&V[\\x9b\\x02/ZO^!\\x0e\\x83\\xf9\\x9b\\xe7\\x8e\\x9d\\xb9\\xf6%.\\xd18\\xdd\\xfdUq}\\x82\\xd7+Q\\xa8O\\x9cqr\\x0b\\xdc\\xa5l\\x0c\\xb7O\\xd3\\x1f\\x90\\x1aJ-\\xe7n\\x9dC+\\x1f\\x01\\x02k\\xea\\xd7\\x13\\x03\\xb5\\xfc\\xc9\\x10\\xc2\\x7fG4bw\\xaf\\xa8\\x87@\\xc5A8\\xff\\xf5\\x07\\xc7>>\\x8a\\x8d\\x8a$h\\x84\\xdb\\xddc0X\\xa8\\xdb\\x96wV\\x16\\xf8d\\x16#Wbm\\\\\\x7f\\xe4\\x0f~4U\\xee)\\xeb)\\xf0\\x85\"\\xae\\xaei:\\xb8G\\x00\\xcewY\\xb3h\\xe8\\xe4%\\xed\\xf7\\n\\x1d8\\xe9\\x05\\xba\\x86X\\x1f:B\\xd3\\xd6m\\xd1M\\xbd\\x00\\x9e\\xed\\xd9\\x17\\xab3w\\xa5\\xe1\\xae\\x8b\\xcebW\\xd4\\xad\\x1a\\x85i\\x07(\\xbb\\xb2\\x93Wt\\xc1\\xb5\\xad\\xd1\\xb7hA\\x12i\\xe8E\\xf8\\xe9Q\\xf1\\xf1w\\xa8\\xb3\\xc40\\xdbu\\x85\\xaf\\xb7\\xc7\\xe7\\xde\\xba\\xf4\\xdb\\xb7\\xef\\xeb\\xb9\"=!\\xc4D\\xd5;\\x11k\\xc9]\\xc4\\x19\\x06\\x8d\\xcd\\xeb\\x8c\\xdd_\\xb7\\xee\\xbc\\x10_\\xbf5\\xfc\\xea;\\xe8\\xb0\\x84\\xc5$5\\xcc\\xfc\\xd6VS\\xce\\x8a\\xa1\\xae\\r\\xb1Y&\\xfb\\xb8c\\xb2s\\'-!9\\x87m\\x1a\\xb2\\xf4b\\xda\\x15\\xb9\\xfaNt\\xd8Q\\xa9\\x9eZ\\x12\\xdas\\x9f\\xf7\\x0e\\xb9\\xf6\\xdc\\x0329\\xe2\\xbc\\x0c\\x9c\\x0c\\xb1\\xeco\\x9c\\xe5\\xe2\\xd2v\\x8e\\xb9Gv\\xc1\\t\\xec\\xa9\"\\x00\\x19CrWx\\x12<5\\xff>X}Y\\x91\\x1c\\xd7\\xf7aH\\xea \\xb4\\t,Ep\\x88\\x83\\xa2\\x01\\x899\\x18\\x95\\x91*\\xa1p6\\xa8\\\\@P\\xd9\\xd1\\x0f\\xc1\\x1f.\\x8e\\xbc\\xdc\\x1b\\x14\\x0f)\\xc2\\x19\\xe0H\\xb4M\\xe7\\xc5\\xe7\\xbf3\\xdb\\x81hY\\xac#[\\x9bEK7\\x10|\\x8d\\x1a\\xd1\\x04\\x98\\xd43}\\xae\\xfd\\xb5\\x14\\xfbS?~\\xfd\\xa53\\xd7>Fw\\xe5e\\xc8\\x98\\xd8\\x98\\x11e7T\\x1d\\x8e\\r\\x1c]\\xe8\\t\\xc8wc\\xe5\\xeb\\xc0n?mm}4\\x8auAs\\xc5t{\\xae!\\x7fk<\\x82\\x03\\xb4\\xaeY\\xb3v\\x18\\x145\\x94d\\xacc\\xee\\xa6K\\x02\\xc0\\xb1)\\x05\\xd2\\xf7M\\x14\\xb9\\xf9h\\x98\\xfa\\xf2)\\xbaL\\xe1\\x07#{\\x05b\\x1d\\xb0\\xa6f\\xf9\\xdb?\\x04\\x88d\\x14\\xd1P\\x00\\x154\\x87H,\\x903\\xcb\\xd3\\xe4\\xef\\x04\\x17\\xb7\\xc7\\xb8\\xd2\\x93QUTv\\xd3\\x03\\x11\\x99\\xee\\x11m`Mt\\x15\\xc5\\xf1\\xe8C\\xfd\\xf9_\\x8c\\xd9\\x13\\xaf\\xfc\\xf1\\x0fD\\xe9\\x101\\xc4\\xed\\xb7\\xc5s/<(\\xdf\\xa9r\\xae\\x80\\xe8u\\xc2UY\\x07\\xf5}\\xa9\\xd8\\tB#xI\\xc4>mbZk\\xe7\\xeb\\x89\\xa7oC\\x1c \\xfe\\xf6\\xe3Zs\\xecl/E\\xe3\\xe6\\xeb\\xb8H\\xa4X\\x85\\xf5\\x02\\x9f\\x08\\xe5\\x83\\x8e\\xb4\\t\\xc1\\x0b\\xca\\x9e\\x98ua\\xbfU-}\\x8c\\x16\\x81\\xb7\\xc0\\xab\\x16\\x05\\xc1\\xb4\\xf58\\xb6O~\\xb9\\xf6\\x0e\\x00+\\x1d\\xc5B\\xcf_\\x1f#\\x94\\xc0\\x1e\\xca\\x87b\\xc1\\x8ds|\\x1fW\\xae8\\x8a\\xc9\\x06koCq\\xc8\\xb8\\x1e.\\x80\\'&V\\xe2a}\\xe2\\xfb\\xee\\xf9\\xa4\\x8bYy\\xe5\\xaa)\\x16\\xe1\\x92\\x04u\\xe7\\xa2ls\\x19\\x05\\xa7(,\\xc8\\xc2\\x83\\x89\\xd7\\x87N]5>\\xb0b/\\x8c\\xd08\\x9d\\x14\\x05\\x89\\xfd\\xe5S\\xab\\x94@\\xeb\\xb5\\xd2D\\xbf&\\x8e\\xa3\\x1bJa7\\xb3\\xa2\\x13\\x90A\\xfbHl\\xbc\\xf9\\xc6\\x7f\\xfb\\xb7\\xe9\\xea\\xe8j\\xae-\\x96\\xa8V\\xf8\\xacG=\\x06a!X\\x9a\\xf9\\x89\\xdd\\xf92\\x1c\\x10\\xba\\xf2\\x90?\\x93\\x05\\xc9\\x82\\x1cJ\\x19\\xea\\xc0\\xc0\\xbc3\\xa2Z\\x1e\\xaf]\\xff\\x95\\xcd\\xcf\\xecZ\\x13q\\xd1@O\\xed\\xd8k\\xd7\\x16\\xc3\\xc0\\x10\\x93p\\xee\\x85\\x0c\\xdb\\'\\x03]\\xa0\\xe2\\x82\\xc1!\\x88\\x95P\\t\\x90\\xd2\\xbd\\x82\\x87\\x05\\xb5\\r\\xbe\\xec\\x03\\xaf]\\xf3\\xc2@\\xf8>uN\\x8d%\\xdb\\xad\\x18y\\xf9\\xdfE=\\xfd\\x82\\x92\\x11IQZA\\xd9\\xaf\\x9e\\xb6\\'\\xbf-\\xc4\\x83;\\xa1\\xa1\\xb3\\x81\\x9e`\\xea\\xae\\x14\\x9c,\\xa0\\x8eg\\x9f\\xa7\\xef\\xbc\\xd7\\x9d\\x96C\\xc1H%\\xfc[\\\\J\\x12is\\x127\\x1d\\x7f\\xed\\xd0\\x92u\\xeeDm\\xb8\\xf6n$\"\\x97\\x16h\\xc3\\x19wBWxk[\\x8e>\\x0b\\xd9_A\\x8bo\\xb0\\xc0\\xf0\\x14]?s@gT\\xe5\\x96[n\\x8f\\x959\\xf5\\xdfS\\xe3\\xd6\\xad 0\"\\xe8\\xf8\\x91}\\xfb\\x8e@\\x0f\\xda\\x84{]\\x84.\\xb8\\xf3\\xa2dC\\xbfzwZN\\x07\\xf1\\x07\\xf3\\x0f1]\\'QBM\\xa9`c\\x89\\xb9\\xebg\\xd7\\xd6D[\\x1b\\xb5\\x87\\xd4\\xd1b\\xe3\\xfa\\xb6\\xb9\\xf6)\\x81=\\x956M\\x8e\\xcc\\r\\xba[)\\xa9\\xe7\\x96[n\\xb9e-\\xeb\\xbb\\xae\\xc8\\xe2\\x80\\t\\xe7\\xc1]|\\xb4\\x12,;\\x90\\x16p\\x99\\xe6=U\\xecM\\xab\\x19\\\\\\xc7 \\x1d\"b\\x17H7\\xb61\\xfdBc\\x0c\\xab\\x0f*\\xd7\\x1b\\xc5\\x05\\x04B\\x15\\x80`\\x1aj\\xe5X\\xeb\\x8b\\x91B\\x10c\\xd6\\x95DD\\xa7\\xae\\xc5\\xa5y\\xfa\\x8al\\xc5r\\xf3\\xbf\\xc9p\\xe9\\x813w\\x97\\xa9\\x10\\xe3\\x08z\\x87\\nx\\xe7\\xca\\xdf\\x92\\xdb\\xfe\\x18\\x11\\xff\\x85)\\xf5\\x0c\\xa2\\xba\\xb5\\xcd\\xe9\\x10\\xb9\\xe5\\xf6\\x08\\x8d\\x1c}\\xff\\xc9+\\x1e\\xb5L{\\x9e\\x98\\xfd\\xed\\xe9G,\\xc1\\xb2\\xedEB^\\xf5\\xc4E`\\xac@BK+\\xc7\\x9f\\xe6\\x96\\xdb^XG\\xa2\\x1d\\x04>\\xd5\\xf8\\xf2~*\\xe2\\x9f[n\\x07\\xdc^\\xba6\\xf8\\x1b\\x81!\\xe2\\xd3\\xa3\\x87\\x85w\\x16\\x10\\x11\\xfe\\xde/\\xeeA\\x1f:+\\xdb\\x9f[n{aL\\xb0\\xf3 \\xb6\\x81\\xc8(\\xbe-Dm\\xbf\\xd5\\x8ar\\xcb\\xed\\xf1\\xb0\\x1d\\'\\xbf\\x8e\\xbe2\\xec&\\x06h\\xd2\\x89\\xce\\xdd}n\\xbbo\\x1d\\xa63Dc\\xd7&\\xcf\\xe5\\x96[n]l7\\x80\\xce\\x0e\\x17\\xdb\\xe3y\\x85qJk\\xcd-\\xb7]3j\\xadR\\x1e\\xf4\\xa70mn\\r\\xaeWn\\xb9\\xe5\\xd6\\xcdv\\xbeN\\xb8\\xc4\\xfc\\x918\\xf1\\xb3\\xf2\\xe4\\x10\\xb4\\x17\\xc0\\xf3\\xed\\xb8{\\x99\\xbegm\\xef\\xcf- \\x19\\xac\\xbf\\xf3\\xa9\\xad\\xda\\xb6?\\xb8\\xce\\xa1v\\xf1\\x98\\x8f\\xd22\\xe7/w%\\xd3\\xeaz\\x077\\xb9\\xa9g\\xdf\\xb6\\xf9\\xf3\\xc9^y\\xe5\\xba\\x82\\xe3\\xa0yc\\xc3\\x01\\x96\\xb9\\xe5\\x96\\xdbJ\\xdb\\x95\\xa5\\x926\\x19\\x0f\\xd5\\xde\\xd1\\xcc\\x8a\\x11&]\\x89\\x8a\\xc4\\xd8nt\\x91T\\xe6\\x9c`d\\xb2\\x12\\x8a\"\\xa1\\xb1\\x117\\x82\\x12\\xfa\\xbfN\\xf1-eIB\\xdc\\xa7\\xd0\\x97i\\xad\\xa2\\x86`yd\\x8b\\xf3\\x1e\\x13\\xe3\\xd6\\x01\\x0c\\x05\\xa5\\xb9\\x8e\\x9d\\x91\\x84\\xedEH\\xfb\\x1e\\x881UkY\\xdan\\x06\\r)t].\\xb8kB\\x95\\xcc-\\x0eE\\xcb\\x1c3\\xab\\xb9\\xc6\\xc3jH\\xf3\\xb9\\xfb\\xc8\\xef\\xf4\\x83\\xf6\\xe6\\xde>\\xf2\\xb5\\xbfn-\\xf5\\xa0+-NZ|\\xa9\\xeb\\x04RV\\x1f\\x9c\\xed\\x12\\x9b\\xbb!v\\xe3\\x86TD(b\\xd0\\xfc\\xb7\\x98#\\xa1\\xdb\\x90]\\xca\\x1d}n\\xb9m\\xddvk\\xb5d\\xdc\\xfd\\xa9q\\x8d\\x0e\\xe9\\xc8\\xb9{\\x98\\xa6\\x9ei\\x1a\\xcc\\xf8\\x8b:I\\x15\\xae\\xf8\\xd4w\\x06Yb\\x10\\x9dY\"QAA\\xdbjO\\xb35\\xf5\\xcc\\xa0=l\\x97\\xb3\\xa5\\xcap\\xb90#\\x828\\xd10\\xa1>~\\xbf\\x97\\x86ynWz\\x1e\\x1d\\x95\\xa2,\\xa6\\\\\\x03-\\xcd\\xe3\\x96:*H5=\\xf1\\xdd.\\xa7q\\xa0\\xacV\\x13C\\xff\\xa82\\x1b\\x08f\\xaa`\\x90\\xa9oL4 \\xc2_M|o;m\\x07\\xd4\\x0fQ\\xa9]\\x81\\xf3u\\x82w\\x86\\xbdv\\xc1\\xd33\\x7f~\\x0e\\xcd\\xd9]\\x1b)@\\xc9\\xbd[6U\\xe9\\x94\\xf2\\xa4s\\xdc\\x90\\x1c\\xc0$\\xc2.\\x9b\\xc4\\x993\\xe2\\xbdk$\\xc3\\xcd\\x8e>=b\\xee\\xe8s\\xcbm\\x87\\xb6\\x8b\\x0bfm0\\'\\xd1\\x1e\\x12q\\xfbP\\xbb\\xf4\\xe5\\xfcs\\xe2\\xf6\\x89e\\xdfN\\x0e%#\\xde\\xe2z\\xf4yZ\\xe1\\xe81\\xf3\\xf9_\\x96\\xc4\\xc7+\\xdc}\\xea\\x89\\x86N\\xd2\\x98\\x05\\xd2\\x94#\\xf2\\xb5r\\x93\\xedn\\x9e\\xdf\\xa2\\xbcAF\\x89\\xe1\\xd4\\x15Y:d\\xda\\x0b\\x9dt\\x01\\x0227\\xde\\xd8\\xf1\\xd4\\xc3=\\xb24\\x00G#;4\\x9fC\\x90\\xd01\\xd1\\xadO\\xb4\\xa1\\xdb\\xb5\\x9dv0*\\xbc\\x0fO\\x1e\\x89El\\x9cL\\x95\\xdch7M{/\\xcazJ\\x16\\x12q1\\xe1n(\\x844nt\\x9b\\xf6\\xc5\\x1f1S\\xa4\\x0b\\x18\\xb8V\\x06\\xa7\\xf3\\xe39\\xf5\\xe6\\x1c\\xa3\\xcf-\\xb7\\xed\\xda\\x1e\\xac\\x19\\x96S\\xff\\xdfU\\x03m\\r\\xc1\\x82\\x18\\xf4E\\x9a\\xc6\\xbd\\xc7\\x85\\xb8=3\\xdbX\\x89\\xcc\\xb8~\\xdaq\\xb9\\xda\\xddGA\\xa3J\\x93<W\\xae\\xf3\\xae\\x08\\x83\\x93\\xa8\\xb4Ah\\xa5\\xbf\\xff\\x8b/\\x9eY\\xb9\\xafl|\\xfeP\\xad\\x1a\\xfe\\xe6\\xdb\\x91_t_\\xc1s2\\xdbK\\x8dm\\xe7\\n{n,\\xf3\\xc0*\\xff\\x98&\\xac\\x83\\x05I\\xe2\\xda\\x101\\x0e\\x97\\xea\\x1dQ\\xb3\\xcd\\x9ey\\xe2\\xb2?\\xbb[\\x19\\x1d\\x86~wg@\\r+a\\xac\\x83\\x92\\xf1\\x80\\xe2\\xc9\\xaa\\xf4H\\x08\\x90k\\xaa&\\xe6\\tY\\x98f\\xf7eV1\\xc9@\\xa2\\xe4\\xb6(\\x1f;,C\\xcc\\xecH\\x98\\xbb|T%<\\xa5\\xe3\\xf6\\xfc\\xf1\\xfa\\xf2O\\xe5\\x96[n[\\xb3\\xbdY6\\x04\\x83\\x0c\\x8aiL\\xbb\\x00\\xac\\x92\\x0c;\\x15NpNj=w|:\\xc3\\x99K<\\x8b\\x10\\xc0\\x1f\\xfc\\x95\\xc1\\xe0\\xda\\xee\\xdem\\x18\\x03\\xff\\xf7\\xa8\\nCj\\xbe\\r\\x13\\x97\\xd4K\\x91\\xf8\\xf9\\xedxg\\'p\\xca*\\xaf\\xbc\\xf1\\xe0\\xfc\\xbd@\\xce\\xfe\\xf7\\x1dN\\xb8\\xdd3#\\xcd)\\xe8j\\xf9\\xbeQn\\x9c\\xa9\\x93o\\x9by F\\xb7\\xde\\xa1\\xd7Q\\xdd\\xeb\\xe8\\'\\x0b\\xa7\\xf1\\x0be\\xc4\\xebg\\xc4\\xe9\\xd5\\xe8MWG\\x9fD\\xf4a\\xab\\xb9(\\xc4\\xd7J\\xcbn\"=*\\x03b\\xc6#y\\xd1\\xf4Q\\xc1\\xbf\\xd2\\xa3\"\\xc2\\xb9\\xbf7\\x9b\\xd3+s\\xcbm\\x87\\xb6g!\\x92u=\\xb7\\xc5H\\xf5h\\xe8E4\\x7f*LJs\\x82\\t\\x15&\\x0c\\x1b\\xb7\\xcee0\\x16\\xfa\\xab\\x0b\\xb7\\x8f}\\xfc\\x99k\\xc4\\xdd\\x94\\xbbO\\x91\\x9c\\x14\\xf1\\xef\\xfc\\x95W\\x80\\x8a\\xe9z\\x1a;\\xab-\\xd5A[)\\xa8Y<$\\xa2\\xc5\\xb9\\xebc\\x07\\xafB\\xcb\\xd0\\x13\\x86sUN_A\\x0c\\xee*\\xa8\\x11U\\x95\\x17\\x1a7\\xb7t\\xcei\\x11\\x05si\\x90\\x8aE\\xc9\\xdf$.\\xfbf\\x97i\\x96\\xb0\\x15\\x8e>\\x91.\\x90\\xaa\\xa8\\xe3\\xc0\\x93\\x0f\\xeb\\xd3-\\xf1QF,\\xd0\\xa6P\\x1f\\x9d\\x18:=\\x8eI\\xa44\\x0f(I\\x01\\ri\\xb1\\xc6Fh\\xd4x\\xac\\x1d\\xc0\\xcd5\\xb7\\xdc\\x1e+\\xdb;oE\\x85\\xd9\\xdf\\xbf82\\xf8\\xb5\\xb0\\xb4D\\xf3nBz9\\xc9\\xdcir\\xec\\xe1E\\xf1\\xf9\\xd2l\"X&\\xf8#\\x95J\\xd9\\x14|\\x1a\\x16\\x9cu\\xf7E\\x11\\xb6G\\x8e\\x89U\\xd8}\\xaa\\x96\\x0c-6\\xeb\\x9d\\xd3\\xf9\\xf1\\x10\\n\\xd7a<\\x7f\\xeb\\xac=\\xec\\x16\\x02C\\x8a\\x91\\x07^{O\\x85A2\\xb5\\x80\\x00\\xa8\\xb8\\xdd\\xa8\\x96x\\xaa\\xe7\\xae^\\xab\\xdd\\xb0\\x0b\\x1f\\t\\xf13h2\\xa3\\xc8\\xe1\\xc2\\xf0T\\xa7sK\\xb9H\\x02\\xd3G\\x98L\\x80yI\\x9dT\\xc9\\x84\\x8b\\x8dnc\\x8baIZ\\x86*.\\xe30\\x82n\\x1c\\xe6\\x88\\xc5\\xda_\\x9a\\xbf\\xfb0\\x01\\xee\\x12)(\\xfb\\xfe\\xd1\\x11\\xcc\\xbd\\x8a3B\\xfc,\\x81\\xa0\\xa3\\xccG\\xb6\\'_\\x9a[n\\xb9\\xa5\\xb6\\xf7K\\xc8.\\xe9\\xe7\\x8e\\x96gC\\x96\\xd5O2tnv\\xf7Q\\xbf\\x8d\\xf5\\xdc\\xec\\x0c\\x81\\x0c5\\xbc\\x9f\\xd0\\xdb\\xfe\\xd1\\xaa\\'<\\xc9\\xe8-\\xb8\\xd5\\x86\\x88\\x98\\xd6\\x05\\x04=\\x8d\\xd6T\\xb0 n\\xbf\\xb5\\xfc\\xfc1j\\xe0\\xe9\\xd1\\xc1\\x87\\xa6\\x90@@\\xe9\\x10\\x15\\x19\\x86\\x18O\\xd1e\\x88JW\\xcbb\\xdf\\x98\\xc0\\x95\\x08j\\x866\\\\\\xa5\\xb9\\xbdc\\x07\\t\\xb5\\xcfp\\x99j\\x97\\xa5\\xc4\\xf4\\x89\\x84*\\x8a\\x02F\\xc6\\xd1o2\\xa8\\x07W\\xf2\\xe9\\xd1\\x9fc\\xca\\x1a\\x8fFrSJh6l\\xb4\\xfaJ\\xba\\x8f<\\xfb\\xe2\\x9d\\xfbw\\xa5\\xf2\\x13\\xf2\\x92q\\xe1\\xb91\\xda\\x8b\\xa2Y\\xef)\\x1b\\x9c\\x93\\xae\\xb7\\x03\\xe8GGG\\xf1>Oa\\x0c\\xa1\\xdb\\x9b\\xe9\\xf4\\xc8\\xf5C[\\xff\\x17\\xffG||\\xed\\x00\\\\\\xe1\\xdcr{\\x12\\xec\\x91,$\\x16\\xf3\\xa4!\\xf1\\x04\\xe6\\xb0\\x19\\x87\\x83+%u0w\\xbc\\xee0Y\\xbb\\xe6/\\x92\\xbb\\x1f:\\x82\\x19x\\x1dw\\x0fs\\xd5\\xddXD\\x0f\\xa7gWF|<\\x1f\\xfc[\\xe3B\\xfb\\xacRIe\\xd5\\x98T\\x97[\\x98D,\\xba\\xc1\\xfd],\\x83\\x0b\\xbdr\\x19\\xb8\\x90&\\xb9|\\x9dT\\x17y\\xe2W\\x97\\xc9\\xba\\xfbb8\\x87g\\xc7.\\x7f>N\\xb3\\tK\\x19\\xd0\\xc9/\\xc9\\xb8\\x85\\xb9\\x19\\x9b\\xdd\\x99\\x92m\\x03\\xa3\\x85F\\xd2\\x89t\\xae!\\xcb\\xc3X\\x1c\\x1e\\xae\\x96\\x0e\\x82w\\xd9[\\xf5\\xd7\\xaaQ[)\\xdc\\x1d\\xda\\xce\\xa9-n\\x95\\xa3\\xbf\\xee\\xc2\\xf9\\x13\\x82f\\xc2`@\\n\\x8fg\\xa2C\\x11#\\xd3\\x07\\t\\xa7\\xf1|\\xae\\x7f\\x90[n\\xbbl\\x8f\\xc0U\\xa5\\\\\\xcc\\xa1\\xc9Q\\xd0\\x01\\xad\\x17\\xc6\\n7\\xa9\\xbf\\xa0\\xe1\\xd7\\x98\\x8b\\xd4\\\\rx.\\xab\\xaaE\\x0fh\\xe4\\xa9O\\x1e\\xc4\\x8d2\\x97\\x1e@\\x15mZM\\xf14^p\\xd0D\\x06e>}U\\xd3X\\xa2\\x84\\xee\\x99\\xb8{\\x9e\\x18\\x07\\x1f\\xbd9cT\\xe4\\x93*\\x7f\\x9c\\xa9\\x9c\\x02\\xc3z\\xe3\\xfa\\x81\\x9a^\\xe2\\xa8\\x96\\x97\\xecu\\xe4i\\x8449\\x0f*\\xfc\\x8dE!\\xfa\\x9f\\xda\\nz\\xc3l\\xa8+\\x14\\xd1\\xa7\\x00\\x9aM\\x95d\\x18\\x80d\\xb9\"E\\xa0\\xaa\\xcc\\xf0\\xe8`$z\\x08\\xed\\t3\\xb7)\\xeb\\xe8\\x85\\xfb\\x14\\xe5^\\xf3\\x18\\xc2I\\xf9\\x07\\xbd\\x13\\xffC\\x13\\x97\\x04\\xea:A\\xf3\\x85\\x8e\\xa3?\\x08[in\\xb9=!\\xf6\\x08\\xd7R\\xad&\\xa6\\x8fW\\xab\\xd5\\xd8+H%3\\xe3\\x9by:\\xb0g\\xa42a\\xbb\\xf9\\xf51q\\x9b\\xb0u\\xf2#+\\xb1{^\\xfe\\x98\\xba\\x87C\\xd4\\x8fO\\x0b\\xf1{\\x990\\xd3\\xb1G\\x86j\\xe3\\xc6\\xefPh\\x08\\x02.\\x94@\\t\\xdf\\xac\\xbbO\\xfbrQ\\x9f,\\xd0\\xc4D\\xc5\\xe3\\xe41\\x18\\x1a\\xb3\\xdc\\x0e\\x04\\xd1>S\\x95=5.0\\x94y!SI^\\x9a\\xdb\\xec<\\x84UmS<E\\x93\\xd2\\xa35\\xb3\\x19&\\xd7\\xde\\xa9b>\\xa7\\xa0\\x99\\xb40\"\\xd7\\xfaD\\xaeU\\xf1\\xcc\\xbd\\x07\\x0e\\xa3\\'\\xbeMEL\\x1b\\x9b\\xc6\\t\\x9e\\x87)\\xd2\\xbb\\x0f\\xe9JL\\xd8l\\x8aQ\\x1c\\xe3\\x00\\x96Cr\\xcb\\xed1\\xb7G\\xee\\xa7\\xac\\x83\\x18}\\xbe\\xac\\xef![\\xcfrf\\xb84G~\\xaa\\xa7wi\\xea\\x97\\x0b\\x14\\xe0\\x83\\x99s\\xe4/\\xffzi\\xb0g9>@\\xa7N\\x05\\x00\\xb8\\xef4\\xc4N\\x1by*z\\x8a\\xc8\\x82m\\xc7\\xf6\\x944\\x87W\\x87\\x18\\x07\\xb3YZ\\x0e\\x90\\xe5c_\\x1e]\\x98\\r\\xd2\\xbe\\\\\\x077D\\xf5\\x897\\x0e\\x04\\xf9\\x92\\xca\\xc8\\xfd\\xb5q\\x0f\\xae\\xd9\\xa7\\xf1\\xbf\\x82z\\xca\"\\xed\\xb7\\xe7\\xdf\\xffW\\x1b\\x0c\\xd8\\x84e\\xbb\\x97\\xaf(\\xdf\\x87#\\x16\\x9d\\xeee\\xb4\\xb9\\x8e>\\xa5?o\\x97\\x96u/\\xd3\\xd8aP\\x95\\x14\\x11uL\\xf27\\xae\\xb2\\x1a\\xda\\xd7\\xe6\\xeb3\\x0eg;q\\xf1\\xd9\\xde\\xea\\xfd>\\x8c\\xbd\\x16\\x9d7w\\xbe\\x1d1>\\x8dZ\\xfe%\\x97a\\xf2X>\\xb7\\xdcv\\xdf\\xf6c]Q<\\x08f\\x1eZ\\xe1\\x99i\\x97$\\xf2\\x08\\xf0}\\xfaC8g\\x0e\\x8b\\xe9O\\xb1\\xf8_z\\xef\\xd9\\xdfmO\\xdfU\\xec\\xac\\xf1N\\xe7,@\\xe6\\x91QX\\x19\\xe8\\xff\\xe2\\x8b\\xff\\x97Tk\\xf9+.\\x8e\\x0c\\xf6\\x06\\xa5C\\xd8!\\xe2t\\x87@\\xab}\\x1cnN<+#/s\\xea2\\x85\\xcc)\\xf9\\xd2\\xfe\\x19\\x88\\xd0>\\x93/\\xd3\\xa0\\xbe|\\xf2\\x8a,\\xf5f\\xce\\xd0&\\x1f\\x0b\\xa8\\xcan|\\x86\\xa9\\xb8E\\xe5\\x14E\\xf4,n!:\\x14\\x1a\\xbbg\\xb4\\xe6\\xa3\\xbf\\x93\\xd4c\\x13\\n\\xcdsG\\xcb\\xf5\\x00b\\x06\\xd9z;\\xd7\\xcfcR\\xb6\\xf8\\xdd\\x7f \\xde:\\x01\\xfa\\xd3\\xe8\\xf3\\x83\\xf1\\x97\\xd2\\xef\\xa1\\x86\\xaa$\\x9c\\x17\"\\xa9\\xd6x\\xf6\\xc5\\xe6\\xc4\\x16\\x89R\\xb9\\xe5\\x96\\xdb\\x16m\\x9f\\x9cT\\xedt\\x82\\xe7\\xf8\\x0e\\xe7M\\x87\\x9c0\\x19\\x03j\\x07:4\\xf3\\xfeaq\\xbd\\x06GpBT>\\x1d6\\xb2\\xd8\\x85\\xccC\\\\\\xbd\\xb9{S\\t\\x99G2b0\\xe2M\\x85\\xb1\\x97\\xe0\\xc8\\t\\xd7{K\\xca*L\\xbe\\xfc\\xc3\\xff\\xe0\\x95J\\x06Qs\\x94\\xf4U\\tO\\t\\x1a]\\xbf\\xaf\\xa1=\\x05\\xec\\x83\\x93\\x83R\\x14m\\xcclL\\x9c\\xa8\\n\\xd8\\xf8\\xde\\xcc\\xdd\\xea:\\xf57k\\xa9\\xa3\\x1fD\\x84\\x9eQ1\"\\xa0\\xccIM\\xbcXw\\xc3\\xd2\\x92\\xb2\\xf9\\xe1\\xa3\\x95vT\\\\F\\xa1Ix\\xb4R\\x87sCE\\xf1\\xd9]l\\xbd\\'.\\x0e\\x8d\\xf6\\xc4\\xa6_\\xd2\\x0e$\\xd2\\x8c\\xcc\\xe168\\xbe\\xf4\\x1aSw\\xb7\\xd3\\xea\\x95[n\\xb9m\\xc5\\xf65_\\xe6\\xf6Z}\\x1f\\xfe\\xdapjo2A\\xa2b\\xe5\\xcb\\x86\\xf5\\x1d\\xef\\x9d\\xe1\\xae\\xab\\xc1\\xd3\\xe3\\n\\xd8}\\x98\\xbc9\\xed\\xa4\\x87\\x94fv~\\x05\\x91\\xc4\\x07\\xee\\x0c+l\\x06\"\\x91j\\xa0Ol\\xd6\\xdd\\'1\\xac\\xfd\\xdeS\\x97U\\xb1/;\\xcd\\\\\\xb7\\x17\\x9b\\x98\\x04\\xbf_\\xa8}\\xf6\\xdc\\xae`\\xe4o\\xb6\\xe7+X$\\x01\\x1c\\xd0F7\\xf8u\\xc4\\xba\\x19\\xfa\\xa4\\xbaL\\xae\\xce\\xa9\\xd0(#\\xda\\xcd\\x0f\\xde\\x10\\x17nSE\\xc4%d\\xa0\\xe8x\\xa0\\xccSN\\xc6FSDl\\x12\\x10\\x85MW\\xbf\\xad\\x89\\xda\\xc4\\xa0\\xb9\\xaf<\\xbb\\x03\\x99\\x8cNF\\x02\\xd6y\\xbe\\xd2a\\xdd\\xde\\xd9\\x83\\xd9\\xac\\x90[nO\\x9c\\xed76J\\xee\\xbe_M\\xfb\\x80\\x9b\\xa9E~Y\\x8eO\\x1d\\xb6\\xc6(\\x11\\xd5\\x81\\xb3\\xbfG\\xb2\\xc9\\x97\\x8d\\xec1PU3\\xf4\\xce\\x94\\xcc\\x035J\\xa1\\xa6\\xa7\\xa7\\x1d\\xec{\\xe1#\\xf1\\xd6\\t\\xbb=d\\xc0\"\\xfaRj\\xdc\\x156\\x02\\x9d\\x18\\x13/]#\\xdd\\xcd\\xb5\\x9du\\x02\\x88\\xdb34\\x0e\\x10\\xa7\\x13\\x932\\x96z\\xfe\\x83}\\x98\\x1b\\xe9\\x8c\\\\\\xeap\\xed\\xddH\\xf0\\xa4u\\xe7y\\xe1w\\xb5l\\xdc\\xfc\\xee\\xba\\'f\\xdc\\xf5\\xb9p\\xa2r\\xda^\\xcf\\x12*\\xab\\x1dMy\\\\\\x9f\\x82\\x93A\\xeel\\x87\\'.>\\xf3\\x8c\\xa8?\\x1c\\x16N\\x80!9\\x0e\\xef\\xca\\x1e\\xd5\\xd5o\\xbe\\xe1(\\x9b\\x93C\\x12\\xd7\\xca\\x03\\x94\\x9f\\xbd\\xa1\\x94\\x87\\xd1Mk7\\xc4Q\\xc2\\xe8\\xd6:\\xc3\\xdcr\\xcbm7m\\xbf}=\\x9bu[C\\xf5J=\\x8035:\\xf1\\xe0\\x89\\xb14\\n\\xc8\\x1b\\xc1\\xd7T}R<_\\x89\\xef\\x0b_a\\x14\\xddJ2\\x0f\\x98\\xf5Z\\x07M\\xf1\\x94\\xf3#+\\x90\\xe8\\xce\\xde@\\xa5Z\\x13\\xb5\\xa1\\xb9\\xb8ZU?\\xb5\\x95\\xa1=\\xc2g\\x8f\\x089$\\xb5\\xd6XS\\xc0}O-\\xa5\\t\\xad\\x0e\\xeau\\xb0\\x80\\x1f\\xb5^\\xc2A/\\xd2&g\\xaf\\x8c\\xfd9\\xae\\x18\\xdb\\t\\xe9\\xfd\\x82\\x0e\\xda\\xcd[\\xc9\\x95\\xa1r\\xfa\\x90\\x9e\\xd1\\xbe\\xecN\\xa11B\\x1b3?\\xe4\\x1d\\xaf\\xdf\\xbd\\xeb\\x8d\\xc6\\x9ah\\x97.\\x96\\xef\\xdcG\\xec\\xe5R*\\xad\\xa3j\\xff\\x83/\\x16\\x12\\xb4-\\xb7\\xdcr{$v@\\x16\\x9b\\x81\\x0c:\\xcb\\xa5Ir(6r\\x94&\\xe3\\xf0\\xc9S(\\xa9\\x8d\\x8c=\\x7f!\\xfa\\xdbg\\xfa~}\\xee\\xe1C\\xa3\\xb8Z\\x9b!\\xf3`$)b\\xf6\\xbev\\xf1\\xcbyB\\x8d)\\x1bX\\xee\\xee\\xdd!\\x89\\x01\\x12\\x80@\\xf9\\xd2w\\xc4\\xc7\\xef\\xadyv\\x04\\x8b\\x97?;,\\x82\\x88\\x1bq]\\x87\\x11%\\x07\\xd4\\x98\\xfa([\\xab:!\\xf9\\xefc&\\tw$IjD\\xb2;\\xa2\\xd6\\x9e\\xd6\\xb3\\xb7\\xc6\\xba\\xc9\\xcag\\x8c\\xb4<\\xcb\\'\\xc7\\xa9w)L\\x87\\x88I\\x93\\\\\\x93\\xe4G1o\\xca\\xdcs\\xadO\\x1d\\x9c\\x8d\\xdd=\\x95\\xbe\\x8b\\xc1\\xe2\\xccS\\x95\\xc1\\xba\\'M \\xed\\xff \\x852\\x99\\xebL\\x85q\\x9bu\\t-\\x03Y\\xf7\\x87\\xf1b\\x8e\\xdb\\xe4\\x96\\xdb\\xa3\\xb5\\x03\\xe2\\xeb\\x13#\\x90}\\xf0\\x93\\x11\\xa5|\\x03\\xc8E\\xa7.\\x83\\xfd\\x0b\\x81\\xf8\\xf6\\xff#\\x13>\\x9c8_>yI\\xf8\\xa5d\\x0cV\\x96\\xcc\\x83<\\x00(\\x8d$\\xe5\\xac\\xe9Qq\\xfb\\x04\\xc5\\xb0L\\x10\\xec\\x1c\\xd3\\x90rC8\\xd4\\xdfa\\xf2\\xac\\x11\\x05S\\x98\\\\>u\\x95\\x04\\xd9[N6\\x00\\x9c\\x93\\xf6P\\xff\\xc0\\x17\\x0b}\\x8f0JMp\\xf6\\xcf\\xee\\x96G\\x86\\x9d\\x044\\x04\\xebc\\x05\\xe1\\xe5E(\\x9d9\\xf4f\\x8d\\xbd\\xc7:\\xfa\\xe7>+\\xd3<\\x93\\xa4\\xd0-\\xd8\\xd1[\\x87.\\xc3\\xa8~\\xf3,\\xf6\\x92\\xc9i\\x81\\xdd\\xf7\\x9e\\x94\\x05L\\x8dw\\xe1\\xbc\\xe8\\xf8z\\xd28\\xc2\\xaeP\\xfe\\xf6;*\\x8c\\xb5\\xa4\"\\xf9\\xb2[\\x96\\x90m$US\\x1e\\xcc\\xe65\\xd8\\xdcr\\xdb/;`\\xbe^\\xf0\\xb4\\xa9\\xc9!\\xf1\\x92\\x16\\xfd\\xc4-Y\\x01\\xe9HG\\x11\\x01\\x8dR\\xc7\\xd1\\xa2RE\\xe8Y\\xbaT@,\\xdb\\x1b\\x94\\xb2N\\xaa\\xa05\\xe6IQ\\x81q\\xe8\\xd4e\\xede\\xb1{j\\xfcA\\xa5Q\\x17\"of\\xf6n\\xb7y\\x87\\x89Y\\x07\\xfa\\x8c(/T\\xa9\\xb1+\\xc8\\xc8\\x81\\x11\\x92\\xf3\\x88\\x14r\\xe8\\xf8,\\xf4V\\x1b\\x97,+/I\\xa7\\x9e\\xa4\\xd9\\xbc\\x92\\x98\\xfd\\xbb\\xb3k\\x88\\x859!\\x9a\\xc1\\xd1A%z\\xb8I\\xd5\\x05\\xdd\\xc2a\\xf4\\x99i\\xaeg\\xca\\xdf\\xfe\\xa1\\x0c\\xc1\\x93Y\\xd9\\xe0\\xca\\x8dov\\xd75Q,z\\x95\\\\2\\xc2s{\\xed\\xb2)\\xb2|\\xa7\\xb0\\x01hO\\xcdGC\\x9b\\xd6#\\xca-\\xb7\\xdcv\\xdf\\x0e\\x9e\\xafgcYs=%=\\x08\\x9b\\x0b\\x86\\x05\\xb2&%\\xc7\\x8c\\x84 \\xb7\\x84\\xf0\\x85_\\x10\\xaeG_/\\'\\xf3\\x08\\x19\\xc7#\\x8b\\xe6\\xf3~4\\xeb\\x97\\xe3\\xfb\\xa2\\xe0\\xc3+\\xa5\\x05F\\xa7\\xaa\\xaftP\\xef\\xc8\\xf2,\\xf3\\xdai[i\\xf9\\xf4e!\\x99\\x84\\xeep\\x0f`K\\xb1\\x9e\\xbd\\xf9\\xa8\\x8a\\xb4$\\xfbS9y\\xd5x2)\\xc9v\\x9a\\x9e\\xc2\\xc6\\xc4\\xd95w\\x1d\\xb0h\\xde\\xaa\\xdc\\x197~Q\\x82L\\x99Q\\x8a\\xc7\\x8f\\xf7\\x95n\\xe1\\xe7O>/\\x86\\xea\\xe5z\\x0b?\\x93[\\x1f\\xb2\\xdb\\xa7\\x13\\xb4\\x88\\xa4\\x96\\xc6\\xf7\\x9c\\xd0\\x851\\xcb\\xa0y\\xe2\\xd9\\x83\\xeaj\\xff\\x18Gs\\xaa\\xa3\\x91\\x90[n\\xb9\\xed\\x9b\\x1dT_\\xcfF\\x90N\\xe5o\\x86L\\xa1\\x04\\xf7d\\xc8;\\x1b\\xb3\\xf2m\\xd4\\xc5c\\x18\\xba\\xd1\\x99\\xb9(\\xf4w\\x04\\xac\\xd3\\xfc<\\xd2\\xb3!\\xcf\\xc6\\x98~\\x9c\\x01\\xfaq\\x10\\xb0\\xbd]\\xa5W\\xb8\\x19x+\\xbf()!\\xd0\\xc8\\x0eW\\x16&\\xed\\x04!\\x13h\\xa3\\xa3\\xd7\\xb8\\xebF\\'\\xe6\\\\8!\\xe0$\\xca\\x96\\x10\\x19\\x8d6\\xf4\\x1b\\xba\\x7f;\\x7fV\\xe2?+[\\x19\\xac)\\xc5\\xbb\\xa9\\xc3\\xec\\r\\x89\\x0ee\\xaf$}\\x04]\\xaf\\xf6\\x9dQ 0+<\\xeeVE\\xa7\\xf3S\\x1e\\xd5`\\xe3\\xe6\\xf1\\xfbx1\\x8f\\xe5s\\xcb\\xed\\x00\\xd8\\xc1\\xf6\\xf5l$\\x8cS\\x1e\\x19\\x86wC<\\xce\\xe4\\xc2U\\x1e?\\xb7\\xbd2\\xda\\x1e\\xb0\\xbdE\\xd8\\x02\\x15\\xeds\\xcb86\\x89!=\"h^\\x1e!\\xc4&\\x17<\\xc8-\\xb7\\x83b\\x8f\\xcbR$\\xacyRT\\x04\\x942\\xe1k\\xb2\\x08Ln\\xfbn\\x8a\\xa1\\xb6\\xb8\\xd4\\xdb\\x9aj\\xfd\\x95\\x93/\\xce-\\xb7\\xdc\\x0e\\x8c=^\\x0b\\x12\\x1e\\xff\\xe9\\xc9\\xc1\\x87\\xbah<\"q\\xe71\\xfe\\xbe\\x1b(OB\\xc2\\xcb\\x97\\xa7Z?\\xcd\\xbd|n\\xb9\\x1dL{<\\x97\\xe5\\x85\\x0b\\xe2\\xcb\\xa3\\xe5\\x99\\xb6\\xf0\\x0b\\x92D[\\xf0\\xe2j\\x1c?\\xb7\\xbd2W\\x05A}\"\\x8e\\xfbU\\xf0\\xab\\xe3\\xcd\\x1c\\xb1\\xc9-\\xb7\\x83l\\x8f\\xf3\\xe2\\xa4\\xa2_\\xe5\\x93a\\xd0\\x07MB\\x08\\xd9eK\\x9c\\x9a\\xd1\\x1a\\xb5O\\xe3fqP\\xa9\\x93\\xa5\\xf1\\x89\\xf2\\xa8S\\xf2\"I\\xca\\x18\\xe2\\x07u/\\xf0n\\xc3\\x8cQ\\x92\\xbf\\xb2\\xd3$lD\\xf2\\x05\\xc6\\x95T\\xa9\\x9d\\x8a\\xcfHJ\\xa6\\x84f\\xca\\xb0\\xbbe\\xd2\\xf1v\\xd0\\xb4\\x1c4\\xd5Q1\\xf1\\xa9\\xbd\\x13\\xbb\\xfa\\x15\\xb9\\xe5\\x96\\xdb\\xee\\xdb\\xe3\\xec\\xeb\\xd9\\xa0W#\\x06\\xbe9\\xe2\\x15|b\\xc9\\xe8\\x95\\x14\\xc0\\x9d\\x9a\\xd3\\xdd\\x84+5QS<\\x10b\\x12sSI\\x1a\\x01#\\x9c\\nER\\xc9g\\xcfo\\xa4_\\x12qP\\x10r\\xfa\\xf8\\xf3\\x10\\xf5Mt\\'\\xb7e\\x89\\x98\\xc1o\\x0e\\r\\xea{\\xaa\\xd0\\x93\\x99\\x15\\xa5iZV\\x1b\\x925L\\xb2\\xa4I^\\x10\\x92\\xf3=8x\\xbd\\xdb\\xb9\\x0e\\x93\\\\Q\\x9b\\x95*j\\xd7_\\x9c\\xc3\\x8b9\\xc7&\\xb7\\xdc\\x1e\\x13{\\xfc}\\xbd3\\xeb\\xd4.V\\xbfQ\\x8d\\xfb\\x14\\x88\"\\x82\\xc6$\\xc9]D\\xf2\\xd9\\xe3+\\xb0\\x16E\\xd4\\xd3\\xd3\\x9a\\xfa/\\x7f\\xea\\x18\\xf7\\xb5+\\x98\\xbb\\x1d\\xf1hVz+\\x1aJ#\\x88DN7W\\x0e\\xc5\\xdd\\xda/\\x82\\x10?fpc\\xa6`\\xc9\\xe8\\xb6;\\x0e\\xc6l\\xf5\\x98`\\xa9\\xa1\\x9e\\x12CuH\\xd6\\xfc\\xc9\\x7f\\x1e\\x9c_\\x94\\xber<%\\xb9\\x8b^\\xbe\\x03\\xd7PqD\\xb6\\x9a\\xc7\\x9bx9\\xf7\\xf2\\xb9\\xe5\\xf6X\\xd9\\x13\\xe3\\xeb\\x13\\xa30\\xbfR\\x1b\\xd5\\x04\\xbc\\xe0\\x15\\x88p\\xed\\x96\\xd7\\'dF\\x12\\xe7\\xc4\\xee(A47R\\x10\\xf5\\xbbeAZ\\x05<\\xf2\\x90\\xf9\\xe8\\xe0\\xa7\\xdb\\xd8:\\x04\\xca!\\xb6\\xd5I\\xc4#\\x1b\\xcb\\x03\\xba\\xd4\\xebT\\xdeX\\xed\\x87R\\x07h3\\xf4A\\xd7axtP\\xab^\\xad\\tD\\xda]n\\x92\\x93\\x9c\\x83\\x99(j\\xde\\x9a\\x05T\\x93\\xbb\\xf8\\xdcr{<\\xed\\x89\\xf3\\xf5\\xa9\\x19\\xf1\\x8d\\xf1J\\x9f2\\xcaM\\xbbN\\x06\\x9a\\xef\\x96I\\xa7\\xbal\\xb7\\x14\\xd3#\\xf4\"0\\x96\\xb8-2-[$F\\x16B[m\\xabC\\x97xt\\xd7\\'\\x10\\xdf7&\\x91\\x1f\\xa0{E\\xe2kA\\x1cyJ\\x85\\x82f\\xb7\\xaelh\\xda\\xf9\\xef\\x12\\xc2\\xe5F&\\xa6\\x0cfA\\x88\\xbc\\xee\\x9a[n\\x8f\\xb7=\\xe9\\x0b\\x98\\xc3\\xfc?\\xfeuQX0B%\\x95\\xcc]t\\x8e\\xc0\\xaf\\x917\\x98\\x88\\xe2n\\x05\\x81{\\xa7\\xb4C\\x06\\xa7)e\\x14\\xcfy\\x87\\xc5\\xf1\\x9a\\xb8\\xb0\\xd1\\x05\\'\\xd8\\xbd?z\\xe0\\x154\\x0e\\x98U\\x8a\\xc7Q\\x95\\x84&\\\\,\\xed.\\xe2\\x02\\xf9\\xddKY\\xe8\\xb7`\\xf3\\xd0Q\\\\h\\xcf\\xbf\\xff0\\x0f\\xe4s\\xcb\\xed\\x89\\xb1\\'\\xdd\\xd7\\xa7\\x06\\x878T{/\\xd6m\\x88h:D{/\\xa8;+,\\xd1m\\xb7\\x9e\\xdbz\\xfc\\xaf\\xcf\\xe0\\xb5\\xae\\x0e\\x94^\\x1c\\xf9\\x9b\\xa3\\x91\\xafMW\\x9d\\x99\\xbd9;7\\xff\\x0b\\xb4\\x1e\\x19\\xf7\\xc6\\xf3?\\x9a\\xc9]|n\\xb9=y\\xf6\\xd5\\xf1\\xf5\\xcb\\xed\\xa5k\\x95\\xdf\\x08\\\\\\x0b\\xae0\\xbb\\x07\\xe8\\xafcI\\x06`\\xff?\\x16u5\\x92\\x82\\xf8\\x17.T\\xef\\x8c\\xc4\\xa8\\xac\\xd2\\xbf\\xa6\\xf3\\xb6\\xf6\\xf6|\\xb0\\x93P\\xaa\\xd3<b\\xc4\\xf8\\xd8W\\xf7a\\xc8-\\xb7\\xaf\\x80}\\xb5\\x977!<#/\\x0f\\x07=\\x9eL#h\\xbd\\xe7n\\x16\\xb6J\\xa0\\xed\\x11|!\\x87\\xf0\\xdaHOJ\\x1d\\xd6\\'\\xeay\\x08\\x9f[n_\\x11\\xfbj\\xfb\\xfa\\xac\\xd1\\\\\\xd9\\xea+\\xe3\\x91\\x8f`_>\\x8aH\\xffQ\\x19\\xe5\\x12\\x18\\t\\x1bG(\\x14_\\xb8\\x98\\xfb\\xf7\\xdcr\\xfb\\xaaY\\xee\\xeb\\xd7\\xb6\\xda\\x85A=b]\\xa4L5\\x182\\x1a\\xc8\\x07\\xd3\\xd2\\xc6Z)\\x15\\x14\\x8c\\xfbD\\xfbW\\x13\\xffr\\xbfO+\\xb7\\xdcr\\xdbg\\xcb}\\xfd\\xa6\\xcd\\x98\\x81\\xd3\\x97<\\xe1s\\xc5T\\t\\x91\\x14x\\xf7\\xcb\\x92\\xa1\\xaf\\x98\\x10\\xc8\\x7fR*\\x0e\\xeb\\xfe\\xd1|0Hn\\xb9\\xe5\\xb6\\xc2r_\\xbf#\\x1by\\xf9\\xcf\\xa2B\\xafPR\\xe3\\x1f\\xcd\\x83@\\xdcL\\x10\\xc7\\xbc\\xdc\\xe1f\\xe0\\xf6\\x13\\x1e\\xa2B\\xd3T\\x14\\x1dYi\\x13\\xd8\\x7f\\xe6>\\xfc\\xden\\xfc\\x8e\\xdcr\\xcb\\xed\\t\\xb7\\xff\\x0f\\xd4\\x1bFd\\xb3\\xbf\\xf9\\xf1\\x00\\x00\\x00\\x00IEND\\xaeB`\\x82'}, {'number': 8, 'type': 0, 'bbox': (32.0, 719.494140625, 186.76480102539062, 733.978515625), 'lines': [{'spans': [{'size': 12.0, 'flags': 16, 'font': 'Tahoma-Bold', 'color': 4221573, 'ascender': 1.00048828125, 'descender': -0.20654296875, 'text': 'SDS: GYLCOL ETHER DPM', 'origin': (32.0, 731.5), 'bbox': (32.0, 719.494140625, 186.76480102539062, 733.978515625)}], 'wmode': 0, 'dir': (1.0, 0.0), 'bbox': (32.0, 719.494140625, 186.76480102539062, 733.978515625)}]}]}\n"
     ]
    },
    {
     "ename": "TypeError",
     "evalue": "Object of type bytes is not JSON serializable",
     "output_type": "error",
     "traceback": [
      "\u001b[0;31m---------------------------------------------------------------------------\u001b[0m",
      "\u001b[0;31mTypeError\u001b[0m                                 Traceback (most recent call last)",
      "\u001b[0;32m<ipython-input-4-ec18ee50d150>\u001b[0m in \u001b[0;36m<module>\u001b[0;34m\u001b[0m\n\u001b[1;32m     17\u001b[0m \u001b[0;34m\u001b[0m\u001b[0m\n\u001b[1;32m     18\u001b[0m \u001b[0;32mwith\u001b[0m \u001b[0mopen\u001b[0m\u001b[0;34m(\u001b[0m\u001b[0;34m'data.json'\u001b[0m\u001b[0;34m,\u001b[0m \u001b[0;34m'w'\u001b[0m\u001b[0;34m)\u001b[0m \u001b[0;32mas\u001b[0m \u001b[0mf\u001b[0m\u001b[0;34m:\u001b[0m\u001b[0;34m\u001b[0m\u001b[0;34m\u001b[0m\u001b[0m\n\u001b[0;32m---> 19\u001b[0;31m     \u001b[0mtext_data\u001b[0m \u001b[0;34m=\u001b[0m \u001b[0mjson\u001b[0m\u001b[0;34m.\u001b[0m\u001b[0mdump\u001b[0m\u001b[0;34m(\u001b[0m\u001b[0mtext\u001b[0m\u001b[0;34m,\u001b[0m \u001b[0mf\u001b[0m\u001b[0;34m)\u001b[0m\u001b[0;34m\u001b[0m\u001b[0;34m\u001b[0m\u001b[0m\n\u001b[0m",
      "\u001b[0;32m/mnt/sda2/Users/Administrator/Documents/ICT/Miniconda3/envs/NLP/lib/python3.8/json/__init__.py\u001b[0m in \u001b[0;36mdump\u001b[0;34m(obj, fp, skipkeys, ensure_ascii, check_circular, allow_nan, cls, indent, separators, default, sort_keys, **kw)\u001b[0m\n\u001b[1;32m    177\u001b[0m     \u001b[0;31m# could accelerate with writelines in some versions of Python, at\u001b[0m\u001b[0;34m\u001b[0m\u001b[0;34m\u001b[0m\u001b[0;34m\u001b[0m\u001b[0m\n\u001b[1;32m    178\u001b[0m     \u001b[0;31m# a debuggability cost\u001b[0m\u001b[0;34m\u001b[0m\u001b[0;34m\u001b[0m\u001b[0;34m\u001b[0m\u001b[0m\n\u001b[0;32m--> 179\u001b[0;31m     \u001b[0;32mfor\u001b[0m \u001b[0mchunk\u001b[0m \u001b[0;32min\u001b[0m \u001b[0miterable\u001b[0m\u001b[0;34m:\u001b[0m\u001b[0;34m\u001b[0m\u001b[0;34m\u001b[0m\u001b[0m\n\u001b[0m\u001b[1;32m    180\u001b[0m         \u001b[0mfp\u001b[0m\u001b[0;34m.\u001b[0m\u001b[0mwrite\u001b[0m\u001b[0;34m(\u001b[0m\u001b[0mchunk\u001b[0m\u001b[0;34m)\u001b[0m\u001b[0;34m\u001b[0m\u001b[0;34m\u001b[0m\u001b[0m\n\u001b[1;32m    181\u001b[0m \u001b[0;34m\u001b[0m\u001b[0m\n",
      "\u001b[0;32m/mnt/sda2/Users/Administrator/Documents/ICT/Miniconda3/envs/NLP/lib/python3.8/json/encoder.py\u001b[0m in \u001b[0;36m_iterencode\u001b[0;34m(o, _current_indent_level)\u001b[0m\n\u001b[1;32m    429\u001b[0m             \u001b[0;32myield\u001b[0m \u001b[0;32mfrom\u001b[0m \u001b[0m_iterencode_list\u001b[0m\u001b[0;34m(\u001b[0m\u001b[0mo\u001b[0m\u001b[0;34m,\u001b[0m \u001b[0m_current_indent_level\u001b[0m\u001b[0;34m)\u001b[0m\u001b[0;34m\u001b[0m\u001b[0;34m\u001b[0m\u001b[0m\n\u001b[1;32m    430\u001b[0m         \u001b[0;32melif\u001b[0m \u001b[0misinstance\u001b[0m\u001b[0;34m(\u001b[0m\u001b[0mo\u001b[0m\u001b[0;34m,\u001b[0m \u001b[0mdict\u001b[0m\u001b[0;34m)\u001b[0m\u001b[0;34m:\u001b[0m\u001b[0;34m\u001b[0m\u001b[0;34m\u001b[0m\u001b[0m\n\u001b[0;32m--> 431\u001b[0;31m             \u001b[0;32myield\u001b[0m \u001b[0;32mfrom\u001b[0m \u001b[0m_iterencode_dict\u001b[0m\u001b[0;34m(\u001b[0m\u001b[0mo\u001b[0m\u001b[0;34m,\u001b[0m \u001b[0m_current_indent_level\u001b[0m\u001b[0;34m)\u001b[0m\u001b[0;34m\u001b[0m\u001b[0;34m\u001b[0m\u001b[0m\n\u001b[0m\u001b[1;32m    432\u001b[0m         \u001b[0;32melse\u001b[0m\u001b[0;34m:\u001b[0m\u001b[0;34m\u001b[0m\u001b[0;34m\u001b[0m\u001b[0m\n\u001b[1;32m    433\u001b[0m             \u001b[0;32mif\u001b[0m \u001b[0mmarkers\u001b[0m \u001b[0;32mis\u001b[0m \u001b[0;32mnot\u001b[0m \u001b[0;32mNone\u001b[0m\u001b[0;34m:\u001b[0m\u001b[0;34m\u001b[0m\u001b[0;34m\u001b[0m\u001b[0m\n",
      "\u001b[0;32m/mnt/sda2/Users/Administrator/Documents/ICT/Miniconda3/envs/NLP/lib/python3.8/json/encoder.py\u001b[0m in \u001b[0;36m_iterencode_dict\u001b[0;34m(dct, _current_indent_level)\u001b[0m\n\u001b[1;32m    403\u001b[0m                 \u001b[0;32melse\u001b[0m\u001b[0;34m:\u001b[0m\u001b[0;34m\u001b[0m\u001b[0;34m\u001b[0m\u001b[0m\n\u001b[1;32m    404\u001b[0m                     \u001b[0mchunks\u001b[0m \u001b[0;34m=\u001b[0m \u001b[0m_iterencode\u001b[0m\u001b[0;34m(\u001b[0m\u001b[0mvalue\u001b[0m\u001b[0;34m,\u001b[0m \u001b[0m_current_indent_level\u001b[0m\u001b[0;34m)\u001b[0m\u001b[0;34m\u001b[0m\u001b[0;34m\u001b[0m\u001b[0m\n\u001b[0;32m--> 405\u001b[0;31m                 \u001b[0;32myield\u001b[0m \u001b[0;32mfrom\u001b[0m \u001b[0mchunks\u001b[0m\u001b[0;34m\u001b[0m\u001b[0;34m\u001b[0m\u001b[0m\n\u001b[0m\u001b[1;32m    406\u001b[0m         \u001b[0;32mif\u001b[0m \u001b[0mnewline_indent\u001b[0m \u001b[0;32mis\u001b[0m \u001b[0;32mnot\u001b[0m \u001b[0;32mNone\u001b[0m\u001b[0;34m:\u001b[0m\u001b[0;34m\u001b[0m\u001b[0;34m\u001b[0m\u001b[0m\n\u001b[1;32m    407\u001b[0m             \u001b[0m_current_indent_level\u001b[0m \u001b[0;34m-=\u001b[0m \u001b[0;36m1\u001b[0m\u001b[0;34m\u001b[0m\u001b[0;34m\u001b[0m\u001b[0m\n",
      "\u001b[0;32m/mnt/sda2/Users/Administrator/Documents/ICT/Miniconda3/envs/NLP/lib/python3.8/json/encoder.py\u001b[0m in \u001b[0;36m_iterencode_list\u001b[0;34m(lst, _current_indent_level)\u001b[0m\n\u001b[1;32m    323\u001b[0m                 \u001b[0;32melse\u001b[0m\u001b[0;34m:\u001b[0m\u001b[0;34m\u001b[0m\u001b[0;34m\u001b[0m\u001b[0m\n\u001b[1;32m    324\u001b[0m                     \u001b[0mchunks\u001b[0m \u001b[0;34m=\u001b[0m \u001b[0m_iterencode\u001b[0m\u001b[0;34m(\u001b[0m\u001b[0mvalue\u001b[0m\u001b[0;34m,\u001b[0m \u001b[0m_current_indent_level\u001b[0m\u001b[0;34m)\u001b[0m\u001b[0;34m\u001b[0m\u001b[0;34m\u001b[0m\u001b[0m\n\u001b[0;32m--> 325\u001b[0;31m                 \u001b[0;32myield\u001b[0m \u001b[0;32mfrom\u001b[0m \u001b[0mchunks\u001b[0m\u001b[0;34m\u001b[0m\u001b[0;34m\u001b[0m\u001b[0m\n\u001b[0m\u001b[1;32m    326\u001b[0m         \u001b[0;32mif\u001b[0m \u001b[0mnewline_indent\u001b[0m \u001b[0;32mis\u001b[0m \u001b[0;32mnot\u001b[0m \u001b[0;32mNone\u001b[0m\u001b[0;34m:\u001b[0m\u001b[0;34m\u001b[0m\u001b[0;34m\u001b[0m\u001b[0m\n\u001b[1;32m    327\u001b[0m             \u001b[0m_current_indent_level\u001b[0m \u001b[0;34m-=\u001b[0m \u001b[0;36m1\u001b[0m\u001b[0;34m\u001b[0m\u001b[0;34m\u001b[0m\u001b[0m\n",
      "\u001b[0;32m/mnt/sda2/Users/Administrator/Documents/ICT/Miniconda3/envs/NLP/lib/python3.8/json/encoder.py\u001b[0m in \u001b[0;36m_iterencode_dict\u001b[0;34m(dct, _current_indent_level)\u001b[0m\n\u001b[1;32m    403\u001b[0m                 \u001b[0;32melse\u001b[0m\u001b[0;34m:\u001b[0m\u001b[0;34m\u001b[0m\u001b[0;34m\u001b[0m\u001b[0m\n\u001b[1;32m    404\u001b[0m                     \u001b[0mchunks\u001b[0m \u001b[0;34m=\u001b[0m \u001b[0m_iterencode\u001b[0m\u001b[0;34m(\u001b[0m\u001b[0mvalue\u001b[0m\u001b[0;34m,\u001b[0m \u001b[0m_current_indent_level\u001b[0m\u001b[0;34m)\u001b[0m\u001b[0;34m\u001b[0m\u001b[0;34m\u001b[0m\u001b[0m\n\u001b[0;32m--> 405\u001b[0;31m                 \u001b[0;32myield\u001b[0m \u001b[0;32mfrom\u001b[0m \u001b[0mchunks\u001b[0m\u001b[0;34m\u001b[0m\u001b[0;34m\u001b[0m\u001b[0m\n\u001b[0m\u001b[1;32m    406\u001b[0m         \u001b[0;32mif\u001b[0m \u001b[0mnewline_indent\u001b[0m \u001b[0;32mis\u001b[0m \u001b[0;32mnot\u001b[0m \u001b[0;32mNone\u001b[0m\u001b[0;34m:\u001b[0m\u001b[0;34m\u001b[0m\u001b[0;34m\u001b[0m\u001b[0m\n\u001b[1;32m    407\u001b[0m             \u001b[0m_current_indent_level\u001b[0m \u001b[0;34m-=\u001b[0m \u001b[0;36m1\u001b[0m\u001b[0;34m\u001b[0m\u001b[0;34m\u001b[0m\u001b[0m\n",
      "\u001b[0;32m/mnt/sda2/Users/Administrator/Documents/ICT/Miniconda3/envs/NLP/lib/python3.8/json/encoder.py\u001b[0m in \u001b[0;36m_iterencode\u001b[0;34m(o, _current_indent_level)\u001b[0m\n\u001b[1;32m    436\u001b[0m                     \u001b[0;32mraise\u001b[0m \u001b[0mValueError\u001b[0m\u001b[0;34m(\u001b[0m\u001b[0;34m\"Circular reference detected\"\u001b[0m\u001b[0;34m)\u001b[0m\u001b[0;34m\u001b[0m\u001b[0;34m\u001b[0m\u001b[0m\n\u001b[1;32m    437\u001b[0m                 \u001b[0mmarkers\u001b[0m\u001b[0;34m[\u001b[0m\u001b[0mmarkerid\u001b[0m\u001b[0;34m]\u001b[0m \u001b[0;34m=\u001b[0m \u001b[0mo\u001b[0m\u001b[0;34m\u001b[0m\u001b[0;34m\u001b[0m\u001b[0m\n\u001b[0;32m--> 438\u001b[0;31m             \u001b[0mo\u001b[0m \u001b[0;34m=\u001b[0m \u001b[0m_default\u001b[0m\u001b[0;34m(\u001b[0m\u001b[0mo\u001b[0m\u001b[0;34m)\u001b[0m\u001b[0;34m\u001b[0m\u001b[0;34m\u001b[0m\u001b[0m\n\u001b[0m\u001b[1;32m    439\u001b[0m             \u001b[0;32myield\u001b[0m \u001b[0;32mfrom\u001b[0m \u001b[0m_iterencode\u001b[0m\u001b[0;34m(\u001b[0m\u001b[0mo\u001b[0m\u001b[0;34m,\u001b[0m \u001b[0m_current_indent_level\u001b[0m\u001b[0;34m)\u001b[0m\u001b[0;34m\u001b[0m\u001b[0;34m\u001b[0m\u001b[0m\n\u001b[1;32m    440\u001b[0m             \u001b[0;32mif\u001b[0m \u001b[0mmarkers\u001b[0m \u001b[0;32mis\u001b[0m \u001b[0;32mnot\u001b[0m \u001b[0;32mNone\u001b[0m\u001b[0;34m:\u001b[0m\u001b[0;34m\u001b[0m\u001b[0;34m\u001b[0m\u001b[0m\n",
      "\u001b[0;32m/mnt/sda2/Users/Administrator/Documents/ICT/Miniconda3/envs/NLP/lib/python3.8/json/encoder.py\u001b[0m in \u001b[0;36mdefault\u001b[0;34m(self, o)\u001b[0m\n\u001b[1;32m    177\u001b[0m \u001b[0;34m\u001b[0m\u001b[0m\n\u001b[1;32m    178\u001b[0m         \"\"\"\n\u001b[0;32m--> 179\u001b[0;31m         raise TypeError(f'Object of type {o.__class__.__name__} '\n\u001b[0m\u001b[1;32m    180\u001b[0m                         f'is not JSON serializable')\n\u001b[1;32m    181\u001b[0m \u001b[0;34m\u001b[0m\u001b[0m\n",
      "\u001b[0;31mTypeError\u001b[0m: Object of type bytes is not JSON serializable"
     ]
    }
   ],
   "source": [
    "# See: https://www.quora.com/Is-there-any-way-to-Convert-PDF-to-Json\n",
    "\n",
    "#PDF to JSON using Python 3+ \n",
    " \n",
    "# package to install  \n",
    "# pip install Fitz  \n",
    "# pip install pymupdf  \n",
    " \n",
    "import fitz  \n",
    "import json  \n",
    "\n",
    "InputFile = 'data/gylcol-ether-dpm-sds.pdf'\n",
    "document  = fitz.open(InputFile) \n",
    "page  = document.loadPage(7) #enter page \n",
    "text = page.getText('dict')  \n",
    "print(text) \n",
    " \n",
    "with open('data.json', 'w') as f: \n",
    "    text_data = json.dump(text, f) \n",
    "    "
   ]
  },
  {
   "cell_type": "markdown",
   "metadata": {},
   "source": [
    "### Tika\n",
    "\n",
    "from: https://github.com/chrismattmann/tika-python"
   ]
  },
  {
   "cell_type": "code",
   "execution_count": 12,
   "metadata": {},
   "outputs": [],
   "source": [
    "InputFile = 'data/gylcol-ether-dpm-sds.pdf'"
   ]
  },
  {
   "cell_type": "code",
   "execution_count": 23,
   "metadata": {
    "scrolled": false
   },
   "outputs": [],
   "source": [
    "import tika\n",
    "from tika import parser\n",
    "parsed = parser.from_file(InputFile)"
   ]
  },
  {
   "cell_type": "code",
   "execution_count": 24,
   "metadata": {
    "scrolled": true
   },
   "outputs": [
    {
     "name": "stdout",
     "output_type": "stream",
     "text": [
      "dict_keys(['metadata', 'content', 'status'])\n"
     ]
    }
   ],
   "source": [
    "# Returns keys applicable for given pdf. \n",
    "print(parsed.keys()) "
   ]
  },
  {
   "cell_type": "code",
   "execution_count": 25,
   "metadata": {
    "scrolled": true
   },
   "outputs": [
    {
     "name": "stdout",
     "output_type": "stream",
     "text": [
      "{'Author': '', 'Content-Type': 'application/pdf', 'Creation-Date': '2016-02-26T16:35:00Z', 'DLI': '10.1.0.50', 'DLI_Copyright': 'Datalogics Interface (DLI) Copyright (C) 1998-2012 Datalogics, Inc. -- www.datalogics.com', 'Keywords': '', 'Last-Modified': '2016-02-26T16:35:00Z', 'Last-Save-Date': '2016-02-26T16:35:00Z', 'Platform': 'Macintosh', 'X-Parsed-By': ['org.apache.tika.parser.DefaultParser', 'org.apache.tika.parser.pdf.PDFParser'], 'X-TIKA:content_handler': 'ToTextContentHandler', 'X-TIKA:embedded_depth': '0', 'X-TIKA:parse_time_millis': '366', 'access_permission:assemble_document': 'true', 'access_permission:can_modify': 'true', 'access_permission:can_print': 'true', 'access_permission:can_print_degraded': 'true', 'access_permission:extract_content': 'true', 'access_permission:extract_for_accessibility': 'true', 'access_permission:fill_in_form': 'true', 'access_permission:modify_annotations': 'true', 'cp:subject': '', 'created': '2016-02-26T16:35:00Z', 'creator': '', 'date': '2016-02-26T16:35:00Z', 'dc:creator': '', 'dc:format': 'application/pdf; version=1.6', 'dc:subject': '', 'dc:title': '', 'dcterms:created': '2016-02-26T16:35:00Z', 'dcterms:modified': '2016-02-26T16:35:00Z', 'meta:author': '', 'meta:creation-date': '2016-02-26T16:35:00Z', 'meta:keyword': '', 'meta:save-date': '2016-02-26T16:35:00Z', 'modified': '2016-02-26T16:35:00Z', 'pdf:PDFVersion': '1.6', 'pdf:charsPerPage': ['1745', '3857', '3879', '1800', '1690', '2773', '2793', '1721'], 'pdf:docinfo:created': '2016-02-26T16:35:00Z', 'pdf:docinfo:creator': '', 'pdf:docinfo:creator_tool': 'FileMaker Pro Advanced 14.0.4', 'pdf:docinfo:custom:DLI': '10.1.0.50', 'pdf:docinfo:custom:DLI_Copyright': 'Datalogics Interface (DLI) Copyright (C) 1998-2012 Datalogics, Inc. -- www.datalogics.com', 'pdf:docinfo:custom:Platform': 'Macintosh', 'pdf:docinfo:keywords': '', 'pdf:docinfo:modified': '2016-02-26T16:35:00Z', 'pdf:docinfo:producer': 'Adobe PDF Library 10.1', 'pdf:docinfo:subject': '', 'pdf:docinfo:title': '', 'pdf:encrypted': 'false', 'pdf:hasMarkedContent': 'false', 'pdf:hasXFA': 'false', 'pdf:hasXMP': 'true', 'pdf:unmappedUnicodeCharsPerPage': ['0', '0', '0', '0', '0', '0', '0', '0'], 'producer': 'Adobe PDF Library 10.1', 'resourceName': \"b'gylcol-ether-dpm-sds.pdf'\", 'subject': '', 'title': '', 'xmp:CreatorTool': 'FileMaker Pro Advanced 14.0.4', 'xmpMM:DocumentID': 'uuid:358d1d92-e29d-894e-a9b3-80e0ca93162f', 'xmpTPg:NPages': '8'}\n",
      "\n",
      "\n",
      "\n",
      "\n",
      "\n",
      "\n",
      "\n",
      "\n",
      "\n",
      "\n",
      "\n",
      "\n",
      "\n",
      "\n",
      "\n",
      "\n",
      "\n",
      "\n",
      "\n",
      "\n",
      "\n",
      "\n",
      "\n",
      "\n",
      "\n",
      "\n",
      "\n",
      "\n",
      "\n",
      "\n",
      "\n",
      "\n",
      "\n",
      "\n",
      "\n",
      "\n",
      "\n",
      "\n",
      "\n",
      "\n",
      "\n",
      "\n",
      "\n",
      "\n",
      "\n",
      "\n",
      "\n",
      "\n",
      "\n",
      "\n",
      "\n",
      "\n",
      "\n",
      "\n",
      "\n",
      "\n",
      "\n",
      "\n",
      "\n",
      "\n",
      "\n",
      "SAFETY DATA SHEET:\n",
      "GYLCOL ETHER DPM\n",
      "\n",
      "1. IDENTIFICATION\n",
      "PRODUCT NAME:  GLYCOL ETHER DPM\n",
      "\n",
      "CAS NO: 34590-94-8\n",
      "\n",
      "PROPER NAME: DIPROPYLENE GLYCOL MONOMETHYL ETHER\n",
      "\n",
      "2. HAZARDS IDENTIFICATION\n",
      "CAUTION!  COMBUSTIBLE LIQUID  AND VAPOR.  MAY CAUSE ANESTHETIC EFFECTS.  KEEP UPWIND OF SPILL.\n",
      "ISOLATE AREA\n",
      "\n",
      "Hazard Rating System\n",
      "NFPA  Health Fire Reactivity\n",
      "\n",
      "   1      2      0\n",
      "\n",
      "OSHA Hazard Communication Standard\n",
      "This product is a \"Hazardous Chemical\" as defined by the OSHA Hazard Communication Standard, 29 CFR 1910.1200.\n",
      "\n",
      "Potential Health Effects\n",
      "Eye Contact: May cause slight temporary eye irritation. Corneal injury is unlikely.\n",
      "\n",
      "Skin Contact: Prolonged exposure not likely to cause significant skin irritation.\n",
      "\n",
      "Skin Absorption: Prolonged skin contact with very large amounts may cause dizziness or drowsiness.\n",
      "\n",
      "Inhalation: Excessive exposure may cause irritation to upper respiratory tract (nose and throat). Symptoms of excessive exposure\n",
      "may be anesthetic or narcotic effects; dizziness and drowsiness may be observed.\n",
      "\n",
      "Ingestion: Very low toxicity if swallowed. Harmful effects not anticipated from swallowing small amounts.\n",
      "\n",
      "Aspiration hazard: Based on physical properties, not likely to be an aspiration hazard.\n",
      "\n",
      "Effects of Repeated Exposure: Symptoms of excessive exposure may be anesthetic or narcotic effects; dizziness and drowsiness may\n",
      "be observed.\n",
      "\n",
      "Reproductive Effects: For similar material(s): In laboratory animal studies, effects on reproduction have been seen only at doses that\n",
      "produced significant toxicity to the parent animals.\n",
      "\n",
      "3. COMPOSITION\n",
      "COMPONENT CAS # AMOUNT BY WEIGHT\n",
      "\n",
      "IN CASE OF TRANSPORTATION EMERGENCY CONTACT:\n",
      "CHEMTREC:(800) 424-9300\n",
      "\n",
      "-----------------------\n",
      "ALL OTHER INQUIRIES:\n",
      "\n",
      "(770) 904-7042 // www.ciscochem.com\n",
      "266 Rue Cezzan Lavonia, GA 30553\n",
      "\n",
      "Page: 1SDS: GYLCOL ETHER DPM\n",
      "\n",
      "\n",
      "\n",
      "Dipropylene glycol monomethyl ether 34590-94-8 >99.0%\n",
      "\n",
      "4. FIRST AID MEASURES\n",
      "Description of first aid measures\n",
      "General advice: First Aid responders should pay attention to self-protection and use the recommended protective clothing (chemical\n",
      "resistant gloves, splash protection). If potential for exposure exists refer to Section 8 for specific personal protective equipment.\n",
      "\n",
      "Inhalation: Move person to fresh air. If not breathing, give artificial respiration; if by mouth to mouth use rescuer protection (pocket\n",
      "mask, etc). If breathing is difficult, oxygen should be administered by qualified personnel. Call a physician or transport to a medical\n",
      "facility.\n",
      "\n",
      "Skin Contact: Wash skin with plenty of water.\n",
      "\n",
      "Eye Contact: Flush eyes thoroughly with water for several minutes. Remove contact lenses after the initial 1-2 minutes and continue\n",
      "flushing for several additional minutes. If effects occur, consult a physician, preferably an ophthalmologist.\n",
      "Ingestion: No emergency medical treatment necessary.\n",
      "\n",
      "Most important symptoms and effects, both acute and delayed\n",
      "Aside from the information found under Description of first aid measures (above) and Indication of immediate medical attention and\n",
      "special treatment needed (below), any additional important symptoms and effects are described in Section 11: Toxicology\n",
      "Information.\n",
      "\n",
      "Indication of immediate medical attention and special treatment needed\n",
      "Maintain adequate ventilation and oxygenation of the patient. No specific antidote. Treatment of exposure should be directed at the\n",
      "control of symptoms and the clinical condition of the patient.\n",
      "\n",
      "5. FIRE FIGHTING MEASURES\n",
      "Suitable extinguishing media\n",
      "Water fog or fine spray. Dry chemical fire extinguishers. Carbon dioxide fire extinguishers. Foam. Alcohol resistant foams (ATC\n",
      "type) are preferred. General purpose synthetic foams (including AFFF) or protein foams may function, but will be less effective.\n",
      "\n",
      "Special hazards arising from the substance or mixture\n",
      "Hazardous Combustion Products: During a fire, smoke may contain the original material in addition to combustion products of\n",
      "varying composition which may be toxic and/or irritating. Combustion products may include and are not limited to: Carbon\n",
      "monoxide. Carbon dioxide.\n",
      "\n",
      "Unusual Fire and Explosion Hazards: Container may rupture from gas generation in a fire situation. Violent steam generation or\n",
      "eruption may occur upon application of direct water stream to hot liquids.\n",
      "\n",
      "Advice for firefighters\n",
      "Fire Fighting Procedures: Keep people away. Isolate fire and deny unnecessary entry. Use water spray to cool fire exposed\n",
      "containers and fire affected zone until fire is out and danger of reignition has passed. Fight fire from protected location or safe\n",
      "distance. Consider the use of unmanned hose holders or monitor nozzles. Immediately withdraw all personnel from the area in case\n",
      "of rising sound from venting safety device or discoloration of the container. Burning liquids may be extinguished by dilution with\n",
      "water. Do not use direct water stream. May spread fire. Move container from fire area if this is possible without hazard. Burning\n",
      "liquids may be moved by flushing with water to protect personnel and minimize property damage.\n",
      "\n",
      "Special Protective Equipment for Firefighters: Wear positive-pressure self-contained breathing apparatus (SCBA) and protective fire\n",
      "fighting clothing (includes fire fighting helmet, coat, trousers, boots, and gloves). Avoid contact with this material during fire\n",
      "fighting operations. If contact is likely, change to full chemical resistant fire fighting clothing with self-contained breathing\n",
      "apparatus. If this is not available, wear full chemical resistant clothing with self-contained breathing apparatus and fight fire from a\n",
      "remote location. For protective equipment in post-fire or non-fire clean-up situations, refer to the relevant sections.\n",
      "\n",
      "6. ACCIDENTAL RELEASE MEASURES\n",
      "\n",
      "Page: 2SDS: GYLCOL ETHER DPM\n",
      "\n",
      "\n",
      "\n",
      "Personal precautions, protective equipment and emergency procedures: Isolate area. Refer to Section 7, Handling, for additional\n",
      "precautionary measures. Keep unnecessary and unprotected personnel from entering the area. Keep upwind of spill. Ventilate area of\n",
      "leak or spill. No smoking in area. Use appropriate safety equipment. For additional information, refer to Section 8, Exposure\n",
      "Controls and Personal Protection.\n",
      "\n",
      "Environmental precautions: Prevent from entering into soil, ditches, sewers, waterways and/or groundwater. See Section 12,\n",
      "Ecological Information.\n",
      "\n",
      "Methods and materials for containment and cleaning up: Small spills: Absorb with materials such as: Sand. Vermiculite. Collect in\n",
      "suitable and properly labeled containers. Large spills: Contain spilled material if possible. Pump into suitable and properly labeled\n",
      "containers. See Section 13, Disposal Considerations, for additional information.\n",
      "\n",
      "7. HANDLING AND STORAGE\n",
      "Handling\n",
      "General Handling: Keep away from heat, sparks and flame. Containers, even those that have been emptied, can contain vapors. Do\n",
      "not cut, drill, grind, weld, or perform similar operations on or near empty containers. Avoid breathing vapor. Use with adequate\n",
      "ventilation. Keep container closed. See Section 8, EXPOSURE CONTROLS AND PERSONAL PROTECTION.\n",
      "\n",
      "Other Precautions: Spills of these organic materials on hot fibrous insulations may lead to lowering of the autoignition temperatures\n",
      "possibly resulting in spontaneous combustion.\n",
      "\n",
      "Storage\n",
      "Store in the following material(s): Carbon steel. Stainless steel. Phenolic lined steel drums. Do not store in: Aluminum. Copper.\n",
      "Galvanized iron. Galvanized steel. See Section 10 for more specific information.\n",
      "\n",
      "Shelf life: Use within, Steel drums. 24 Months\n",
      "Bulk 6 Months\n",
      "\n",
      "8. EXPOSURE CONTROLS AND PERSONAL PROECTION\n",
      "EXPOSURE LIMITS\n",
      "\n",
      "COMPONENT LIST TYPE VALUE\n",
      "Dipropylene Glycol OSHA TableZ-1 PEL 600 mg/m3 100 ppm SKIN\n",
      "monomethyl ether\n",
      "\n",
      "ACGIH TWA 100 ppm SKIN\n",
      "ACGIH TWA 150 ppm SKIN\n",
      "\n",
      "A \"skin\" notation following the inhalation exposure guideline refers to the potential for dermal absorption of the material including\n",
      "mucous membranes and the eyes either by contact with vapors or by direct skin contact.\n",
      "It is intended to alert the reader that inhalation may not be the only route of exposure and that measures to minimize dermal\n",
      "exposures should be considered.\n",
      "\n",
      "Personal Protection\n",
      "Eye/Face Protection: Use safety glasses (with side shields).\n",
      "\n",
      "Skin Protection: When prolonged or frequently repeated contact could occur, use protective clothing chemically resistant to this\n",
      "material. Selection of specific items such as faceshield, boots, apron, or full-body suit will depend on the task.\n",
      "\n",
      "Hand protection: Use gloves chemically resistant to this material when prolonged or frequently repeated contact could occur.\n",
      "Examples of preferred glove barrier materials include: Butyl rubber. Ethyl vinyl alcohol laminate (\"EVAL\"). Examples of acceptable\n",
      "glove barrier materials include: Natural rubber (\"latex\"). Neoprene. Nitrile/butadiene rubber (\"nitrile\" or \"NBR\"). Polyvinyl chloride\n",
      "(\"PVC\" or \"vinyl\"). NOTICE: The selection of a specific glove for a particular application and duration of use in a workplace should\n",
      "also take into account all relevant workplace factors such as, but not limited to: Other chemicals which may be handled, physical\n",
      "requirements (cut/puncture protection, dexterity, thermal protection), potential body reactions to glove materials, as well as the\n",
      "instructions/specifications provided by the glove supplier.\n",
      "\n",
      "Respiratory Protection: Respiratory protection should be worn when there is a potential to exceed the exposure limit requirements or\n",
      "guidelines. If there are no applicable exposure limit requirements or guidelines, wear respiratory protection when adverse effects,\n",
      "such as respiratory irritation or discomfort have been experienced, or where indicated by your risk assessment process. For most\n",
      "\n",
      "Page: 3SDS: GYLCOL ETHER DPM\n",
      "\n",
      "\n",
      "\n",
      "conditions no respiratory protection should be needed; however, if discomfort is experienced, use an approved air-purifying\n",
      "respirator. The following should be effective types of air-purifying respirators: Organic vapor cartridge.\n",
      "\n",
      "Ingestion: Use good personal hygiene. Do not consume or store food in the work area. Wash hands before smoking or eating.\n",
      "\n",
      "Engineering Controls\n",
      "Ventilation: Use local exhaust ventilation, or other engineering controls to maintain airborne levels below exposure limit\n",
      "requirements or guidelines. If there are no applicable exposure limit requirements or guidelines, general ventilation should be\n",
      "sufficient for most operations. Local exhaust ventilation may be necessary for some operations.\n",
      "\n",
      "9. PHYSICAL AND CHEMICAL PROPERTIES\n",
      "Appearance\n",
      "\n",
      "Physical State    Liquid.\n",
      "\n",
      "Color   Colorless\n",
      "\n",
      "Odor   Mild\n",
      "\n",
      "Odor Threshold    No test data available\n",
      "\n",
      "pH   Not applicable\n",
      "\n",
      "Melting Point   Not available\n",
      "\n",
      "Freezing Point   -83 °C (-117 °F) Literature\n",
      "\n",
      "Boiling Point (760 mmHg)    189.6 °C (373.3 °F) Literature\n",
      "\n",
      "Flash Point - Closed Cup    75 °C (167 °F) Setaflash Closed Cup ASTMD3278\n",
      "\n",
      "Evaporation Rate (Butyl Acetate = 1)   No test data available\n",
      "\n",
      "Flammability (solid, gas)    Not applicable to liquids\n",
      "\n",
      "Flammable Limits In Air\n",
      "Lower: 1.1 %(V) Setaflash Closed Cup ASTMD3278\n",
      "Upper: 14 %(V) Setaflash Closed Cup ASTMD3278\n",
      "\n",
      "Vapor Pressure   10 mmHg @ 75.1 °C\n",
      "\n",
      "Vapor Density (air = 1)    5.11 @ 20 °C\n",
      "\n",
      "Specific Gravity (H2O = 1)    0.951 25 °C/25 °C\n",
      "\n",
      "Solubility in water (by weight)   100 % @ 25 °C\n",
      "\n",
      "Partition coefficient, n- octanol/water (log Pow)    1.01 Measured\n",
      "\n",
      "Autoignition Temperature    207 °C (405 °F)\n",
      "\n",
      "Decomposition Temperature   No test data available\n",
      "\n",
      "Dynamic Viscosity    3.7 mPa.s @ 25 °C\n",
      "\n",
      "Kinematic Viscosity    4.55 mm2/s @ 20 °C\n",
      "\n",
      "Explosive properties    Not explosive\n",
      "\n",
      "Oxidizing properties    No\n",
      "\n",
      "Page: 4SDS: GYLCOL ETHER DPM\n",
      "\n",
      "\n",
      "\n",
      "Molecular Weight   148.2 g/mol\n",
      "\n",
      "Henry's Law Constant (H)   1.6E-07 atm*m3/mole; 25 °C Estimated.\n",
      "\n",
      "10. STABILITY AND REACTIVITY\n",
      "Reactivity\n",
      "No dangerous reaction known under conditions of normal use.\n",
      "\n",
      "Chemical stability\n",
      "Stable under recommended storage conditions. See Storage, Section 7.\n",
      "\n",
      "Possibility of hazardous reactions\n",
      "Polymerization will not occur.\n",
      "\n",
      "Conditions to Avoid: Do not distill to dryness. Product can oxidize at elevated temperatures. Generation of gas during decomposition\n",
      "can cause pressure in closed systems.\n",
      "\n",
      "Incompatible Materials: Avoid contact with: Strong acids. Strong bases. Strong oxidizers.\n",
      "\n",
      "Hazardous decomposition products\n",
      "Decomposition products depend upon temperature, air supply and the presence of other materials. Decomposition products can\n",
      "include and are not limited to: Aldehydes. Ketones. Organic acids.\n",
      "\n",
      "11. TOXICOLOGICAL INFORMATION\n",
      "Acute Toxicity\n",
      "Ingestion\n",
      "LD50, rat > 5,000 mg/kg\n",
      "\n",
      "Dermal\n",
      "LD50, rabbit 9,510 mg/kg\n",
      "\n",
      "Inhalation\n",
      "No deaths occurred at this concentration. LC50, 7 h, Vapor, rat 3.35 mg/l\n",
      "\n",
      "Eye damage/eye irritation\n",
      "May cause slight temporary eye irritation. Corneal injury is unlikely.\n",
      "\n",
      "Skin corrosion/irritation\n",
      "Prolonged exposure not likely to cause significant skin irritation.\n",
      "\n",
      "Sensitization\n",
      "Skin\n",
      "Did not cause allergic skin reactions when tested in humans.\n",
      "\n",
      "Respiratory\n",
      "No relevant data found.\n",
      "\n",
      "Repeated Dose Toxicity\n",
      "Symptoms of excessive exposure may be anesthetic or narcotic effects; dizziness and drowsiness may be observed.\n",
      "\n",
      "Chronic Toxicity and Carcinogenicity\n",
      "For similar material(s): Did not cause cancer in laboratory animals.\n",
      "\n",
      "Developmental Toxicity\n",
      "Did not cause birth defects or any other fetal effects in laboratory animals.\n",
      "\n",
      "Reproductive Toxicity\n",
      "\n",
      "Page: 5SDS: GYLCOL ETHER DPM\n",
      "\n",
      "\n",
      "\n",
      "For similar material(s): In laboratory animal studies, effects on reproduction have been seen only at doses that produced significant\n",
      "toxicity to the parent animals.\n",
      "\n",
      "Genetic Toxicology\n",
      "In vitro genetic toxicity studies were negative.\n",
      "\n",
      "12. ECOLOGICAL INFORMATION\n",
      "Toxicity\n",
      "Material is practically non-toxic to aquatic organisms on an acute basis (LC50/EC50/EL50/LL50 >100 mg/L in the most sensitive\n",
      "species tested).\n",
      "\n",
      "Fish Acute & Prolonged Toxicity\n",
      "LC50, Poecilia reticulata (guppy), static test, 96 h: > 1,000 mg/l\n",
      "\n",
      "Aquatic Invertebrate Acute Toxicity\n",
      "LC50, Daphnia magna (Water flea), static test, 48 h, lethality: 1,919 mg/l\n",
      "LC50, Crangon crangon (shrimp), semi-static test, 96 h: > 1,000 mg/l\n",
      "\n",
      "Aquatic Plant Toxicity\n",
      "ErC50, Pseudokirchneriella subcapitata (green algae), static test, biomass growth inhibition, 96 h: > 969 mg/l\n",
      "\n",
      "Aquatic Invertebrates Chronic Toxicity Value\n",
      "Daphnia magna (Water flea), flow-through test, 22 d, NOEC: > 0.5 mg/l, LOEC: > 0.5 mg/l\n",
      "\n",
      "Persistence and Degradability\n",
      "Material is readily biodegradable. Passes OECD test(s) for ready biodegradability. Material is ultimately biodegradable (reaches >\n",
      "70% biodegradation in OECD test(s) for inherent biodegradability).\n",
      "\n",
      "OECD Biodegradation Tests:\n",
      "BIODEGRADATION EXPOSURE TIME METHOD 10 DAY WINDOW\n",
      "\n",
      "75% 28 D         OECD 301F Test pass\n",
      "\n",
      "Indirect Photodegradation with OH Radicals\n",
      "RATE CONSTANT ATMOSPHERIC HALF-LIFE METHOD\n",
      "    5.00E-05 cm3/s 3.4 - 10.4 H Estimated\n",
      "\n",
      "Biological oxygen demand (BOD):\n",
      "BOD 5 BOD 10 BOD 20 BOD 28\n",
      "   0%    0%    31.6%\n",
      "Chemical Oxygen Demand: 2.02 mg/mg\n",
      "Theoretical Oxygen Demand: 2.06 mg/mg\n",
      "\n",
      "Bioaccumulative potential\n",
      "Bioaccumulation: Bioconcentration potential is low (BCF < 100 or Log Pow < 3).\n",
      "Partition coefficient, n-octanol/water (log Pow): 1.01 Measured\n",
      "\n",
      "Mobility in soil\n",
      "Mobility in soil: Given its very low Henry's constant, volatilization from natural bodies of water or moist soil is not expected to be\n",
      "an important fate process., Potential for mobility in soil is very high (Koc between 0 and 50).\n",
      "Partition coefficient, soil organic carbon/water (Koc): 0.28 Estimated.\n",
      "Henry's Law Constant (H): 1.6E-07 atm*m3/mole; 25 °C Estimated.\n",
      "\n",
      "13. DISPOSAL CONSIDERATIONS\n",
      "DO NOT DUMP INTO ANY SEWERS, ON THE GROUND, OR INTO ANY BODY OF WATER. All disposal practices must be\n",
      "in compliance with all Federal, State/Provincial and local laws and regulations. Regulations may vary in different locations. Waste\n",
      "characterizations and compliance with applicable laws are the responsibility solely of the waste generator. AS YOUR SUPPLIER,\n",
      "WE HAVE NO CONTROL OVER THE MANAGEMENT PRACTICES OR MANUFACTURING PROCESSES OF PARTIES\n",
      "HANDLING OR USING THIS MATERIAL. THE INFORMATION PRESENTED HERE PERTAINS ONLY TO THE PRODUCT\n",
      "AS SHIPPED IN ITS INTENDED CONDITION AS DESCRIBED IN MSDS SECTION: Composition Information. FOR UNUSED\n",
      "\n",
      "Page: 6SDS: GYLCOL ETHER DPM\n",
      "\n",
      "\n",
      "\n",
      "& UNCONTAMINATED PRODUCT, the preferred options include sending to a licensed, permitted: Incinerator or other thermal\n",
      "destruction device.\n",
      "\n",
      "14. TRANSPORT INFORMATION\n",
      "DOT Non-Bulk\n",
      "NOT REGULATED\n",
      "\n",
      "DOT Bulk\n",
      "Proper Shipping Name: COMBUSTIBLE LIQUID, N.O.S.\n",
      "Technical Name: DIPROPYLENE GLYCOL METHYL ETHER ISOMERS\n",
      "Hazard Class: COMBUSTIBLE LIQUID ID Number: NA1993 Packing Group: PG III\n",
      "\n",
      "IMDG\n",
      "NOT REGULATED\n",
      "Transport in bulk according to Annex II of MARPOL 73/78 and the IBC Code\n",
      "Product Name: POLY(2-8)ALKYLENE GLYCOL MONOALKYL(C1-C6)ETHER Ship Type: 3\n",
      "Pollution Category: Z\n",
      "\n",
      "ICAO/IATA\n",
      "NOT REGULATED\n",
      "\n",
      "This information is not intended to convey all specific regulatory or operational requirements/information relating to this product.\n",
      "Additional transportation system information can be obtained through an authorized sales or customer service representative. It is the\n",
      "responsibility of the transporting organization to follow all applicable laws, regulations and rules relating to the transportation of the\n",
      "material.\n",
      "\n",
      "15. REGULATORY INFORMATION\n",
      "OSHA Hazard Communication Standard\n",
      "This product is a \"Hazardous Chemical\" as defined by the OSHA Hazard Communication Standard, 29 CFR 1910.1200.\n",
      "Superfund Amendments and Reauthorization Act of 1986 Title III (Emergency Planning and Community Right-to-Know Act of\n",
      "1986) Sections 311 and 312\n",
      "\n",
      "Immediate (Acute) Health Hazard Yes\n",
      "Delayed (Chronic) Health Hazard No\n",
      "Fire Hazard Yes Reactive Hazard No\n",
      "Sudden Release of Pressure Hazard No\n",
      "\n",
      "Superfund Amendments and Reauthorization Act of 1986 Title III (Emergency Planning and Community Right-to-Know Act of\n",
      "1986) Section 313\n",
      "To the best of our knowledge, this product does not contain chemicals at levels which require reporting under this statute.\n",
      "\n",
      "Pennsylvania (Worker and Community Right-To-Know Act): Pennsylvania Hazardous Substances List and/or Pennsylvania\n",
      "Environmental Hazardous Substance List:\n",
      "The following product components are cited in the Pennsylvania Hazardous Substance List and/or the Pennsylvania Environmental\n",
      "Substance List, and are present at levels which require reporting.\n",
      "\n",
      "COMPONENT CAS # AMOUNT\n",
      "Dipropylene glycol monomethyl ether 34590-94-8 >99.0%\n",
      "\n",
      "Pennsylvania (Worker and Community Right-To-Know Act): Pennsylvania Special Hazardous Substances List:\n",
      "To the best of our knowledge, this product does not contain chemicals at levels which require reporting under this statute.\n",
      "\n",
      "California Proposition 65 (Safe Drinking Water and Toxic Enforcement Act of 1986)\n",
      "This product contains no listed substances known to the State of California to cause cancer, birth defects or other reproductive harm,\n",
      "at levels which would require a warning under the statute.\n",
      "\n",
      "US. Toxic Substances Control Act\n",
      "All components of this product are on the TSCA Inventory or are exempt from TSCA Inventory requirements under 40 CFR 720.30\n",
      "\n",
      "Page: 7SDS: GYLCOL ETHER DPM\n",
      "\n",
      "\n",
      "\n",
      "CEPA - Domestic Substances List (DSL)\n",
      "This product contains one or more substances which are not listed on the Canadian Domestic Substances List (DSL). Contact your\n",
      "sales or technical service representative for more information.\n",
      "\n",
      "16. OTHER INFORMATION\n",
      "Hazard Rating System\n",
      "NFPA  Health Fire Reactivity\n",
      "\n",
      "   1      2      0\n",
      "\n",
      "Recommended Uses and Restrictions\n",
      "Identified uses\n",
      "Industrial solvent for cleaner and coating formulations.\n",
      "\n",
      "CISCO urges each customer or recipient of this (M)SDS to study it carefully and consult appropriate expertise, as necessary or\n",
      "appropriate, to become aware of and understand the data contained in this (M)SDS and any hazards associated with the product. The\n",
      "information herein is provided in good faith and believed to be accurate as of the effective date shown above. However, no warranty,\n",
      "express or implied, is given. Regulatory requirements are subject to change and may differ between various locations. It is the\n",
      "buyer's/user's responsibility to ensure that his activities comply with all federal, state, provincial or local laws. The information\n",
      "presented here pertains only to the product as shipped. Since conditions for use of the product are not under the control of the\n",
      "manufacturer, it is the buyer's/user's duty to determine the conditions necessary for the safe use of this product. Due to the\n",
      "proliferation of sources for information such as manufacturer-specific (M)SDSs, we are not and cannot be responsible for (M)SDSs\n",
      "obtained from any source other than ourselves. If you have obtained an (M)SDS from another source or if you are not sure that the\n",
      "(M)SDS you have is current, please contact us for the most current version.\n",
      "\n",
      "Date Created: 6/26/2015\n",
      "Date Updated: 6/26/2015\n",
      "\n",
      "Page: 8SDS: GYLCOL ETHER DPM\n",
      "\n",
      "\n",
      "\n"
     ]
    }
   ],
   "source": [
    "print(parsed[\"metadata\"])\n",
    "print(parsed[\"content\"])"
   ]
  },
  {
   "cell_type": "code",
   "execution_count": 18,
   "metadata": {},
   "outputs": [],
   "source": [
    "import tika\n",
    "# tika.TikaClientOnly = True"
   ]
  },
  {
   "cell_type": "markdown",
   "metadata": {},
   "source": [
    "    # See: https://github.com/chrismattmann/tika-python/blob/master/tika/tika.py\n",
    "\n",
    "from tika import runCommand\n",
    "\n",
    "jsonOutput1 = runCommand('parse', 'all', InputFile)"
   ]
  },
  {
   "cell_type": "markdown",
   "metadata": {
    "scrolled": true
   },
   "source": [
    "    # See: https://github.com/chrismattmann/tika-python/blob/master/tika/tika.py\n",
    "\n",
    "from tika import parse1\n",
    "\n",
    "jsonOutput2 = parse1('all', InputFile)\n"
   ]
  },
  {
   "cell_type": "markdown",
   "metadata": {},
   "source": [
    "### SDS Parser\n",
    "\n",
    "See:\n",
    "\n",
    "https://github.com/astepe/sds_parser\n",
    "\n",
    "https://pypi.org/project/SDSParser/\n"
   ]
  },
  {
   "cell_type": "code",
   "execution_count": 22,
   "metadata": {},
   "outputs": [
    {
     "data": {
      "text/plain": [
       "{'manufacturer': 'IDENTIFICATION  Company  Arkema Inc. 900 First Avenue King of Prussia, Pennsylv',\n",
       " 'product_name': 'code: 051000   Version 2.0 Issued on: 07/11/2011 Page: 1 / 10     1. PRODUCT AND',\n",
       " 'flash_point': 'The flashpoint of this produc',\n",
       " 'specific_gravity': '(Relative density): 1.0428 (6',\n",
       " 'nfpa_fire': '1',\n",
       " 'nfpa_health': '3',\n",
       " 'nfpa_reactivity': '1',\n",
       " 'sara_311': 'Data not listed',\n",
       " 'revision_date': 'Data not listed',\n",
       " 'physical_state': 'United States – Federal Regul',\n",
       " 'cas_number': '-No. Wt/Wt OSHA Hazardous Benz'}"
      ]
     },
     "execution_count": 22,
     "metadata": {},
     "output_type": "execute_result"
    }
   ],
   "source": [
    "from sdsparser import SDSParser\n",
    "\n",
    "parser = SDSParser()\n",
    "sds_data = parser.get_sds_data('data/23114.pdf')\n",
    "\n",
    "sds_data"
   ]
  },
  {
   "cell_type": "code",
   "execution_count": 23,
   "metadata": {},
   "outputs": [
    {
     "data": {
      "text/plain": [
       "{'manufacturer': 'IDENTIFICATION  Company  Arkema Inc. 900 First Avenue King of Prussia, Pennsylv',\n",
       " 'flash_point': 'The flashpoint of this produc',\n",
       " 'specific_gravity': '(Relative density): 1.0428 (6',\n",
       " 'product_name': 'code: 051000   Version 2.0 Issued on: 07/11/2011 Page: 1 / 10     1. PRODUCT AND',\n",
       " 'sara_311': 'Data not listed',\n",
       " 'nfpa_fire': '1'}"
      ]
     },
     "execution_count": 23,
     "metadata": {},
     "output_type": "execute_result"
    }
   ],
   "source": [
    "request_keys = ['manufacturer', 'flash_point', 'specific_gravity', 'product_name', 'sara_311', 'nfpa_fire']\n",
    "\n",
    "parser = SDSParser(request_keys=request_keys)\n",
    "sds_data = parser.get_sds_data('data/23114.pdf')\n",
    "\n",
    "sds_data"
   ]
  },
  {
   "cell_type": "code",
   "execution_count": 18,
   "metadata": {
    "scrolled": true
   },
   "outputs": [
    {
     "data": {
      "text/plain": [
       "['manufacturer',\n",
       " 'product_name',\n",
       " 'flash_point',\n",
       " 'specific_gravity',\n",
       " 'nfpa_fire',\n",
       " 'nfpa_health',\n",
       " 'nfpa_reactivity',\n",
       " 'sara_311',\n",
       " 'revision_date',\n",
       " 'physical_state',\n",
       " 'cas_number']"
      ]
     },
     "execution_count": 18,
     "metadata": {},
     "output_type": "execute_result"
    }
   ],
   "source": [
    "sdsparser.request_keys"
   ]
  },
  {
   "cell_type": "code",
   "execution_count": 19,
   "metadata": {},
   "outputs": [
    {
     "data": {
      "text/plain": [
       "{'acros_organics',\n",
       " 'alfa_aesar',\n",
       " 'basf',\n",
       " 'citrus_and_allied',\n",
       " 'excellentia',\n",
       " 'exxon_mobil',\n",
       " 'firmenich',\n",
       " 'fisher',\n",
       " 'formosa_plastics',\n",
       " 'frutarom',\n",
       " 'givaudan',\n",
       " 'iff',\n",
       " 'indofine',\n",
       " 'innophos',\n",
       " 'kerry',\n",
       " 'pepsico_inc',\n",
       " 'pfizer',\n",
       " 'reckitt_benckiser',\n",
       " 'robertet',\n",
       " 'sc_johnson',\n",
       " 'sigma_aldrich',\n",
       " 'symrise',\n",
       " 'takasago',\n",
       " 'the_clorox_company',\n",
       " 'treatt',\n",
       " 'ungerer'}"
      ]
     },
     "execution_count": 19,
     "metadata": {},
     "output_type": "execute_result"
    }
   ],
   "source": [
    "sdsparser.manufacturers"
   ]
  },
  {
   "cell_type": "markdown",
   "metadata": {},
   "source": [
    "Not needed :"
   ]
  },
  {
   "cell_type": "code",
   "execution_count": 15,
   "metadata": {},
   "outputs": [],
   "source": [
    "import sdsparser.configs"
   ]
  },
  {
   "cell_type": "code",
   "execution_count": 17,
   "metadata": {},
   "outputs": [],
   "source": [
    "import sdsparser\n",
    "\n",
    "SDSconf = sdsparser.Configs()"
   ]
  },
  {
   "cell_type": "code",
   "execution_count": 20,
   "metadata": {},
   "outputs": [
    {
     "data": {
      "text/plain": [
       "['manufacturer',\n",
       " 'product_name',\n",
       " 'flash_point',\n",
       " 'specific_gravity',\n",
       " 'nfpa_fire',\n",
       " 'nfpa_health',\n",
       " 'nfpa_reactivity',\n",
       " 'sara_311',\n",
       " 'revision_date',\n",
       " 'physical_state',\n",
       " 'cas_number']"
      ]
     },
     "execution_count": 20,
     "metadata": {},
     "output_type": "execute_result"
    }
   ],
   "source": [
    "SDSconf.REQUEST_KEYS"
   ]
  },
  {
   "cell_type": "markdown",
   "metadata": {},
   "source": [
    "### PDFbox\n",
    "\n",
    "from:\n",
    "\n",
    "https://pdfbox.apache.org/\n",
    "\n",
    "https://pypi.org/project/python-pdfbox/\n"
   ]
  },
  {
   "cell_type": "code",
   "execution_count": 1,
   "metadata": {},
   "outputs": [],
   "source": [
    "InputFile = 'data/gylcol-ether-dpm-sds.pdf'"
   ]
  },
  {
   "cell_type": "code",
   "execution_count": 5,
   "metadata": {},
   "outputs": [],
   "source": [
    "import pdfbox\n",
    "\n",
    "p = pdfbox.PDFBox()"
   ]
  },
  {
   "cell_type": "code",
   "execution_count": 6,
   "metadata": {},
   "outputs": [],
   "source": [
    "#text extraction, plain text:\n",
    "p.extract_text(InputFile)   # writes text to /path/to/my_file.txt, i.e. strips the extention and replaces by .txt"
   ]
  },
  {
   "cell_type": "code",
   "execution_count": 9,
   "metadata": {},
   "outputs": [],
   "source": [
    "#text extraction, in html format:\n",
    "p.extract_text(InputFile, '-html')   # writes text to /path/to/my_file.txt, i.e. strips the extention and replaces by .html"
   ]
  },
  {
   "cell_type": "code",
   "execution_count": 26,
   "metadata": {},
   "outputs": [],
   "source": [
    "#Doesn't work, doesn't know xml\n",
    "#text extraction, in html format:\n",
    "p.extract_text(InputFile, '-xml')   # writes text to /path/to/my_file.txt, i.e. strips the extention and replaces by .html"
   ]
  },
  {
   "cell_type": "code",
   "execution_count": 11,
   "metadata": {},
   "outputs": [],
   "source": [
    "#Doesn't work on console. Probably needs some '% ...' instruction for jupyter notebook\n",
    "p.extract_text(InputFile, '-html', '-console')   # writes text to /path/to/my_file.txt"
   ]
  },
  {
   "cell_type": "code",
   "execution_count": 7,
   "metadata": {},
   "outputs": [],
   "source": [
    "# extracts the pages of the PDF file as .jpg images\n",
    "p.pdf_to_images(InputFile)  # writes images to /path/to/my_file1.jpg, /path/to/my_file2.jpg, etc."
   ]
  },
  {
   "cell_type": "code",
   "execution_count": 8,
   "metadata": {},
   "outputs": [],
   "source": [
    "# extracts images embedded in the PDF file as .png files\n",
    "p.extract_images(InputFile) # writes images to /path/to/my_file-1.png, /path/to/my_file-2.png, etc."
   ]
  },
  {
   "cell_type": "markdown",
   "metadata": {},
   "source": [
    "### Environment settings for Java"
   ]
  },
  {
   "cell_type": "code",
   "execution_count": 4,
   "metadata": {},
   "outputs": [
    {
     "name": "stdout",
     "output_type": "stream",
     "text": [
      "Original PATH: /mnt/sda2/Users/Administrator/Documents/ICT/Miniconda3/envs/NLP/bin:/mnt/sda2/Users/Administrator/Documents/ICT/Miniconda3/bin:/mnt/sda2/Users/Administrator/Documents/ICT/Miniconda3/condabin:/usr/local/bin:/usr/bin:/usr/sbin:/bin:/sbin:/opt/qt5/bin\n",
      "\n",
      " java: /usr/bin/java /opt/jre1.8.0_25/bin/java\n",
      "\n"
     ]
    }
   ],
   "source": [
    "#To run java, its executable path needs to be in the $PATH environment variable\n",
    "\n",
    "import os\n",
    "\n",
    "print(\"Original PATH:\", os.environ['PATH'])\n",
    "\n",
    "# look for Java\n",
    "print(\"\\n\", os.popen('whereis java').read())"
   ]
  }
 ],
 "metadata": {
  "accelerator": "GPU",
  "colab": {
   "collapsed_sections": [],
   "name": "final_Text_Classification_With_BERT.ipynb",
   "provenance": [],
   "toc_visible": true
  },
  "kernelspec": {
   "display_name": "NLP",
   "language": "python",
   "name": "nlp"
  },
  "language_info": {
   "codemirror_mode": {
    "name": "ipython",
    "version": 3
   },
   "file_extension": ".py",
   "mimetype": "text/x-python",
   "name": "python",
   "nbconvert_exporter": "python",
   "pygments_lexer": "ipython3",
   "version": "3.8.5"
  }
 },
 "nbformat": 4,
 "nbformat_minor": 1
}
